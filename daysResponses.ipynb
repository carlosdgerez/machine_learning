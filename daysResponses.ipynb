{
  "nbformat": 4,
  "nbformat_minor": 0,
  "metadata": {
    "colab": {
      "name": "daysResponses.ipynb",
      "provenance": [],
      "authorship_tag": "ABX9TyPOhGgl0L7lyCTZTK/pJd9G",
      "include_colab_link": true
    },
    "kernelspec": {
      "name": "python3",
      "display_name": "Python 3"
    },
    "language_info": {
      "name": "python"
    }
  },
  "cells": [
    {
      "cell_type": "markdown",
      "metadata": {
        "id": "view-in-github",
        "colab_type": "text"
      },
      "source": [
        "<a href=\"https://colab.research.google.com/github/carlosdgerez/machine_learning/blob/main/daysResponses.ipynb\" target=\"_parent\"><img src=\"https://colab.research.google.com/assets/colab-badge.svg\" alt=\"Open In Colab\"/></a>"
      ]
    },
    {
      "cell_type": "code",
      "execution_count": null,
      "metadata": {
        "id": "hfoKhXw0D8Vx"
      },
      "outputs": [],
      "source": [
        ""
      ]
    },
    {
      "cell_type": "code",
      "metadata": {
        "id": "mA0HPVmIBT4C"
      },
      "source": [
        "# Importing the 2 sets. one for the model, and the second for final testing. \n",
        "\n",
        "import pandas as pd\n",
        "\n",
        "campaign = pd.read_csv('https://raw.githubusercontent.com/byui-cse/cse450-course/master/data/bank.csv')\n",
        "last_campaign = pd.read_csv('https://raw.githubusercontent.com/byui-cse/cse450-course/master/data/bank_holdout_test.csv')"
      ],
      "execution_count": 2,
      "outputs": []
    },
    {
      "cell_type": "code",
      "source": [
        "# slice of responses for marketing the customer was contacted at least once\n",
        "contacted = campaign[campaign.pdays != 999]\n",
        "contacted.info()\n"
      ],
      "metadata": {
        "id": "YGC6XFLNWAxF",
        "colab": {
          "base_uri": "https://localhost:8080/"
        },
        "outputId": "77358b61-6a35-4942-be99-1e6e7c633ddd"
      },
      "execution_count": 3,
      "outputs": [
        {
          "output_type": "stream",
          "name": "stdout",
          "text": [
            "<class 'pandas.core.frame.DataFrame'>\n",
            "Int64Index: 1515 entries, 24108 to 41182\n",
            "Data columns (total 20 columns):\n",
            " #   Column          Non-Null Count  Dtype  \n",
            "---  ------          --------------  -----  \n",
            " 0   age             1515 non-null   int64  \n",
            " 1   job             1515 non-null   object \n",
            " 2   marital         1515 non-null   object \n",
            " 3   education       1515 non-null   object \n",
            " 4   default         1515 non-null   object \n",
            " 5   housing         1515 non-null   object \n",
            " 6   loan            1515 non-null   object \n",
            " 7   contact         1515 non-null   object \n",
            " 8   month           1515 non-null   object \n",
            " 9   day_of_week     1515 non-null   object \n",
            " 10  campaign        1515 non-null   int64  \n",
            " 11  pdays           1515 non-null   int64  \n",
            " 12  previous        1515 non-null   int64  \n",
            " 13  poutcome        1515 non-null   object \n",
            " 14  emp.var.rate    1515 non-null   float64\n",
            " 15  cons.price.idx  1515 non-null   float64\n",
            " 16  cons.conf.idx   1515 non-null   float64\n",
            " 17  euribor3m       1515 non-null   float64\n",
            " 18  nr.employed     1515 non-null   float64\n",
            " 19  y               1515 non-null   object \n",
            "dtypes: float64(5), int64(4), object(11)\n",
            "memory usage: 248.6+ KB\n"
          ]
        }
      ]
    }
  ]
}
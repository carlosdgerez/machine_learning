{
  "nbformat": 4,
  "nbformat_minor": 0,
  "metadata": {
    "colab": {
      "name": "secondBoost.ipynb",
      "provenance": [],
      "authorship_tag": "ABX9TyPw+0qItue7Hj5T79lUPgUd",
      "include_colab_link": true
    },
    "kernelspec": {
      "name": "python3",
      "display_name": "Python 3"
    },
    "language_info": {
      "name": "python"
    }
  },
  "cells": [
    {
      "cell_type": "markdown",
      "metadata": {
        "id": "view-in-github",
        "colab_type": "text"
      },
      "source": [
        "<a href=\"https://colab.research.google.com/github/carlosdgerez/machine_learning/blob/main/secondBoost.ipynb\" target=\"_parent\"><img src=\"https://colab.research.google.com/assets/colab-badge.svg\" alt=\"Open In Colab\"/></a>"
      ]
    },
    {
      "cell_type": "code",
      "metadata": {
        "id": "mA0HPVmIBT4C"
      },
      "source": [
        "import pandas as pd\n",
        "\n",
        "housing = pd.read_csv('https://raw.githubusercontent.com/byui-cse/cse450-course/master/data/housing.csv')"
      ],
      "execution_count": 6,
      "outputs": []
    },
    {
      "cell_type": "code",
      "metadata": {
        "id": "CVSfaqgKPzE2"
      },
      "source": [
        "#Changing date to be in the same format as the rest of the years features\n",
        "import datetime\n",
        "housing['date'] = pd.DatetimeIndex(housing['date']).year\n",
        "\n"
      ],
      "execution_count": 7,
      "outputs": []
    },
    {
      "cell_type": "code",
      "source": [
        "# selecting clean dat including lat and long\n",
        "clean_data = housing.drop(['id'], axis = 1)"
      ],
      "metadata": {
        "id": "xX1Nfeyq6OAC"
      },
      "execution_count": 8,
      "outputs": []
    },
    {
      "cell_type": "code",
      "source": [
        "\n",
        "# change date name to something more descriptive\n",
        "clean_data.rename(columns={'date': 'sale_date'}, inplace=True)"
      ],
      "metadata": {
        "id": "HDYIAVdp5t5k"
      },
      "execution_count": 9,
      "outputs": []
    },
    {
      "cell_type": "code",
      "source": [
        "# get a training set: a X as with the features to relate and a y with the  target \n",
        "X = clean_data.iloc[:,1:-1]\n",
        "y = clean_data.price\n"
      ],
      "metadata": {
        "id": "P5OnhP86xrTs"
      },
      "execution_count": 10,
      "outputs": []
    },
    {
      "cell_type": "code",
      "source": [
        "# Start spliting the data and import libraries\n",
        "\n",
        "#import train split\n",
        "from sklearn.model_selection import train_test_split\n",
        "\n",
        "X_train, X_test, y_train, y_test = train_test_split(\n",
        "    X, y, test_size=.30, random_state=1)\n"
      ],
      "metadata": {
        "id": "v8fGWY9dzEik"
      },
      "execution_count": 11,
      "outputs": []
    },
    {
      "cell_type": "code",
      "source": [
        "#  xgboost regresor\n",
        "import xgboost\n",
        "from sklearn import metrics as sm\n",
        "\n",
        "# createn instance and fit the model\n",
        "\n",
        "clf2 = xgboost.XGBRegressor(random_state=1,n_estimators=600, max_depth= 4, learning_rate= 0.1, verbosity = 1).fit(X_train, y_train)\n",
        "y_pred = clf2.predict(X_test)\n",
        "\n",
        "# This is how to generate a regresion report ( for regresion )\n",
        "print(\"Mean absolute error =\", round(\n",
        "    sm.mean_absolute_error(y_test, y_pred), 2))\n",
        "print(\"Mean squared error =\", round(\n",
        "    sm.mean_squared_error(y_test, y_pred), 2))\n",
        "print(\"Median absolute error =\", round(\n",
        "    sm.median_absolute_error(y_test, y_pred), 2))\n",
        "print(\"Explain variance score =\", round(\n",
        "    sm.explained_variance_score(y_test, y_pred), 2))\n",
        "print(\"R2 score =\", round(sm.r2_score(y_test, y_pred), 2))\n",
        "print( \"ROOT Mean squared error = \", round(\n",
        "    sm.mean_squared_error(y_test, y_pred, squared=False )\n",
        "))\n"
      ],
      "metadata": {
        "colab": {
          "base_uri": "https://localhost:8080/"
        },
        "id": "eiGqpWuA400K",
        "outputId": "6f470960-5e4e-4410-cd6c-6ea22431363d"
      },
      "execution_count": 12,
      "outputs": [
        {
          "output_type": "stream",
          "name": "stdout",
          "text": [
            "[20:28:57] WARNING: /workspace/src/objective/regression_obj.cu:152: reg:linear is now deprecated in favor of reg:squarederror.\n",
            "Mean absolute error = 65020.12\n",
            "Mean squared error = 12971181206.34\n",
            "Median absolute error = 39708.31\n",
            "Explain variance score = 0.9\n",
            "R2 score = 0.9\n",
            "ROOT Mean squared error =  113891\n"
          ]
        }
      ]
    }
  ]
}
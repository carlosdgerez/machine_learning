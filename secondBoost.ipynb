{
  "nbformat": 4,
  "nbformat_minor": 0,
  "metadata": {
    "colab": {
      "name": "secondBoost.ipynb",
      "provenance": [],
      "authorship_tag": "ABX9TyMv67nSMbKeWJxTzLV+2q8k",
      "include_colab_link": true
    },
    "kernelspec": {
      "name": "python3",
      "display_name": "Python 3"
    },
    "language_info": {
      "name": "python"
    }
  },
  "cells": [
    {
      "cell_type": "markdown",
      "metadata": {
        "id": "view-in-github",
        "colab_type": "text"
      },
      "source": [
        "<a href=\"https://colab.research.google.com/github/carlosdgerez/machine_learning/blob/main/secondBoost.ipynb\" target=\"_parent\"><img src=\"https://colab.research.google.com/assets/colab-badge.svg\" alt=\"Open In Colab\"/></a>"
      ]
    },
    {
      "cell_type": "code",
      "metadata": {
        "id": "mA0HPVmIBT4C"
      },
      "source": [
        "import pandas as pd\n",
        "\n",
        "housing = pd.read_csv('https://raw.githubusercontent.com/byui-cse/cse450-course/master/data/housing.csv')"
      ],
      "execution_count": 1,
      "outputs": []
    },
    {
      "cell_type": "code",
      "metadata": {
        "id": "CVSfaqgKPzE2"
      },
      "source": [
        "#Changing date to be in the same format as the rest of the years features\n",
        "import datetime\n",
        "housing['date'] = pd.DatetimeIndex(housing['date']).year\n",
        "\n"
      ],
      "execution_count": 2,
      "outputs": []
    },
    {
      "cell_type": "code",
      "source": [
        "# selecting clean dat including lat and long\n",
        "clean_data = housing.drop(['id'], axis = 1)"
      ],
      "metadata": {
        "id": "xX1Nfeyq6OAC"
      },
      "execution_count": 3,
      "outputs": []
    },
    {
      "cell_type": "code",
      "source": [
        "clean_data.head()"
      ],
      "metadata": {
        "id": "_6U5V0cB4yId",
        "outputId": "c5542583-7618-4c84-c345-4c705f011d1f",
        "colab": {
          "base_uri": "https://localhost:8080/",
          "height": 206
        }
      },
      "execution_count": 6,
      "outputs": [
        {
          "output_type": "execute_result",
          "data": {
            "text/plain": [
              "   sale_date  bedrooms  bathrooms  sqft_living  sqft_lot  floors  waterfront  \\\n",
              "0       2014         4       3.25         3760      4675     2.0           0   \n",
              "1       2015         3       1.75         1460      7800     1.0           0   \n",
              "2       2014         4       1.00         1340      5800     1.5           0   \n",
              "3       2014         3       1.75         1440      8050     1.0           0   \n",
              "4       2014         2       1.50         1780      4750     1.0           0   \n",
              "\n",
              "   view  condition  grade  sqft_above  sqft_basement  yr_built  yr_renovated  \\\n",
              "0     0          3      8        2740           1020      2007             0   \n",
              "1     0          2      7        1040            420      1979             0   \n",
              "2     2          3      7        1340              0      1914             0   \n",
              "3     0          3      8        1440              0      1985             0   \n",
              "4     0          4      7        1080            700      1947             0   \n",
              "\n",
              "   zipcode      lat     long  sqft_living15  sqft_lot15     price  \n",
              "0    98038  47.3862 -122.048           3280        4033  429900.0  \n",
              "1    98023  47.3035 -122.382           1310        7865  233000.0  \n",
              "2    98116  47.5658 -122.389           1900        5800  455000.0  \n",
              "3    98023  47.3187 -122.390           1790        7488  258950.0  \n",
              "4    98117  47.6859 -122.395           1690        5962  555000.0  "
            ],
            "text/html": [
              "\n",
              "  <div id=\"df-cc28e276-b04a-4051-9dc0-7f72e4140e41\">\n",
              "    <div class=\"colab-df-container\">\n",
              "      <div>\n",
              "<style scoped>\n",
              "    .dataframe tbody tr th:only-of-type {\n",
              "        vertical-align: middle;\n",
              "    }\n",
              "\n",
              "    .dataframe tbody tr th {\n",
              "        vertical-align: top;\n",
              "    }\n",
              "\n",
              "    .dataframe thead th {\n",
              "        text-align: right;\n",
              "    }\n",
              "</style>\n",
              "<table border=\"1\" class=\"dataframe\">\n",
              "  <thead>\n",
              "    <tr style=\"text-align: right;\">\n",
              "      <th></th>\n",
              "      <th>sale_date</th>\n",
              "      <th>bedrooms</th>\n",
              "      <th>bathrooms</th>\n",
              "      <th>sqft_living</th>\n",
              "      <th>sqft_lot</th>\n",
              "      <th>floors</th>\n",
              "      <th>waterfront</th>\n",
              "      <th>view</th>\n",
              "      <th>condition</th>\n",
              "      <th>grade</th>\n",
              "      <th>sqft_above</th>\n",
              "      <th>sqft_basement</th>\n",
              "      <th>yr_built</th>\n",
              "      <th>yr_renovated</th>\n",
              "      <th>zipcode</th>\n",
              "      <th>lat</th>\n",
              "      <th>long</th>\n",
              "      <th>sqft_living15</th>\n",
              "      <th>sqft_lot15</th>\n",
              "      <th>price</th>\n",
              "    </tr>\n",
              "  </thead>\n",
              "  <tbody>\n",
              "    <tr>\n",
              "      <th>0</th>\n",
              "      <td>2014</td>\n",
              "      <td>4</td>\n",
              "      <td>3.25</td>\n",
              "      <td>3760</td>\n",
              "      <td>4675</td>\n",
              "      <td>2.0</td>\n",
              "      <td>0</td>\n",
              "      <td>0</td>\n",
              "      <td>3</td>\n",
              "      <td>8</td>\n",
              "      <td>2740</td>\n",
              "      <td>1020</td>\n",
              "      <td>2007</td>\n",
              "      <td>0</td>\n",
              "      <td>98038</td>\n",
              "      <td>47.3862</td>\n",
              "      <td>-122.048</td>\n",
              "      <td>3280</td>\n",
              "      <td>4033</td>\n",
              "      <td>429900.0</td>\n",
              "    </tr>\n",
              "    <tr>\n",
              "      <th>1</th>\n",
              "      <td>2015</td>\n",
              "      <td>3</td>\n",
              "      <td>1.75</td>\n",
              "      <td>1460</td>\n",
              "      <td>7800</td>\n",
              "      <td>1.0</td>\n",
              "      <td>0</td>\n",
              "      <td>0</td>\n",
              "      <td>2</td>\n",
              "      <td>7</td>\n",
              "      <td>1040</td>\n",
              "      <td>420</td>\n",
              "      <td>1979</td>\n",
              "      <td>0</td>\n",
              "      <td>98023</td>\n",
              "      <td>47.3035</td>\n",
              "      <td>-122.382</td>\n",
              "      <td>1310</td>\n",
              "      <td>7865</td>\n",
              "      <td>233000.0</td>\n",
              "    </tr>\n",
              "    <tr>\n",
              "      <th>2</th>\n",
              "      <td>2014</td>\n",
              "      <td>4</td>\n",
              "      <td>1.00</td>\n",
              "      <td>1340</td>\n",
              "      <td>5800</td>\n",
              "      <td>1.5</td>\n",
              "      <td>0</td>\n",
              "      <td>2</td>\n",
              "      <td>3</td>\n",
              "      <td>7</td>\n",
              "      <td>1340</td>\n",
              "      <td>0</td>\n",
              "      <td>1914</td>\n",
              "      <td>0</td>\n",
              "      <td>98116</td>\n",
              "      <td>47.5658</td>\n",
              "      <td>-122.389</td>\n",
              "      <td>1900</td>\n",
              "      <td>5800</td>\n",
              "      <td>455000.0</td>\n",
              "    </tr>\n",
              "    <tr>\n",
              "      <th>3</th>\n",
              "      <td>2014</td>\n",
              "      <td>3</td>\n",
              "      <td>1.75</td>\n",
              "      <td>1440</td>\n",
              "      <td>8050</td>\n",
              "      <td>1.0</td>\n",
              "      <td>0</td>\n",
              "      <td>0</td>\n",
              "      <td>3</td>\n",
              "      <td>8</td>\n",
              "      <td>1440</td>\n",
              "      <td>0</td>\n",
              "      <td>1985</td>\n",
              "      <td>0</td>\n",
              "      <td>98023</td>\n",
              "      <td>47.3187</td>\n",
              "      <td>-122.390</td>\n",
              "      <td>1790</td>\n",
              "      <td>7488</td>\n",
              "      <td>258950.0</td>\n",
              "    </tr>\n",
              "    <tr>\n",
              "      <th>4</th>\n",
              "      <td>2014</td>\n",
              "      <td>2</td>\n",
              "      <td>1.50</td>\n",
              "      <td>1780</td>\n",
              "      <td>4750</td>\n",
              "      <td>1.0</td>\n",
              "      <td>0</td>\n",
              "      <td>0</td>\n",
              "      <td>4</td>\n",
              "      <td>7</td>\n",
              "      <td>1080</td>\n",
              "      <td>700</td>\n",
              "      <td>1947</td>\n",
              "      <td>0</td>\n",
              "      <td>98117</td>\n",
              "      <td>47.6859</td>\n",
              "      <td>-122.395</td>\n",
              "      <td>1690</td>\n",
              "      <td>5962</td>\n",
              "      <td>555000.0</td>\n",
              "    </tr>\n",
              "  </tbody>\n",
              "</table>\n",
              "</div>\n",
              "      <button class=\"colab-df-convert\" onclick=\"convertToInteractive('df-cc28e276-b04a-4051-9dc0-7f72e4140e41')\"\n",
              "              title=\"Convert this dataframe to an interactive table.\"\n",
              "              style=\"display:none;\">\n",
              "        \n",
              "  <svg xmlns=\"http://www.w3.org/2000/svg\" height=\"24px\"viewBox=\"0 0 24 24\"\n",
              "       width=\"24px\">\n",
              "    <path d=\"M0 0h24v24H0V0z\" fill=\"none\"/>\n",
              "    <path d=\"M18.56 5.44l.94 2.06.94-2.06 2.06-.94-2.06-.94-.94-2.06-.94 2.06-2.06.94zm-11 1L8.5 8.5l.94-2.06 2.06-.94-2.06-.94L8.5 2.5l-.94 2.06-2.06.94zm10 10l.94 2.06.94-2.06 2.06-.94-2.06-.94-.94-2.06-.94 2.06-2.06.94z\"/><path d=\"M17.41 7.96l-1.37-1.37c-.4-.4-.92-.59-1.43-.59-.52 0-1.04.2-1.43.59L10.3 9.45l-7.72 7.72c-.78.78-.78 2.05 0 2.83L4 21.41c.39.39.9.59 1.41.59.51 0 1.02-.2 1.41-.59l7.78-7.78 2.81-2.81c.8-.78.8-2.07 0-2.86zM5.41 20L4 18.59l7.72-7.72 1.47 1.35L5.41 20z\"/>\n",
              "  </svg>\n",
              "      </button>\n",
              "      \n",
              "  <style>\n",
              "    .colab-df-container {\n",
              "      display:flex;\n",
              "      flex-wrap:wrap;\n",
              "      gap: 12px;\n",
              "    }\n",
              "\n",
              "    .colab-df-convert {\n",
              "      background-color: #E8F0FE;\n",
              "      border: none;\n",
              "      border-radius: 50%;\n",
              "      cursor: pointer;\n",
              "      display: none;\n",
              "      fill: #1967D2;\n",
              "      height: 32px;\n",
              "      padding: 0 0 0 0;\n",
              "      width: 32px;\n",
              "    }\n",
              "\n",
              "    .colab-df-convert:hover {\n",
              "      background-color: #E2EBFA;\n",
              "      box-shadow: 0px 1px 2px rgba(60, 64, 67, 0.3), 0px 1px 3px 1px rgba(60, 64, 67, 0.15);\n",
              "      fill: #174EA6;\n",
              "    }\n",
              "\n",
              "    [theme=dark] .colab-df-convert {\n",
              "      background-color: #3B4455;\n",
              "      fill: #D2E3FC;\n",
              "    }\n",
              "\n",
              "    [theme=dark] .colab-df-convert:hover {\n",
              "      background-color: #434B5C;\n",
              "      box-shadow: 0px 1px 3px 1px rgba(0, 0, 0, 0.15);\n",
              "      filter: drop-shadow(0px 1px 2px rgba(0, 0, 0, 0.3));\n",
              "      fill: #FFFFFF;\n",
              "    }\n",
              "  </style>\n",
              "\n",
              "      <script>\n",
              "        const buttonEl =\n",
              "          document.querySelector('#df-cc28e276-b04a-4051-9dc0-7f72e4140e41 button.colab-df-convert');\n",
              "        buttonEl.style.display =\n",
              "          google.colab.kernel.accessAllowed ? 'block' : 'none';\n",
              "\n",
              "        async function convertToInteractive(key) {\n",
              "          const element = document.querySelector('#df-cc28e276-b04a-4051-9dc0-7f72e4140e41');\n",
              "          const dataTable =\n",
              "            await google.colab.kernel.invokeFunction('convertToInteractive',\n",
              "                                                     [key], {});\n",
              "          if (!dataTable) return;\n",
              "\n",
              "          const docLinkHtml = 'Like what you see? Visit the ' +\n",
              "            '<a target=\"_blank\" href=https://colab.research.google.com/notebooks/data_table.ipynb>data table notebook</a>'\n",
              "            + ' to learn more about interactive tables.';\n",
              "          element.innerHTML = '';\n",
              "          dataTable['output_type'] = 'display_data';\n",
              "          await google.colab.output.renderOutput(dataTable, element);\n",
              "          const docLink = document.createElement('div');\n",
              "          docLink.innerHTML = docLinkHtml;\n",
              "          element.appendChild(docLink);\n",
              "        }\n",
              "      </script>\n",
              "    </div>\n",
              "  </div>\n",
              "  "
            ]
          },
          "metadata": {},
          "execution_count": 6
        }
      ]
    },
    {
      "cell_type": "code",
      "source": [
        "\n",
        "# change date name to something more descriptive\n",
        "clean_data.rename(columns={'date': 'sale_date'}, inplace=True)"
      ],
      "metadata": {
        "id": "HDYIAVdp5t5k"
      },
      "execution_count": 5,
      "outputs": []
    },
    {
      "cell_type": "code",
      "source": [
        "# get a training set: a X as with the features to relate and a y with the  target \n",
        "X = clean_data.iloc[:,0:-1]\n",
        "y = clean_data.price\n"
      ],
      "metadata": {
        "id": "P5OnhP86xrTs"
      },
      "execution_count": 9,
      "outputs": []
    },
    {
      "cell_type": "code",
      "source": [
        "X"
      ],
      "metadata": {
        "id": "qRUMe6F648Ui",
        "outputId": "fea124e4-7de1-41ac-c889-ad3d71fe35df",
        "colab": {
          "base_uri": "https://localhost:8080/",
          "height": 424
        }
      },
      "execution_count": 10,
      "outputs": [
        {
          "output_type": "execute_result",
          "data": {
            "text/plain": [
              "       sale_date  bedrooms  bathrooms  sqft_living  sqft_lot  floors  \\\n",
              "0           2014         4       3.25         3760      4675     2.0   \n",
              "1           2015         3       1.75         1460      7800     1.0   \n",
              "2           2014         4       1.00         1340      5800     1.5   \n",
              "3           2014         3       1.75         1440      8050     1.0   \n",
              "4           2014         2       1.50         1780      4750     1.0   \n",
              "...          ...       ...        ...          ...       ...     ...   \n",
              "19995       2014         3       1.50         1000      6914     1.0   \n",
              "19996       2014         3       2.50         3087      5002     2.0   \n",
              "19997       2014         3       2.50         2120      4780     2.0   \n",
              "19998       2014         1       0.75          380     15000     1.0   \n",
              "19999       2015         4       2.50         3130      5999     2.0   \n",
              "\n",
              "       waterfront  view  condition  grade  sqft_above  sqft_basement  \\\n",
              "0               0     0          3      8        2740           1020   \n",
              "1               0     0          2      7        1040            420   \n",
              "2               0     2          3      7        1340              0   \n",
              "3               0     0          3      8        1440              0   \n",
              "4               0     0          4      7        1080            700   \n",
              "...           ...   ...        ...    ...         ...            ...   \n",
              "19995           0     0          3      7        1000              0   \n",
              "19996           0     0          3      8        3087              0   \n",
              "19997           0     0          3      7        2120              0   \n",
              "19998           0     0          3      5         380              0   \n",
              "19999           0     0          3      7        3130              0   \n",
              "\n",
              "       yr_built  yr_renovated  zipcode      lat     long  sqft_living15  \\\n",
              "0          2007             0    98038  47.3862 -122.048           3280   \n",
              "1          1979             0    98023  47.3035 -122.382           1310   \n",
              "2          1914             0    98116  47.5658 -122.389           1900   \n",
              "3          1985             0    98023  47.3187 -122.390           1790   \n",
              "4          1947             0    98117  47.6859 -122.395           1690   \n",
              "...         ...           ...      ...      ...      ...            ...   \n",
              "19995      1947             0    98125  47.7144 -122.319           1000   \n",
              "19996      2014             0    98023  47.2974 -122.349           2927   \n",
              "19997      2004             0    98053  47.6810 -122.032           1690   \n",
              "19998      1963             0    98168  47.4810 -122.323           1170   \n",
              "19999      2006             0    98042  47.3837 -122.099           3020   \n",
              "\n",
              "       sqft_lot15  \n",
              "0            4033  \n",
              "1            7865  \n",
              "2            5800  \n",
              "3            7488  \n",
              "4            5962  \n",
              "...           ...  \n",
              "19995        6947  \n",
              "19996        5183  \n",
              "19997        2650  \n",
              "19998       15000  \n",
              "19999        5997  \n",
              "\n",
              "[20000 rows x 19 columns]"
            ],
            "text/html": [
              "\n",
              "  <div id=\"df-ed864096-628f-4e88-b817-111af6f2db8e\">\n",
              "    <div class=\"colab-df-container\">\n",
              "      <div>\n",
              "<style scoped>\n",
              "    .dataframe tbody tr th:only-of-type {\n",
              "        vertical-align: middle;\n",
              "    }\n",
              "\n",
              "    .dataframe tbody tr th {\n",
              "        vertical-align: top;\n",
              "    }\n",
              "\n",
              "    .dataframe thead th {\n",
              "        text-align: right;\n",
              "    }\n",
              "</style>\n",
              "<table border=\"1\" class=\"dataframe\">\n",
              "  <thead>\n",
              "    <tr style=\"text-align: right;\">\n",
              "      <th></th>\n",
              "      <th>sale_date</th>\n",
              "      <th>bedrooms</th>\n",
              "      <th>bathrooms</th>\n",
              "      <th>sqft_living</th>\n",
              "      <th>sqft_lot</th>\n",
              "      <th>floors</th>\n",
              "      <th>waterfront</th>\n",
              "      <th>view</th>\n",
              "      <th>condition</th>\n",
              "      <th>grade</th>\n",
              "      <th>sqft_above</th>\n",
              "      <th>sqft_basement</th>\n",
              "      <th>yr_built</th>\n",
              "      <th>yr_renovated</th>\n",
              "      <th>zipcode</th>\n",
              "      <th>lat</th>\n",
              "      <th>long</th>\n",
              "      <th>sqft_living15</th>\n",
              "      <th>sqft_lot15</th>\n",
              "    </tr>\n",
              "  </thead>\n",
              "  <tbody>\n",
              "    <tr>\n",
              "      <th>0</th>\n",
              "      <td>2014</td>\n",
              "      <td>4</td>\n",
              "      <td>3.25</td>\n",
              "      <td>3760</td>\n",
              "      <td>4675</td>\n",
              "      <td>2.0</td>\n",
              "      <td>0</td>\n",
              "      <td>0</td>\n",
              "      <td>3</td>\n",
              "      <td>8</td>\n",
              "      <td>2740</td>\n",
              "      <td>1020</td>\n",
              "      <td>2007</td>\n",
              "      <td>0</td>\n",
              "      <td>98038</td>\n",
              "      <td>47.3862</td>\n",
              "      <td>-122.048</td>\n",
              "      <td>3280</td>\n",
              "      <td>4033</td>\n",
              "    </tr>\n",
              "    <tr>\n",
              "      <th>1</th>\n",
              "      <td>2015</td>\n",
              "      <td>3</td>\n",
              "      <td>1.75</td>\n",
              "      <td>1460</td>\n",
              "      <td>7800</td>\n",
              "      <td>1.0</td>\n",
              "      <td>0</td>\n",
              "      <td>0</td>\n",
              "      <td>2</td>\n",
              "      <td>7</td>\n",
              "      <td>1040</td>\n",
              "      <td>420</td>\n",
              "      <td>1979</td>\n",
              "      <td>0</td>\n",
              "      <td>98023</td>\n",
              "      <td>47.3035</td>\n",
              "      <td>-122.382</td>\n",
              "      <td>1310</td>\n",
              "      <td>7865</td>\n",
              "    </tr>\n",
              "    <tr>\n",
              "      <th>2</th>\n",
              "      <td>2014</td>\n",
              "      <td>4</td>\n",
              "      <td>1.00</td>\n",
              "      <td>1340</td>\n",
              "      <td>5800</td>\n",
              "      <td>1.5</td>\n",
              "      <td>0</td>\n",
              "      <td>2</td>\n",
              "      <td>3</td>\n",
              "      <td>7</td>\n",
              "      <td>1340</td>\n",
              "      <td>0</td>\n",
              "      <td>1914</td>\n",
              "      <td>0</td>\n",
              "      <td>98116</td>\n",
              "      <td>47.5658</td>\n",
              "      <td>-122.389</td>\n",
              "      <td>1900</td>\n",
              "      <td>5800</td>\n",
              "    </tr>\n",
              "    <tr>\n",
              "      <th>3</th>\n",
              "      <td>2014</td>\n",
              "      <td>3</td>\n",
              "      <td>1.75</td>\n",
              "      <td>1440</td>\n",
              "      <td>8050</td>\n",
              "      <td>1.0</td>\n",
              "      <td>0</td>\n",
              "      <td>0</td>\n",
              "      <td>3</td>\n",
              "      <td>8</td>\n",
              "      <td>1440</td>\n",
              "      <td>0</td>\n",
              "      <td>1985</td>\n",
              "      <td>0</td>\n",
              "      <td>98023</td>\n",
              "      <td>47.3187</td>\n",
              "      <td>-122.390</td>\n",
              "      <td>1790</td>\n",
              "      <td>7488</td>\n",
              "    </tr>\n",
              "    <tr>\n",
              "      <th>4</th>\n",
              "      <td>2014</td>\n",
              "      <td>2</td>\n",
              "      <td>1.50</td>\n",
              "      <td>1780</td>\n",
              "      <td>4750</td>\n",
              "      <td>1.0</td>\n",
              "      <td>0</td>\n",
              "      <td>0</td>\n",
              "      <td>4</td>\n",
              "      <td>7</td>\n",
              "      <td>1080</td>\n",
              "      <td>700</td>\n",
              "      <td>1947</td>\n",
              "      <td>0</td>\n",
              "      <td>98117</td>\n",
              "      <td>47.6859</td>\n",
              "      <td>-122.395</td>\n",
              "      <td>1690</td>\n",
              "      <td>5962</td>\n",
              "    </tr>\n",
              "    <tr>\n",
              "      <th>...</th>\n",
              "      <td>...</td>\n",
              "      <td>...</td>\n",
              "      <td>...</td>\n",
              "      <td>...</td>\n",
              "      <td>...</td>\n",
              "      <td>...</td>\n",
              "      <td>...</td>\n",
              "      <td>...</td>\n",
              "      <td>...</td>\n",
              "      <td>...</td>\n",
              "      <td>...</td>\n",
              "      <td>...</td>\n",
              "      <td>...</td>\n",
              "      <td>...</td>\n",
              "      <td>...</td>\n",
              "      <td>...</td>\n",
              "      <td>...</td>\n",
              "      <td>...</td>\n",
              "      <td>...</td>\n",
              "    </tr>\n",
              "    <tr>\n",
              "      <th>19995</th>\n",
              "      <td>2014</td>\n",
              "      <td>3</td>\n",
              "      <td>1.50</td>\n",
              "      <td>1000</td>\n",
              "      <td>6914</td>\n",
              "      <td>1.0</td>\n",
              "      <td>0</td>\n",
              "      <td>0</td>\n",
              "      <td>3</td>\n",
              "      <td>7</td>\n",
              "      <td>1000</td>\n",
              "      <td>0</td>\n",
              "      <td>1947</td>\n",
              "      <td>0</td>\n",
              "      <td>98125</td>\n",
              "      <td>47.7144</td>\n",
              "      <td>-122.319</td>\n",
              "      <td>1000</td>\n",
              "      <td>6947</td>\n",
              "    </tr>\n",
              "    <tr>\n",
              "      <th>19996</th>\n",
              "      <td>2014</td>\n",
              "      <td>3</td>\n",
              "      <td>2.50</td>\n",
              "      <td>3087</td>\n",
              "      <td>5002</td>\n",
              "      <td>2.0</td>\n",
              "      <td>0</td>\n",
              "      <td>0</td>\n",
              "      <td>3</td>\n",
              "      <td>8</td>\n",
              "      <td>3087</td>\n",
              "      <td>0</td>\n",
              "      <td>2014</td>\n",
              "      <td>0</td>\n",
              "      <td>98023</td>\n",
              "      <td>47.2974</td>\n",
              "      <td>-122.349</td>\n",
              "      <td>2927</td>\n",
              "      <td>5183</td>\n",
              "    </tr>\n",
              "    <tr>\n",
              "      <th>19997</th>\n",
              "      <td>2014</td>\n",
              "      <td>3</td>\n",
              "      <td>2.50</td>\n",
              "      <td>2120</td>\n",
              "      <td>4780</td>\n",
              "      <td>2.0</td>\n",
              "      <td>0</td>\n",
              "      <td>0</td>\n",
              "      <td>3</td>\n",
              "      <td>7</td>\n",
              "      <td>2120</td>\n",
              "      <td>0</td>\n",
              "      <td>2004</td>\n",
              "      <td>0</td>\n",
              "      <td>98053</td>\n",
              "      <td>47.6810</td>\n",
              "      <td>-122.032</td>\n",
              "      <td>1690</td>\n",
              "      <td>2650</td>\n",
              "    </tr>\n",
              "    <tr>\n",
              "      <th>19998</th>\n",
              "      <td>2014</td>\n",
              "      <td>1</td>\n",
              "      <td>0.75</td>\n",
              "      <td>380</td>\n",
              "      <td>15000</td>\n",
              "      <td>1.0</td>\n",
              "      <td>0</td>\n",
              "      <td>0</td>\n",
              "      <td>3</td>\n",
              "      <td>5</td>\n",
              "      <td>380</td>\n",
              "      <td>0</td>\n",
              "      <td>1963</td>\n",
              "      <td>0</td>\n",
              "      <td>98168</td>\n",
              "      <td>47.4810</td>\n",
              "      <td>-122.323</td>\n",
              "      <td>1170</td>\n",
              "      <td>15000</td>\n",
              "    </tr>\n",
              "    <tr>\n",
              "      <th>19999</th>\n",
              "      <td>2015</td>\n",
              "      <td>4</td>\n",
              "      <td>2.50</td>\n",
              "      <td>3130</td>\n",
              "      <td>5999</td>\n",
              "      <td>2.0</td>\n",
              "      <td>0</td>\n",
              "      <td>0</td>\n",
              "      <td>3</td>\n",
              "      <td>7</td>\n",
              "      <td>3130</td>\n",
              "      <td>0</td>\n",
              "      <td>2006</td>\n",
              "      <td>0</td>\n",
              "      <td>98042</td>\n",
              "      <td>47.3837</td>\n",
              "      <td>-122.099</td>\n",
              "      <td>3020</td>\n",
              "      <td>5997</td>\n",
              "    </tr>\n",
              "  </tbody>\n",
              "</table>\n",
              "<p>20000 rows × 19 columns</p>\n",
              "</div>\n",
              "      <button class=\"colab-df-convert\" onclick=\"convertToInteractive('df-ed864096-628f-4e88-b817-111af6f2db8e')\"\n",
              "              title=\"Convert this dataframe to an interactive table.\"\n",
              "              style=\"display:none;\">\n",
              "        \n",
              "  <svg xmlns=\"http://www.w3.org/2000/svg\" height=\"24px\"viewBox=\"0 0 24 24\"\n",
              "       width=\"24px\">\n",
              "    <path d=\"M0 0h24v24H0V0z\" fill=\"none\"/>\n",
              "    <path d=\"M18.56 5.44l.94 2.06.94-2.06 2.06-.94-2.06-.94-.94-2.06-.94 2.06-2.06.94zm-11 1L8.5 8.5l.94-2.06 2.06-.94-2.06-.94L8.5 2.5l-.94 2.06-2.06.94zm10 10l.94 2.06.94-2.06 2.06-.94-2.06-.94-.94-2.06-.94 2.06-2.06.94z\"/><path d=\"M17.41 7.96l-1.37-1.37c-.4-.4-.92-.59-1.43-.59-.52 0-1.04.2-1.43.59L10.3 9.45l-7.72 7.72c-.78.78-.78 2.05 0 2.83L4 21.41c.39.39.9.59 1.41.59.51 0 1.02-.2 1.41-.59l7.78-7.78 2.81-2.81c.8-.78.8-2.07 0-2.86zM5.41 20L4 18.59l7.72-7.72 1.47 1.35L5.41 20z\"/>\n",
              "  </svg>\n",
              "      </button>\n",
              "      \n",
              "  <style>\n",
              "    .colab-df-container {\n",
              "      display:flex;\n",
              "      flex-wrap:wrap;\n",
              "      gap: 12px;\n",
              "    }\n",
              "\n",
              "    .colab-df-convert {\n",
              "      background-color: #E8F0FE;\n",
              "      border: none;\n",
              "      border-radius: 50%;\n",
              "      cursor: pointer;\n",
              "      display: none;\n",
              "      fill: #1967D2;\n",
              "      height: 32px;\n",
              "      padding: 0 0 0 0;\n",
              "      width: 32px;\n",
              "    }\n",
              "\n",
              "    .colab-df-convert:hover {\n",
              "      background-color: #E2EBFA;\n",
              "      box-shadow: 0px 1px 2px rgba(60, 64, 67, 0.3), 0px 1px 3px 1px rgba(60, 64, 67, 0.15);\n",
              "      fill: #174EA6;\n",
              "    }\n",
              "\n",
              "    [theme=dark] .colab-df-convert {\n",
              "      background-color: #3B4455;\n",
              "      fill: #D2E3FC;\n",
              "    }\n",
              "\n",
              "    [theme=dark] .colab-df-convert:hover {\n",
              "      background-color: #434B5C;\n",
              "      box-shadow: 0px 1px 3px 1px rgba(0, 0, 0, 0.15);\n",
              "      filter: drop-shadow(0px 1px 2px rgba(0, 0, 0, 0.3));\n",
              "      fill: #FFFFFF;\n",
              "    }\n",
              "  </style>\n",
              "\n",
              "      <script>\n",
              "        const buttonEl =\n",
              "          document.querySelector('#df-ed864096-628f-4e88-b817-111af6f2db8e button.colab-df-convert');\n",
              "        buttonEl.style.display =\n",
              "          google.colab.kernel.accessAllowed ? 'block' : 'none';\n",
              "\n",
              "        async function convertToInteractive(key) {\n",
              "          const element = document.querySelector('#df-ed864096-628f-4e88-b817-111af6f2db8e');\n",
              "          const dataTable =\n",
              "            await google.colab.kernel.invokeFunction('convertToInteractive',\n",
              "                                                     [key], {});\n",
              "          if (!dataTable) return;\n",
              "\n",
              "          const docLinkHtml = 'Like what you see? Visit the ' +\n",
              "            '<a target=\"_blank\" href=https://colab.research.google.com/notebooks/data_table.ipynb>data table notebook</a>'\n",
              "            + ' to learn more about interactive tables.';\n",
              "          element.innerHTML = '';\n",
              "          dataTable['output_type'] = 'display_data';\n",
              "          await google.colab.output.renderOutput(dataTable, element);\n",
              "          const docLink = document.createElement('div');\n",
              "          docLink.innerHTML = docLinkHtml;\n",
              "          element.appendChild(docLink);\n",
              "        }\n",
              "      </script>\n",
              "    </div>\n",
              "  </div>\n",
              "  "
            ]
          },
          "metadata": {},
          "execution_count": 10
        }
      ]
    },
    {
      "cell_type": "code",
      "source": [
        "# Start spliting the data and import libraries\n",
        "\n",
        "#import train split\n",
        "from sklearn.model_selection import train_test_split\n",
        "\n",
        "X_train, X_test, y_train, y_test = train_test_split(\n",
        "    X, y, test_size=.30, random_state=1)\n"
      ],
      "metadata": {
        "id": "v8fGWY9dzEik"
      },
      "execution_count": 11,
      "outputs": []
    },
    {
      "cell_type": "code",
      "source": [
        "#  xgboost regresor\n",
        "import xgboost\n",
        "from sklearn import metrics as sm\n",
        "\n",
        "# createn instance and fit the model\n",
        "\n",
        "clf2 = xgboost.XGBRegressor(random_state=5, max_depth= 4, n_estimators= 900, learning_rate= 0.1, verbosity = 0, n_jobs = -1).fit(X_train, y_train)\n",
        "y_pred = clf2.predict(X_test)\n",
        "\n",
        "# This is how to generate a regresion report ( for regresion )\n",
        "print(\"Mean absolute error =\", round(\n",
        "    sm.mean_absolute_error(y_test, y_pred), 2))\n",
        "print(\"Mean squared error =\", round(\n",
        "    sm.mean_squared_error(y_test, y_pred), 2))\n",
        "print(\"Median absolute error =\", round(\n",
        "    sm.median_absolute_error(y_test, y_pred), 2))\n",
        "print(\"Explain variance score =\", round(\n",
        "    sm.explained_variance_score(y_test, y_pred), 2))\n",
        "print(\"R2 score =\", round( sm.r2_score(y_test, y_pred),4))\n",
        "print( \"ROOT Mean squared error = \", \n",
        "    round(sm.mean_squared_error(y_test, y_pred, squared=False \n",
        ")))\n"
      ],
      "metadata": {
        "colab": {
          "base_uri": "https://localhost:8080/"
        },
        "id": "eiGqpWuA400K",
        "outputId": "a69baa2f-5731-433c-c0f8-1729a0533d34"
      },
      "execution_count": 20,
      "outputs": [
        {
          "output_type": "stream",
          "name": "stdout",
          "text": [
            "Mean absolute error = 63456.75\n",
            "Mean squared error = 12521655714.93\n",
            "Median absolute error = 37896.84\n",
            "Explain variance score = 0.91\n",
            "R2 score = 0.9061\n",
            "ROOT Mean squared error =  111900\n"
          ]
        }
      ]
    },
    {
      "cell_type": "markdown",
      "source": [
        "## Searching multiple parameters simultaneously"
      ],
      "metadata": {
        "id": "CJLxrGlHUOas"
      }
    },
    {
      "cell_type": "code",
      "source": [
        "from sklearn.model_selection import GridSearchCV"
      ],
      "metadata": {
        "id": "41I3S95HYaED"
      },
      "execution_count": 13,
      "outputs": []
    },
    {
      "cell_type": "code",
      "source": [
        "# create list with the value for the parameters check\n",
        "\n",
        "estimators = [100, 600, 900]\n",
        "depth = range(2,6)\n",
        "learning = [0.1,0.05, 0.01]"
      ],
      "metadata": {
        "id": "rOI_gcViUi4S"
      },
      "execution_count": 14,
      "outputs": []
    },
    {
      "cell_type": "code",
      "source": [
        "# Create the parameters grid dictionary\n",
        "param_grid = dict(n_estimators=estimators, max_depth= depth, learning_rate= learning)\n"
      ],
      "metadata": {
        "id": "6pxzz6zIWj2i"
      },
      "execution_count": 15,
      "outputs": []
    },
    {
      "cell_type": "code",
      "source": [
        "# instatiate the grid\n",
        "grid = GridSearchCV(clf2, param_grid, cv=10, scoring='r2')"
      ],
      "metadata": {
        "id": "uPUckwKZZoZj"
      },
      "execution_count": 16,
      "outputs": []
    },
    {
      "cell_type": "code",
      "source": [
        "# fit the grid with data remember just X and y THIS CODE TAKES AT LEAST 15 to 30 MINUTES TO RUN\n",
        "grid.fit(X,y)"
      ],
      "metadata": {
        "colab": {
          "base_uri": "https://localhost:8080/"
        },
        "id": "AQi5hJjgaBam",
        "outputId": "8fe0455d-6bec-4c5b-e981-3a1a37699d0b"
      },
      "execution_count": 17,
      "outputs": [
        {
          "data": {
            "text/plain": [
              "GridSearchCV(cv=10,\n",
              "             estimator=XGBRegressor(max_depth=4, n_estimators=600,\n",
              "                                    random_state=5, verbosity=0),\n",
              "             param_grid={'learning_rate': [0.1, 0.05, 0.01],\n",
              "                         'max_depth': range(2, 6),\n",
              "                         'n_estimators': [100, 600, 900]},\n",
              "             scoring='r2')"
            ]
          },
          "execution_count": null,
          "metadata": {},
          "output_type": "execute_result"
        }
      ]
    },
    {
      "cell_type": "code",
      "source": [
        "print(grid.best_score_)\n",
        "print (grid.best_params_)"
      ],
      "metadata": {
        "colab": {
          "base_uri": "https://localhost:8080/"
        },
        "id": "43uy3WK3d-Fs",
        "outputId": "1d9fd79a-65d9-4632-ae53-ee41cbf01363"
      },
      "execution_count": 18,
      "outputs": [
        {
          "output_type": "stream",
          "name": "stdout",
          "text": [
            "0.9022325723439859\n",
            "{'learning_rate': 0.1, 'max_depth': 4, 'n_estimators': 900}\n"
          ]
        }
      ]
    },
    {
      "cell_type": "code",
      "source": [
        "from sklearn.model_selection import RandomizedSearchCV"
      ],
      "metadata": {
        "id": "4Poxw5Koewp5"
      },
      "execution_count": null,
      "outputs": []
    },
    {
      "cell_type": "code",
      "source": [
        "param_dist = dict(n_estimators=estimators, max_depth = depth, learning_rate= learning)\n",
        "rand = RandomizedSearchCV (clf2, param_dist, cv=10, scoring='r2', n_iter=10, random_state=5, n_jobs=-1)\n",
        "rand.fit(X,y)"
      ],
      "metadata": {
        "colab": {
          "base_uri": "https://localhost:8080/"
        },
        "id": "ZNLz37SAfKE9",
        "outputId": "6e11d15f-0e12-4817-a12d-eca996c78291"
      },
      "execution_count": null,
      "outputs": [
        {
          "output_type": "execute_result",
          "data": {
            "text/plain": [
              "RandomizedSearchCV(cv=10,\n",
              "                   estimator=XGBRegressor(max_depth=4, n_estimators=600,\n",
              "                                          random_state=5, verbosity=0),\n",
              "                   param_distributions={'learning_rate': [0.1, 0.05, 0.01],\n",
              "                                        'max_depth': range(3, 6),\n",
              "                                        'n_estimators': [100, 600, 900]},\n",
              "                   random_state=5, scoring='r2')"
            ]
          },
          "metadata": {},
          "execution_count": 71
        }
      ]
    },
    {
      "cell_type": "code",
      "source": [
        "print(rand.best_score_)"
      ],
      "metadata": {
        "colab": {
          "base_uri": "https://localhost:8080/"
        },
        "id": "fgxiRwZkvvrv",
        "outputId": "9cf60f0d-5d63-43db-bf20-7df90e0761e6"
      },
      "execution_count": null,
      "outputs": [
        {
          "output_type": "stream",
          "name": "stdout",
          "text": [
            "0.8946050187521459\n"
          ]
        }
      ]
    },
    {
      "cell_type": "code",
      "source": [
        "print(rand.best_score_)\n",
        "print(rand.best_params_)"
      ],
      "metadata": {
        "colab": {
          "base_uri": "https://localhost:8080/"
        },
        "id": "g47Qv69OgKkD",
        "outputId": "973e1e43-692f-4f9c-b5ae-869e787a501b"
      },
      "execution_count": null,
      "outputs": [
        {
          "output_type": "stream",
          "name": "stdout",
          "text": [
            "0.8946050187521459\n",
            "{'n_estimators': 900, 'max_depth': 3, 'learning_rate': 0.1}\n"
          ]
        }
      ]
    },
    {
      "cell_type": "markdown",
      "source": [
        "# Adding new data to the set to improve performance"
      ],
      "metadata": {
        "id": "oUznZPIK9BxX"
      }
    },
    {
      "cell_type": "code",
      "source": [
        ""
      ],
      "metadata": {
        "id": "3aP-o7PN9LfV"
      },
      "execution_count": null,
      "outputs": []
    },
    {
      "cell_type": "code",
      "source": [
        "# download the income data\n",
        "\n",
        "zip_code = pd.read_csv('https://raw.githubusercontent.com/carlosdgerez/machine_learning/main/mean_income_washington_by_zipcode.csv')\n",
        "zip_code.head()"
      ],
      "metadata": {
        "id": "X2r5D0Ltn_O0",
        "colab": {
          "base_uri": "https://localhost:8080/",
          "height": 206
        },
        "outputId": "379d0d8a-8b06-45d9-9cb7-ddef8959c1e5"
      },
      "execution_count": 21,
      "outputs": [
        {
          "output_type": "execute_result",
          "data": {
            "text/plain": [
              "   zip_code  mean_income\n",
              "0     98001       102586\n",
              "1     98002        70945\n",
              "2     98003        76753\n",
              "3     98004       210129\n",
              "4     98005       186020"
            ],
            "text/html": [
              "\n",
              "  <div id=\"df-eaa922d6-894d-4401-a690-a58d0ee6d734\">\n",
              "    <div class=\"colab-df-container\">\n",
              "      <div>\n",
              "<style scoped>\n",
              "    .dataframe tbody tr th:only-of-type {\n",
              "        vertical-align: middle;\n",
              "    }\n",
              "\n",
              "    .dataframe tbody tr th {\n",
              "        vertical-align: top;\n",
              "    }\n",
              "\n",
              "    .dataframe thead th {\n",
              "        text-align: right;\n",
              "    }\n",
              "</style>\n",
              "<table border=\"1\" class=\"dataframe\">\n",
              "  <thead>\n",
              "    <tr style=\"text-align: right;\">\n",
              "      <th></th>\n",
              "      <th>zip_code</th>\n",
              "      <th>mean_income</th>\n",
              "    </tr>\n",
              "  </thead>\n",
              "  <tbody>\n",
              "    <tr>\n",
              "      <th>0</th>\n",
              "      <td>98001</td>\n",
              "      <td>102586</td>\n",
              "    </tr>\n",
              "    <tr>\n",
              "      <th>1</th>\n",
              "      <td>98002</td>\n",
              "      <td>70945</td>\n",
              "    </tr>\n",
              "    <tr>\n",
              "      <th>2</th>\n",
              "      <td>98003</td>\n",
              "      <td>76753</td>\n",
              "    </tr>\n",
              "    <tr>\n",
              "      <th>3</th>\n",
              "      <td>98004</td>\n",
              "      <td>210129</td>\n",
              "    </tr>\n",
              "    <tr>\n",
              "      <th>4</th>\n",
              "      <td>98005</td>\n",
              "      <td>186020</td>\n",
              "    </tr>\n",
              "  </tbody>\n",
              "</table>\n",
              "</div>\n",
              "      <button class=\"colab-df-convert\" onclick=\"convertToInteractive('df-eaa922d6-894d-4401-a690-a58d0ee6d734')\"\n",
              "              title=\"Convert this dataframe to an interactive table.\"\n",
              "              style=\"display:none;\">\n",
              "        \n",
              "  <svg xmlns=\"http://www.w3.org/2000/svg\" height=\"24px\"viewBox=\"0 0 24 24\"\n",
              "       width=\"24px\">\n",
              "    <path d=\"M0 0h24v24H0V0z\" fill=\"none\"/>\n",
              "    <path d=\"M18.56 5.44l.94 2.06.94-2.06 2.06-.94-2.06-.94-.94-2.06-.94 2.06-2.06.94zm-11 1L8.5 8.5l.94-2.06 2.06-.94-2.06-.94L8.5 2.5l-.94 2.06-2.06.94zm10 10l.94 2.06.94-2.06 2.06-.94-2.06-.94-.94-2.06-.94 2.06-2.06.94z\"/><path d=\"M17.41 7.96l-1.37-1.37c-.4-.4-.92-.59-1.43-.59-.52 0-1.04.2-1.43.59L10.3 9.45l-7.72 7.72c-.78.78-.78 2.05 0 2.83L4 21.41c.39.39.9.59 1.41.59.51 0 1.02-.2 1.41-.59l7.78-7.78 2.81-2.81c.8-.78.8-2.07 0-2.86zM5.41 20L4 18.59l7.72-7.72 1.47 1.35L5.41 20z\"/>\n",
              "  </svg>\n",
              "      </button>\n",
              "      \n",
              "  <style>\n",
              "    .colab-df-container {\n",
              "      display:flex;\n",
              "      flex-wrap:wrap;\n",
              "      gap: 12px;\n",
              "    }\n",
              "\n",
              "    .colab-df-convert {\n",
              "      background-color: #E8F0FE;\n",
              "      border: none;\n",
              "      border-radius: 50%;\n",
              "      cursor: pointer;\n",
              "      display: none;\n",
              "      fill: #1967D2;\n",
              "      height: 32px;\n",
              "      padding: 0 0 0 0;\n",
              "      width: 32px;\n",
              "    }\n",
              "\n",
              "    .colab-df-convert:hover {\n",
              "      background-color: #E2EBFA;\n",
              "      box-shadow: 0px 1px 2px rgba(60, 64, 67, 0.3), 0px 1px 3px 1px rgba(60, 64, 67, 0.15);\n",
              "      fill: #174EA6;\n",
              "    }\n",
              "\n",
              "    [theme=dark] .colab-df-convert {\n",
              "      background-color: #3B4455;\n",
              "      fill: #D2E3FC;\n",
              "    }\n",
              "\n",
              "    [theme=dark] .colab-df-convert:hover {\n",
              "      background-color: #434B5C;\n",
              "      box-shadow: 0px 1px 3px 1px rgba(0, 0, 0, 0.15);\n",
              "      filter: drop-shadow(0px 1px 2px rgba(0, 0, 0, 0.3));\n",
              "      fill: #FFFFFF;\n",
              "    }\n",
              "  </style>\n",
              "\n",
              "      <script>\n",
              "        const buttonEl =\n",
              "          document.querySelector('#df-eaa922d6-894d-4401-a690-a58d0ee6d734 button.colab-df-convert');\n",
              "        buttonEl.style.display =\n",
              "          google.colab.kernel.accessAllowed ? 'block' : 'none';\n",
              "\n",
              "        async function convertToInteractive(key) {\n",
              "          const element = document.querySelector('#df-eaa922d6-894d-4401-a690-a58d0ee6d734');\n",
              "          const dataTable =\n",
              "            await google.colab.kernel.invokeFunction('convertToInteractive',\n",
              "                                                     [key], {});\n",
              "          if (!dataTable) return;\n",
              "\n",
              "          const docLinkHtml = 'Like what you see? Visit the ' +\n",
              "            '<a target=\"_blank\" href=https://colab.research.google.com/notebooks/data_table.ipynb>data table notebook</a>'\n",
              "            + ' to learn more about interactive tables.';\n",
              "          element.innerHTML = '';\n",
              "          dataTable['output_type'] = 'display_data';\n",
              "          await google.colab.output.renderOutput(dataTable, element);\n",
              "          const docLink = document.createElement('div');\n",
              "          docLink.innerHTML = docLinkHtml;\n",
              "          element.appendChild(docLink);\n",
              "        }\n",
              "      </script>\n",
              "    </div>\n",
              "  </div>\n",
              "  "
            ]
          },
          "metadata": {},
          "execution_count": 21
        }
      ]
    },
    {
      "cell_type": "code",
      "source": [
        "# rename the columns as the one in clean data to use merge by this column\n",
        "zip_code.rename(columns={'zip_code': 'zipcode'}, inplace = True)"
      ],
      "metadata": {
        "id": "g2j35oUX03j2"
      },
      "execution_count": 22,
      "outputs": []
    },
    {
      "cell_type": "code",
      "source": [
        "# Use merge to get the data in the dataframe\n",
        "new_clean_data = pd.merge(clean_data, zip_code, how= 'left', on= 'zipcode')"
      ],
      "metadata": {
        "id": "C2fdPIL_zuDH"
      },
      "execution_count": 23,
      "outputs": []
    },
    {
      "cell_type": "code",
      "source": [
        "# reorder the data to have the target price at the end\n",
        "column_to_move = new_clean_data.pop(\"mean_income\")\n",
        "\n",
        "# insert column with insert(location, column_name, column_value)\n",
        "\n",
        "new_clean_data.insert(19, \"mean_income\", column_to_move)\n"
      ],
      "metadata": {
        "id": "ACpaMHQJ3s_3"
      },
      "execution_count": 24,
      "outputs": []
    },
    {
      "cell_type": "markdown",
      "source": [
        "# Run the model with the best parameters to see if improve the performance"
      ],
      "metadata": {
        "id": "xp6BzqQQ-Ebj"
      }
    },
    {
      "cell_type": "code",
      "source": [
        ""
      ],
      "metadata": {
        "id": "FZMiFluI-ONE"
      },
      "execution_count": 24,
      "outputs": []
    },
    {
      "cell_type": "code",
      "source": [
        "# get a training set: a X as with the features to relate and a y with the  target \n",
        "X = new_clean_data.iloc[:,0:-1]\n",
        "y = new_clean_data.price\n"
      ],
      "metadata": {
        "id": "16IvEtI3-XI6"
      },
      "execution_count": 27,
      "outputs": []
    },
    {
      "cell_type": "code",
      "source": [
        "# Start spliting the data and import libraries\n",
        "\n",
        "\n",
        "\n",
        "X_train, X_test, y_train, y_test = train_test_split(\n",
        "    X, y, test_size=.30, random_state=1)\n"
      ],
      "metadata": {
        "id": "ZEM8ek9N-hwv"
      },
      "execution_count": 28,
      "outputs": []
    },
    {
      "cell_type": "code",
      "source": [
        "#  xgboost regresor\n",
        "\n",
        "\n",
        "# createn instance and fit the model\n",
        "\n",
        "clf2 = xgboost.XGBRegressor(random_state=5, max_depth= 4, n_estimators= 900, learning_rate= 0.1, verbosity = 0, n_jobs=-1).fit(X_train, y_train)\n",
        "y_pred = clf2.predict(X_test)\n",
        "\n",
        "# This is how to generate a regresion report ( for regresion )\n",
        "print(\"Mean absolute error in dollars =\", round(\n",
        "    sm.mean_absolute_error(y_test, y_pred), 2))\n",
        "print(\"Mean squared error =\", round(\n",
        "    sm.mean_squared_error(y_test, y_pred), 2))\n",
        "print(\"Median absolute error =\", round(\n",
        "    sm.median_absolute_error(y_test, y_pred), 2))\n",
        "print(\"Explain variance score =\", round(\n",
        "    sm.explained_variance_score(y_test, y_pred), 2))\n",
        "print(\"R2 score =\", round( sm.r2_score(y_test, y_pred),4))\n",
        "print( \"ROOT Mean squared error in dollars = \", \n",
        "    round(sm.mean_squared_error(y_test, y_pred, squared=False \n",
        ")))\n",
        "\n"
      ],
      "metadata": {
        "colab": {
          "base_uri": "https://localhost:8080/"
        },
        "outputId": "f6a553db-2213-4fc7-875d-cc5d84304efe",
        "id": "RPOcjO2a-r_I"
      },
      "execution_count": 31,
      "outputs": [
        {
          "output_type": "stream",
          "name": "stdout",
          "text": [
            "Mean absolute error in dollars = 62444.12\n",
            "Mean squared error = 12296249175.04\n",
            "Median absolute error = 37460.83\n",
            "Explain variance score = 0.91\n",
            "R2 score = 0.9078\n",
            "ROOT Mean squared error in dollars =  110888\n"
          ]
        }
      ]
    },
    {
      "cell_type": "code",
      "source": [
        "\n",
        "\n",
        "#  EVALUATION OF THE MODEL \n",
        "\n",
        "#Predict the response for test dataset with Random forest\n",
        "\n",
        "\n",
        "# Features importances in a model this block can be run with diferent models to compare\n",
        "\n",
        "\n",
        "feat_imports = (pd.DataFrame({\"feature names\": X_train.columns,\n",
        "                              \"importances\": clf2.feature_importances_})\n",
        "                .sort_values(\"importances\", ascending=False))\n",
        "\n",
        "feat_imports.reset_index(drop= True, inplace= True)\n",
        "\n"
      ],
      "metadata": {
        "id": "LEDMz3t5MdFv"
      },
      "execution_count": 40,
      "outputs": []
    },
    {
      "cell_type": "code",
      "source": [
        "new_features = feat_imports['feature names'][0:10]"
      ],
      "metadata": {
        "id": "ws0SSmTCNTOG"
      },
      "execution_count": 43,
      "outputs": []
    },
    {
      "cell_type": "code",
      "source": [
        ""
      ],
      "metadata": {
        "id": "AZk5fBI6Oey4"
      },
      "execution_count": null,
      "outputs": []
    },
    {
      "cell_type": "markdown",
      "source": [
        "# Run model with less features"
      ],
      "metadata": {
        "id": "B07Dh06yOfIN"
      }
    },
    {
      "cell_type": "code",
      "source": [
        ""
      ],
      "metadata": {
        "id": "XM0qVzeBOjkW"
      },
      "execution_count": null,
      "outputs": []
    },
    {
      "cell_type": "code",
      "source": [
        "# get a training set: a X as with the features to relate and a y with the  target \n",
        "X = new_clean_data[new_features]\n",
        "y = new_clean_data.price\n"
      ],
      "metadata": {
        "id": "6fd2KT16OrtA"
      },
      "execution_count": 48,
      "outputs": []
    },
    {
      "cell_type": "code",
      "source": [
        "# Start spliting the data and import libraries\n",
        "\n",
        "\n",
        "\n",
        "X_train, X_test, y_train, y_test = train_test_split(\n",
        "    X, y, test_size=.30, random_state=1)\n"
      ],
      "metadata": {
        "id": "C5AL7fiXPQiJ"
      },
      "execution_count": 49,
      "outputs": []
    },
    {
      "cell_type": "code",
      "source": [
        "#  xgboost regresor\n",
        "\n",
        "\n",
        "# createn instance and fit the model\n",
        "\n",
        "clf2 = xgboost.XGBRegressor(random_state=5, max_depth= 4, n_estimators= 900, learning_rate= 0.1, verbosity = 0, n_jobs=-1).fit(X_train, y_train)\n",
        "y_pred = clf2.predict(X_test)\n",
        "\n",
        "# This is how to generate a regresion report ( for regresion )\n",
        "print(\"Mean absolute error in dollars =\", round(\n",
        "    sm.mean_absolute_error(y_test, y_pred), 2))\n",
        "print(\"Mean squared error =\", round(\n",
        "    sm.mean_squared_error(y_test, y_pred), 2))\n",
        "print(\"Median absolute error =\", round(\n",
        "    sm.median_absolute_error(y_test, y_pred), 2))\n",
        "print(\"Explain variance score =\", round(\n",
        "    sm.explained_variance_score(y_test, y_pred), 2))\n",
        "print(\"R2 score =\", round( sm.r2_score(y_test, y_pred),4))\n",
        "print( \"ROOT Mean squared error in dollars = \", \n",
        "    round(sm.mean_squared_error(y_test, y_pred, squared=False \n",
        ")))\n",
        "\n"
      ],
      "metadata": {
        "colab": {
          "base_uri": "https://localhost:8080/"
        },
        "outputId": "37743369-96c1-4992-cfe4-124663a025ad",
        "id": "HFk2LL1XPVfK"
      },
      "execution_count": 50,
      "outputs": [
        {
          "output_type": "stream",
          "name": "stdout",
          "text": [
            "Mean absolute error in dollars = 68332.42\n",
            "Mean squared error = 15009879103.6\n",
            "Median absolute error = 41699.44\n",
            "Explain variance score = 0.89\n",
            "R2 score = 0.8875\n",
            "ROOT Mean squared error in dollars =  122515\n"
          ]
        }
      ]
    },
    {
      "cell_type": "markdown",
      "source": [
        "Reducing the name of columns by importances yield worst results"
      ],
      "metadata": {
        "id": "1Gi2GwwKPeIQ"
      }
    },
    {
      "cell_type": "code",
      "source": [
        ""
      ],
      "metadata": {
        "id": "FsduP4V5PoQX"
      },
      "execution_count": null,
      "outputs": []
    },
    {
      "cell_type": "markdown",
      "source": [
        "Graphing importances with altair. "
      ],
      "metadata": {
        "id": "I3kIK9jUPs9Y"
      }
    },
    {
      "cell_type": "code",
      "source": [
        ""
      ],
      "metadata": {
        "id": "EZQWwSTLPys8"
      },
      "execution_count": null,
      "outputs": []
    }
  ]
}
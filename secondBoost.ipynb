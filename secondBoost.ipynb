{
  "nbformat": 4,
  "nbformat_minor": 0,
  "metadata": {
    "colab": {
      "name": "secondBoost.ipynb",
      "provenance": [],
      "authorship_tag": "ABX9TyN2xBgFIJIdWV8BuuM0TkSk",
      "include_colab_link": true
    },
    "kernelspec": {
      "name": "python3",
      "display_name": "Python 3"
    },
    "language_info": {
      "name": "python"
    }
  },
  "cells": [
    {
      "cell_type": "markdown",
      "metadata": {
        "id": "view-in-github",
        "colab_type": "text"
      },
      "source": [
        "<a href=\"https://colab.research.google.com/github/carlosdgerez/machine_learning/blob/main/secondBoost.ipynb\" target=\"_parent\"><img src=\"https://colab.research.google.com/assets/colab-badge.svg\" alt=\"Open In Colab\"/></a>"
      ]
    },
    {
      "cell_type": "code",
      "metadata": {
        "id": "mA0HPVmIBT4C"
      },
      "source": [
        "import pandas as pd\n",
        "\n",
        "housing = pd.read_csv('https://raw.githubusercontent.com/byui-cse/cse450-course/master/data/housing.csv')"
      ],
      "execution_count": 6,
      "outputs": []
    },
    {
      "cell_type": "code",
      "metadata": {
        "id": "CVSfaqgKPzE2"
      },
      "source": [
        "#Changing date to be in the same format as the rest of the years features\n",
        "import datetime\n",
        "housing['date'] = pd.DatetimeIndex(housing['date']).year\n",
        "\n"
      ],
      "execution_count": 7,
      "outputs": []
    },
    {
      "cell_type": "code",
      "source": [
        "# selecting clean dat including lat and long\n",
        "clean_data = housing.drop(['id'], axis = 1)"
      ],
      "metadata": {
        "id": "xX1Nfeyq6OAC"
      },
      "execution_count": 8,
      "outputs": []
    },
    {
      "cell_type": "code",
      "source": [
        "\n",
        "# change date name to something more descriptive\n",
        "clean_data.rename(columns={'date': 'sale_date'}, inplace=True)"
      ],
      "metadata": {
        "id": "HDYIAVdp5t5k"
      },
      "execution_count": 9,
      "outputs": []
    },
    {
      "cell_type": "code",
      "source": [
        "# get a training set: a X as with the features to relate and a y with the  target \n",
        "X = clean_data.iloc[:,1:-1]\n",
        "y = clean_data.price\n"
      ],
      "metadata": {
        "id": "P5OnhP86xrTs"
      },
      "execution_count": 10,
      "outputs": []
    },
    {
      "cell_type": "code",
      "source": [
        "# Start spliting the data and import libraries\n",
        "\n",
        "#import train split\n",
        "from sklearn.model_selection import train_test_split\n",
        "\n",
        "X_train, X_test, y_train, y_test = train_test_split(\n",
        "    X, y, test_size=.30, random_state=1)\n"
      ],
      "metadata": {
        "id": "v8fGWY9dzEik"
      },
      "execution_count": 11,
      "outputs": []
    },
    {
      "cell_type": "code",
      "source": [
        "#  xgboost regresor\n",
        "import xgboost\n",
        "from sklearn import metrics as sm\n",
        "\n",
        "# createn instance and fit the model\n",
        "\n",
        "clf2 = xgboost.XGBRegressor(random_state=1, max_depth= 4, n_estimators= 600, learning_rate= 0.1, verbosity = 0).fit(X_train, y_train)\n",
        "y_pred = clf2.predict(X_test)\n",
        "\n",
        "# This is how to generate a regresion report ( for regresion )\n",
        "print(\"Mean absolute error =\", round(\n",
        "    sm.mean_absolute_error(y_test, y_pred), 2))\n",
        "print(\"Mean squared error =\", round(\n",
        "    sm.mean_squared_error(y_test, y_pred), 2))\n",
        "print(\"Median absolute error =\", round(\n",
        "    sm.median_absolute_error(y_test, y_pred), 2))\n",
        "print(\"Explain variance score =\", round(\n",
        "    sm.explained_variance_score(y_test, y_pred), 2))\n",
        "print(\"R2 score =\", round(sm.r2_score(y_test, y_pred), 2))\n",
        "print( \"ROOT Mean squared error = \", round(\n",
        "    sm.mean_squared_error(y_test, y_pred, squared=False )\n",
        "))\n"
      ],
      "metadata": {
        "colab": {
          "base_uri": "https://localhost:8080/"
        },
        "id": "eiGqpWuA400K",
        "outputId": "a77c6efa-04f9-42c8-a607-b2517c942ad4"
      },
      "execution_count": 48,
      "outputs": [
        {
          "output_type": "stream",
          "name": "stdout",
          "text": [
            "Mean absolute error = 65020.12\n",
            "Mean squared error = 12971181206.34\n",
            "Median absolute error = 39708.31\n",
            "Explain variance score = 0.9\n",
            "R2 score = 0.9\n",
            "ROOT Mean squared error =  113891\n"
          ]
        }
      ]
    },
    {
      "cell_type": "markdown",
      "source": [
        "## Searching multiple parameters simultaneously"
      ],
      "metadata": {
        "id": "CJLxrGlHUOas"
      }
    },
    {
      "cell_type": "code",
      "source": [
        "from sklearn.model_selection import GridSearchCV"
      ],
      "metadata": {
        "id": "41I3S95HYaED"
      },
      "execution_count": 41,
      "outputs": []
    },
    {
      "cell_type": "code",
      "source": [
        "# create list with the value for the parameters check\n",
        "\n",
        "estimators = [100, 200, 300, 400, 500, 600,700, 800, 900]\n",
        "depth = range(1,5)\n"
      ],
      "metadata": {
        "id": "rOI_gcViUi4S"
      },
      "execution_count": 49,
      "outputs": []
    },
    {
      "cell_type": "code",
      "source": [
        "# Create the parameters grid dictionary\n",
        "param_grid = dict(n_estimators=estimators, max_depth= depth)\n"
      ],
      "metadata": {
        "id": "6pxzz6zIWj2i"
      },
      "execution_count": 43,
      "outputs": []
    },
    {
      "cell_type": "code",
      "source": [
        "# instatiate the grid\n",
        "grid = GridSearchCV(clf2, param_grid, cv=10, scoring='r2')"
      ],
      "metadata": {
        "id": "uPUckwKZZoZj"
      },
      "execution_count": 44,
      "outputs": []
    },
    {
      "cell_type": "code",
      "source": [
        "# fit the grid with data remember just X and y THIS CODE TAKES AT LEAST 15 MINUTES TO RUN\n",
        "grid.fit(X,y)"
      ],
      "metadata": {
        "colab": {
          "base_uri": "https://localhost:8080/"
        },
        "id": "AQi5hJjgaBam",
        "outputId": "47b759e0-f746-4fbf-e4e8-c43cf27d71c8"
      },
      "execution_count": 45,
      "outputs": [
        {
          "output_type": "execute_result",
          "data": {
            "text/plain": [
              "GridSearchCV(cv=10, estimator=XGBRegressor(random_state=1, verbosity=0),\n",
              "             param_grid={'max_depth': range(1, 4),\n",
              "                         'n_estimators': [100, 200, 300, 400, 500, 600, 700,\n",
              "                                          800, 900]},\n",
              "             scoring='r2')"
            ]
          },
          "metadata": {},
          "execution_count": 45
        }
      ]
    },
    {
      "cell_type": "code",
      "source": [
        "print(grid.best_score_)\n",
        "print (grid.best_params_)"
      ],
      "metadata": {
        "colab": {
          "base_uri": "https://localhost:8080/"
        },
        "id": "43uy3WK3d-Fs",
        "outputId": "8fa93006-bb48-449d-a602-694b6d25663b"
      },
      "execution_count": 46,
      "outputs": [
        {
          "output_type": "stream",
          "name": "stdout",
          "text": [
            "0.8946050187521459\n",
            "{'max_depth': 3, 'n_estimators': 900}\n"
          ]
        }
      ]
    },
    {
      "cell_type": "code",
      "source": [
        "from sklearn.model_selection import RandomizedSearchCV"
      ],
      "metadata": {
        "id": "4Poxw5Koewp5"
      },
      "execution_count": 50,
      "outputs": []
    },
    {
      "cell_type": "code",
      "source": [
        "param_dist = dict(n_estimators=estimators, max_depth = depth)\n",
        "rand = RandomizedSearchCV (clf2, param_dist, cv=10, scoring='r2', n_iter=10, random_state=5)\n",
        "rand.fit(X,y)\n",
        "rand.grid_scores_"
      ],
      "metadata": {
        "id": "ZNLz37SAfKE9"
      },
      "execution_count": null,
      "outputs": []
    },
    {
      "cell_type": "code",
      "source": [
        "print (rand.best_score_)\n",
        "print (rand.best_params_)"
      ],
      "metadata": {
        "id": "g47Qv69OgKkD"
      },
      "execution_count": null,
      "outputs": []
    }
  ]
}
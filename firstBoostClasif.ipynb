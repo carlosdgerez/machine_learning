{
  "nbformat": 4,
  "nbformat_minor": 0,
  "metadata": {
    "colab": {
      "name": "firstBoostClasif.ipynb",
      "provenance": [],
      "authorship_tag": "ABX9TyOfFTnK/pWM4TH8sPQEHn3V",
      "include_colab_link": true
    },
    "kernelspec": {
      "name": "python3",
      "display_name": "Python 3"
    },
    "language_info": {
      "name": "python"
    }
  },
  "cells": [
    {
      "cell_type": "markdown",
      "metadata": {
        "id": "view-in-github",
        "colab_type": "text"
      },
      "source": [
        "<a href=\"https://colab.research.google.com/github/carlosdgerez/machine_learning/blob/main/firstBoostClasif.ipynb\" target=\"_parent\"><img src=\"https://colab.research.google.com/assets/colab-badge.svg\" alt=\"Open In Colab\"/></a>"
      ]
    },
    {
      "cell_type": "code",
      "metadata": {
        "id": "mA0HPVmIBT4C"
      },
      "source": [
        "import pandas as pd\n",
        "\n",
        "housing = pd.read_csv('https://raw.githubusercontent.com/byui-cse/cse450-course/master/data/housing.csv')"
      ],
      "execution_count": 1,
      "outputs": []
    },
    {
      "cell_type": "code",
      "metadata": {
        "id": "CVSfaqgKPzE2"
      },
      "source": [
        "#Changing date to be in the same format as the rest of the years features\n",
        "import datetime\n",
        "housing['date'] = pd.DatetimeIndex(housing['date']).year\n",
        "\n"
      ],
      "execution_count": 2,
      "outputs": []
    },
    {
      "cell_type": "code",
      "source": [
        "# selecting the data for the model ( first approach with all data to set a base to compare)\n",
        "\n",
        "# drop several columns first \n",
        "clean_data = housing.drop(['id', 'lat', 'long'], axis = 1)\n",
        "\n",
        "# change date name to something more descriptive\n",
        "clean_data.rename(columns={'date': 'sale_date'}, inplace=True)"
      ],
      "metadata": {
        "id": "-wnALatPuJNQ"
      },
      "execution_count": 6,
      "outputs": []
    },
    {
      "cell_type": "code",
      "source": [
        "clean_data.head()"
      ],
      "metadata": {
        "id": "SsR69rGNwBXD"
      },
      "execution_count": null,
      "outputs": []
    }
  ]
}
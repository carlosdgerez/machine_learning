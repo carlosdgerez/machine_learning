{
  "nbformat": 4,
  "nbformat_minor": 0,
  "metadata": {
    "colab": {
      "name": "jackLondon.ipynb",
      "provenance": [],
      "authorship_tag": "ABX9TyMWfnM9l1Q2MEL0ls/cZ61C",
      "include_colab_link": true
    },
    "kernelspec": {
      "name": "python3",
      "display_name": "Python 3"
    },
    "language_info": {
      "name": "python"
    },
    "accelerator": "GPU",
    "gpuClass": "standard"
  },
  "cells": [
    {
      "cell_type": "markdown",
      "metadata": {
        "id": "view-in-github",
        "colab_type": "text"
      },
      "source": [
        "<a href=\"https://colab.research.google.com/github/carlosdgerez/machine_learning/blob/main/module6/jackLondon.ipynb\" target=\"_parent\"><img src=\"https://colab.research.google.com/assets/colab-badge.svg\" alt=\"Open In Colab\"/></a>"
      ]
    },
    {
      "cell_type": "code",
      "execution_count": null,
      "metadata": {
        "id": "xbLHRNi3hsGs"
      },
      "outputs": [],
      "source": [
        ""
      ]
    },
    {
      "cell_type": "code",
      "execution_count": 1,
      "metadata": {
        "id": "XtiXE04uGB_U"
      },
      "outputs": [],
      "source": [
        "# Import libraries\n",
        "import tensorflow as tf\n",
        "from tensorflow.keras.layers.experimental import preprocessing\n",
        "\n",
        "import numpy as np\n",
        "import os\n",
        "import time"
      ]
    },
    {
      "cell_type": "markdown",
      "metadata": {
        "id": "qv4r-dKnSRKz"
      },
      "source": [
        "## I. Parse Text Sources\n",
        "First we'll load our text sources and create our vocabulary lists and encoders. \n",
        "\n",
        "There are ways we could do this in pure python, but using the tensorflow data structures and libraries allow us to keep things super-optimized."
      ]
    },
    {
      "cell_type": "code",
      "execution_count": 2,
      "metadata": {
        "colab": {
          "base_uri": "https://localhost:8080/"
        },
        "id": "H8RbnIjwHGoR",
        "outputId": "4c330c44-6054-4027-d84a-ead1abc13693"
      },
      "outputs": [
        {
          "output_type": "stream",
          "name": "stdout",
          "text": [
            "Downloading data from https://www.gutenberg.org/files/215/215-0.txt\n",
            "204800/200109 [==============================] - 0s 2us/step\n",
            "212992/200109 [===============================] - 0s 2us/step\n",
            "Length of text: 198823 characters\n"
          ]
        }
      ],
      "source": [
        "# Load file data\n",
        "path_to_file = tf.keras.utils.get_file('new.txt', 'https://www.gutenberg.org/files/215/215-0.txt')\n",
        "text = open(path_to_file, 'rb').read().decode(encoding='utf-8')\n",
        "print('Length of text: {} characters'.format(len(text)))"
      ]
    },
    {
      "cell_type": "code",
      "execution_count": 3,
      "metadata": {
        "colab": {
          "base_uri": "https://localhost:8080/"
        },
        "id": "2XRnt0XUHUrq",
        "outputId": "a7ccb5b7-402c-4691-8386-14d9c1a1a04b"
      },
      "outputs": [
        {
          "output_type": "stream",
          "name": "stdout",
          "text": [
            "﻿\r\n",
            "The Project Gutenberg EBook of The Call of the Wild, by Jack London\r\n",
            "\r\n",
            "This eBook is for the use of anyone anywhere in the United States and most\r\n",
            "other parts of the world at no cost and with almos\n"
          ]
        }
      ],
      "source": [
        "# Verify the first part of our data\n",
        "print(text[:200])"
      ]
    },
    {
      "cell_type": "code",
      "execution_count": 4,
      "metadata": {
        "colab": {
          "base_uri": "https://localhost:8080/"
        },
        "id": "2SLd7l0HP1Po",
        "outputId": "71438211-7bfb-487d-92d5-142a30286a28"
      },
      "outputs": [
        {
          "output_type": "stream",
          "name": "stdout",
          "text": [
            "93 unique characters\n",
            "['\\n', '\\r', ' ', '!', '\"', '#', '$', '%', \"'\", '(', ')', '*', ',', '-', '.', '/', '0', '1', '2', '3', '4', '5', '6', '7', '8', '9', ':', ';', '?', '@', 'A', 'B', 'C', 'D', 'E', 'F', 'G', 'H', 'I', 'J', 'K', 'L', 'M', 'N', 'O', 'P', 'Q', 'R', 'S', 'T', 'U', 'V', 'W', 'X', 'Y', '[', ']', '_', 'a', 'b', 'c', 'd', 'e', 'f', 'g', 'h', 'i', 'j', 'k', 'l', 'm', 'n', 'o', 'p', 'q', 'r', 's', 't', 'u', 'v', 'w', 'x', 'y', 'z', 'ç', 'ñ', 'œ', '—', '‘', '’', '“', '”', '\\ufeff']\n"
          ]
        }
      ],
      "source": [
        "# Now we'll get a list of the unique characters in the file. This will form the\n",
        "# vocabulary of our network. There may be some characters we want to remove from this \n",
        "# set as we refine the network.\n",
        "vocab = sorted(set(text))\n",
        "print('{} unique characters'.format(len(vocab)))\n",
        "print(vocab)"
      ]
    },
    {
      "cell_type": "code",
      "execution_count": 5,
      "metadata": {
        "id": "NtjOxL7wQibb"
      },
      "outputs": [],
      "source": [
        "# Next, we'll encode encode these characters into numbers so we can use them\n",
        "# with our neural network, then we'll create some mappings between the characters\n",
        "# and their numeric representations\n",
        "ids_from_chars = preprocessing.StringLookup(vocabulary=list(vocab))\n",
        "chars_from_ids = tf.keras.layers.experimental.preprocessing.StringLookup(vocabulary=ids_from_chars.get_vocabulary(), invert=True)\n",
        "\n",
        "# Here's a little helper function that we can use to turn a sequence of ids\n",
        "# back into a string:\n",
        "# turn them into a string:\n",
        "def text_from_ids(ids):\n",
        "  joinedTensor = tf.strings.reduce_join(chars_from_ids(ids), axis=-1)\n",
        "  return joinedTensor.numpy().decode(\"utf-8\")"
      ]
    },
    {
      "cell_type": "code",
      "execution_count": 6,
      "metadata": {
        "colab": {
          "base_uri": "https://localhost:8080/"
        },
        "id": "52bkemreRw8q",
        "outputId": "a4980836-9592-4f96-94d1-29c516068937"
      },
      "outputs": [
        {
          "output_type": "execute_result",
          "data": {
            "text/plain": [
              "<tf.Tensor: shape=(5,), dtype=int64, numpy=array([50, 76, 79, 78, 66])>"
            ]
          },
          "metadata": {},
          "execution_count": 6
        }
      ],
      "source": [
        "# Now we'll verify that they work, by getting the code for \"A\", and then looking\n",
        "# that up in reverse\n",
        "testids = ids_from_chars([\"T\", \"r\", \"u\", \"t\", \"h\"])\n",
        "testids"
      ]
    },
    {
      "cell_type": "code",
      "execution_count": 7,
      "metadata": {
        "colab": {
          "base_uri": "https://localhost:8080/"
        },
        "id": "vGUnSHjtD_IJ",
        "outputId": "f405930f-9ef9-4670-f099-f7018f088e78"
      },
      "outputs": [
        {
          "output_type": "execute_result",
          "data": {
            "text/plain": [
              "<tf.Tensor: shape=(5,), dtype=string, numpy=array([b'T', b'r', b'u', b't', b'h'], dtype=object)>"
            ]
          },
          "metadata": {},
          "execution_count": 7
        }
      ],
      "source": [
        "chars_from_ids(testids)"
      ]
    },
    {
      "cell_type": "code",
      "execution_count": 8,
      "metadata": {
        "colab": {
          "base_uri": "https://localhost:8080/",
          "height": 35
        },
        "id": "8rghkpLLLjL5",
        "outputId": "7578ce15-2aaa-454e-b2cf-c46ef60060ed"
      },
      "outputs": [
        {
          "output_type": "execute_result",
          "data": {
            "text/plain": [
              "'Truth'"
            ],
            "application/vnd.google.colaboratory.intrinsic+json": {
              "type": "string"
            }
          },
          "metadata": {},
          "execution_count": 8
        }
      ],
      "source": [
        "testString = text_from_ids( testids )\n",
        "testString"
      ]
    },
    {
      "cell_type": "markdown",
      "metadata": {
        "id": "MRXMVqTcSpA0"
      },
      "source": [
        "## II. Construct our training data\n",
        "Next we need to construct our training data by building sentence chunks. Each chunk will consist of a sequence of characters and a corresponding \"next sequence\" of the same length showing what would happen if we move forward in the text. This \"next sequence\" becomes our target variable.\n",
        "\n",
        "For example, if this were our text:\n",
        "\n",
        "> It is a truth universally acknowledged, that a single man in possession\n",
        "of a good fortune, must be in want of a wife.\n",
        "\n",
        "And our sequence length was 10 with a step size of 1, our first chunk would be:\n",
        "\n",
        "* Sequence: `It is a tr`\n",
        "* Next Sequence: `t is a tru`\n",
        "\n",
        "Our second chunk would be:\n",
        "\n",
        "* Sequence: `t is a tru`\n",
        "* Next Word: ` is a trut`\n",
        "\n"
      ]
    },
    {
      "cell_type": "code",
      "execution_count": 9,
      "metadata": {
        "colab": {
          "base_uri": "https://localhost:8080/"
        },
        "id": "5PLJWOg2P_fE",
        "outputId": "3d8696fe-90b3-4d88-c3a2-232ca87f2f67"
      },
      "outputs": [
        {
          "output_type": "execute_result",
          "data": {
            "text/plain": [
              "<tf.Tensor: shape=(198823,), dtype=int64, numpy=array([93,  2,  1, ...,  1,  2,  1])>"
            ]
          },
          "metadata": {},
          "execution_count": 9
        }
      ],
      "source": [
        "# First, create a stream of encoded integers from our text\n",
        "all_ids = ids_from_chars(tf.strings.unicode_split(text, 'UTF-8'))\n",
        "all_ids"
      ]
    },
    {
      "cell_type": "code",
      "execution_count": 10,
      "metadata": {
        "id": "-nBqVY6pFpZs"
      },
      "outputs": [],
      "source": [
        "# Now, convert that into a tensorflow dataset\n",
        "ids_dataset = tf.data.Dataset.from_tensor_slices(all_ids)"
      ]
    },
    {
      "cell_type": "code",
      "execution_count": 11,
      "metadata": {
        "id": "8Fr28CJxUBtG"
      },
      "outputs": [],
      "source": [
        "# Finally, let's batch these sequences up into chunks for our training\n",
        "seq_length = 1200\n",
        "sequences = ids_dataset.batch(seq_length+1, drop_remainder=True)\n",
        "\n",
        "# This function will generate our sequence pairs:\n",
        "def split_input_target(sequence):\n",
        "    input_text = sequence[:-1]\n",
        "    target_text = sequence[1:]\n",
        "    return input_text, target_text\n",
        "\n",
        "# Call the function for every sequence in our list to create a new dataset\n",
        "# of input->target pairs\n",
        "dataset = sequences.map(split_input_target)"
      ]
    },
    {
      "cell_type": "code",
      "execution_count": 12,
      "metadata": {
        "colab": {
          "base_uri": "https://localhost:8080/"
        },
        "id": "poNVukmsUFkq",
        "outputId": "09bc5a21-3c08-4bbe-aa71-7f04898af94f"
      },
      "outputs": [
        {
          "output_type": "stream",
          "name": "stdout",
          "text": [
            "Input:  ﻿\r\n",
            "The Project Gutenberg EBook of The Call of the Wild, by Jack London\r\n",
            "\r\n",
            "This eBook is for the use of anyone anywhere in the United States and most\r\n",
            "other parts of the world at no cost and with almost no restrictions\r\n",
            "whatsoever.  You may copy it, give it away or re-use it under the terms of\r\n",
            "the Project Gutenberg License included with this eBook or online at\r\n",
            "www.gutenberg.org.  If you are not located in the United States, you'll have\r\n",
            "to check the laws of the country where you are located before using this ebook.\r\n",
            "\r\n",
            "Title: The Call of the Wild\r\n",
            "\r\n",
            "Author: Jack London\r\n",
            "\r\n",
            "Release Date: July 1, 2008 [EBook #215]\r\n",
            "Last updated: August 30, 2019\r\n",
            "\r\n",
            "Language: English\r\n",
            "\r\n",
            "Character set encoding: UTF-8\r\n",
            "\r\n",
            "*** START OF THIS PROJECT GUTENBERG EBOOK THE CALL OF THE WILD ***\r\n",
            "\r\n",
            "\r\n",
            "\r\n",
            "\r\n",
            "Produced by Ryan,\n",
            "--------\n",
            "Target:  \r\n",
            "The Project Gutenberg EBook of The Call of the Wild, by Jack London\r\n",
            "\r\n",
            "This eBook is for the use of anyone anywhere in the United States and most\r\n",
            "other parts of the world at no cost and with almost no restrictions\r\n",
            "whatsoever.  You may copy it, give it away or re-use it under the terms of\r\n",
            "the Project Gutenberg License included with this eBook or online at\r\n",
            "www.gutenberg.org.  If you are not located in the United States, you'll have\r\n",
            "to check the laws of the country where you are located before using this ebook.\r\n",
            "\r\n",
            "Title: The Call of the Wild\r\n",
            "\r\n",
            "Author: Jack London\r\n",
            "\r\n",
            "Release Date: July 1, 2008 [EBook #215]\r\n",
            "Last updated: August 30, 2019\r\n",
            "\r\n",
            "Language: English\r\n",
            "\r\n",
            "Character set encoding: UTF-8\r\n",
            "\r\n",
            "*** START OF THIS PROJECT GUTENBERG EBOOK THE CALL OF THE WILD ***\r\n",
            "\r\n",
            "\r\n",
            "\r\n",
            "\r\n",
            "Produced by Ryan, \n"
          ]
        }
      ],
      "source": [
        "# Verify our sequences\n",
        "for input_example, target_example in  dataset.take(1):\n",
        "    print(\"Input: \", text_from_ids(input_example))\n",
        "    print(\"--------\")\n",
        "    print(\"Target: \", text_from_ids(target_example))"
      ]
    },
    {
      "cell_type": "code",
      "execution_count": 13,
      "metadata": {
        "colab": {
          "base_uri": "https://localhost:8080/"
        },
        "id": "QDdr6xfZYa0o",
        "outputId": "fd1e1ea3-a170-4c77-e556-53fea02d7c2e"
      },
      "outputs": [
        {
          "output_type": "execute_result",
          "data": {
            "text/plain": [
              "<PrefetchDataset element_spec=(TensorSpec(shape=(64, 800), dtype=tf.int64, name=None), TensorSpec(shape=(64, 800), dtype=tf.int64, name=None))>"
            ]
          },
          "metadata": {},
          "execution_count": 13
        }
      ],
      "source": [
        "# Finally, we'll randomize the sequences so that we don't just memorize the books\n",
        "# in the order they were written, then build a new streaming dataset from that.\n",
        "# Using a streaming dataset allows us to pass the data to our network bit by bit,\n",
        "# rather than keeping it all in memory. We'll set it to figure out how much data\n",
        "# to prefetch in the background.\n",
        "\n",
        "BATCH_SIZE = 64\n",
        "BUFFER_SIZE = 10000\n",
        "\n",
        "dataset = (\n",
        "    dataset\n",
        "    .shuffle(BUFFER_SIZE)\n",
        "    .batch(BATCH_SIZE, drop_remainder=True)\n",
        "    .prefetch(tf.data.experimental.AUTOTUNE))\n",
        "\n",
        "dataset"
      ]
    },
    {
      "cell_type": "markdown",
      "metadata": {
        "id": "0VQ-KjEeZMzd"
      },
      "source": [
        "## III. Build the model\n",
        "\n",
        "Next, we'll build our model. Up until this point, you've been using the Keras symbolic, or imperative API for creating your models. Doing something like:\n",
        "\n",
        "    model = tf.keras.models.Sequentla()\n",
        "    model.add(tf.keras.layers.Dense(80, activation='relu))\n",
        "    etc...\n",
        "\n",
        "However, tensorflow has another way to build models called the Functional API, which gives us a lot more control over what happens inside the model. You can read more about [the differences and when to use each here](https://blog.tensorflow.org/2019/01/what-are-symbolic-and-imperative-apis.html).\n",
        "\n",
        "We'll use the functional API for our RNN in this example. This will involve defining our model as a custom subclass of `tf.keras.Model`.\n",
        "\n",
        "If you're not familiar with classes in python, you might want to review [this quick tutorial](https://www.w3schools.com/python/python_classes.asp), as well as [this one on class inheritance](https://www.w3schools.com/python/python_inheritance.asp).\n",
        "\n",
        "Using a functional model is important for our situation because we're not just training it to predict a single character for a single sequence, but as we make predictions with it, we need it to remember those predictions as use that memory as it makes new predictions.\n"
      ]
    },
    {
      "cell_type": "code",
      "execution_count": 14,
      "metadata": {
        "id": "Fj4uh9y-Y9mx"
      },
      "outputs": [],
      "source": [
        "# Create our custom model. Given a sequence of characters, this\n",
        "# model's job is to predict what character should come next.\n",
        "class AustenTextModel(tf.keras.Model):\n",
        "\n",
        "  # This is our class constructor method, it will be executed when\n",
        "  # we first create an instance of the class \n",
        "  def __init__(self, vocab_size, embedding_dim, rnn_units):\n",
        "    super().__init__(self)\n",
        "\n",
        "    # Our model will have three layers:\n",
        "    \n",
        "    # 1. An embedding layer that handles the encoding of our vocabulary into\n",
        "    #    a vector of values suitable for a neural network\n",
        "    self.embedding = tf.keras.layers.Embedding(vocab_size, embedding_dim)\n",
        "\n",
        "    # 2. A GRU layer that handles the \"memory\" aspects of our RNN. If you're\n",
        "    #    wondering why we use GRU instead of LSTM, and whether LSTM is better,\n",
        "    #    take a look at this article: https://datascience.stackexchange.com/questions/14581/when-to-use-gru-over-lstm\n",
        "    #    then consider trying out LSTM instead (or in addition to!)\n",
        "    self.gru = tf.keras.layers.GRU(rnn_units, return_sequences=True, return_state=True)\n",
        "    #self.gruSecond = tf.keras.layers.GRU(rnn_units, return_sequences=True, return_state=True)\n",
        "    # 3. Our output layer that will give us a set of probabilities for each\n",
        "    #    character in our vocabulary.\n",
        "    self.dense = tf.keras.layers.Dense(vocab_size)\n",
        "\n",
        "  # This function will be executed for each epoch of our training. Here\n",
        "  # we will manually feed information from one layer of our network to the \n",
        "  # next.\n",
        "  def call(self, inputs, states=None, return_state=False, training=False):\n",
        "    x = inputs\n",
        "\n",
        "    # 1. Feed the inputs into the embedding layer, and tell it if we are\n",
        "    #    training or predicting\n",
        "    x = self.embedding(x, training=training)\n",
        "\n",
        "    # 2. If we don't have any state in memory yet, get the initial random state\n",
        "    #    from our GRUI layer.\n",
        "    if states is None:\n",
        "      states = self.gru.get_initial_state(x)\n",
        "    \n",
        "    # 3. Now, feed the vectorized input along with the current state of memory\n",
        "    #    into the gru layer.\n",
        "    x, states = self.gru(x, initial_state=states, training=training)\n",
        "    #x, states = self.gruSecond(x, initial_state=states, training=training)\n",
        "    # 4. Finally, pass the results on to the dense layer\n",
        "    x = self.dense(x, training=training)\n",
        "\n",
        "    # 5. Return the results\n",
        "    if return_state:\n",
        "      return x, states\n",
        "    else: \n",
        "      return x"
      ]
    },
    {
      "cell_type": "code",
      "execution_count": 15,
      "metadata": {
        "id": "UA2C6pxZc4De"
      },
      "outputs": [],
      "source": [
        "# Create an instance of our model\n",
        "vocab_size=len(ids_from_chars.get_vocabulary())\n",
        "embedding_dim = 256\n",
        "rnn_units = 1024\n",
        "\n",
        "model = AustenTextModel(vocab_size, embedding_dim, rnn_units)"
      ]
    },
    {
      "cell_type": "code",
      "execution_count": 16,
      "metadata": {
        "colab": {
          "base_uri": "https://localhost:8080/"
        },
        "id": "C67kN7YAdfSf",
        "outputId": "138f725e-15d5-4db3-e1b1-2ef2796fc2a9"
      },
      "outputs": [
        {
          "output_type": "stream",
          "name": "stdout",
          "text": [
            "(64, 800, 94) # (batch_size, sequence_length, vocab_size)\n"
          ]
        }
      ],
      "source": [
        "# Verify the output of our model is correct by running one sample through\n",
        "# This will also compile the model for us. This step will take a bit.\n",
        "for input_example_batch, target_example_batch in dataset.take(1):\n",
        "    example_batch_predictions = model(input_example_batch)\n",
        "    print(example_batch_predictions.shape, \"# (batch_size, sequence_length, vocab_size)\")\n"
      ]
    },
    {
      "cell_type": "code",
      "execution_count": 17,
      "metadata": {
        "colab": {
          "base_uri": "https://localhost:8080/"
        },
        "id": "qJGL8gCWdsiu",
        "outputId": "7c3c3f05-ff53-4160-a186-21839b819ddc"
      },
      "outputs": [
        {
          "output_type": "stream",
          "name": "stdout",
          "text": [
            "Model: \"austen_text_model\"\n",
            "_________________________________________________________________\n",
            " Layer (type)                Output Shape              Param #   \n",
            "=================================================================\n",
            " embedding (Embedding)       multiple                  24064     \n",
            "                                                                 \n",
            " gru (GRU)                   multiple                  3938304   \n",
            "                                                                 \n",
            " dense (Dense)               multiple                  96350     \n",
            "                                                                 \n",
            "=================================================================\n",
            "Total params: 4,058,718\n",
            "Trainable params: 4,058,718\n",
            "Non-trainable params: 0\n",
            "_________________________________________________________________\n"
          ]
        }
      ],
      "source": [
        "# Now let's view the model summary\n",
        "model.summary()"
      ]
    },
    {
      "cell_type": "code",
      "source": [
        ""
      ],
      "metadata": {
        "id": "tuZLvEnVH6mE"
      },
      "execution_count": 17,
      "outputs": []
    },
    {
      "cell_type": "markdown",
      "source": [
        "# Add tensorboard to look at the process"
      ],
      "metadata": {
        "id": "Rc24z5bkmKZb"
      }
    },
    {
      "cell_type": "code",
      "execution_count": 26,
      "metadata": {
        "id": "6B95Hb6YVgPZ",
        "colab": {
          "base_uri": "https://localhost:8080/"
        },
        "outputId": "163b53c3-e6a4-4647-810a-2a7791f94ce1"
      },
      "outputs": [
        {
          "output_type": "stream",
          "name": "stdout",
          "text": [
            "The tensorboard extension is already loaded. To reload it, use:\n",
            "  %reload_ext tensorboard\n"
          ]
        }
      ],
      "source": [
        "# Load the TensorBoard notebook extension\n",
        "%load_ext tensorboard\n",
        "import datetime"
      ]
    },
    {
      "cell_type": "code",
      "execution_count": 19,
      "metadata": {
        "id": "Ao7fJW1Pyiza"
      },
      "outputs": [],
      "source": [
        "# Clear any logs from previous runs\n",
        "!rm -rf ./logs/ \n"
      ]
    },
    {
      "cell_type": "code",
      "source": [
        "#create directory and callbacks\n",
        "log_dir = \"logs/fit/\" + datetime.datetime.now().strftime(\"%Y%m%d-%H%M%S\")\n",
        "tensorboard_callback = tf.keras.callbacks.TensorBoard(log_dir=log_dir, histogram_freq=1)\n"
      ],
      "metadata": {
        "id": "HPI1mP8u1Qrx"
      },
      "execution_count": 27,
      "outputs": []
    },
    {
      "cell_type": "markdown",
      "metadata": {
        "id": "wTDe5m4baEqo"
      },
      "source": [
        "## IV. Train the model\n",
        "\n",
        "For our purposes, we'll be using [categorical cross entropy](https://machinelearningmastery.com/cross-entropy-for-machine-learning/) as our loss function*. Also, our model will be outputting [\"logits\" rather than normalized probabilities](https://stackoverflow.com/questions/41455101/what-is-the-meaning-of-the-word-logits-in-tensorflow), because we'll be doing further transformations on the output later. \n",
        "\n",
        "\n",
        "\\* Note that since our model deals with integer encoding rather than one-hot encoding, we'll specifically be using [sparse categorical cross entropy](https://stats.stackexchange.com/questions/326065/cross-entropy-vs-sparse-cross-entropy-when-to-use-one-over-the-other)."
      ]
    },
    {
      "cell_type": "code",
      "execution_count": 21,
      "metadata": {
        "colab": {
          "base_uri": "https://localhost:8080/",
          "height": 1000
        },
        "id": "7vOxc7CkaGQB",
        "outputId": "ff626071-ebdc-4f4c-b281-638449e58155"
      },
      "outputs": [
        {
          "output_type": "stream",
          "name": "stdout",
          "text": [
            "Epoch 1/900\n",
            "3/3 [==============================] - 4s 355ms/step - loss: 4.4938 - accuracy: 0.1106\n",
            "Epoch 2/900\n",
            "3/3 [==============================] - 1s 360ms/step - loss: 5.4383 - accuracy: 0.1738\n",
            "Epoch 3/900\n",
            "3/3 [==============================] - 1s 361ms/step - loss: 3.6066 - accuracy: 0.0962\n",
            "Epoch 4/900\n",
            "3/3 [==============================] - 1s 365ms/step - loss: 3.5749 - accuracy: 0.1069\n",
            "Epoch 5/900\n",
            "3/3 [==============================] - 1s 369ms/step - loss: 3.4916 - accuracy: 0.1062\n",
            "Epoch 6/900\n",
            "3/3 [==============================] - 1s 366ms/step - loss: 3.3296 - accuracy: 0.1475\n",
            "Epoch 7/900\n",
            "3/3 [==============================] - 1s 366ms/step - loss: 3.1499 - accuracy: 0.2013\n",
            "Epoch 8/900\n",
            "3/3 [==============================] - 1s 366ms/step - loss: 3.0052 - accuracy: 0.1959\n",
            "Epoch 9/900\n",
            "3/3 [==============================] - 1s 370ms/step - loss: 3.0377 - accuracy: 0.1732\n",
            "Epoch 10/900\n",
            "3/3 [==============================] - 1s 373ms/step - loss: 2.9370 - accuracy: 0.2172\n",
            "Epoch 11/900\n",
            "3/3 [==============================] - 1s 374ms/step - loss: 2.8809 - accuracy: 0.2755\n",
            "Epoch 12/900\n",
            "3/3 [==============================] - 1s 369ms/step - loss: 2.8361 - accuracy: 0.2849\n",
            "Epoch 13/900\n",
            "3/3 [==============================] - 1s 371ms/step - loss: 2.7747 - accuracy: 0.2826\n",
            "Epoch 14/900\n",
            "3/3 [==============================] - 1s 371ms/step - loss: 2.7063 - accuracy: 0.2856\n",
            "Epoch 15/900\n",
            "3/3 [==============================] - 1s 369ms/step - loss: 2.6538 - accuracy: 0.2887\n",
            "Epoch 16/900\n",
            "3/3 [==============================] - 1s 370ms/step - loss: 2.6040 - accuracy: 0.2909\n",
            "Epoch 17/900\n",
            "3/3 [==============================] - 1s 373ms/step - loss: 2.5646 - accuracy: 0.2982\n",
            "Epoch 18/900\n",
            "3/3 [==============================] - 1s 379ms/step - loss: 2.5125 - accuracy: 0.3030\n",
            "Epoch 19/900\n",
            "3/3 [==============================] - 1s 380ms/step - loss: 2.4898 - accuracy: 0.3109\n",
            "Epoch 20/900\n",
            "3/3 [==============================] - 1s 378ms/step - loss: 2.4536 - accuracy: 0.3220\n",
            "Epoch 21/900\n",
            "3/3 [==============================] - 1s 379ms/step - loss: 2.4275 - accuracy: 0.3252\n",
            "Epoch 22/900\n",
            "3/3 [==============================] - 1s 375ms/step - loss: 2.4142 - accuracy: 0.3223\n",
            "Epoch 23/900\n",
            "3/3 [==============================] - 1s 378ms/step - loss: 2.3935 - accuracy: 0.3234\n",
            "Epoch 24/900\n",
            "3/3 [==============================] - 1s 381ms/step - loss: 2.3658 - accuracy: 0.3294\n",
            "Epoch 25/900\n",
            "3/3 [==============================] - 1s 382ms/step - loss: 2.3538 - accuracy: 0.3336\n",
            "Epoch 26/900\n",
            "3/3 [==============================] - 1s 384ms/step - loss: 2.3280 - accuracy: 0.3441\n",
            "Epoch 27/900\n",
            "3/3 [==============================] - 1s 387ms/step - loss: 2.3178 - accuracy: 0.3489\n",
            "Epoch 28/900\n",
            "3/3 [==============================] - 1s 386ms/step - loss: 2.3270 - accuracy: 0.3463\n",
            "Epoch 29/900\n",
            "3/3 [==============================] - 1s 388ms/step - loss: 2.2938 - accuracy: 0.3566\n",
            "Epoch 30/900\n",
            "3/3 [==============================] - 1s 386ms/step - loss: 2.2935 - accuracy: 0.3560\n",
            "Epoch 31/900\n",
            "3/3 [==============================] - 1s 391ms/step - loss: 2.2834 - accuracy: 0.3586\n",
            "Epoch 32/900\n",
            "3/3 [==============================] - 1s 388ms/step - loss: 2.2685 - accuracy: 0.3609\n",
            "Epoch 33/900\n",
            "3/3 [==============================] - 1s 392ms/step - loss: 2.2591 - accuracy: 0.3610\n",
            "Epoch 34/900\n",
            "3/3 [==============================] - 1s 391ms/step - loss: 2.2454 - accuracy: 0.3639\n",
            "Epoch 35/900\n",
            "3/3 [==============================] - 1s 393ms/step - loss: 2.2440 - accuracy: 0.3654\n",
            "Epoch 36/900\n",
            "3/3 [==============================] - 1s 395ms/step - loss: 2.2362 - accuracy: 0.3662\n",
            "Epoch 37/900\n",
            "3/3 [==============================] - 1s 394ms/step - loss: 2.2169 - accuracy: 0.3720\n",
            "Epoch 38/900\n",
            "3/3 [==============================] - 1s 392ms/step - loss: 2.2163 - accuracy: 0.3717\n",
            "Epoch 39/900\n",
            "3/3 [==============================] - 1s 396ms/step - loss: 2.1992 - accuracy: 0.3722\n",
            "Epoch 40/900\n",
            "3/3 [==============================] - 1s 394ms/step - loss: 2.1913 - accuracy: 0.3735\n",
            "Epoch 41/900\n",
            "3/3 [==============================] - 1s 399ms/step - loss: 2.1834 - accuracy: 0.3763\n",
            "Epoch 42/900\n",
            "3/3 [==============================] - 1s 398ms/step - loss: 2.1660 - accuracy: 0.3785\n",
            "Epoch 43/900\n",
            "3/3 [==============================] - 1s 398ms/step - loss: 2.1745 - accuracy: 0.3788\n",
            "Epoch 44/900\n",
            "3/3 [==============================] - 1s 398ms/step - loss: 2.1534 - accuracy: 0.3815\n",
            "Epoch 45/900\n",
            "3/3 [==============================] - 1s 398ms/step - loss: 2.1446 - accuracy: 0.3838\n",
            "Epoch 46/900\n",
            "3/3 [==============================] - 1s 399ms/step - loss: 2.1483 - accuracy: 0.3835\n",
            "Epoch 47/900\n",
            "3/3 [==============================] - 1s 401ms/step - loss: 2.1379 - accuracy: 0.3850\n",
            "Epoch 48/900\n",
            "3/3 [==============================] - 1s 404ms/step - loss: 2.1196 - accuracy: 0.3893\n",
            "Epoch 49/900\n",
            "3/3 [==============================] - 1s 407ms/step - loss: 2.1174 - accuracy: 0.3891\n",
            "Epoch 50/900\n",
            "3/3 [==============================] - 1s 403ms/step - loss: 2.1044 - accuracy: 0.3911\n",
            "Epoch 51/900\n",
            "3/3 [==============================] - 1s 404ms/step - loss: 2.0898 - accuracy: 0.3946\n",
            "Epoch 52/900\n",
            "3/3 [==============================] - 1s 408ms/step - loss: 2.0879 - accuracy: 0.3950\n",
            "Epoch 53/900\n",
            "3/3 [==============================] - 1s 410ms/step - loss: 2.0699 - accuracy: 0.3985\n",
            "Epoch 54/900\n",
            "3/3 [==============================] - 1s 410ms/step - loss: 2.0590 - accuracy: 0.4018\n",
            "Epoch 55/900\n",
            "3/3 [==============================] - 1s 414ms/step - loss: 2.0508 - accuracy: 0.4043\n",
            "Epoch 56/900\n",
            "3/3 [==============================] - 1s 416ms/step - loss: 2.0496 - accuracy: 0.4049\n",
            "Epoch 57/900\n",
            "3/3 [==============================] - 1s 413ms/step - loss: 2.0291 - accuracy: 0.4100\n",
            "Epoch 58/900\n",
            "3/3 [==============================] - 1s 416ms/step - loss: 2.0250 - accuracy: 0.4124\n",
            "Epoch 59/900\n",
            "3/3 [==============================] - 1s 416ms/step - loss: 2.0169 - accuracy: 0.4133\n",
            "Epoch 60/900\n",
            "3/3 [==============================] - 1s 423ms/step - loss: 2.0074 - accuracy: 0.4160\n",
            "Epoch 61/900\n",
            "3/3 [==============================] - 1s 420ms/step - loss: 1.9905 - accuracy: 0.4185\n",
            "Epoch 62/900\n",
            "3/3 [==============================] - 1s 424ms/step - loss: 1.9914 - accuracy: 0.4199\n",
            "Epoch 63/900\n",
            "3/3 [==============================] - 1s 425ms/step - loss: 1.9787 - accuracy: 0.4251\n",
            "Epoch 64/900\n",
            "3/3 [==============================] - 1s 422ms/step - loss: 1.9664 - accuracy: 0.4268\n",
            "Epoch 65/900\n",
            "3/3 [==============================] - 1s 424ms/step - loss: 1.9567 - accuracy: 0.4312\n",
            "Epoch 66/900\n",
            "3/3 [==============================] - 1s 426ms/step - loss: 1.9384 - accuracy: 0.4366\n",
            "Epoch 67/900\n",
            "3/3 [==============================] - 1s 432ms/step - loss: 1.9346 - accuracy: 0.4395\n",
            "Epoch 68/900\n",
            "3/3 [==============================] - 1s 450ms/step - loss: 1.9212 - accuracy: 0.4425\n",
            "Epoch 69/900\n",
            "3/3 [==============================] - 1s 431ms/step - loss: 1.9085 - accuracy: 0.4460\n",
            "Epoch 70/900\n",
            "3/3 [==============================] - 1s 435ms/step - loss: 1.8989 - accuracy: 0.4472\n",
            "Epoch 71/900\n",
            "3/3 [==============================] - 1s 430ms/step - loss: 1.8894 - accuracy: 0.4507\n",
            "Epoch 72/900\n",
            "3/3 [==============================] - 1s 436ms/step - loss: 1.8803 - accuracy: 0.4528\n",
            "Epoch 73/900\n",
            "3/3 [==============================] - 1s 433ms/step - loss: 1.8612 - accuracy: 0.4572\n",
            "Epoch 74/900\n",
            "3/3 [==============================] - 1s 435ms/step - loss: 1.8567 - accuracy: 0.4589\n",
            "Epoch 75/900\n",
            "3/3 [==============================] - 1s 435ms/step - loss: 1.8406 - accuracy: 0.4622\n",
            "Epoch 76/900\n",
            "3/3 [==============================] - 1s 434ms/step - loss: 1.8403 - accuracy: 0.4626\n",
            "Epoch 77/900\n",
            "3/3 [==============================] - 1s 434ms/step - loss: 1.8228 - accuracy: 0.4672\n",
            "Epoch 78/900\n",
            "3/3 [==============================] - 1s 435ms/step - loss: 1.8098 - accuracy: 0.4705\n",
            "Epoch 79/900\n",
            "3/3 [==============================] - 1s 430ms/step - loss: 1.8023 - accuracy: 0.4733\n",
            "Epoch 80/900\n",
            "3/3 [==============================] - 1s 428ms/step - loss: 1.7930 - accuracy: 0.4749\n",
            "Epoch 81/900\n",
            "3/3 [==============================] - 1s 429ms/step - loss: 1.7752 - accuracy: 0.4790\n",
            "Epoch 82/900\n",
            "3/3 [==============================] - 1s 429ms/step - loss: 1.7649 - accuracy: 0.4820\n",
            "Epoch 83/900\n",
            "3/3 [==============================] - 1s 427ms/step - loss: 1.7617 - accuracy: 0.4831\n",
            "Epoch 84/900\n",
            "3/3 [==============================] - 1s 429ms/step - loss: 1.7436 - accuracy: 0.4884\n",
            "Epoch 85/900\n",
            "3/3 [==============================] - 1s 425ms/step - loss: 1.7369 - accuracy: 0.4887\n",
            "Epoch 86/900\n",
            "3/3 [==============================] - 1s 426ms/step - loss: 1.7267 - accuracy: 0.4927\n",
            "Epoch 87/900\n",
            "3/3 [==============================] - 1s 423ms/step - loss: 1.7211 - accuracy: 0.4947\n",
            "Epoch 88/900\n",
            "3/3 [==============================] - 1s 421ms/step - loss: 1.7132 - accuracy: 0.4960\n",
            "Epoch 89/900\n",
            "3/3 [==============================] - 1s 419ms/step - loss: 1.7009 - accuracy: 0.4995\n",
            "Epoch 90/900\n",
            "3/3 [==============================] - 1s 419ms/step - loss: 1.6917 - accuracy: 0.5024\n",
            "Epoch 91/900\n",
            "3/3 [==============================] - 1s 421ms/step - loss: 1.6753 - accuracy: 0.5051\n",
            "Epoch 92/900\n",
            "3/3 [==============================] - 1s 418ms/step - loss: 1.6674 - accuracy: 0.5067\n",
            "Epoch 93/900\n",
            "3/3 [==============================] - 1s 422ms/step - loss: 1.6645 - accuracy: 0.5086\n",
            "Epoch 94/900\n",
            "3/3 [==============================] - 1s 421ms/step - loss: 1.6537 - accuracy: 0.5118\n",
            "Epoch 95/900\n",
            "3/3 [==============================] - 1s 419ms/step - loss: 1.6435 - accuracy: 0.5141\n",
            "Epoch 96/900\n",
            "3/3 [==============================] - 1s 421ms/step - loss: 1.6373 - accuracy: 0.5157\n",
            "Epoch 97/900\n",
            "3/3 [==============================] - 1s 420ms/step - loss: 1.6277 - accuracy: 0.5179\n",
            "Epoch 98/900\n",
            "3/3 [==============================] - 1s 418ms/step - loss: 1.6143 - accuracy: 0.5211\n",
            "Epoch 99/900\n",
            "3/3 [==============================] - 1s 417ms/step - loss: 1.6051 - accuracy: 0.5238\n",
            "Epoch 100/900\n",
            "3/3 [==============================] - 1s 419ms/step - loss: 1.5923 - accuracy: 0.5278\n",
            "Epoch 101/900\n",
            "3/3 [==============================] - 1s 421ms/step - loss: 1.5839 - accuracy: 0.5280\n",
            "Epoch 102/900\n",
            "3/3 [==============================] - 1s 420ms/step - loss: 1.5825 - accuracy: 0.5307\n",
            "Epoch 103/900\n",
            "3/3 [==============================] - 1s 419ms/step - loss: 1.5701 - accuracy: 0.5340\n",
            "Epoch 104/900\n",
            "3/3 [==============================] - 1s 417ms/step - loss: 1.5587 - accuracy: 0.5375\n",
            "Epoch 105/900\n",
            "3/3 [==============================] - 1s 423ms/step - loss: 1.5529 - accuracy: 0.5369\n",
            "Epoch 106/900\n",
            "3/3 [==============================] - 1s 419ms/step - loss: 1.5415 - accuracy: 0.5396\n",
            "Epoch 107/900\n",
            "3/3 [==============================] - 1s 421ms/step - loss: 1.5357 - accuracy: 0.5430\n",
            "Epoch 108/900\n",
            "3/3 [==============================] - 1s 420ms/step - loss: 1.5221 - accuracy: 0.5471\n",
            "Epoch 109/900\n",
            "3/3 [==============================] - 1s 419ms/step - loss: 1.5127 - accuracy: 0.5490\n",
            "Epoch 110/900\n",
            "3/3 [==============================] - 1s 420ms/step - loss: 1.5053 - accuracy: 0.5514\n",
            "Epoch 111/900\n",
            "3/3 [==============================] - 1s 421ms/step - loss: 1.4956 - accuracy: 0.5538\n",
            "Epoch 112/900\n",
            "3/3 [==============================] - 1s 421ms/step - loss: 1.4860 - accuracy: 0.5571\n",
            "Epoch 113/900\n",
            "3/3 [==============================] - 1s 423ms/step - loss: 1.4731 - accuracy: 0.5582\n",
            "Epoch 114/900\n",
            "3/3 [==============================] - 1s 426ms/step - loss: 1.4688 - accuracy: 0.5603\n",
            "Epoch 115/900\n",
            "3/3 [==============================] - 1s 429ms/step - loss: 1.4598 - accuracy: 0.5636\n",
            "Epoch 116/900\n",
            "3/3 [==============================] - 1s 424ms/step - loss: 1.4489 - accuracy: 0.5672\n",
            "Epoch 117/900\n",
            "3/3 [==============================] - 1s 424ms/step - loss: 1.4389 - accuracy: 0.5683\n",
            "Epoch 118/900\n",
            "3/3 [==============================] - 1s 431ms/step - loss: 1.4367 - accuracy: 0.5704\n",
            "Epoch 119/900\n",
            "3/3 [==============================] - 1s 427ms/step - loss: 1.4303 - accuracy: 0.5721\n",
            "Epoch 120/900\n",
            "3/3 [==============================] - 1s 427ms/step - loss: 1.4194 - accuracy: 0.5748\n",
            "Epoch 121/900\n",
            "3/3 [==============================] - 1s 426ms/step - loss: 1.4142 - accuracy: 0.5770\n",
            "Epoch 122/900\n",
            "3/3 [==============================] - 1s 427ms/step - loss: 1.4002 - accuracy: 0.5806\n",
            "Epoch 123/900\n",
            "3/3 [==============================] - 1s 428ms/step - loss: 1.3967 - accuracy: 0.5807\n",
            "Epoch 124/900\n",
            "3/3 [==============================] - 1s 427ms/step - loss: 1.3834 - accuracy: 0.5846\n",
            "Epoch 125/900\n",
            "3/3 [==============================] - 1s 429ms/step - loss: 1.3752 - accuracy: 0.5867\n",
            "Epoch 126/900\n",
            "3/3 [==============================] - 1s 429ms/step - loss: 1.3719 - accuracy: 0.5875\n",
            "Epoch 127/900\n",
            "3/3 [==============================] - 1s 428ms/step - loss: 1.3676 - accuracy: 0.5892\n",
            "Epoch 128/900\n",
            "3/3 [==============================] - 1s 428ms/step - loss: 1.3492 - accuracy: 0.5946\n",
            "Epoch 129/900\n",
            "3/3 [==============================] - 1s 425ms/step - loss: 1.3397 - accuracy: 0.5975\n",
            "Epoch 130/900\n",
            "3/3 [==============================] - 1s 429ms/step - loss: 1.3369 - accuracy: 0.5973\n",
            "Epoch 131/900\n",
            "3/3 [==============================] - 1s 425ms/step - loss: 1.3309 - accuracy: 0.5999\n",
            "Epoch 132/900\n",
            "3/3 [==============================] - 1s 428ms/step - loss: 1.3220 - accuracy: 0.6017\n",
            "Epoch 133/900\n",
            "3/3 [==============================] - 1s 430ms/step - loss: 1.3163 - accuracy: 0.6037\n",
            "Epoch 134/900\n",
            "3/3 [==============================] - 1s 430ms/step - loss: 1.3104 - accuracy: 0.6051\n",
            "Epoch 135/900\n",
            "3/3 [==============================] - 1s 429ms/step - loss: 1.2963 - accuracy: 0.6087\n",
            "Epoch 136/900\n",
            "3/3 [==============================] - 1s 429ms/step - loss: 1.2889 - accuracy: 0.6103\n",
            "Epoch 137/900\n",
            "3/3 [==============================] - 1s 424ms/step - loss: 1.2850 - accuracy: 0.6124\n",
            "Epoch 138/900\n",
            "3/3 [==============================] - 1s 426ms/step - loss: 1.2692 - accuracy: 0.6156\n",
            "Epoch 139/900\n",
            "3/3 [==============================] - 1s 429ms/step - loss: 1.2627 - accuracy: 0.6182\n",
            "Epoch 140/900\n",
            "3/3 [==============================] - 1s 424ms/step - loss: 1.2554 - accuracy: 0.6205\n",
            "Epoch 141/900\n",
            "3/3 [==============================] - 1s 429ms/step - loss: 1.2510 - accuracy: 0.6227\n",
            "Epoch 142/900\n",
            "3/3 [==============================] - 1s 428ms/step - loss: 1.2412 - accuracy: 0.6243\n",
            "Epoch 143/900\n",
            "3/3 [==============================] - 1s 422ms/step - loss: 1.2280 - accuracy: 0.6288\n",
            "Epoch 144/900\n",
            "3/3 [==============================] - 1s 425ms/step - loss: 1.2236 - accuracy: 0.6286\n",
            "Epoch 145/900\n",
            "3/3 [==============================] - 1s 424ms/step - loss: 1.2130 - accuracy: 0.6333\n",
            "Epoch 146/900\n",
            "3/3 [==============================] - 1s 422ms/step - loss: 1.2096 - accuracy: 0.6336\n",
            "Epoch 147/900\n",
            "3/3 [==============================] - 1s 422ms/step - loss: 1.2044 - accuracy: 0.6338\n",
            "Epoch 148/900\n",
            "3/3 [==============================] - 1s 419ms/step - loss: 1.1993 - accuracy: 0.6365\n",
            "Epoch 149/900\n",
            "3/3 [==============================] - 1s 419ms/step - loss: 1.1881 - accuracy: 0.6391\n",
            "Epoch 150/900\n",
            "3/3 [==============================] - 1s 418ms/step - loss: 1.1811 - accuracy: 0.6422\n",
            "Epoch 151/900\n",
            "3/3 [==============================] - 1s 421ms/step - loss: 1.1649 - accuracy: 0.6479\n",
            "Epoch 152/900\n",
            "3/3 [==============================] - 1s 417ms/step - loss: 1.1576 - accuracy: 0.6483\n",
            "Epoch 153/900\n",
            "3/3 [==============================] - 1s 421ms/step - loss: 1.1513 - accuracy: 0.6503\n",
            "Epoch 154/900\n",
            "3/3 [==============================] - 1s 423ms/step - loss: 1.1437 - accuracy: 0.6524\n",
            "Epoch 155/900\n",
            "3/3 [==============================] - 1s 418ms/step - loss: 1.1343 - accuracy: 0.6562\n",
            "Epoch 156/900\n",
            "3/3 [==============================] - 1s 419ms/step - loss: 1.1251 - accuracy: 0.6580\n",
            "Epoch 157/900\n",
            "3/3 [==============================] - 1s 424ms/step - loss: 1.1328 - accuracy: 0.6560\n",
            "Epoch 158/900\n",
            "3/3 [==============================] - 1s 424ms/step - loss: 1.1190 - accuracy: 0.6623\n",
            "Epoch 159/900\n",
            "3/3 [==============================] - 1s 419ms/step - loss: 1.1063 - accuracy: 0.6641\n",
            "Epoch 160/900\n",
            "3/3 [==============================] - 1s 425ms/step - loss: 1.0960 - accuracy: 0.6677\n",
            "Epoch 161/900\n",
            "3/3 [==============================] - 1s 427ms/step - loss: 1.0835 - accuracy: 0.6717\n",
            "Epoch 162/900\n",
            "3/3 [==============================] - 1s 424ms/step - loss: 1.0767 - accuracy: 0.6725\n",
            "Epoch 163/900\n",
            "3/3 [==============================] - 1s 425ms/step - loss: 1.0660 - accuracy: 0.6776\n",
            "Epoch 164/900\n",
            "3/3 [==============================] - 1s 426ms/step - loss: 1.0608 - accuracy: 0.6788\n",
            "Epoch 165/900\n",
            "3/3 [==============================] - 1s 429ms/step - loss: 1.0506 - accuracy: 0.6822\n",
            "Epoch 166/900\n",
            "3/3 [==============================] - 1s 427ms/step - loss: 1.0378 - accuracy: 0.6860\n",
            "Epoch 167/900\n",
            "3/3 [==============================] - 1s 426ms/step - loss: 1.0325 - accuracy: 0.6879\n",
            "Epoch 168/900\n",
            "3/3 [==============================] - 1s 433ms/step - loss: 1.0243 - accuracy: 0.6885\n",
            "Epoch 169/900\n",
            "3/3 [==============================] - 1s 427ms/step - loss: 1.0176 - accuracy: 0.6922\n",
            "Epoch 170/900\n",
            "3/3 [==============================] - 1s 431ms/step - loss: 1.0047 - accuracy: 0.6971\n",
            "Epoch 171/900\n",
            "3/3 [==============================] - 1s 427ms/step - loss: 0.9923 - accuracy: 0.7008\n",
            "Epoch 172/900\n",
            "3/3 [==============================] - 1s 427ms/step - loss: 0.9877 - accuracy: 0.7025\n",
            "Epoch 173/900\n",
            "3/3 [==============================] - 1s 424ms/step - loss: 0.9738 - accuracy: 0.7066\n",
            "Epoch 174/900\n",
            "3/3 [==============================] - 1s 423ms/step - loss: 0.9642 - accuracy: 0.7091\n",
            "Epoch 175/900\n",
            "3/3 [==============================] - 1s 427ms/step - loss: 0.9629 - accuracy: 0.7103\n",
            "Epoch 176/900\n",
            "3/3 [==============================] - 1s 425ms/step - loss: 0.9951 - accuracy: 0.6980\n",
            "Epoch 177/900\n",
            "3/3 [==============================] - 1s 422ms/step - loss: 0.9649 - accuracy: 0.7073\n",
            "Epoch 178/900\n",
            "3/3 [==============================] - 1s 423ms/step - loss: 0.9533 - accuracy: 0.7115\n",
            "Epoch 179/900\n",
            "3/3 [==============================] - 1s 426ms/step - loss: 0.9346 - accuracy: 0.7168\n",
            "Epoch 180/900\n",
            "3/3 [==============================] - 1s 425ms/step - loss: 0.9188 - accuracy: 0.7246\n",
            "Epoch 181/900\n",
            "3/3 [==============================] - 1s 427ms/step - loss: 0.9123 - accuracy: 0.7249\n",
            "Epoch 182/900\n",
            "3/3 [==============================] - 1s 423ms/step - loss: 0.9019 - accuracy: 0.7291\n",
            "Epoch 183/900\n",
            "3/3 [==============================] - 1s 424ms/step - loss: 0.8866 - accuracy: 0.7347\n",
            "Epoch 184/900\n",
            "3/3 [==============================] - 1s 424ms/step - loss: 0.8789 - accuracy: 0.7373\n",
            "Epoch 185/900\n",
            "3/3 [==============================] - 1s 423ms/step - loss: 0.8724 - accuracy: 0.7382\n",
            "Epoch 186/900\n",
            "3/3 [==============================] - 1s 424ms/step - loss: 0.8656 - accuracy: 0.7400\n",
            "Epoch 187/900\n",
            "3/3 [==============================] - 1s 425ms/step - loss: 0.8485 - accuracy: 0.7468\n",
            "Epoch 188/900\n",
            "3/3 [==============================] - 1s 425ms/step - loss: 0.8408 - accuracy: 0.7502\n",
            "Epoch 189/900\n",
            "3/3 [==============================] - 1s 426ms/step - loss: 0.8363 - accuracy: 0.7505\n",
            "Epoch 190/900\n",
            "3/3 [==============================] - 1s 421ms/step - loss: 0.8213 - accuracy: 0.7565\n",
            "Epoch 191/900\n",
            "3/3 [==============================] - 1s 423ms/step - loss: 0.8123 - accuracy: 0.7595\n",
            "Epoch 192/900\n",
            "3/3 [==============================] - 1s 423ms/step - loss: 0.8139 - accuracy: 0.7583\n",
            "Epoch 193/900\n",
            "3/3 [==============================] - 1s 426ms/step - loss: 0.7915 - accuracy: 0.7661\n",
            "Epoch 194/900\n",
            "3/3 [==============================] - 1s 427ms/step - loss: 0.7907 - accuracy: 0.7658\n",
            "Epoch 195/900\n",
            "3/3 [==============================] - 1s 426ms/step - loss: 0.7834 - accuracy: 0.7675\n",
            "Epoch 196/900\n",
            "3/3 [==============================] - 1s 424ms/step - loss: 0.7776 - accuracy: 0.7691\n",
            "Epoch 197/900\n",
            "3/3 [==============================] - 1s 427ms/step - loss: 0.7657 - accuracy: 0.7734\n",
            "Epoch 198/900\n",
            "3/3 [==============================] - 1s 425ms/step - loss: 0.7475 - accuracy: 0.7802\n",
            "Epoch 199/900\n",
            "3/3 [==============================] - 1s 428ms/step - loss: 0.7399 - accuracy: 0.7833\n",
            "Epoch 200/900\n",
            "3/3 [==============================] - 1s 425ms/step - loss: 0.7276 - accuracy: 0.7879\n",
            "Epoch 201/900\n",
            "3/3 [==============================] - 1s 425ms/step - loss: 0.7179 - accuracy: 0.7915\n",
            "Epoch 202/900\n",
            "3/3 [==============================] - 1s 427ms/step - loss: 0.7115 - accuracy: 0.7938\n",
            "Epoch 203/900\n",
            "3/3 [==============================] - 1s 428ms/step - loss: 0.7030 - accuracy: 0.7953\n",
            "Epoch 204/900\n",
            "3/3 [==============================] - 1s 424ms/step - loss: 0.6943 - accuracy: 0.7991\n",
            "Epoch 205/900\n",
            "3/3 [==============================] - 1s 429ms/step - loss: 0.6816 - accuracy: 0.8035\n",
            "Epoch 206/900\n",
            "3/3 [==============================] - 1s 428ms/step - loss: 0.6680 - accuracy: 0.8086\n",
            "Epoch 207/900\n",
            "3/3 [==============================] - 1s 427ms/step - loss: 0.6662 - accuracy: 0.8096\n",
            "Epoch 208/900\n",
            "3/3 [==============================] - 1s 426ms/step - loss: 0.7102 - accuracy: 0.7879\n",
            "Epoch 209/900\n",
            "3/3 [==============================] - 1s 430ms/step - loss: 0.6698 - accuracy: 0.8050\n",
            "Epoch 210/900\n",
            "3/3 [==============================] - 1s 426ms/step - loss: 0.6597 - accuracy: 0.8085\n",
            "Epoch 211/900\n",
            "3/3 [==============================] - 1s 423ms/step - loss: 0.6390 - accuracy: 0.8174\n",
            "Epoch 212/900\n",
            "3/3 [==============================] - 1s 426ms/step - loss: 0.6303 - accuracy: 0.8208\n",
            "Epoch 213/900\n",
            "3/3 [==============================] - 1s 424ms/step - loss: 0.6074 - accuracy: 0.8322\n",
            "Epoch 214/900\n",
            "3/3 [==============================] - 1s 425ms/step - loss: 0.5996 - accuracy: 0.8339\n",
            "Epoch 215/900\n",
            "3/3 [==============================] - 1s 425ms/step - loss: 0.5882 - accuracy: 0.8375\n",
            "Epoch 216/900\n",
            "3/3 [==============================] - 1s 425ms/step - loss: 0.5722 - accuracy: 0.8443\n",
            "Epoch 217/900\n",
            "3/3 [==============================] - 1s 423ms/step - loss: 0.5717 - accuracy: 0.8428\n",
            "Epoch 218/900\n",
            "3/3 [==============================] - 1s 425ms/step - loss: 0.5619 - accuracy: 0.8471\n",
            "Epoch 219/900\n",
            "3/3 [==============================] - 1s 424ms/step - loss: 0.5615 - accuracy: 0.8456\n",
            "Epoch 220/900\n",
            "3/3 [==============================] - 1s 420ms/step - loss: 0.5501 - accuracy: 0.8501\n",
            "Epoch 221/900\n",
            "3/3 [==============================] - 1s 427ms/step - loss: 0.5398 - accuracy: 0.8534\n",
            "Epoch 222/900\n",
            "3/3 [==============================] - 1s 423ms/step - loss: 0.5230 - accuracy: 0.8618\n",
            "Epoch 223/900\n",
            "3/3 [==============================] - 1s 423ms/step - loss: 0.5111 - accuracy: 0.8668\n",
            "Epoch 224/900\n",
            "3/3 [==============================] - 1s 422ms/step - loss: 0.4977 - accuracy: 0.8711\n",
            "Epoch 225/900\n",
            "3/3 [==============================] - 1s 422ms/step - loss: 0.4870 - accuracy: 0.8751\n",
            "Epoch 226/900\n",
            "3/3 [==============================] - 1s 424ms/step - loss: 0.4773 - accuracy: 0.8795\n",
            "Epoch 227/900\n",
            "3/3 [==============================] - 1s 422ms/step - loss: 0.4686 - accuracy: 0.8835\n",
            "Epoch 228/900\n",
            "3/3 [==============================] - 1s 424ms/step - loss: 0.4604 - accuracy: 0.8856\n",
            "Epoch 229/900\n",
            "3/3 [==============================] - 1s 424ms/step - loss: 0.4734 - accuracy: 0.8775\n",
            "Epoch 230/900\n",
            "3/3 [==============================] - 1s 428ms/step - loss: 0.4793 - accuracy: 0.8717\n",
            "Epoch 231/900\n",
            "3/3 [==============================] - 1s 431ms/step - loss: 0.4567 - accuracy: 0.8836\n",
            "Epoch 232/900\n",
            "3/3 [==============================] - 1s 424ms/step - loss: 0.4453 - accuracy: 0.8889\n",
            "Epoch 233/900\n",
            "3/3 [==============================] - 1s 425ms/step - loss: 0.4311 - accuracy: 0.8931\n",
            "Epoch 234/900\n",
            "3/3 [==============================] - 1s 425ms/step - loss: 0.4216 - accuracy: 0.8988\n",
            "Epoch 235/900\n",
            "3/3 [==============================] - 1s 427ms/step - loss: 0.4177 - accuracy: 0.8985\n",
            "Epoch 236/900\n",
            "3/3 [==============================] - 1s 424ms/step - loss: 0.4038 - accuracy: 0.9048\n",
            "Epoch 237/900\n",
            "3/3 [==============================] - 1s 428ms/step - loss: 0.3880 - accuracy: 0.9119\n",
            "Epoch 238/900\n",
            "3/3 [==============================] - 1s 426ms/step - loss: 0.3774 - accuracy: 0.9163\n",
            "Epoch 239/900\n",
            "3/3 [==============================] - 1s 427ms/step - loss: 0.3629 - accuracy: 0.9217\n",
            "Epoch 240/900\n",
            "3/3 [==============================] - 1s 431ms/step - loss: 0.3555 - accuracy: 0.9240\n",
            "Epoch 241/900\n",
            "3/3 [==============================] - 1s 426ms/step - loss: 0.3513 - accuracy: 0.9265\n",
            "Epoch 242/900\n",
            "3/3 [==============================] - 1s 425ms/step - loss: 0.3410 - accuracy: 0.9291\n",
            "Epoch 243/900\n",
            "3/3 [==============================] - 1s 427ms/step - loss: 0.3432 - accuracy: 0.9277\n",
            "Epoch 244/900\n",
            "3/3 [==============================] - 1s 422ms/step - loss: 0.3303 - accuracy: 0.9320\n",
            "Epoch 245/900\n",
            "3/3 [==============================] - 1s 420ms/step - loss: 0.3292 - accuracy: 0.9318\n",
            "Epoch 246/900\n",
            "3/3 [==============================] - 1s 419ms/step - loss: 0.3108 - accuracy: 0.9394\n",
            "Epoch 247/900\n",
            "3/3 [==============================] - 1s 418ms/step - loss: 0.3112 - accuracy: 0.9381\n",
            "Epoch 248/900\n",
            "3/3 [==============================] - 1s 422ms/step - loss: 0.3319 - accuracy: 0.9258\n",
            "Epoch 249/900\n",
            "3/3 [==============================] - 1s 422ms/step - loss: 0.3356 - accuracy: 0.9243\n",
            "Epoch 250/900\n",
            "3/3 [==============================] - 1s 420ms/step - loss: 0.3058 - accuracy: 0.9380\n",
            "Epoch 251/900\n",
            "3/3 [==============================] - 1s 419ms/step - loss: 0.2928 - accuracy: 0.9438\n",
            "Epoch 252/900\n",
            "3/3 [==============================] - 1s 416ms/step - loss: 0.2779 - accuracy: 0.9491\n",
            "Epoch 253/900\n",
            "3/3 [==============================] - 1s 418ms/step - loss: 0.2649 - accuracy: 0.9548\n",
            "Epoch 254/900\n",
            "3/3 [==============================] - 1s 419ms/step - loss: 0.2602 - accuracy: 0.9566\n",
            "Epoch 255/900\n",
            "3/3 [==============================] - 1s 415ms/step - loss: 0.2496 - accuracy: 0.9599\n",
            "Epoch 256/900\n",
            "3/3 [==============================] - 1s 416ms/step - loss: 0.2438 - accuracy: 0.9620\n",
            "Epoch 257/900\n",
            "3/3 [==============================] - 1s 416ms/step - loss: 0.2374 - accuracy: 0.9645\n",
            "Epoch 258/900\n",
            "3/3 [==============================] - 1s 410ms/step - loss: 0.2298 - accuracy: 0.9670\n",
            "Epoch 259/900\n",
            "3/3 [==============================] - 1s 417ms/step - loss: 0.2241 - accuracy: 0.9682\n",
            "Epoch 260/900\n",
            "3/3 [==============================] - 1s 410ms/step - loss: 0.2176 - accuracy: 0.9709\n",
            "Epoch 261/900\n",
            "3/3 [==============================] - 1s 415ms/step - loss: 0.2115 - accuracy: 0.9726\n",
            "Epoch 262/900\n",
            "3/3 [==============================] - 1s 413ms/step - loss: 0.2042 - accuracy: 0.9742\n",
            "Epoch 263/900\n",
            "3/3 [==============================] - 1s 413ms/step - loss: 0.2027 - accuracy: 0.9746\n",
            "Epoch 264/900\n",
            "3/3 [==============================] - 1s 412ms/step - loss: 0.1960 - accuracy: 0.9766\n",
            "Epoch 265/900\n",
            "3/3 [==============================] - 1s 415ms/step - loss: 0.1896 - accuracy: 0.9785\n",
            "Epoch 266/900\n",
            "3/3 [==============================] - 1s 412ms/step - loss: 0.1812 - accuracy: 0.9803\n",
            "Epoch 267/900\n",
            "3/3 [==============================] - 1s 412ms/step - loss: 0.1784 - accuracy: 0.9812\n",
            "Epoch 268/900\n",
            "3/3 [==============================] - 1s 415ms/step - loss: 0.1757 - accuracy: 0.9821\n",
            "Epoch 269/900\n",
            "3/3 [==============================] - 1s 410ms/step - loss: 0.1720 - accuracy: 0.9827\n",
            "Epoch 270/900\n",
            "3/3 [==============================] - 1s 410ms/step - loss: 0.1660 - accuracy: 0.9846\n",
            "Epoch 271/900\n",
            "3/3 [==============================] - 1s 410ms/step - loss: 0.1619 - accuracy: 0.9849\n",
            "Epoch 272/900\n",
            "3/3 [==============================] - 1s 410ms/step - loss: 0.1577 - accuracy: 0.9865\n",
            "Epoch 273/900\n",
            "3/3 [==============================] - 1s 408ms/step - loss: 0.1572 - accuracy: 0.9860\n",
            "Epoch 274/900\n",
            "3/3 [==============================] - 1s 408ms/step - loss: 0.1525 - accuracy: 0.9870\n",
            "Epoch 275/900\n",
            "3/3 [==============================] - 1s 409ms/step - loss: 0.1422 - accuracy: 0.9891\n",
            "Epoch 276/900\n",
            "3/3 [==============================] - 1s 408ms/step - loss: 0.1385 - accuracy: 0.9899\n",
            "Epoch 277/900\n",
            "3/3 [==============================] - 1s 411ms/step - loss: 0.1326 - accuracy: 0.9909\n",
            "Epoch 278/900\n",
            "3/3 [==============================] - 1s 408ms/step - loss: 0.1289 - accuracy: 0.9916\n",
            "Epoch 279/900\n",
            "3/3 [==============================] - 1s 411ms/step - loss: 0.1264 - accuracy: 0.9920\n",
            "Epoch 280/900\n",
            "3/3 [==============================] - 1s 409ms/step - loss: 0.1212 - accuracy: 0.9930\n",
            "Epoch 281/900\n",
            "3/3 [==============================] - 1s 412ms/step - loss: 0.1179 - accuracy: 0.9934\n",
            "Epoch 282/900\n",
            "3/3 [==============================] - 1s 410ms/step - loss: 0.1154 - accuracy: 0.9939\n",
            "Epoch 283/900\n",
            "3/3 [==============================] - 1s 410ms/step - loss: 0.1125 - accuracy: 0.9941\n",
            "Epoch 284/900\n",
            "3/3 [==============================] - 1s 410ms/step - loss: 0.1100 - accuracy: 0.9945\n",
            "Epoch 285/900\n",
            "3/3 [==============================] - 1s 412ms/step - loss: 0.1061 - accuracy: 0.9950\n",
            "Epoch 286/900\n",
            "3/3 [==============================] - 1s 410ms/step - loss: 0.1041 - accuracy: 0.9951\n",
            "Epoch 287/900\n",
            "3/3 [==============================] - 1s 411ms/step - loss: 0.1008 - accuracy: 0.9956\n",
            "Epoch 288/900\n",
            "3/3 [==============================] - 1s 412ms/step - loss: 0.0976 - accuracy: 0.9958\n",
            "Epoch 289/900\n",
            "3/3 [==============================] - 1s 412ms/step - loss: 0.0955 - accuracy: 0.9959\n",
            "Epoch 290/900\n",
            "3/3 [==============================] - 1s 413ms/step - loss: 0.0930 - accuracy: 0.9962\n",
            "Epoch 291/900\n",
            "3/3 [==============================] - 1s 410ms/step - loss: 0.0906 - accuracy: 0.9962\n",
            "Epoch 292/900\n",
            "3/3 [==============================] - 1s 411ms/step - loss: 0.0889 - accuracy: 0.9964\n",
            "Epoch 293/900\n",
            "3/3 [==============================] - 1s 409ms/step - loss: 0.0859 - accuracy: 0.9965\n",
            "Epoch 294/900\n",
            "3/3 [==============================] - 1s 408ms/step - loss: 0.0838 - accuracy: 0.9968\n",
            "Epoch 295/900\n",
            "3/3 [==============================] - 1s 411ms/step - loss: 0.0822 - accuracy: 0.9968\n",
            "Epoch 296/900\n",
            "3/3 [==============================] - 1s 412ms/step - loss: 0.0792 - accuracy: 0.9970\n",
            "Epoch 297/900\n",
            "3/3 [==============================] - 1s 410ms/step - loss: 0.0784 - accuracy: 0.9970\n",
            "Epoch 298/900\n",
            "3/3 [==============================] - 1s 408ms/step - loss: 0.0766 - accuracy: 0.9972\n",
            "Epoch 299/900\n",
            "3/3 [==============================] - 1s 410ms/step - loss: 0.0747 - accuracy: 0.9972\n",
            "Epoch 300/900\n",
            "3/3 [==============================] - 1s 408ms/step - loss: 0.0736 - accuracy: 0.9972\n",
            "Epoch 301/900\n",
            "3/3 [==============================] - 1s 412ms/step - loss: 0.0717 - accuracy: 0.9973\n",
            "Epoch 302/900\n",
            "3/3 [==============================] - 1s 408ms/step - loss: 0.0695 - accuracy: 0.9975\n",
            "Epoch 303/900\n",
            "3/3 [==============================] - 1s 406ms/step - loss: 0.0681 - accuracy: 0.9976\n",
            "Epoch 304/900\n",
            "3/3 [==============================] - 1s 407ms/step - loss: 0.0668 - accuracy: 0.9975\n",
            "Epoch 305/900\n",
            "3/3 [==============================] - 1s 407ms/step - loss: 0.0644 - accuracy: 0.9977\n",
            "Epoch 306/900\n",
            "3/3 [==============================] - 1s 409ms/step - loss: 0.0632 - accuracy: 0.9976\n",
            "Epoch 307/900\n",
            "1/3 [=========>....................] - ETA: 1s - loss: 0.0621 - accuracy: 0.9977"
          ]
        },
        {
          "output_type": "error",
          "ename": "KeyboardInterrupt",
          "evalue": "ignored",
          "traceback": [
            "\u001b[0;31m---------------------------------------------------------------------------\u001b[0m",
            "\u001b[0;31mKeyboardInterrupt\u001b[0m                         Traceback (most recent call last)",
            "\u001b[0;32m<ipython-input-21-9795268790d8>\u001b[0m in \u001b[0;36m<module>\u001b[0;34m()\u001b[0m\n\u001b[1;32m      2\u001b[0m \u001b[0mmodel\u001b[0m\u001b[0;34m.\u001b[0m\u001b[0mcompile\u001b[0m\u001b[0;34m(\u001b[0m\u001b[0moptimizer\u001b[0m\u001b[0;34m=\u001b[0m\u001b[0;34m'adam'\u001b[0m\u001b[0;34m,\u001b[0m \u001b[0mloss\u001b[0m\u001b[0;34m=\u001b[0m\u001b[0mloss\u001b[0m\u001b[0;34m,\u001b[0m\u001b[0mmetrics\u001b[0m\u001b[0;34m=\u001b[0m\u001b[0;34m'accuracy'\u001b[0m\u001b[0;34m)\u001b[0m\u001b[0;34m\u001b[0m\u001b[0;34m\u001b[0m\u001b[0m\n\u001b[1;32m      3\u001b[0m \u001b[0;34m\u001b[0m\u001b[0m\n\u001b[0;32m----> 4\u001b[0;31m \u001b[0mhistory\u001b[0m \u001b[0;34m=\u001b[0m \u001b[0mmodel\u001b[0m\u001b[0;34m.\u001b[0m\u001b[0mfit\u001b[0m\u001b[0;34m(\u001b[0m\u001b[0mdataset\u001b[0m\u001b[0;34m,\u001b[0m \u001b[0mepochs\u001b[0m\u001b[0;34m=\u001b[0m\u001b[0;36m900\u001b[0m\u001b[0;34m)\u001b[0m\u001b[0;34m\u001b[0m\u001b[0;34m\u001b[0m\u001b[0m\n\u001b[0m",
            "\u001b[0;32m/usr/local/lib/python3.7/dist-packages/keras/utils/traceback_utils.py\u001b[0m in \u001b[0;36merror_handler\u001b[0;34m(*args, **kwargs)\u001b[0m\n\u001b[1;32m     62\u001b[0m     \u001b[0mfiltered_tb\u001b[0m \u001b[0;34m=\u001b[0m \u001b[0;32mNone\u001b[0m\u001b[0;34m\u001b[0m\u001b[0;34m\u001b[0m\u001b[0m\n\u001b[1;32m     63\u001b[0m     \u001b[0;32mtry\u001b[0m\u001b[0;34m:\u001b[0m\u001b[0;34m\u001b[0m\u001b[0;34m\u001b[0m\u001b[0m\n\u001b[0;32m---> 64\u001b[0;31m       \u001b[0;32mreturn\u001b[0m \u001b[0mfn\u001b[0m\u001b[0;34m(\u001b[0m\u001b[0;34m*\u001b[0m\u001b[0margs\u001b[0m\u001b[0;34m,\u001b[0m \u001b[0;34m**\u001b[0m\u001b[0mkwargs\u001b[0m\u001b[0;34m)\u001b[0m\u001b[0;34m\u001b[0m\u001b[0;34m\u001b[0m\u001b[0m\n\u001b[0m\u001b[1;32m     65\u001b[0m     \u001b[0;32mexcept\u001b[0m \u001b[0mException\u001b[0m \u001b[0;32mas\u001b[0m \u001b[0me\u001b[0m\u001b[0;34m:\u001b[0m  \u001b[0;31m# pylint: disable=broad-except\u001b[0m\u001b[0;34m\u001b[0m\u001b[0;34m\u001b[0m\u001b[0m\n\u001b[1;32m     66\u001b[0m       \u001b[0mfiltered_tb\u001b[0m \u001b[0;34m=\u001b[0m \u001b[0m_process_traceback_frames\u001b[0m\u001b[0;34m(\u001b[0m\u001b[0me\u001b[0m\u001b[0;34m.\u001b[0m\u001b[0m__traceback__\u001b[0m\u001b[0;34m)\u001b[0m\u001b[0;34m\u001b[0m\u001b[0;34m\u001b[0m\u001b[0m\n",
            "\u001b[0;32m/usr/local/lib/python3.7/dist-packages/keras/engine/training.py\u001b[0m in \u001b[0;36mfit\u001b[0;34m(self, x, y, batch_size, epochs, verbose, callbacks, validation_split, validation_data, shuffle, class_weight, sample_weight, initial_epoch, steps_per_epoch, validation_steps, validation_batch_size, validation_freq, max_queue_size, workers, use_multiprocessing)\u001b[0m\n\u001b[1;32m   1382\u001b[0m                 _r=1):\n\u001b[1;32m   1383\u001b[0m               \u001b[0mcallbacks\u001b[0m\u001b[0;34m.\u001b[0m\u001b[0mon_train_batch_begin\u001b[0m\u001b[0;34m(\u001b[0m\u001b[0mstep\u001b[0m\u001b[0;34m)\u001b[0m\u001b[0;34m\u001b[0m\u001b[0;34m\u001b[0m\u001b[0m\n\u001b[0;32m-> 1384\u001b[0;31m               \u001b[0mtmp_logs\u001b[0m \u001b[0;34m=\u001b[0m \u001b[0mself\u001b[0m\u001b[0;34m.\u001b[0m\u001b[0mtrain_function\u001b[0m\u001b[0;34m(\u001b[0m\u001b[0miterator\u001b[0m\u001b[0;34m)\u001b[0m\u001b[0;34m\u001b[0m\u001b[0;34m\u001b[0m\u001b[0m\n\u001b[0m\u001b[1;32m   1385\u001b[0m               \u001b[0;32mif\u001b[0m \u001b[0mdata_handler\u001b[0m\u001b[0;34m.\u001b[0m\u001b[0mshould_sync\u001b[0m\u001b[0;34m:\u001b[0m\u001b[0;34m\u001b[0m\u001b[0;34m\u001b[0m\u001b[0m\n\u001b[1;32m   1386\u001b[0m                 \u001b[0mcontext\u001b[0m\u001b[0;34m.\u001b[0m\u001b[0masync_wait\u001b[0m\u001b[0;34m(\u001b[0m\u001b[0;34m)\u001b[0m\u001b[0;34m\u001b[0m\u001b[0;34m\u001b[0m\u001b[0m\n",
            "\u001b[0;32m/usr/local/lib/python3.7/dist-packages/tensorflow/python/util/traceback_utils.py\u001b[0m in \u001b[0;36merror_handler\u001b[0;34m(*args, **kwargs)\u001b[0m\n\u001b[1;32m    148\u001b[0m     \u001b[0mfiltered_tb\u001b[0m \u001b[0;34m=\u001b[0m \u001b[0;32mNone\u001b[0m\u001b[0;34m\u001b[0m\u001b[0;34m\u001b[0m\u001b[0m\n\u001b[1;32m    149\u001b[0m     \u001b[0;32mtry\u001b[0m\u001b[0;34m:\u001b[0m\u001b[0;34m\u001b[0m\u001b[0;34m\u001b[0m\u001b[0m\n\u001b[0;32m--> 150\u001b[0;31m       \u001b[0;32mreturn\u001b[0m \u001b[0mfn\u001b[0m\u001b[0;34m(\u001b[0m\u001b[0;34m*\u001b[0m\u001b[0margs\u001b[0m\u001b[0;34m,\u001b[0m \u001b[0;34m**\u001b[0m\u001b[0mkwargs\u001b[0m\u001b[0;34m)\u001b[0m\u001b[0;34m\u001b[0m\u001b[0;34m\u001b[0m\u001b[0m\n\u001b[0m\u001b[1;32m    151\u001b[0m     \u001b[0;32mexcept\u001b[0m \u001b[0mException\u001b[0m \u001b[0;32mas\u001b[0m \u001b[0me\u001b[0m\u001b[0;34m:\u001b[0m\u001b[0;34m\u001b[0m\u001b[0;34m\u001b[0m\u001b[0m\n\u001b[1;32m    152\u001b[0m       \u001b[0mfiltered_tb\u001b[0m \u001b[0;34m=\u001b[0m \u001b[0m_process_traceback_frames\u001b[0m\u001b[0;34m(\u001b[0m\u001b[0me\u001b[0m\u001b[0;34m.\u001b[0m\u001b[0m__traceback__\u001b[0m\u001b[0;34m)\u001b[0m\u001b[0;34m\u001b[0m\u001b[0;34m\u001b[0m\u001b[0m\n",
            "\u001b[0;32m/usr/local/lib/python3.7/dist-packages/tensorflow/python/eager/def_function.py\u001b[0m in \u001b[0;36m__call__\u001b[0;34m(self, *args, **kwds)\u001b[0m\n\u001b[1;32m    913\u001b[0m \u001b[0;34m\u001b[0m\u001b[0m\n\u001b[1;32m    914\u001b[0m       \u001b[0;32mwith\u001b[0m \u001b[0mOptionalXlaContext\u001b[0m\u001b[0;34m(\u001b[0m\u001b[0mself\u001b[0m\u001b[0;34m.\u001b[0m\u001b[0m_jit_compile\u001b[0m\u001b[0;34m)\u001b[0m\u001b[0;34m:\u001b[0m\u001b[0;34m\u001b[0m\u001b[0;34m\u001b[0m\u001b[0m\n\u001b[0;32m--> 915\u001b[0;31m         \u001b[0mresult\u001b[0m \u001b[0;34m=\u001b[0m \u001b[0mself\u001b[0m\u001b[0;34m.\u001b[0m\u001b[0m_call\u001b[0m\u001b[0;34m(\u001b[0m\u001b[0;34m*\u001b[0m\u001b[0margs\u001b[0m\u001b[0;34m,\u001b[0m \u001b[0;34m**\u001b[0m\u001b[0mkwds\u001b[0m\u001b[0;34m)\u001b[0m\u001b[0;34m\u001b[0m\u001b[0;34m\u001b[0m\u001b[0m\n\u001b[0m\u001b[1;32m    916\u001b[0m \u001b[0;34m\u001b[0m\u001b[0m\n\u001b[1;32m    917\u001b[0m       \u001b[0mnew_tracing_count\u001b[0m \u001b[0;34m=\u001b[0m \u001b[0mself\u001b[0m\u001b[0;34m.\u001b[0m\u001b[0mexperimental_get_tracing_count\u001b[0m\u001b[0;34m(\u001b[0m\u001b[0;34m)\u001b[0m\u001b[0;34m\u001b[0m\u001b[0;34m\u001b[0m\u001b[0m\n",
            "\u001b[0;32m/usr/local/lib/python3.7/dist-packages/tensorflow/python/eager/def_function.py\u001b[0m in \u001b[0;36m_call\u001b[0;34m(self, *args, **kwds)\u001b[0m\n\u001b[1;32m    945\u001b[0m       \u001b[0;31m# In this case we have created variables on the first call, so we run the\u001b[0m\u001b[0;34m\u001b[0m\u001b[0;34m\u001b[0m\u001b[0;34m\u001b[0m\u001b[0m\n\u001b[1;32m    946\u001b[0m       \u001b[0;31m# defunned version which is guaranteed to never create variables.\u001b[0m\u001b[0;34m\u001b[0m\u001b[0;34m\u001b[0m\u001b[0;34m\u001b[0m\u001b[0m\n\u001b[0;32m--> 947\u001b[0;31m       \u001b[0;32mreturn\u001b[0m \u001b[0mself\u001b[0m\u001b[0;34m.\u001b[0m\u001b[0m_stateless_fn\u001b[0m\u001b[0;34m(\u001b[0m\u001b[0;34m*\u001b[0m\u001b[0margs\u001b[0m\u001b[0;34m,\u001b[0m \u001b[0;34m**\u001b[0m\u001b[0mkwds\u001b[0m\u001b[0;34m)\u001b[0m  \u001b[0;31m# pylint: disable=not-callable\u001b[0m\u001b[0;34m\u001b[0m\u001b[0;34m\u001b[0m\u001b[0m\n\u001b[0m\u001b[1;32m    948\u001b[0m     \u001b[0;32melif\u001b[0m \u001b[0mself\u001b[0m\u001b[0;34m.\u001b[0m\u001b[0m_stateful_fn\u001b[0m \u001b[0;32mis\u001b[0m \u001b[0;32mnot\u001b[0m \u001b[0;32mNone\u001b[0m\u001b[0;34m:\u001b[0m\u001b[0;34m\u001b[0m\u001b[0;34m\u001b[0m\u001b[0m\n\u001b[1;32m    949\u001b[0m       \u001b[0;31m# Release the lock early so that multiple threads can perform the call\u001b[0m\u001b[0;34m\u001b[0m\u001b[0;34m\u001b[0m\u001b[0;34m\u001b[0m\u001b[0m\n",
            "\u001b[0;32m/usr/local/lib/python3.7/dist-packages/tensorflow/python/eager/function.py\u001b[0m in \u001b[0;36m__call__\u001b[0;34m(self, *args, **kwargs)\u001b[0m\n\u001b[1;32m   2955\u001b[0m        filtered_flat_args) = self._maybe_define_function(args, kwargs)\n\u001b[1;32m   2956\u001b[0m     return graph_function._call_flat(\n\u001b[0;32m-> 2957\u001b[0;31m         filtered_flat_args, captured_inputs=graph_function.captured_inputs)  # pylint: disable=protected-access\n\u001b[0m\u001b[1;32m   2958\u001b[0m \u001b[0;34m\u001b[0m\u001b[0m\n\u001b[1;32m   2959\u001b[0m   \u001b[0;34m@\u001b[0m\u001b[0mproperty\u001b[0m\u001b[0;34m\u001b[0m\u001b[0;34m\u001b[0m\u001b[0m\n",
            "\u001b[0;32m/usr/local/lib/python3.7/dist-packages/tensorflow/python/eager/function.py\u001b[0m in \u001b[0;36m_call_flat\u001b[0;34m(self, args, captured_inputs, cancellation_manager)\u001b[0m\n\u001b[1;32m   1852\u001b[0m       \u001b[0;31m# No tape is watching; skip to running the function.\u001b[0m\u001b[0;34m\u001b[0m\u001b[0;34m\u001b[0m\u001b[0;34m\u001b[0m\u001b[0m\n\u001b[1;32m   1853\u001b[0m       return self._build_call_outputs(self._inference_function.call(\n\u001b[0;32m-> 1854\u001b[0;31m           ctx, args, cancellation_manager=cancellation_manager))\n\u001b[0m\u001b[1;32m   1855\u001b[0m     forward_backward = self._select_forward_and_backward_functions(\n\u001b[1;32m   1856\u001b[0m         \u001b[0margs\u001b[0m\u001b[0;34m,\u001b[0m\u001b[0;34m\u001b[0m\u001b[0;34m\u001b[0m\u001b[0m\n",
            "\u001b[0;32m/usr/local/lib/python3.7/dist-packages/tensorflow/python/eager/function.py\u001b[0m in \u001b[0;36mcall\u001b[0;34m(self, ctx, args, cancellation_manager)\u001b[0m\n\u001b[1;32m    502\u001b[0m               \u001b[0minputs\u001b[0m\u001b[0;34m=\u001b[0m\u001b[0margs\u001b[0m\u001b[0;34m,\u001b[0m\u001b[0;34m\u001b[0m\u001b[0;34m\u001b[0m\u001b[0m\n\u001b[1;32m    503\u001b[0m               \u001b[0mattrs\u001b[0m\u001b[0;34m=\u001b[0m\u001b[0mattrs\u001b[0m\u001b[0;34m,\u001b[0m\u001b[0;34m\u001b[0m\u001b[0;34m\u001b[0m\u001b[0m\n\u001b[0;32m--> 504\u001b[0;31m               ctx=ctx)\n\u001b[0m\u001b[1;32m    505\u001b[0m         \u001b[0;32melse\u001b[0m\u001b[0;34m:\u001b[0m\u001b[0;34m\u001b[0m\u001b[0;34m\u001b[0m\u001b[0m\n\u001b[1;32m    506\u001b[0m           outputs = execute.execute_with_cancellation(\n",
            "\u001b[0;32m/usr/local/lib/python3.7/dist-packages/tensorflow/python/eager/execute.py\u001b[0m in \u001b[0;36mquick_execute\u001b[0;34m(op_name, num_outputs, inputs, attrs, ctx, name)\u001b[0m\n\u001b[1;32m     53\u001b[0m     \u001b[0mctx\u001b[0m\u001b[0;34m.\u001b[0m\u001b[0mensure_initialized\u001b[0m\u001b[0;34m(\u001b[0m\u001b[0;34m)\u001b[0m\u001b[0;34m\u001b[0m\u001b[0;34m\u001b[0m\u001b[0m\n\u001b[1;32m     54\u001b[0m     tensors = pywrap_tfe.TFE_Py_Execute(ctx._handle, device_name, op_name,\n\u001b[0;32m---> 55\u001b[0;31m                                         inputs, attrs, num_outputs)\n\u001b[0m\u001b[1;32m     56\u001b[0m   \u001b[0;32mexcept\u001b[0m \u001b[0mcore\u001b[0m\u001b[0;34m.\u001b[0m\u001b[0m_NotOkStatusException\u001b[0m \u001b[0;32mas\u001b[0m \u001b[0me\u001b[0m\u001b[0;34m:\u001b[0m\u001b[0;34m\u001b[0m\u001b[0;34m\u001b[0m\u001b[0m\n\u001b[1;32m     57\u001b[0m     \u001b[0;32mif\u001b[0m \u001b[0mname\u001b[0m \u001b[0;32mis\u001b[0m \u001b[0;32mnot\u001b[0m \u001b[0;32mNone\u001b[0m\u001b[0;34m:\u001b[0m\u001b[0;34m\u001b[0m\u001b[0;34m\u001b[0m\u001b[0m\n",
            "\u001b[0;31mKeyboardInterrupt\u001b[0m: "
          ]
        }
      ],
      "source": [
        "loss = tf.losses.SparseCategoricalCrossentropy(from_logits=True)\n",
        "model.compile(optimizer='adam', loss=loss,metrics='accuracy')\n",
        "\n",
        "history = model.fit(dataset, epochs=900)"
      ]
    },
    {
      "cell_type": "markdown",
      "metadata": {
        "id": "casEwxrXcv4Y"
      },
      "source": [
        "## V. Use the model\n",
        "\n",
        "Now that our model has been trained, we can use it to generate text. As mentioned earlier, to do so we have to keep track of its internal state, or memory, so that we can use previous text predictions to inform later ones.\n",
        "\n",
        "However, with RNN generated text, if we always just pick the character with the highest probability, our model tends to get stuck in a loop. So instead we will create a probability distribution of characters for each step, and then sample from that distribution. We can add some variation to this using a paramter known as [\"temperature\"](https://cs.stackexchange.com/questions/79241/what-is-temperature-in-lstm-and-neural-networks-generally)."
      ]
    },
    {
      "cell_type": "code",
      "execution_count": 22,
      "metadata": {
        "id": "V3lhlyfwcqIN"
      },
      "outputs": [],
      "source": [
        "# Here's the code we'll use to sample for us. It has some extra steps to apply\n",
        "# the temperature to the distribution, and to make sure we don't get empty\n",
        "# characters in our text. Most importantly, it will keep track of our model\n",
        "# state for us.\n",
        "\n",
        "class OneStep(tf.keras.Model):\n",
        "  def __init__(self, model, chars_from_ids, ids_from_chars, temperature=1):\n",
        "    super().__init__()\n",
        "    self.temperature=temperature\n",
        "    self.model = model\n",
        "    self.chars_from_ids = chars_from_ids\n",
        "    self.ids_from_chars = ids_from_chars\n",
        "\n",
        "    # Create a mask to prevent \"\" or \"[UNK]\" from being generated.\n",
        "    skip_ids = self.ids_from_chars(['','[UNK]'])[:, None]\n",
        "    sparse_mask = tf.SparseTensor(\n",
        "        # Put a -inf at each bad index.\n",
        "        values=[-float('inf')]*len(skip_ids),\n",
        "        indices = skip_ids,\n",
        "        # Match the shape to the vocabulary\n",
        "        dense_shape=[len(ids_from_chars.get_vocabulary())]) \n",
        "    self.prediction_mask = tf.sparse.to_dense(sparse_mask,validate_indices=False)\n",
        "\n",
        "  @tf.function\n",
        "  def generate_one_step(self, inputs, states=None):\n",
        "    # Convert strings to token IDs.\n",
        "    input_chars = tf.strings.unicode_split(inputs, 'UTF-8')\n",
        "    input_ids = self.ids_from_chars(input_chars).to_tensor()\n",
        "\n",
        "    # Run the model.\n",
        "    # predicted_logits.shape is [batch, char, next_char_logits] \n",
        "    predicted_logits, states =  self.model(inputs=input_ids, states=states, \n",
        "                                          return_state=True)\n",
        "    # Only use the last prediction.\n",
        "    predicted_logits = predicted_logits[:, -1, :]\n",
        "    predicted_logits = predicted_logits/self.temperature\n",
        "    \n",
        "    # Apply the prediction mask: prevent \"\" or \"[UNK]\" from being generated.\n",
        "    predicted_logits = predicted_logits + self.prediction_mask\n",
        "\n",
        "    # Sample the output logits to generate token IDs.\n",
        "    predicted_ids = tf.random.categorical(predicted_logits, num_samples=1)\n",
        "    predicted_ids = tf.squeeze(predicted_ids, axis=-1)\n",
        "\n",
        "    # Return the characters and model state.\n",
        "    return chars_from_ids(predicted_ids), states\n"
      ]
    },
    {
      "cell_type": "code",
      "execution_count": 23,
      "metadata": {
        "id": "fSUghgUFc6ba",
        "outputId": "f4c3f9dc-f97c-41c5-851c-03ef477a5c42",
        "colab": {
          "base_uri": "https://localhost:8080/"
        }
      },
      "outputs": [
        {
          "output_type": "stream",
          "name": "stdout",
          "text": [
            "The world seemed like such a peaceful place until the magic tree was discovered in London.\r\n",
            "\r\n",
            "\r\n",
            "\r\n",
            "Chapter V. Seetain of back.\r\n",
            "\r\n",
            "Not a copyright nocking club. At the end of a libbling\r\n",
            "\r\n",
            "The domint of run, in the backs.\r\n",
            "\r\n",
            "“Olley on its fight was made a you are\r\n",
            "roy bo to lay over, and expected back and\r\n",
            "North. But a flief straight and Now and morn-place. The Scales outall poing at tight beach conaced pitched and breeking or days at that it. Eld less ter sore, in a fury, his trapped had comesion; and ere the darkness had come each time as Selte and hardently could be laugh joy of it song supperse wor mad neard that there was no men were no matter how Spott Sol-leks was that he had witnessed the man in the red sweater. Again a thee acone shate. At such to his awaye at the fore that spirr threathering of discomproach of an unbrutteen. From the beginning that there was life about ahed and action, Buck perred in the terms of things.\r\n",
            "\r\n",
            "Spring camed of a givent\r\n",
            "and every cut and sniffed out of his abreaming, experience gut in the point barke, and while he came out of his desise\n"
          ]
        }
      ],
      "source": [
        "# Create an instance of the character generator\n",
        "one_step_model = OneStep(model, chars_from_ids, ids_from_chars)\n",
        "\n",
        "# Now, let's generate a 1000 character chapter by giving our model \"Chapter 1\"\n",
        "# as its starting text\n",
        "states = None\n",
        "next_char = tf.constant([\"The world seemed like such a peaceful place until the magic tree was discovered in London.\"])\n",
        "result = [next_char]\n",
        "\n",
        "for n in range(1000):\n",
        "  next_char, states = one_step_model.generate_one_step(next_char, states=states)\n",
        "  result.append(next_char)\n",
        "\n",
        "result = tf.strings.join(result)\n",
        "\n",
        "# Print the results formatted.\n",
        "print(result[0].numpy().decode('utf-8'))\n",
        "\n",
        "\n"
      ]
    },
    {
      "cell_type": "markdown",
      "metadata": {
        "id": "b2Cudf3YoaKr"
      },
      "source": [
        "## VI. Next Steps\n",
        "\n",
        "This is a very simple model with one GRU layer and then an output layer. However, considering how simple it is and the fact that we are predicting outputs character by character, the text it produces is pretty amazing. Though it still has a long way to go before publication.\n",
        "\n",
        "There are many other RNN architectures you could try, such as adding additional hidden dense layers, replacing GRU with one or more LSTM layers, combining GRU and LSTM, etc...\n",
        "\n",
        "You could also experiment with better text cleanup to make sure odd punctuation doesn't appear, or finding longer texts to use. If you combine texts from two authors, what happens? Can you generate a Jane Austen stageplay by combining austen and shakespeare texts?\n",
        "\n",
        "Finally, there are a number of hyperparameters to tweak, such as temperature, epochs, batch size, sequence length, etc..."
      ]
    },
    {
      "cell_type": "code",
      "source": [
        "# Save the entire model as a SavedModel. This save into colab.\n",
        "!mkdir -p saved_model\n",
        "model.save('saved_model/my_model')"
      ],
      "metadata": {
        "id": "oxg5my9jbpF6"
      },
      "execution_count": null,
      "outputs": []
    },
    {
      "cell_type": "code",
      "source": [
        "from google.colab import files\n",
        "import shutil\n",
        "# This code compress the directory in a zip file and downloaded\n",
        "# Specify export directory and use tensorflow to save your_model\n",
        "export_dir = './saved_model'\n",
        "export_zip = './saved_zip'\n",
        "#tf.saved_model.save(your_model, export_dir=export_dir)\n",
        "# Download the model (Can take several minutes but work)\n",
        "\n",
        "shutil.make_archive(export_zip, 'zip', export_dir)\n",
        "\n",
        "files.download(export_zip+'.zip')\n"
      ],
      "metadata": {
        "id": "4NblXP02bt_S"
      },
      "execution_count": null,
      "outputs": []
    },
    {
      "cell_type": "code",
      "source": [
        "#This code unzip the previous saved zip. The one from colab, if you want to load\n",
        "# it from the downloaded use :\n",
        "#!echo \"Downloading files...\"\n",
        "#!wget -q https://github.com/your name in github were you loaded the zip/saved_zip.zip)\n",
        "\n",
        "!echo \"Unzipping files...\"\n",
        "!unzip -q saved_zip.zip"
      ],
      "metadata": {
        "id": "qKt_X8PwbwNS"
      },
      "execution_count": null,
      "outputs": []
    },
    {
      "cell_type": "code",
      "source": [
        "# This code take the unziped model and recreate it\n",
        "# The path is into colab\n",
        "new_model = tf.keras.models.load_model('saved_model/my_model')\n",
        "\n",
        "# Check its architecture\n",
        "new_model.summary()"
      ],
      "metadata": {
        "id": "PfPFvQ4-b0Sy"
      },
      "execution_count": null,
      "outputs": []
    },
    {
      "cell_type": "code",
      "source": [
        ""
      ],
      "metadata": {
        "id": "rkzHCDFeIM6M"
      },
      "execution_count": null,
      "outputs": []
    },
    {
      "cell_type": "code",
      "source": [
        "# launch tensorboard in TensorBoard.dev (public for sharing the link)\n",
        "\n",
        "!tensorboard dev upload \\\n",
        "  --logdir logs/fit \\\n",
        "  --name \"(optional) My first convolutional\" \\\n",
        "  --description \"(optional) Simple comparison of several hyperparameters\" \\\n",
        "  --one_shot\n",
        "  "
      ],
      "metadata": {
        "id": "SR-xMA_H2QaD",
        "colab": {
          "base_uri": "https://localhost:8080/"
        },
        "outputId": "9ac4511b-353a-4ef6-c2dc-80c57aace563"
      },
      "execution_count": 25,
      "outputs": [
        {
          "output_type": "stream",
          "name": "stdout",
          "text": [
            "logs/fit: No such directory.\n",
            "User specified `one_shot` mode with an unavailable logdir. Exiting without creating an experiment.\n"
          ]
        }
      ]
    }
  ]
}
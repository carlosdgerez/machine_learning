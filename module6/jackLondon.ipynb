{
  "nbformat": 4,
  "nbformat_minor": 0,
  "metadata": {
    "colab": {
      "name": "jackLondon.ipynb",
      "provenance": [],
      "authorship_tag": "ABX9TyMUHIB5WGRmyDV2Gf0vj7hE",
      "include_colab_link": true
    },
    "kernelspec": {
      "name": "python3",
      "display_name": "Python 3"
    },
    "language_info": {
      "name": "python"
    },
    "accelerator": "GPU",
    "gpuClass": "standard"
  },
  "cells": [
    {
      "cell_type": "markdown",
      "metadata": {
        "id": "view-in-github",
        "colab_type": "text"
      },
      "source": [
        "<a href=\"https://colab.research.google.com/github/carlosdgerez/machine_learning/blob/main/module6/jackLondon.ipynb\" target=\"_parent\"><img src=\"https://colab.research.google.com/assets/colab-badge.svg\" alt=\"Open In Colab\"/></a>"
      ]
    },
    {
      "cell_type": "code",
      "execution_count": 59,
      "metadata": {
        "id": "xbLHRNi3hsGs"
      },
      "outputs": [],
      "source": [
        ""
      ]
    },
    {
      "cell_type": "code",
      "execution_count": 60,
      "metadata": {
        "id": "XtiXE04uGB_U"
      },
      "outputs": [],
      "source": [
        "# Import libraries\n",
        "import tensorflow as tf\n",
        "from tensorflow.keras.layers.experimental import preprocessing\n",
        "\n",
        "import numpy as np\n",
        "import os\n",
        "import time"
      ]
    },
    {
      "cell_type": "markdown",
      "metadata": {
        "id": "qv4r-dKnSRKz"
      },
      "source": [
        "## I. Parse Text Sources\n",
        "First we'll load our text sources and create our vocabulary lists and encoders. \n",
        "\n",
        "There are ways we could do this in pure python, but using the tensorflow data structures and libraries allow us to keep things super-optimized."
      ]
    },
    {
      "cell_type": "code",
      "execution_count": 61,
      "metadata": {
        "colab": {
          "base_uri": "https://localhost:8080/"
        },
        "id": "H8RbnIjwHGoR",
        "outputId": "7bd668c8-2487-4252-f326-1a901b3c3c50"
      },
      "outputs": [
        {
          "output_type": "stream",
          "name": "stdout",
          "text": [
            "Length of text: 198823 characters\n"
          ]
        }
      ],
      "source": [
        "# Load file data\n",
        "path_to_file = tf.keras.utils.get_file('new.txt', 'https://www.gutenberg.org/files/215/215-0.txt')\n",
        "text = open(path_to_file, 'rb').read().decode(encoding='utf-8')\n",
        "print('Length of text: {} characters'.format(len(text)))"
      ]
    },
    {
      "cell_type": "code",
      "execution_count": 62,
      "metadata": {
        "colab": {
          "base_uri": "https://localhost:8080/"
        },
        "id": "2XRnt0XUHUrq",
        "outputId": "16d775fd-9ab4-4f92-d3dc-932b96249220"
      },
      "outputs": [
        {
          "output_type": "stream",
          "name": "stdout",
          "text": [
            "﻿\r\n",
            "The Project Gutenberg EBook of The Call of the Wild, by Jack London\r\n",
            "\r\n",
            "This eBook is for the use of anyone anywhere in the United States and most\r\n",
            "other parts of the world at no cost and with almos\n"
          ]
        }
      ],
      "source": [
        "# Verify the first part of our data\n",
        "print(text[:200])"
      ]
    },
    {
      "cell_type": "code",
      "execution_count": 63,
      "metadata": {
        "colab": {
          "base_uri": "https://localhost:8080/"
        },
        "id": "2SLd7l0HP1Po",
        "outputId": "2eba87aa-859e-4964-97ce-ff6199dee788"
      },
      "outputs": [
        {
          "output_type": "stream",
          "name": "stdout",
          "text": [
            "93 unique characters\n",
            "['\\n', '\\r', ' ', '!', '\"', '#', '$', '%', \"'\", '(', ')', '*', ',', '-', '.', '/', '0', '1', '2', '3', '4', '5', '6', '7', '8', '9', ':', ';', '?', '@', 'A', 'B', 'C', 'D', 'E', 'F', 'G', 'H', 'I', 'J', 'K', 'L', 'M', 'N', 'O', 'P', 'Q', 'R', 'S', 'T', 'U', 'V', 'W', 'X', 'Y', '[', ']', '_', 'a', 'b', 'c', 'd', 'e', 'f', 'g', 'h', 'i', 'j', 'k', 'l', 'm', 'n', 'o', 'p', 'q', 'r', 's', 't', 'u', 'v', 'w', 'x', 'y', 'z', 'ç', 'ñ', 'œ', '—', '‘', '’', '“', '”', '\\ufeff']\n"
          ]
        }
      ],
      "source": [
        "# Now we'll get a list of the unique characters in the file. This will form the\n",
        "# vocabulary of our network. There may be some characters we want to remove from this \n",
        "# set as we refine the network.\n",
        "vocab = sorted(set(text))\n",
        "print('{} unique characters'.format(len(vocab)))\n",
        "print(vocab)"
      ]
    },
    {
      "cell_type": "code",
      "execution_count": 64,
      "metadata": {
        "id": "NtjOxL7wQibb"
      },
      "outputs": [],
      "source": [
        "# Next, we'll encode encode these characters into numbers so we can use them\n",
        "# with our neural network, then we'll create some mappings between the characters\n",
        "# and their numeric representations\n",
        "ids_from_chars = preprocessing.StringLookup(vocabulary=list(vocab))\n",
        "chars_from_ids = tf.keras.layers.experimental.preprocessing.StringLookup(vocabulary=ids_from_chars.get_vocabulary(), invert=True)\n",
        "\n",
        "# Here's a little helper function that we can use to turn a sequence of ids\n",
        "# back into a string:\n",
        "# turn them into a string:\n",
        "def text_from_ids(ids):\n",
        "  joinedTensor = tf.strings.reduce_join(chars_from_ids(ids), axis=-1)\n",
        "  return joinedTensor.numpy().decode(\"utf-8\")"
      ]
    },
    {
      "cell_type": "code",
      "execution_count": 65,
      "metadata": {
        "colab": {
          "base_uri": "https://localhost:8080/"
        },
        "id": "52bkemreRw8q",
        "outputId": "29655896-fa1d-4c9e-f127-a7c87d4ebd48"
      },
      "outputs": [
        {
          "output_type": "execute_result",
          "data": {
            "text/plain": [
              "<tf.Tensor: shape=(5,), dtype=int64, numpy=array([50, 76, 79, 78, 66])>"
            ]
          },
          "metadata": {},
          "execution_count": 65
        }
      ],
      "source": [
        "# Now we'll verify that they work, by getting the code for \"A\", and then looking\n",
        "# that up in reverse\n",
        "testids = ids_from_chars([\"T\", \"r\", \"u\", \"t\", \"h\"])\n",
        "testids"
      ]
    },
    {
      "cell_type": "code",
      "execution_count": 66,
      "metadata": {
        "colab": {
          "base_uri": "https://localhost:8080/"
        },
        "id": "vGUnSHjtD_IJ",
        "outputId": "16edfd49-1699-44c3-a626-6928e1e37a4c"
      },
      "outputs": [
        {
          "output_type": "execute_result",
          "data": {
            "text/plain": [
              "<tf.Tensor: shape=(5,), dtype=string, numpy=array([b'T', b'r', b'u', b't', b'h'], dtype=object)>"
            ]
          },
          "metadata": {},
          "execution_count": 66
        }
      ],
      "source": [
        "chars_from_ids(testids)"
      ]
    },
    {
      "cell_type": "code",
      "execution_count": 67,
      "metadata": {
        "colab": {
          "base_uri": "https://localhost:8080/",
          "height": 35
        },
        "id": "8rghkpLLLjL5",
        "outputId": "ddc185be-948f-4f62-f84f-d79ede3a4f63"
      },
      "outputs": [
        {
          "output_type": "execute_result",
          "data": {
            "text/plain": [
              "'Truth'"
            ],
            "application/vnd.google.colaboratory.intrinsic+json": {
              "type": "string"
            }
          },
          "metadata": {},
          "execution_count": 67
        }
      ],
      "source": [
        "testString = text_from_ids( testids )\n",
        "testString"
      ]
    },
    {
      "cell_type": "markdown",
      "metadata": {
        "id": "MRXMVqTcSpA0"
      },
      "source": [
        "## II. Construct our training data\n",
        "Next we need to construct our training data by building sentence chunks. Each chunk will consist of a sequence of characters and a corresponding \"next sequence\" of the same length showing what would happen if we move forward in the text. This \"next sequence\" becomes our target variable.\n",
        "\n",
        "For example, if this were our text:\n",
        "\n",
        "> It is a truth universally acknowledged, that a single man in possession\n",
        "of a good fortune, must be in want of a wife.\n",
        "\n",
        "And our sequence length was 10 with a step size of 1, our first chunk would be:\n",
        "\n",
        "* Sequence: `It is a tr`\n",
        "* Next Sequence: `t is a tru`\n",
        "\n",
        "Our second chunk would be:\n",
        "\n",
        "* Sequence: `t is a tru`\n",
        "* Next Word: ` is a trut`\n",
        "\n"
      ]
    },
    {
      "cell_type": "code",
      "execution_count": 68,
      "metadata": {
        "colab": {
          "base_uri": "https://localhost:8080/"
        },
        "id": "5PLJWOg2P_fE",
        "outputId": "6487697c-0741-46c3-8158-4d674299e8b5"
      },
      "outputs": [
        {
          "output_type": "execute_result",
          "data": {
            "text/plain": [
              "<tf.Tensor: shape=(198823,), dtype=int64, numpy=array([93,  2,  1, ...,  1,  2,  1])>"
            ]
          },
          "metadata": {},
          "execution_count": 68
        }
      ],
      "source": [
        "# First, create a stream of encoded integers from our text\n",
        "all_ids = ids_from_chars(tf.strings.unicode_split(text, 'UTF-8'))\n",
        "all_ids"
      ]
    },
    {
      "cell_type": "code",
      "execution_count": 69,
      "metadata": {
        "id": "-nBqVY6pFpZs"
      },
      "outputs": [],
      "source": [
        "# Now, convert that into a tensorflow dataset\n",
        "ids_dataset = tf.data.Dataset.from_tensor_slices(all_ids)"
      ]
    },
    {
      "cell_type": "code",
      "execution_count": 70,
      "metadata": {
        "id": "8Fr28CJxUBtG"
      },
      "outputs": [],
      "source": [
        "# Finally, let's batch these sequences up into chunks for our training\n",
        "seq_length = 1000\n",
        "sequences = ids_dataset.batch(seq_length+1, drop_remainder=True)\n",
        "\n",
        "# This function will generate our sequence pairs:\n",
        "def split_input_target(sequence):\n",
        "    input_text = sequence[:-1]\n",
        "    target_text = sequence[1:]\n",
        "    return input_text, target_text\n",
        "\n",
        "# Call the function for every sequence in our list to create a new dataset\n",
        "# of input->target pairs\n",
        "dataset = sequences.map(split_input_target)"
      ]
    },
    {
      "cell_type": "code",
      "execution_count": 71,
      "metadata": {
        "colab": {
          "base_uri": "https://localhost:8080/"
        },
        "id": "poNVukmsUFkq",
        "outputId": "2ba8ccb8-4700-4444-fa10-312524ff1f5d"
      },
      "outputs": [
        {
          "output_type": "stream",
          "name": "stdout",
          "text": [
            "Input:  ﻿\r\n",
            "The Project Gutenberg EBook of The Call of the Wild, by Jack London\r\n",
            "\r\n",
            "This eBook is for the use of anyone anywhere in the United States and most\r\n",
            "other parts of the world at no cost and with almost no restrictions\r\n",
            "whatsoever.  You may copy it, give it away or re-use it under the terms of\r\n",
            "the Project Gutenberg License included with this eBook or online at\r\n",
            "www.gutenberg.org.  If you are not located in the United States, you'll have\r\n",
            "to check the laws of the country where you are located before using this ebook.\r\n",
            "\r\n",
            "Title: The Call of the Wild\r\n",
            "\r\n",
            "Author: Jack London\r\n",
            "\r\n",
            "Release Date: July 1, 2008 [EBook #215]\r\n",
            "Last updated: August 30, 2019\r\n",
            "\r\n",
            "Language: English\r\n",
            "\r\n",
            "Character set encoding: UTF-8\r\n",
            "\r\n",
            "*** START OF THIS PROJECT GUTENBERG EBOOK THE CALL OF THE WILD ***\r\n",
            "\r\n",
            "\r\n",
            "\r\n",
            "\r\n",
            "Produced by Ryan, Kirstin, Linda and Rick Trapp, and David Widger\r\n",
            "\r\n",
            "\r\n",
            "\r\n",
            "\r\n",
            "cover \r\n",
            "\r\n",
            "\r\n",
            "\r\n",
            "The Call of the Wild\r\n",
            "\r\n",
            "\r\n",
            "\r\n",
            "by Jack London\r\n",
            "\r\n",
            "\r\n",
            "\r\n",
            "Contents\r\n",
            "\r\n",
            "\r\n",
            " Chapter I. Into the Primitive\r\n",
            " Chapter II. The Law of Club and\n",
            "--------\n",
            "Target:  \r\n",
            "The Project Gutenberg EBook of The Call of the Wild, by Jack London\r\n",
            "\r\n",
            "This eBook is for the use of anyone anywhere in the United States and most\r\n",
            "other parts of the world at no cost and with almost no restrictions\r\n",
            "whatsoever.  You may copy it, give it away or re-use it under the terms of\r\n",
            "the Project Gutenberg License included with this eBook or online at\r\n",
            "www.gutenberg.org.  If you are not located in the United States, you'll have\r\n",
            "to check the laws of the country where you are located before using this ebook.\r\n",
            "\r\n",
            "Title: The Call of the Wild\r\n",
            "\r\n",
            "Author: Jack London\r\n",
            "\r\n",
            "Release Date: July 1, 2008 [EBook #215]\r\n",
            "Last updated: August 30, 2019\r\n",
            "\r\n",
            "Language: English\r\n",
            "\r\n",
            "Character set encoding: UTF-8\r\n",
            "\r\n",
            "*** START OF THIS PROJECT GUTENBERG EBOOK THE CALL OF THE WILD ***\r\n",
            "\r\n",
            "\r\n",
            "\r\n",
            "\r\n",
            "Produced by Ryan, Kirstin, Linda and Rick Trapp, and David Widger\r\n",
            "\r\n",
            "\r\n",
            "\r\n",
            "\r\n",
            "cover \r\n",
            "\r\n",
            "\r\n",
            "\r\n",
            "The Call of the Wild\r\n",
            "\r\n",
            "\r\n",
            "\r\n",
            "by Jack London\r\n",
            "\r\n",
            "\r\n",
            "\r\n",
            "Contents\r\n",
            "\r\n",
            "\r\n",
            " Chapter I. Into the Primitive\r\n",
            " Chapter II. The Law of Club and \n"
          ]
        }
      ],
      "source": [
        "# Verify our sequences\n",
        "for input_example, target_example in  dataset.take(1):\n",
        "    print(\"Input: \", text_from_ids(input_example))\n",
        "    print(\"--------\")\n",
        "    print(\"Target: \", text_from_ids(target_example))"
      ]
    },
    {
      "cell_type": "code",
      "execution_count": 72,
      "metadata": {
        "colab": {
          "base_uri": "https://localhost:8080/"
        },
        "id": "QDdr6xfZYa0o",
        "outputId": "25fd3459-7117-4178-b621-1f544d466f16"
      },
      "outputs": [
        {
          "output_type": "execute_result",
          "data": {
            "text/plain": [
              "<PrefetchDataset element_spec=(TensorSpec(shape=(64, 1000), dtype=tf.int64, name=None), TensorSpec(shape=(64, 1000), dtype=tf.int64, name=None))>"
            ]
          },
          "metadata": {},
          "execution_count": 72
        }
      ],
      "source": [
        "# Finally, we'll randomize the sequences so that we don't just memorize the books\n",
        "# in the order they were written, then build a new streaming dataset from that.\n",
        "# Using a streaming dataset allows us to pass the data to our network bit by bit,\n",
        "# rather than keeping it all in memory. We'll set it to figure out how much data\n",
        "# to prefetch in the background.\n",
        "\n",
        "BATCH_SIZE = 64\n",
        "BUFFER_SIZE = 10000\n",
        "\n",
        "dataset = (\n",
        "    dataset\n",
        "    .shuffle(BUFFER_SIZE)\n",
        "    .batch(BATCH_SIZE, drop_remainder=True)\n",
        "    .prefetch(tf.data.experimental.AUTOTUNE))\n",
        "\n",
        "dataset"
      ]
    },
    {
      "cell_type": "markdown",
      "metadata": {
        "id": "0VQ-KjEeZMzd"
      },
      "source": [
        "## III. Build the model\n",
        "\n",
        "Next, we'll build our model. Up until this point, you've been using the Keras symbolic, or imperative API for creating your models. Doing something like:\n",
        "\n",
        "    model = tf.keras.models.Sequentla()\n",
        "    model.add(tf.keras.layers.Dense(80, activation='relu))\n",
        "    etc...\n",
        "\n",
        "However, tensorflow has another way to build models called the Functional API, which gives us a lot more control over what happens inside the model. You can read more about [the differences and when to use each here](https://blog.tensorflow.org/2019/01/what-are-symbolic-and-imperative-apis.html).\n",
        "\n",
        "We'll use the functional API for our RNN in this example. This will involve defining our model as a custom subclass of `tf.keras.Model`.\n",
        "\n",
        "If you're not familiar with classes in python, you might want to review [this quick tutorial](https://www.w3schools.com/python/python_classes.asp), as well as [this one on class inheritance](https://www.w3schools.com/python/python_inheritance.asp).\n",
        "\n",
        "Using a functional model is important for our situation because we're not just training it to predict a single character for a single sequence, but as we make predictions with it, we need it to remember those predictions as use that memory as it makes new predictions.\n"
      ]
    },
    {
      "cell_type": "code",
      "execution_count": 73,
      "metadata": {
        "id": "Fj4uh9y-Y9mx"
      },
      "outputs": [],
      "source": [
        "# Create our custom model. Given a sequence of characters, this\n",
        "# model's job is to predict what character should come next.\n",
        "class AustenTextModel(tf.keras.Model):\n",
        "\n",
        "  # This is our class constructor method, it will be executed when\n",
        "  # we first create an instance of the class \n",
        "  def __init__(self, vocab_size, embedding_dim, rnn_units):\n",
        "    super().__init__(self)\n",
        "\n",
        "    # Our model will have three layers:\n",
        "    \n",
        "    # 1. An embedding layer that handles the encoding of our vocabulary into\n",
        "    #    a vector of values suitable for a neural network\n",
        "    self.embedding = tf.keras.layers.Embedding(vocab_size, embedding_dim)\n",
        "\n",
        "    # 2. A GRU layer that handles the \"memory\" aspects of our RNN. If you're\n",
        "    #    wondering why we use GRU instead of LSTM, and whether LSTM is better,\n",
        "    #    take a look at this article: https://datascience.stackexchange.com/questions/14581/when-to-use-gru-over-lstm\n",
        "    #    then consider trying out LSTM instead (or in addition to!)\n",
        "    self.gru = tf.keras.layers.GRU(rnn_units, return_sequences=True, return_state=True)\n",
        "    #self.gruSecond = tf.keras.layers.GRU(rnn_units, return_sequences=True, return_state=True)\n",
        "    # 3. Our output layer that will give us a set of probabilities for each\n",
        "    #    character in our vocabulary.\n",
        "    self.dense = tf.keras.layers.Dense(vocab_size)\n",
        "\n",
        "  # This function will be executed for each epoch of our training. Here\n",
        "  # we will manually feed information from one layer of our network to the \n",
        "  # next.\n",
        "  def call(self, inputs, states=None, return_state=False, training=False):\n",
        "    x = inputs\n",
        "\n",
        "    # 1. Feed the inputs into the embedding layer, and tell it if we are\n",
        "    #    training or predicting\n",
        "    x = self.embedding(x, training=training)\n",
        "\n",
        "    # 2. If we don't have any state in memory yet, get the initial random state\n",
        "    #    from our GRUI layer.\n",
        "    if states is None:\n",
        "      states = self.gru.get_initial_state(x)\n",
        "    \n",
        "    # 3. Now, feed the vectorized input along with the current state of memory\n",
        "    #    into the gru layer.\n",
        "    x, states = self.gru(x, initial_state=states, training=training)\n",
        "    #x, states = self.gruSecond(x, initial_state=states, training=training)\n",
        "    # 4. Finally, pass the results on to the dense layer\n",
        "    x = self.dense(x, training=training)\n",
        "\n",
        "    # 5. Return the results\n",
        "    if return_state:\n",
        "      return x, states\n",
        "    else: \n",
        "      return x"
      ]
    },
    {
      "cell_type": "code",
      "execution_count": 74,
      "metadata": {
        "id": "UA2C6pxZc4De"
      },
      "outputs": [],
      "source": [
        "# Create an instance of our model\n",
        "vocab_size=len(ids_from_chars.get_vocabulary())\n",
        "embedding_dim = 256\n",
        "rnn_units = 2048\n",
        "\n",
        "model = AustenTextModel(vocab_size, embedding_dim, rnn_units)"
      ]
    },
    {
      "cell_type": "code",
      "execution_count": 75,
      "metadata": {
        "colab": {
          "base_uri": "https://localhost:8080/"
        },
        "id": "C67kN7YAdfSf",
        "outputId": "f71e5b09-127d-4f84-a29d-8880365f0282"
      },
      "outputs": [
        {
          "output_type": "stream",
          "name": "stdout",
          "text": [
            "(64, 1000, 94) # (batch_size, sequence_length, vocab_size)\n"
          ]
        }
      ],
      "source": [
        "# Verify the output of our model is correct by running one sample through\n",
        "# This will also compile the model for us. This step will take a bit.\n",
        "for input_example_batch, target_example_batch in dataset.take(1):\n",
        "    example_batch_predictions = model(input_example_batch)\n",
        "    print(example_batch_predictions.shape, \"# (batch_size, sequence_length, vocab_size)\")\n"
      ]
    },
    {
      "cell_type": "code",
      "execution_count": 76,
      "metadata": {
        "colab": {
          "base_uri": "https://localhost:8080/"
        },
        "id": "qJGL8gCWdsiu",
        "outputId": "7d0e7c5a-9d9f-4ab1-8132-3e61652b6ee6"
      },
      "outputs": [
        {
          "output_type": "stream",
          "name": "stdout",
          "text": [
            "Model: \"austen_text_model_3\"\n",
            "_________________________________________________________________\n",
            " Layer (type)                Output Shape              Param #   \n",
            "=================================================================\n",
            " embedding_3 (Embedding)     multiple                  24064     \n",
            "                                                                 \n",
            " gru_3 (GRU)                 multiple                  14168064  \n",
            "                                                                 \n",
            " dense_3 (Dense)             multiple                  192606    \n",
            "                                                                 \n",
            "=================================================================\n",
            "Total params: 14,384,734\n",
            "Trainable params: 14,384,734\n",
            "Non-trainable params: 0\n",
            "_________________________________________________________________\n"
          ]
        }
      ],
      "source": [
        "# Now let's view the model summary\n",
        "model.summary()"
      ]
    },
    {
      "cell_type": "code",
      "source": [
        ""
      ],
      "metadata": {
        "id": "tuZLvEnVH6mE"
      },
      "execution_count": 76,
      "outputs": []
    },
    {
      "cell_type": "markdown",
      "source": [
        "# Add tensorboard to look at the process"
      ],
      "metadata": {
        "id": "Rc24z5bkmKZb"
      }
    },
    {
      "cell_type": "code",
      "execution_count": 77,
      "metadata": {
        "id": "6B95Hb6YVgPZ",
        "colab": {
          "base_uri": "https://localhost:8080/"
        },
        "outputId": "fb2f6711-d911-4c90-9a3a-3945f9912846"
      },
      "outputs": [
        {
          "output_type": "stream",
          "name": "stdout",
          "text": [
            "The tensorboard extension is already loaded. To reload it, use:\n",
            "  %reload_ext tensorboard\n"
          ]
        }
      ],
      "source": [
        "# Load the TensorBoard notebook extension\n",
        "%load_ext tensorboard\n",
        "import datetime"
      ]
    },
    {
      "cell_type": "code",
      "execution_count": 78,
      "metadata": {
        "id": "Ao7fJW1Pyiza"
      },
      "outputs": [],
      "source": [
        "# Clear any logs from previous runs\n",
        "!rm -rf ./logs/ \n"
      ]
    },
    {
      "cell_type": "code",
      "source": [
        "#create directory and callbacks\n",
        "log_dir = \"logs/fit/\" + datetime.datetime.now().strftime(\"%Y%m%d-%H%M%S\")\n",
        "tensorboard_callback = tf.keras.callbacks.TensorBoard(log_dir=log_dir, histogram_freq=1)\n"
      ],
      "metadata": {
        "id": "HPI1mP8u1Qrx"
      },
      "execution_count": 79,
      "outputs": []
    },
    {
      "cell_type": "markdown",
      "metadata": {
        "id": "wTDe5m4baEqo"
      },
      "source": [
        "## IV. Train the model\n",
        "\n",
        "For our purposes, we'll be using [categorical cross entropy](https://machinelearningmastery.com/cross-entropy-for-machine-learning/) as our loss function*. Also, our model will be outputting [\"logits\" rather than normalized probabilities](https://stackoverflow.com/questions/41455101/what-is-the-meaning-of-the-word-logits-in-tensorflow), because we'll be doing further transformations on the output later. \n",
        "\n",
        "\n",
        "\\* Note that since our model deals with integer encoding rather than one-hot encoding, we'll specifically be using [sparse categorical cross entropy](https://stats.stackexchange.com/questions/326065/cross-entropy-vs-sparse-cross-entropy-when-to-use-one-over-the-other)."
      ]
    },
    {
      "cell_type": "code",
      "execution_count": 80,
      "metadata": {
        "colab": {
          "base_uri": "https://localhost:8080/",
          "height": 1000
        },
        "outputId": "39450c75-7f41-44f6-9e3f-e5208f0df8b9",
        "id": "S3OOzyG4UDp6"
      },
      "outputs": [
        {
          "output_type": "stream",
          "name": "stdout",
          "text": [
            "Epoch 1/700\n",
            "3/3 [==============================] - 9s 3s/step - loss: 4.4117 - accuracy: 0.1093\n",
            "Epoch 2/700\n",
            "3/3 [==============================] - 7s 3s/step - loss: 10.2127 - accuracy: 0.1034\n",
            "Epoch 3/700\n",
            "3/3 [==============================] - 7s 3s/step - loss: 4.7090 - accuracy: 0.0901\n",
            "Epoch 4/700\n",
            "3/3 [==============================] - 7s 3s/step - loss: 4.3289 - accuracy: 0.1210\n",
            "Epoch 5/700\n",
            "3/3 [==============================] - 7s 3s/step - loss: 4.2193 - accuracy: 0.1854\n",
            "Epoch 6/700\n",
            "3/3 [==============================] - 7s 3s/step - loss: 3.9675 - accuracy: 0.1961\n",
            "Epoch 7/700\n",
            "3/3 [==============================] - 8s 3s/step - loss: 3.5637 - accuracy: 0.1726\n",
            "Epoch 8/700\n",
            "3/3 [==============================] - 8s 3s/step - loss: 3.2982 - accuracy: 0.1772\n",
            "Epoch 9/700\n",
            "3/3 [==============================] - 7s 3s/step - loss: 3.0369 - accuracy: 0.2417\n",
            "Epoch 10/700\n",
            "3/3 [==============================] - 8s 3s/step - loss: 2.9962 - accuracy: 0.1944\n",
            "Epoch 11/700\n",
            "3/3 [==============================] - 8s 3s/step - loss: 2.8604 - accuracy: 0.2485\n",
            "Epoch 12/700\n",
            "3/3 [==============================] - 8s 3s/step - loss: 2.7958 - accuracy: 0.2625\n",
            "Epoch 13/700\n",
            "3/3 [==============================] - 8s 3s/step - loss: 2.7383 - accuracy: 0.2818\n",
            "Epoch 14/700\n",
            "3/3 [==============================] - 8s 3s/step - loss: 2.6748 - accuracy: 0.2914\n",
            "Epoch 15/700\n",
            "3/3 [==============================] - 8s 3s/step - loss: 2.6147 - accuracy: 0.2928\n",
            "Epoch 16/700\n",
            "3/3 [==============================] - 8s 3s/step - loss: 2.5616 - accuracy: 0.2989\n",
            "Epoch 17/700\n",
            "3/3 [==============================] - 8s 3s/step - loss: 2.5232 - accuracy: 0.3067\n",
            "Epoch 18/700\n",
            "3/3 [==============================] - 8s 3s/step - loss: 2.4876 - accuracy: 0.3120\n",
            "Epoch 19/700\n",
            "3/3 [==============================] - 8s 3s/step - loss: 2.4524 - accuracy: 0.3159\n",
            "Epoch 20/700\n",
            "3/3 [==============================] - 8s 3s/step - loss: 2.4264 - accuracy: 0.3205\n",
            "Epoch 21/700\n",
            "3/3 [==============================] - 8s 3s/step - loss: 2.3921 - accuracy: 0.3297\n",
            "Epoch 22/700\n",
            "3/3 [==============================] - 8s 3s/step - loss: 2.3758 - accuracy: 0.3335\n",
            "Epoch 23/700\n",
            "3/3 [==============================] - 8s 3s/step - loss: 2.3495 - accuracy: 0.3407\n",
            "Epoch 24/700\n",
            "3/3 [==============================] - 8s 3s/step - loss: 2.3292 - accuracy: 0.3428\n",
            "Epoch 25/700\n",
            "3/3 [==============================] - 8s 3s/step - loss: 2.3111 - accuracy: 0.3453\n",
            "Epoch 26/700\n",
            "3/3 [==============================] - 8s 3s/step - loss: 2.2919 - accuracy: 0.3538\n",
            "Epoch 27/700\n",
            "3/3 [==============================] - 8s 3s/step - loss: 2.2725 - accuracy: 0.3599\n",
            "Epoch 28/700\n",
            "3/3 [==============================] - 8s 3s/step - loss: 2.2567 - accuracy: 0.3652\n",
            "Epoch 29/700\n",
            "3/3 [==============================] - 8s 3s/step - loss: 2.2400 - accuracy: 0.3682\n",
            "Epoch 30/700\n",
            "3/3 [==============================] - 8s 3s/step - loss: 2.2186 - accuracy: 0.3722\n",
            "Epoch 31/700\n",
            "3/3 [==============================] - 8s 3s/step - loss: 2.2118 - accuracy: 0.3743\n",
            "Epoch 32/700\n",
            "3/3 [==============================] - 8s 3s/step - loss: 2.1965 - accuracy: 0.3790\n",
            "Epoch 33/700\n",
            "3/3 [==============================] - 8s 3s/step - loss: 2.1819 - accuracy: 0.3825\n",
            "Epoch 34/700\n",
            "3/3 [==============================] - 8s 3s/step - loss: 2.1694 - accuracy: 0.3839\n",
            "Epoch 35/700\n",
            "3/3 [==============================] - 8s 3s/step - loss: 2.1528 - accuracy: 0.3868\n",
            "Epoch 36/700\n",
            "3/3 [==============================] - 8s 3s/step - loss: 2.1395 - accuracy: 0.3890\n",
            "Epoch 37/700\n",
            "3/3 [==============================] - 8s 3s/step - loss: 2.1269 - accuracy: 0.3923\n",
            "Epoch 38/700\n",
            "3/3 [==============================] - 8s 3s/step - loss: 2.1144 - accuracy: 0.3947\n",
            "Epoch 39/700\n",
            "3/3 [==============================] - 8s 3s/step - loss: 2.1013 - accuracy: 0.3981\n",
            "Epoch 40/700\n",
            "3/3 [==============================] - 8s 3s/step - loss: 2.0864 - accuracy: 0.4002\n",
            "Epoch 41/700\n",
            "3/3 [==============================] - 8s 3s/step - loss: 2.0687 - accuracy: 0.4030\n",
            "Epoch 42/700\n",
            "3/3 [==============================] - 8s 3s/step - loss: 2.0557 - accuracy: 0.4065\n",
            "Epoch 43/700\n",
            "3/3 [==============================] - 8s 3s/step - loss: 2.0460 - accuracy: 0.4083\n",
            "Epoch 44/700\n",
            "3/3 [==============================] - 8s 3s/step - loss: 2.0311 - accuracy: 0.4110\n",
            "Epoch 45/700\n",
            "3/3 [==============================] - 8s 3s/step - loss: 2.0144 - accuracy: 0.4153\n",
            "Epoch 46/700\n",
            "3/3 [==============================] - 8s 3s/step - loss: 2.0049 - accuracy: 0.4175\n",
            "Epoch 47/700\n",
            "3/3 [==============================] - 8s 3s/step - loss: 1.9895 - accuracy: 0.4216\n",
            "Epoch 48/700\n",
            "3/3 [==============================] - 8s 3s/step - loss: 1.9762 - accuracy: 0.4263\n",
            "Epoch 49/700\n",
            "3/3 [==============================] - 8s 3s/step - loss: 1.9609 - accuracy: 0.4308\n",
            "Epoch 50/700\n",
            "3/3 [==============================] - 8s 3s/step - loss: 1.9460 - accuracy: 0.4340\n",
            "Epoch 51/700\n",
            "3/3 [==============================] - 8s 3s/step - loss: 1.9311 - accuracy: 0.4388\n",
            "Epoch 52/700\n",
            "3/3 [==============================] - 8s 3s/step - loss: 1.9155 - accuracy: 0.4419\n",
            "Epoch 53/700\n",
            "3/3 [==============================] - 8s 3s/step - loss: 1.8999 - accuracy: 0.4462\n",
            "Epoch 54/700\n",
            "3/3 [==============================] - 8s 3s/step - loss: 1.8862 - accuracy: 0.4507\n",
            "Epoch 55/700\n",
            "3/3 [==============================] - 8s 3s/step - loss: 1.8767 - accuracy: 0.4522\n",
            "Epoch 56/700\n",
            "3/3 [==============================] - 8s 3s/step - loss: 1.8621 - accuracy: 0.4551\n",
            "Epoch 57/700\n",
            "3/3 [==============================] - 8s 3s/step - loss: 1.8471 - accuracy: 0.4595\n",
            "Epoch 58/700\n",
            "3/3 [==============================] - 8s 3s/step - loss: 1.8312 - accuracy: 0.4630\n",
            "Epoch 59/700\n",
            "3/3 [==============================] - 8s 3s/step - loss: 1.8145 - accuracy: 0.4666\n",
            "Epoch 60/700\n",
            "3/3 [==============================] - 8s 3s/step - loss: 1.8004 - accuracy: 0.4706\n",
            "Epoch 61/700\n",
            "3/3 [==============================] - 8s 3s/step - loss: 1.7850 - accuracy: 0.4749\n",
            "Epoch 62/700\n",
            "3/3 [==============================] - 8s 3s/step - loss: 1.7700 - accuracy: 0.4782\n",
            "Epoch 63/700\n",
            "3/3 [==============================] - 8s 3s/step - loss: 1.7573 - accuracy: 0.4811\n",
            "Epoch 64/700\n",
            "3/3 [==============================] - 8s 3s/step - loss: 1.7440 - accuracy: 0.4844\n",
            "Epoch 65/700\n",
            "3/3 [==============================] - 8s 3s/step - loss: 1.7264 - accuracy: 0.4892\n",
            "Epoch 66/700\n",
            "3/3 [==============================] - 8s 3s/step - loss: 1.7132 - accuracy: 0.4924\n",
            "Epoch 67/700\n",
            "3/3 [==============================] - 8s 3s/step - loss: 1.6996 - accuracy: 0.4974\n",
            "Epoch 68/700\n",
            "3/3 [==============================] - 8s 3s/step - loss: 1.6852 - accuracy: 0.5000\n",
            "Epoch 69/700\n",
            "3/3 [==============================] - 8s 3s/step - loss: 1.6753 - accuracy: 0.5043\n",
            "Epoch 70/700\n",
            "3/3 [==============================] - 8s 3s/step - loss: 1.6592 - accuracy: 0.5075\n",
            "Epoch 71/700\n",
            "3/3 [==============================] - 8s 3s/step - loss: 1.6458 - accuracy: 0.5122\n",
            "Epoch 72/700\n",
            "3/3 [==============================] - 8s 3s/step - loss: 1.6390 - accuracy: 0.5124\n",
            "Epoch 73/700\n",
            "3/3 [==============================] - 8s 3s/step - loss: 1.6260 - accuracy: 0.5175\n",
            "Epoch 74/700\n",
            "3/3 [==============================] - 8s 3s/step - loss: 1.6116 - accuracy: 0.5189\n",
            "Epoch 75/700\n",
            "3/3 [==============================] - 8s 3s/step - loss: 1.6009 - accuracy: 0.5231\n",
            "Epoch 76/700\n",
            "3/3 [==============================] - 8s 3s/step - loss: 1.5836 - accuracy: 0.5272\n",
            "Epoch 77/700\n",
            "3/3 [==============================] - 8s 3s/step - loss: 1.5691 - accuracy: 0.5311\n",
            "Epoch 78/700\n",
            "3/3 [==============================] - 8s 3s/step - loss: 1.5557 - accuracy: 0.5349\n",
            "Epoch 79/700\n",
            "3/3 [==============================] - 8s 3s/step - loss: 1.5398 - accuracy: 0.5391\n",
            "Epoch 80/700\n",
            "3/3 [==============================] - 8s 3s/step - loss: 1.5273 - accuracy: 0.5423\n",
            "Epoch 81/700\n",
            "3/3 [==============================] - 8s 3s/step - loss: 1.5155 - accuracy: 0.5452\n",
            "Epoch 82/700\n",
            "3/3 [==============================] - 8s 3s/step - loss: 1.5041 - accuracy: 0.5478\n",
            "Epoch 83/700\n",
            "3/3 [==============================] - 8s 3s/step - loss: 1.4913 - accuracy: 0.5515\n",
            "Epoch 84/700\n",
            "3/3 [==============================] - 8s 3s/step - loss: 1.4740 - accuracy: 0.5560\n",
            "Epoch 85/700\n",
            "3/3 [==============================] - 8s 3s/step - loss: 1.4610 - accuracy: 0.5601\n",
            "Epoch 86/700\n",
            "3/3 [==============================] - 8s 3s/step - loss: 1.4478 - accuracy: 0.5642\n",
            "Epoch 87/700\n",
            "3/3 [==============================] - 8s 3s/step - loss: 1.4318 - accuracy: 0.5675\n",
            "Epoch 88/700\n",
            "3/3 [==============================] - 8s 3s/step - loss: 1.4213 - accuracy: 0.5705\n",
            "Epoch 89/700\n",
            "3/3 [==============================] - 8s 3s/step - loss: 1.4091 - accuracy: 0.5751\n",
            "Epoch 90/700\n",
            "3/3 [==============================] - 8s 3s/step - loss: 1.3944 - accuracy: 0.5781\n",
            "Epoch 91/700\n",
            "3/3 [==============================] - 8s 3s/step - loss: 1.3827 - accuracy: 0.5823\n",
            "Epoch 92/700\n",
            "3/3 [==============================] - 8s 3s/step - loss: 1.3747 - accuracy: 0.5834\n",
            "Epoch 93/700\n",
            "3/3 [==============================] - 8s 3s/step - loss: 1.3521 - accuracy: 0.5905\n",
            "Epoch 94/700\n",
            "3/3 [==============================] - 8s 3s/step - loss: 1.3393 - accuracy: 0.5945\n",
            "Epoch 95/700\n",
            "3/3 [==============================] - 8s 3s/step - loss: 1.3240 - accuracy: 0.5997\n",
            "Epoch 96/700\n",
            "3/3 [==============================] - 8s 3s/step - loss: 1.3210 - accuracy: 0.5998\n",
            "Epoch 97/700\n",
            "3/3 [==============================] - 8s 3s/step - loss: 1.3071 - accuracy: 0.6041\n",
            "Epoch 98/700\n",
            "3/3 [==============================] - 8s 3s/step - loss: 1.2863 - accuracy: 0.6104\n",
            "Epoch 99/700\n",
            "3/3 [==============================] - 8s 3s/step - loss: 1.2694 - accuracy: 0.6156\n",
            "Epoch 100/700\n",
            "3/3 [==============================] - 8s 3s/step - loss: 1.2561 - accuracy: 0.6191\n",
            "Epoch 101/700\n",
            "3/3 [==============================] - 8s 3s/step - loss: 1.2409 - accuracy: 0.6256\n",
            "Epoch 102/700\n",
            "3/3 [==============================] - 8s 3s/step - loss: 1.2305 - accuracy: 0.6267\n",
            "Epoch 103/700\n",
            "3/3 [==============================] - 8s 3s/step - loss: 1.2271 - accuracy: 0.6287\n",
            "Epoch 104/700\n",
            "3/3 [==============================] - 8s 3s/step - loss: 1.2138 - accuracy: 0.6317\n",
            "Epoch 105/700\n",
            "3/3 [==============================] - 8s 3s/step - loss: 1.1885 - accuracy: 0.6410\n",
            "Epoch 106/700\n",
            "3/3 [==============================] - 8s 3s/step - loss: 1.1803 - accuracy: 0.6424\n",
            "Epoch 107/700\n",
            "3/3 [==============================] - 8s 3s/step - loss: 1.1745 - accuracy: 0.6450\n",
            "Epoch 108/700\n",
            "3/3 [==============================] - 8s 3s/step - loss: 1.1488 - accuracy: 0.6529\n",
            "Epoch 109/700\n",
            "3/3 [==============================] - 8s 3s/step - loss: 1.1301 - accuracy: 0.6595\n",
            "Epoch 110/700\n",
            "3/3 [==============================] - 8s 3s/step - loss: 1.1148 - accuracy: 0.6649\n",
            "Epoch 111/700\n",
            "3/3 [==============================] - 8s 3s/step - loss: 1.0993 - accuracy: 0.6690\n",
            "Epoch 112/700\n",
            "3/3 [==============================] - 8s 3s/step - loss: 1.0857 - accuracy: 0.6738\n",
            "Epoch 113/700\n",
            "3/3 [==============================] - 8s 3s/step - loss: 1.0874 - accuracy: 0.6717\n",
            "Epoch 114/700\n",
            "3/3 [==============================] - 8s 3s/step - loss: 1.0648 - accuracy: 0.6800\n",
            "Epoch 115/700\n",
            "3/3 [==============================] - 8s 3s/step - loss: 1.0710 - accuracy: 0.6771\n",
            "Epoch 116/700\n",
            "3/3 [==============================] - 8s 3s/step - loss: 1.0345 - accuracy: 0.6885\n",
            "Epoch 117/700\n",
            "3/3 [==============================] - 8s 3s/step - loss: 1.0187 - accuracy: 0.6939\n",
            "Epoch 118/700\n",
            "3/3 [==============================] - 8s 3s/step - loss: 0.9986 - accuracy: 0.7009\n",
            "Epoch 119/700\n",
            "3/3 [==============================] - 8s 3s/step - loss: 0.9809 - accuracy: 0.7084\n",
            "Epoch 120/700\n",
            "3/3 [==============================] - 8s 3s/step - loss: 1.0055 - accuracy: 0.6957\n",
            "Epoch 121/700\n",
            "3/3 [==============================] - 8s 3s/step - loss: 0.9781 - accuracy: 0.7066\n",
            "Epoch 122/700\n",
            "3/3 [==============================] - 8s 3s/step - loss: 0.9506 - accuracy: 0.7168\n",
            "Epoch 123/700\n",
            "3/3 [==============================] - 8s 3s/step - loss: 0.9314 - accuracy: 0.7233\n",
            "Epoch 124/700\n",
            "3/3 [==============================] - 8s 3s/step - loss: 0.9115 - accuracy: 0.7298\n",
            "Epoch 125/700\n",
            "3/3 [==============================] - 8s 3s/step - loss: 0.9192 - accuracy: 0.7279\n",
            "Epoch 126/700\n",
            "3/3 [==============================] - 8s 3s/step - loss: 0.9354 - accuracy: 0.7176\n",
            "Epoch 127/700\n",
            "3/3 [==============================] - 8s 3s/step - loss: 0.8939 - accuracy: 0.7342\n",
            "Epoch 128/700\n",
            "3/3 [==============================] - 8s 3s/step - loss: 0.8609 - accuracy: 0.7478\n",
            "Epoch 129/700\n",
            "3/3 [==============================] - 8s 3s/step - loss: 0.8419 - accuracy: 0.7558\n",
            "Epoch 130/700\n",
            "3/3 [==============================] - 8s 3s/step - loss: 0.8304 - accuracy: 0.7584\n",
            "Epoch 131/700\n",
            "3/3 [==============================] - 8s 3s/step - loss: 0.8000 - accuracy: 0.7708\n",
            "Epoch 132/700\n",
            "3/3 [==============================] - 8s 3s/step - loss: 0.7850 - accuracy: 0.7755\n",
            "Epoch 133/700\n",
            "3/3 [==============================] - 8s 3s/step - loss: 0.7843 - accuracy: 0.7755\n",
            "Epoch 134/700\n",
            "3/3 [==============================] - 8s 3s/step - loss: 0.7948 - accuracy: 0.7659\n",
            "Epoch 135/700\n",
            "3/3 [==============================] - 8s 3s/step - loss: 0.8074 - accuracy: 0.7603\n",
            "Epoch 136/700\n",
            "3/3 [==============================] - 8s 3s/step - loss: 0.7631 - accuracy: 0.7793\n",
            "Epoch 137/700\n",
            "3/3 [==============================] - 8s 3s/step - loss: 0.7406 - accuracy: 0.7863\n",
            "Epoch 138/700\n",
            "3/3 [==============================] - 8s 3s/step - loss: 0.7049 - accuracy: 0.8034\n",
            "Epoch 139/700\n",
            "3/3 [==============================] - 8s 3s/step - loss: 0.6869 - accuracy: 0.8122\n",
            "Epoch 140/700\n",
            "3/3 [==============================] - 8s 3s/step - loss: 0.6601 - accuracy: 0.8234\n",
            "Epoch 141/700\n",
            "3/3 [==============================] - 8s 3s/step - loss: 0.6443 - accuracy: 0.8301\n",
            "Epoch 142/700\n",
            "3/3 [==============================] - 8s 3s/step - loss: 0.6581 - accuracy: 0.8202\n",
            "Epoch 143/700\n",
            "3/3 [==============================] - 8s 3s/step - loss: 0.6367 - accuracy: 0.8285\n",
            "Epoch 144/700\n",
            "3/3 [==============================] - 8s 3s/step - loss: 0.6107 - accuracy: 0.8385\n",
            "Epoch 145/700\n",
            "3/3 [==============================] - 8s 3s/step - loss: 0.5850 - accuracy: 0.8501\n",
            "Epoch 146/700\n",
            "3/3 [==============================] - 8s 3s/step - loss: 0.5708 - accuracy: 0.8545\n",
            "Epoch 147/700\n",
            "3/3 [==============================] - 8s 3s/step - loss: 0.6418 - accuracy: 0.8155\n",
            "Epoch 148/700\n",
            "3/3 [==============================] - 8s 3s/step - loss: 0.5940 - accuracy: 0.8385\n",
            "Epoch 149/700\n",
            "3/3 [==============================] - 8s 3s/step - loss: 0.5587 - accuracy: 0.8535\n",
            "Epoch 150/700\n",
            "3/3 [==============================] - 8s 3s/step - loss: 0.5301 - accuracy: 0.8661\n",
            "Epoch 151/700\n",
            "3/3 [==============================] - 8s 3s/step - loss: 0.5040 - accuracy: 0.8782\n",
            "Epoch 152/700\n",
            "3/3 [==============================] - 8s 3s/step - loss: 0.4826 - accuracy: 0.8874\n",
            "Epoch 153/700\n",
            "3/3 [==============================] - 8s 3s/step - loss: 0.4888 - accuracy: 0.8820\n",
            "Epoch 154/700\n",
            "3/3 [==============================] - 8s 3s/step - loss: 0.4889 - accuracy: 0.8793\n",
            "Epoch 155/700\n",
            "3/3 [==============================] - 8s 3s/step - loss: 0.4600 - accuracy: 0.8919\n",
            "Epoch 156/700\n",
            "3/3 [==============================] - 8s 3s/step - loss: 0.4390 - accuracy: 0.8987\n",
            "Epoch 157/700\n",
            "3/3 [==============================] - 8s 3s/step - loss: 0.4190 - accuracy: 0.9077\n",
            "Epoch 158/700\n",
            "3/3 [==============================] - 8s 3s/step - loss: 0.3963 - accuracy: 0.9194\n",
            "Epoch 159/700\n",
            "3/3 [==============================] - 8s 3s/step - loss: 0.3774 - accuracy: 0.9255\n",
            "Epoch 160/700\n",
            "3/3 [==============================] - 8s 3s/step - loss: 0.3592 - accuracy: 0.9328\n",
            "Epoch 161/700\n",
            "3/3 [==============================] - 8s 3s/step - loss: 0.3430 - accuracy: 0.9392\n",
            "Epoch 162/700\n",
            "3/3 [==============================] - 8s 3s/step - loss: 0.3286 - accuracy: 0.9445\n",
            "Epoch 163/700\n",
            "3/3 [==============================] - 8s 3s/step - loss: 0.3414 - accuracy: 0.9349\n",
            "Epoch 164/700\n",
            "3/3 [==============================] - 8s 3s/step - loss: 0.4122 - accuracy: 0.8973\n",
            "Epoch 165/700\n",
            "3/3 [==============================] - 8s 3s/step - loss: 0.3706 - accuracy: 0.9142\n",
            "Epoch 166/700\n",
            "3/3 [==============================] - 8s 3s/step - loss: 0.3326 - accuracy: 0.9326\n",
            "Epoch 167/700\n",
            "3/3 [==============================] - 8s 3s/step - loss: 0.3121 - accuracy: 0.9408\n",
            "Epoch 168/700\n",
            "3/3 [==============================] - 8s 3s/step - loss: 0.2868 - accuracy: 0.9527\n",
            "Epoch 169/700\n",
            "3/3 [==============================] - 8s 3s/step - loss: 0.2670 - accuracy: 0.9609\n",
            "Epoch 170/700\n",
            "3/3 [==============================] - 8s 3s/step - loss: 0.2491 - accuracy: 0.9670\n",
            "Epoch 171/700\n",
            "3/3 [==============================] - 8s 3s/step - loss: 0.2335 - accuracy: 0.9713\n",
            "Epoch 172/700\n",
            "3/3 [==============================] - 8s 3s/step - loss: 0.2199 - accuracy: 0.9761\n",
            "Epoch 173/700\n",
            "3/3 [==============================] - 8s 3s/step - loss: 0.2060 - accuracy: 0.9794\n",
            "Epoch 174/700\n",
            "3/3 [==============================] - 8s 3s/step - loss: 0.1942 - accuracy: 0.9821\n",
            "Epoch 175/700\n",
            "3/3 [==============================] - 8s 3s/step - loss: 0.1825 - accuracy: 0.9853\n",
            "Epoch 176/700\n",
            "3/3 [==============================] - 8s 3s/step - loss: 0.1723 - accuracy: 0.9872\n",
            "Epoch 177/700\n",
            "3/3 [==============================] - 8s 3s/step - loss: 0.1632 - accuracy: 0.9889\n",
            "Epoch 178/700\n",
            "3/3 [==============================] - 8s 3s/step - loss: 0.1549 - accuracy: 0.9904\n",
            "Epoch 179/700\n",
            "3/3 [==============================] - 8s 3s/step - loss: 0.1455 - accuracy: 0.9916\n",
            "Epoch 180/700\n",
            "3/3 [==============================] - 8s 3s/step - loss: 0.1377 - accuracy: 0.9928\n",
            "Epoch 181/700\n",
            "3/3 [==============================] - 8s 3s/step - loss: 0.1316 - accuracy: 0.9934\n",
            "Epoch 182/700\n",
            "3/3 [==============================] - 8s 3s/step - loss: 0.1248 - accuracy: 0.9943\n",
            "Epoch 183/700\n",
            "3/3 [==============================] - 8s 3s/step - loss: 0.1187 - accuracy: 0.9949\n",
            "Epoch 184/700\n",
            "3/3 [==============================] - 8s 3s/step - loss: 0.1138 - accuracy: 0.9953\n",
            "Epoch 185/700\n",
            "3/3 [==============================] - 8s 3s/step - loss: 0.1073 - accuracy: 0.9957\n",
            "Epoch 186/700\n",
            "3/3 [==============================] - 8s 3s/step - loss: 0.1027 - accuracy: 0.9960\n",
            "Epoch 187/700\n",
            "3/3 [==============================] - 8s 3s/step - loss: 0.0976 - accuracy: 0.9964\n",
            "Epoch 188/700\n",
            "3/3 [==============================] - 8s 3s/step - loss: 0.0931 - accuracy: 0.9966\n",
            "Epoch 189/700\n",
            "3/3 [==============================] - 8s 3s/step - loss: 0.0891 - accuracy: 0.9969\n",
            "Epoch 190/700\n",
            "1/3 [=========>....................] - ETA: 3s - loss: 0.0873 - accuracy: 0.9968"
          ]
        },
        {
          "output_type": "error",
          "ename": "KeyboardInterrupt",
          "evalue": "ignored",
          "traceback": [
            "\u001b[0;31m---------------------------------------------------------------------------\u001b[0m",
            "\u001b[0;31mKeyboardInterrupt\u001b[0m                         Traceback (most recent call last)",
            "\u001b[0;32m<ipython-input-80-9fd45222afca>\u001b[0m in \u001b[0;36m<module>\u001b[0;34m()\u001b[0m\n\u001b[1;32m      2\u001b[0m \u001b[0mmodel\u001b[0m\u001b[0;34m.\u001b[0m\u001b[0mcompile\u001b[0m\u001b[0;34m(\u001b[0m\u001b[0moptimizer\u001b[0m\u001b[0;34m=\u001b[0m\u001b[0;34m'adam'\u001b[0m\u001b[0;34m,\u001b[0m \u001b[0mloss\u001b[0m\u001b[0;34m=\u001b[0m\u001b[0mloss\u001b[0m\u001b[0;34m,\u001b[0m \u001b[0mmetrics\u001b[0m\u001b[0;34m=\u001b[0m\u001b[0;34m[\u001b[0m\u001b[0;34m'accuracy'\u001b[0m\u001b[0;34m]\u001b[0m\u001b[0;34m)\u001b[0m\u001b[0;34m\u001b[0m\u001b[0;34m\u001b[0m\u001b[0m\n\u001b[1;32m      3\u001b[0m \u001b[0;34m\u001b[0m\u001b[0m\n\u001b[0;32m----> 4\u001b[0;31m \u001b[0mhistory\u001b[0m \u001b[0;34m=\u001b[0m \u001b[0mmodel\u001b[0m\u001b[0;34m.\u001b[0m\u001b[0mfit\u001b[0m\u001b[0;34m(\u001b[0m\u001b[0mdataset\u001b[0m\u001b[0;34m,\u001b[0m \u001b[0mepochs\u001b[0m\u001b[0;34m=\u001b[0m\u001b[0;36m700\u001b[0m\u001b[0;34m,\u001b[0m \u001b[0mcallbacks\u001b[0m\u001b[0;34m=\u001b[0m\u001b[0;34m[\u001b[0m\u001b[0mtensorboard_callback\u001b[0m\u001b[0;34m]\u001b[0m\u001b[0;34m)\u001b[0m\u001b[0;34m\u001b[0m\u001b[0;34m\u001b[0m\u001b[0m\n\u001b[0m",
            "\u001b[0;32m/usr/local/lib/python3.7/dist-packages/keras/utils/traceback_utils.py\u001b[0m in \u001b[0;36merror_handler\u001b[0;34m(*args, **kwargs)\u001b[0m\n\u001b[1;32m     62\u001b[0m     \u001b[0mfiltered_tb\u001b[0m \u001b[0;34m=\u001b[0m \u001b[0;32mNone\u001b[0m\u001b[0;34m\u001b[0m\u001b[0;34m\u001b[0m\u001b[0m\n\u001b[1;32m     63\u001b[0m     \u001b[0;32mtry\u001b[0m\u001b[0;34m:\u001b[0m\u001b[0;34m\u001b[0m\u001b[0;34m\u001b[0m\u001b[0m\n\u001b[0;32m---> 64\u001b[0;31m       \u001b[0;32mreturn\u001b[0m \u001b[0mfn\u001b[0m\u001b[0;34m(\u001b[0m\u001b[0;34m*\u001b[0m\u001b[0margs\u001b[0m\u001b[0;34m,\u001b[0m \u001b[0;34m**\u001b[0m\u001b[0mkwargs\u001b[0m\u001b[0;34m)\u001b[0m\u001b[0;34m\u001b[0m\u001b[0;34m\u001b[0m\u001b[0m\n\u001b[0m\u001b[1;32m     65\u001b[0m     \u001b[0;32mexcept\u001b[0m \u001b[0mException\u001b[0m \u001b[0;32mas\u001b[0m \u001b[0me\u001b[0m\u001b[0;34m:\u001b[0m  \u001b[0;31m# pylint: disable=broad-except\u001b[0m\u001b[0;34m\u001b[0m\u001b[0;34m\u001b[0m\u001b[0m\n\u001b[1;32m     66\u001b[0m       \u001b[0mfiltered_tb\u001b[0m \u001b[0;34m=\u001b[0m \u001b[0m_process_traceback_frames\u001b[0m\u001b[0;34m(\u001b[0m\u001b[0me\u001b[0m\u001b[0;34m.\u001b[0m\u001b[0m__traceback__\u001b[0m\u001b[0;34m)\u001b[0m\u001b[0;34m\u001b[0m\u001b[0;34m\u001b[0m\u001b[0m\n",
            "\u001b[0;32m/usr/local/lib/python3.7/dist-packages/keras/engine/training.py\u001b[0m in \u001b[0;36mfit\u001b[0;34m(self, x, y, batch_size, epochs, verbose, callbacks, validation_split, validation_data, shuffle, class_weight, sample_weight, initial_epoch, steps_per_epoch, validation_steps, validation_batch_size, validation_freq, max_queue_size, workers, use_multiprocessing)\u001b[0m\n\u001b[1;32m   1382\u001b[0m                 _r=1):\n\u001b[1;32m   1383\u001b[0m               \u001b[0mcallbacks\u001b[0m\u001b[0;34m.\u001b[0m\u001b[0mon_train_batch_begin\u001b[0m\u001b[0;34m(\u001b[0m\u001b[0mstep\u001b[0m\u001b[0;34m)\u001b[0m\u001b[0;34m\u001b[0m\u001b[0;34m\u001b[0m\u001b[0m\n\u001b[0;32m-> 1384\u001b[0;31m               \u001b[0mtmp_logs\u001b[0m \u001b[0;34m=\u001b[0m \u001b[0mself\u001b[0m\u001b[0;34m.\u001b[0m\u001b[0mtrain_function\u001b[0m\u001b[0;34m(\u001b[0m\u001b[0miterator\u001b[0m\u001b[0;34m)\u001b[0m\u001b[0;34m\u001b[0m\u001b[0;34m\u001b[0m\u001b[0m\n\u001b[0m\u001b[1;32m   1385\u001b[0m               \u001b[0;32mif\u001b[0m \u001b[0mdata_handler\u001b[0m\u001b[0;34m.\u001b[0m\u001b[0mshould_sync\u001b[0m\u001b[0;34m:\u001b[0m\u001b[0;34m\u001b[0m\u001b[0;34m\u001b[0m\u001b[0m\n\u001b[1;32m   1386\u001b[0m                 \u001b[0mcontext\u001b[0m\u001b[0;34m.\u001b[0m\u001b[0masync_wait\u001b[0m\u001b[0;34m(\u001b[0m\u001b[0;34m)\u001b[0m\u001b[0;34m\u001b[0m\u001b[0;34m\u001b[0m\u001b[0m\n",
            "\u001b[0;32m/usr/local/lib/python3.7/dist-packages/tensorflow/python/util/traceback_utils.py\u001b[0m in \u001b[0;36merror_handler\u001b[0;34m(*args, **kwargs)\u001b[0m\n\u001b[1;32m    148\u001b[0m     \u001b[0mfiltered_tb\u001b[0m \u001b[0;34m=\u001b[0m \u001b[0;32mNone\u001b[0m\u001b[0;34m\u001b[0m\u001b[0;34m\u001b[0m\u001b[0m\n\u001b[1;32m    149\u001b[0m     \u001b[0;32mtry\u001b[0m\u001b[0;34m:\u001b[0m\u001b[0;34m\u001b[0m\u001b[0;34m\u001b[0m\u001b[0m\n\u001b[0;32m--> 150\u001b[0;31m       \u001b[0;32mreturn\u001b[0m \u001b[0mfn\u001b[0m\u001b[0;34m(\u001b[0m\u001b[0;34m*\u001b[0m\u001b[0margs\u001b[0m\u001b[0;34m,\u001b[0m \u001b[0;34m**\u001b[0m\u001b[0mkwargs\u001b[0m\u001b[0;34m)\u001b[0m\u001b[0;34m\u001b[0m\u001b[0;34m\u001b[0m\u001b[0m\n\u001b[0m\u001b[1;32m    151\u001b[0m     \u001b[0;32mexcept\u001b[0m \u001b[0mException\u001b[0m \u001b[0;32mas\u001b[0m \u001b[0me\u001b[0m\u001b[0;34m:\u001b[0m\u001b[0;34m\u001b[0m\u001b[0;34m\u001b[0m\u001b[0m\n\u001b[1;32m    152\u001b[0m       \u001b[0mfiltered_tb\u001b[0m \u001b[0;34m=\u001b[0m \u001b[0m_process_traceback_frames\u001b[0m\u001b[0;34m(\u001b[0m\u001b[0me\u001b[0m\u001b[0;34m.\u001b[0m\u001b[0m__traceback__\u001b[0m\u001b[0;34m)\u001b[0m\u001b[0;34m\u001b[0m\u001b[0;34m\u001b[0m\u001b[0m\n",
            "\u001b[0;32m/usr/local/lib/python3.7/dist-packages/tensorflow/python/eager/def_function.py\u001b[0m in \u001b[0;36m__call__\u001b[0;34m(self, *args, **kwds)\u001b[0m\n\u001b[1;32m    913\u001b[0m \u001b[0;34m\u001b[0m\u001b[0m\n\u001b[1;32m    914\u001b[0m       \u001b[0;32mwith\u001b[0m \u001b[0mOptionalXlaContext\u001b[0m\u001b[0;34m(\u001b[0m\u001b[0mself\u001b[0m\u001b[0;34m.\u001b[0m\u001b[0m_jit_compile\u001b[0m\u001b[0;34m)\u001b[0m\u001b[0;34m:\u001b[0m\u001b[0;34m\u001b[0m\u001b[0;34m\u001b[0m\u001b[0m\n\u001b[0;32m--> 915\u001b[0;31m         \u001b[0mresult\u001b[0m \u001b[0;34m=\u001b[0m \u001b[0mself\u001b[0m\u001b[0;34m.\u001b[0m\u001b[0m_call\u001b[0m\u001b[0;34m(\u001b[0m\u001b[0;34m*\u001b[0m\u001b[0margs\u001b[0m\u001b[0;34m,\u001b[0m \u001b[0;34m**\u001b[0m\u001b[0mkwds\u001b[0m\u001b[0;34m)\u001b[0m\u001b[0;34m\u001b[0m\u001b[0;34m\u001b[0m\u001b[0m\n\u001b[0m\u001b[1;32m    916\u001b[0m \u001b[0;34m\u001b[0m\u001b[0m\n\u001b[1;32m    917\u001b[0m       \u001b[0mnew_tracing_count\u001b[0m \u001b[0;34m=\u001b[0m \u001b[0mself\u001b[0m\u001b[0;34m.\u001b[0m\u001b[0mexperimental_get_tracing_count\u001b[0m\u001b[0;34m(\u001b[0m\u001b[0;34m)\u001b[0m\u001b[0;34m\u001b[0m\u001b[0;34m\u001b[0m\u001b[0m\n",
            "\u001b[0;32m/usr/local/lib/python3.7/dist-packages/tensorflow/python/eager/def_function.py\u001b[0m in \u001b[0;36m_call\u001b[0;34m(self, *args, **kwds)\u001b[0m\n\u001b[1;32m    945\u001b[0m       \u001b[0;31m# In this case we have created variables on the first call, so we run the\u001b[0m\u001b[0;34m\u001b[0m\u001b[0;34m\u001b[0m\u001b[0;34m\u001b[0m\u001b[0m\n\u001b[1;32m    946\u001b[0m       \u001b[0;31m# defunned version which is guaranteed to never create variables.\u001b[0m\u001b[0;34m\u001b[0m\u001b[0;34m\u001b[0m\u001b[0;34m\u001b[0m\u001b[0m\n\u001b[0;32m--> 947\u001b[0;31m       \u001b[0;32mreturn\u001b[0m \u001b[0mself\u001b[0m\u001b[0;34m.\u001b[0m\u001b[0m_stateless_fn\u001b[0m\u001b[0;34m(\u001b[0m\u001b[0;34m*\u001b[0m\u001b[0margs\u001b[0m\u001b[0;34m,\u001b[0m \u001b[0;34m**\u001b[0m\u001b[0mkwds\u001b[0m\u001b[0;34m)\u001b[0m  \u001b[0;31m# pylint: disable=not-callable\u001b[0m\u001b[0;34m\u001b[0m\u001b[0;34m\u001b[0m\u001b[0m\n\u001b[0m\u001b[1;32m    948\u001b[0m     \u001b[0;32melif\u001b[0m \u001b[0mself\u001b[0m\u001b[0;34m.\u001b[0m\u001b[0m_stateful_fn\u001b[0m \u001b[0;32mis\u001b[0m \u001b[0;32mnot\u001b[0m \u001b[0;32mNone\u001b[0m\u001b[0;34m:\u001b[0m\u001b[0;34m\u001b[0m\u001b[0;34m\u001b[0m\u001b[0m\n\u001b[1;32m    949\u001b[0m       \u001b[0;31m# Release the lock early so that multiple threads can perform the call\u001b[0m\u001b[0;34m\u001b[0m\u001b[0;34m\u001b[0m\u001b[0;34m\u001b[0m\u001b[0m\n",
            "\u001b[0;32m/usr/local/lib/python3.7/dist-packages/tensorflow/python/eager/function.py\u001b[0m in \u001b[0;36m__call__\u001b[0;34m(self, *args, **kwargs)\u001b[0m\n\u001b[1;32m   2955\u001b[0m        filtered_flat_args) = self._maybe_define_function(args, kwargs)\n\u001b[1;32m   2956\u001b[0m     return graph_function._call_flat(\n\u001b[0;32m-> 2957\u001b[0;31m         filtered_flat_args, captured_inputs=graph_function.captured_inputs)  # pylint: disable=protected-access\n\u001b[0m\u001b[1;32m   2958\u001b[0m \u001b[0;34m\u001b[0m\u001b[0m\n\u001b[1;32m   2959\u001b[0m   \u001b[0;34m@\u001b[0m\u001b[0mproperty\u001b[0m\u001b[0;34m\u001b[0m\u001b[0;34m\u001b[0m\u001b[0m\n",
            "\u001b[0;32m/usr/local/lib/python3.7/dist-packages/tensorflow/python/eager/function.py\u001b[0m in \u001b[0;36m_call_flat\u001b[0;34m(self, args, captured_inputs, cancellation_manager)\u001b[0m\n\u001b[1;32m   1852\u001b[0m       \u001b[0;31m# No tape is watching; skip to running the function.\u001b[0m\u001b[0;34m\u001b[0m\u001b[0;34m\u001b[0m\u001b[0;34m\u001b[0m\u001b[0m\n\u001b[1;32m   1853\u001b[0m       return self._build_call_outputs(self._inference_function.call(\n\u001b[0;32m-> 1854\u001b[0;31m           ctx, args, cancellation_manager=cancellation_manager))\n\u001b[0m\u001b[1;32m   1855\u001b[0m     forward_backward = self._select_forward_and_backward_functions(\n\u001b[1;32m   1856\u001b[0m         \u001b[0margs\u001b[0m\u001b[0;34m,\u001b[0m\u001b[0;34m\u001b[0m\u001b[0;34m\u001b[0m\u001b[0m\n",
            "\u001b[0;32m/usr/local/lib/python3.7/dist-packages/tensorflow/python/eager/function.py\u001b[0m in \u001b[0;36mcall\u001b[0;34m(self, ctx, args, cancellation_manager)\u001b[0m\n\u001b[1;32m    502\u001b[0m               \u001b[0minputs\u001b[0m\u001b[0;34m=\u001b[0m\u001b[0margs\u001b[0m\u001b[0;34m,\u001b[0m\u001b[0;34m\u001b[0m\u001b[0;34m\u001b[0m\u001b[0m\n\u001b[1;32m    503\u001b[0m               \u001b[0mattrs\u001b[0m\u001b[0;34m=\u001b[0m\u001b[0mattrs\u001b[0m\u001b[0;34m,\u001b[0m\u001b[0;34m\u001b[0m\u001b[0;34m\u001b[0m\u001b[0m\n\u001b[0;32m--> 504\u001b[0;31m               ctx=ctx)\n\u001b[0m\u001b[1;32m    505\u001b[0m         \u001b[0;32melse\u001b[0m\u001b[0;34m:\u001b[0m\u001b[0;34m\u001b[0m\u001b[0;34m\u001b[0m\u001b[0m\n\u001b[1;32m    506\u001b[0m           outputs = execute.execute_with_cancellation(\n",
            "\u001b[0;32m/usr/local/lib/python3.7/dist-packages/tensorflow/python/eager/execute.py\u001b[0m in \u001b[0;36mquick_execute\u001b[0;34m(op_name, num_outputs, inputs, attrs, ctx, name)\u001b[0m\n\u001b[1;32m     53\u001b[0m     \u001b[0mctx\u001b[0m\u001b[0;34m.\u001b[0m\u001b[0mensure_initialized\u001b[0m\u001b[0;34m(\u001b[0m\u001b[0;34m)\u001b[0m\u001b[0;34m\u001b[0m\u001b[0;34m\u001b[0m\u001b[0m\n\u001b[1;32m     54\u001b[0m     tensors = pywrap_tfe.TFE_Py_Execute(ctx._handle, device_name, op_name,\n\u001b[0;32m---> 55\u001b[0;31m                                         inputs, attrs, num_outputs)\n\u001b[0m\u001b[1;32m     56\u001b[0m   \u001b[0;32mexcept\u001b[0m \u001b[0mcore\u001b[0m\u001b[0;34m.\u001b[0m\u001b[0m_NotOkStatusException\u001b[0m \u001b[0;32mas\u001b[0m \u001b[0me\u001b[0m\u001b[0;34m:\u001b[0m\u001b[0;34m\u001b[0m\u001b[0;34m\u001b[0m\u001b[0m\n\u001b[1;32m     57\u001b[0m     \u001b[0;32mif\u001b[0m \u001b[0mname\u001b[0m \u001b[0;32mis\u001b[0m \u001b[0;32mnot\u001b[0m \u001b[0;32mNone\u001b[0m\u001b[0;34m:\u001b[0m\u001b[0;34m\u001b[0m\u001b[0;34m\u001b[0m\u001b[0m\n",
            "\u001b[0;31mKeyboardInterrupt\u001b[0m: "
          ]
        }
      ],
      "source": [
        "loss = tf.losses.SparseCategoricalCrossentropy(from_logits=True)\n",
        "model.compile(optimizer='adam', loss=loss, metrics=['accuracy'])\n",
        "\n",
        "history = model.fit(dataset, epochs=700, callbacks=[tensorboard_callback])"
      ]
    },
    {
      "cell_type": "markdown",
      "metadata": {
        "id": "casEwxrXcv4Y"
      },
      "source": [
        "## V. Use the model\n",
        "\n",
        "Now that our model has been trained, we can use it to generate text. As mentioned earlier, to do so we have to keep track of its internal state, or memory, so that we can use previous text predictions to inform later ones.\n",
        "\n",
        "However, with RNN generated text, if we always just pick the character with the highest probability, our model tends to get stuck in a loop. So instead we will create a probability distribution of characters for each step, and then sample from that distribution. We can add some variation to this using a paramter known as [\"temperature\"](https://cs.stackexchange.com/questions/79241/what-is-temperature-in-lstm-and-neural-networks-generally)."
      ]
    },
    {
      "cell_type": "code",
      "execution_count": 81,
      "metadata": {
        "id": "V3lhlyfwcqIN"
      },
      "outputs": [],
      "source": [
        "# Here's the code we'll use to sample for us. It has some extra steps to apply\n",
        "# the temperature to the distribution, and to make sure we don't get empty\n",
        "# characters in our text. Most importantly, it will keep track of our model\n",
        "# state for us.\n",
        "\n",
        "class OneStep(tf.keras.Model):\n",
        "  def __init__(self, model, chars_from_ids, ids_from_chars, temperature=1):\n",
        "    super().__init__()\n",
        "    self.temperature=temperature\n",
        "    self.model = model\n",
        "    self.chars_from_ids = chars_from_ids\n",
        "    self.ids_from_chars = ids_from_chars\n",
        "\n",
        "    # Create a mask to prevent \"\" or \"[UNK]\" from being generated.\n",
        "    skip_ids = self.ids_from_chars(['','[UNK]'])[:, None]\n",
        "    sparse_mask = tf.SparseTensor(\n",
        "        # Put a -inf at each bad index.\n",
        "        values=[-float('inf')]*len(skip_ids),\n",
        "        indices = skip_ids,\n",
        "        # Match the shape to the vocabulary\n",
        "        dense_shape=[len(ids_from_chars.get_vocabulary())]) \n",
        "    self.prediction_mask = tf.sparse.to_dense(sparse_mask,validate_indices=False)\n",
        "\n",
        "  @tf.function\n",
        "  def generate_one_step(self, inputs, states=None):\n",
        "    # Convert strings to token IDs.\n",
        "    input_chars = tf.strings.unicode_split(inputs, 'UTF-8')\n",
        "    input_ids = self.ids_from_chars(input_chars).to_tensor()\n",
        "\n",
        "    # Run the model.\n",
        "    # predicted_logits.shape is [batch, char, next_char_logits] \n",
        "    predicted_logits, states =  self.model(inputs=input_ids, states=states, \n",
        "                                          return_state=True)\n",
        "    # Only use the last prediction.\n",
        "    predicted_logits = predicted_logits[:, -1, :]\n",
        "    predicted_logits = predicted_logits/self.temperature\n",
        "    \n",
        "    # Apply the prediction mask: prevent \"\" or \"[UNK]\" from being generated.\n",
        "    predicted_logits = predicted_logits + self.prediction_mask\n",
        "\n",
        "    # Sample the output logits to generate token IDs.\n",
        "    predicted_ids = tf.random.categorical(predicted_logits, num_samples=1)\n",
        "    predicted_ids = tf.squeeze(predicted_ids, axis=-1)\n",
        "\n",
        "    # Return the characters and model state.\n",
        "    return chars_from_ids(predicted_ids), states\n"
      ]
    },
    {
      "cell_type": "code",
      "execution_count": 82,
      "metadata": {
        "id": "fSUghgUFc6ba",
        "colab": {
          "base_uri": "https://localhost:8080/"
        },
        "outputId": "f2a5a590-ad3d-439b-8293-d995dbbcfb9f"
      },
      "outputs": [
        {
          "output_type": "stream",
          "name": "stdout",
          "text": [
            "The world seemed like such a peaceful place until the magic tree was discovered in London.\r\n",
            "\r\n",
            "A Contaging their dogs rese. He even weokle, on its were\r\n",
            "the distance only quarter covered. He had knew by the snee, belong in the\r\n",
            "snor of this. The worthlush for laws une uppere the dope would be\r\n",
            "breaking bore of the hardess. The camp was down and\r\n",
            "walk into the worth, lounting him, by this\r\n",
            "fear of the from a defthe. On the salos of the knowledge that\r\n",
            "side by s insting the nat whar med seam do not know. It is ten dogs\r\n",
            "were they sewned kelingled that offehe hid felt and hourte,\r\n",
            "and who wald back and forth they kiple act distling thais fac bayt and\r\n",
            "in behiat vely mas, till Buck’s head was nore weathel; and for way,\r\n",
            "a third with at the heave how reat how, but fow the mein that was one munt med,\r\n",
            "Buck received a pack of movem. He had mane rum to the forest and\r\n",
            "uncensoct the dove from a fleas which his bear for gound into a logg, swream ther\r\n",
            "lang becomess of him. He forgot eashed time he after\r\n",
            "them rape to be pleared in great less to the love of where or indinct valonaty\r\n",
            "r\n"
          ]
        }
      ],
      "source": [
        "# Create an instance of the character generator\n",
        "one_step_model = OneStep(model, chars_from_ids, ids_from_chars)\n",
        "\n",
        "# Now, let's generate a 1000 character chapter by giving our model \"Chapter 1\"\n",
        "# as its starting text\n",
        "states = None\n",
        "next_char = tf.constant([\"The world seemed like such a peaceful place until the magic tree was discovered in London.\"])\n",
        "result = [next_char]\n",
        "\n",
        "for n in range(1000):\n",
        "  next_char, states = one_step_model.generate_one_step(next_char, states=states)\n",
        "  result.append(next_char)\n",
        "\n",
        "result = tf.strings.join(result)\n",
        "\n",
        "# Print the results formatted.\n",
        "print(result[0].numpy().decode('utf-8'))\n",
        "\n",
        "\n"
      ]
    },
    {
      "cell_type": "markdown",
      "metadata": {
        "id": "b2Cudf3YoaKr"
      },
      "source": [
        "## VI. Next Steps\n",
        "\n",
        "This is a very simple model with one GRU layer and then an output layer. However, considering how simple it is and the fact that we are predicting outputs character by character, the text it produces is pretty amazing. Though it still has a long way to go before publication.\n",
        "\n",
        "There are many other RNN architectures you could try, such as adding additional hidden dense layers, replacing GRU with one or more LSTM layers, combining GRU and LSTM, etc...\n",
        "\n",
        "You could also experiment with better text cleanup to make sure odd punctuation doesn't appear, or finding longer texts to use. If you combine texts from two authors, what happens? Can you generate a Jane Austen stageplay by combining austen and shakespeare texts?\n",
        "\n",
        "Finally, there are a number of hyperparameters to tweak, such as temperature, epochs, batch size, sequence length, etc..."
      ]
    },
    {
      "cell_type": "code",
      "source": [
        "# Save the entire model as a SavedModel. This save into colab.\n",
        "!mkdir -p saved_model\n",
        "model.save('saved_model/my_model')"
      ],
      "metadata": {
        "id": "oxg5my9jbpF6"
      },
      "execution_count": null,
      "outputs": []
    },
    {
      "cell_type": "code",
      "source": [
        "from google.colab import files\n",
        "import shutil\n",
        "# This code compress the directory in a zip file and downloaded\n",
        "# Specify export directory and use tensorflow to save your_model\n",
        "export_dir = './saved_model'\n",
        "export_zip = './saved_zip'\n",
        "#tf.saved_model.save(your_model, export_dir=export_dir)\n",
        "# Download the model (Can take several minutes but work)\n",
        "\n",
        "shutil.make_archive(export_zip, 'zip', export_dir)\n",
        "\n",
        "files.download(export_zip+'.zip')\n"
      ],
      "metadata": {
        "id": "4NblXP02bt_S"
      },
      "execution_count": null,
      "outputs": []
    },
    {
      "cell_type": "code",
      "source": [
        "#This code unzip the previous saved zip. The one from colab, if you want to load\n",
        "# it from the downloaded use :\n",
        "#!echo \"Downloading files...\"\n",
        "#!wget -q https://github.com/your name in github were you loaded the zip/saved_zip.zip)\n",
        "\n",
        "!echo \"Unzipping files...\"\n",
        "!unzip -q saved_zip.zip"
      ],
      "metadata": {
        "id": "qKt_X8PwbwNS"
      },
      "execution_count": null,
      "outputs": []
    },
    {
      "cell_type": "code",
      "source": [
        "# This code take the unziped model and recreate it\n",
        "# The path is into colab\n",
        "new_model = tf.keras.models.load_model('saved_model/my_model')\n",
        "\n",
        "# Check its architecture\n",
        "new_model.summary()"
      ],
      "metadata": {
        "id": "PfPFvQ4-b0Sy"
      },
      "execution_count": null,
      "outputs": []
    },
    {
      "cell_type": "code",
      "source": [
        ""
      ],
      "metadata": {
        "id": "rkzHCDFeIM6M"
      },
      "execution_count": null,
      "outputs": []
    },
    {
      "cell_type": "code",
      "source": [
        "# launch tensorboard in TensorBoard.dev (public for sharing the link)\n",
        "\n",
        "!tensorboard dev upload \\\n",
        "  --logdir logs/fit \\\n",
        "  --name \"(optional) My first convolutional\" \\\n",
        "  --description \"(optional) Simple comparison of several hyperparameters\" \\\n",
        "  --one_shot\n",
        "  "
      ],
      "metadata": {
        "id": "SR-xMA_H2QaD",
        "colab": {
          "base_uri": "https://localhost:8080/"
        },
        "outputId": "4c8f81e0-34b7-4f74-f775-ede6ab90cb71"
      },
      "execution_count": 83,
      "outputs": [
        {
          "output_type": "stream",
          "name": "stdout",
          "text": [
            "\n",
            "New experiment created. View your TensorBoard at: https://tensorboard.dev/experiment/imNxG0iYQnOw5bNYiOM9Dw/\n",
            "\n",
            "\u001b[1m[2022-07-04T00:49:47]\u001b[0m Started scanning logdir.\n",
            "\u001b[1m[2022-07-04T00:49:51]\u001b[0m Total uploaded: 378 scalars, 1134 tensors (814.7 kB), 1 binary objects (162.2 kB)\n",
            "\u001b[1m[2022-07-04T00:49:51]\u001b[0m Done scanning logdir.\n",
            "\n",
            "\n",
            "Done. View your TensorBoard at https://tensorboard.dev/experiment/imNxG0iYQnOw5bNYiOM9Dw/\n"
          ]
        }
      ]
    }
  ]
}
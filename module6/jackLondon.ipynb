{
  "nbformat": 4,
  "nbformat_minor": 0,
  "metadata": {
    "colab": {
      "name": "jackLondon.ipynb",
      "provenance": [],
      "authorship_tag": "ABX9TyMWfnM9l1Q2MEL0ls/cZ61C",
      "include_colab_link": true
    },
    "kernelspec": {
      "name": "python3",
      "display_name": "Python 3"
    },
    "language_info": {
      "name": "python"
    },
    "accelerator": "GPU",
    "gpuClass": "standard"
  },
  "cells": [
    {
      "cell_type": "markdown",
      "metadata": {
        "id": "view-in-github",
        "colab_type": "text"
      },
      "source": [
        "<a href=\"https://colab.research.google.com/github/carlosdgerez/machine_learning/blob/main/module6/jackLondon.ipynb\" target=\"_parent\"><img src=\"https://colab.research.google.com/assets/colab-badge.svg\" alt=\"Open In Colab\"/></a>"
      ]
    },
    {
      "cell_type": "code",
      "execution_count": null,
      "metadata": {
        "id": "xbLHRNi3hsGs"
      },
      "outputs": [],
      "source": [
        ""
      ]
    },
    {
      "cell_type": "code",
      "execution_count": 1,
      "metadata": {
        "id": "XtiXE04uGB_U"
      },
      "outputs": [],
      "source": [
        "# Import libraries\n",
        "import tensorflow as tf\n",
        "from tensorflow.keras.layers.experimental import preprocessing\n",
        "\n",
        "import numpy as np\n",
        "import os\n",
        "import time"
      ]
    },
    {
      "cell_type": "markdown",
      "metadata": {
        "id": "qv4r-dKnSRKz"
      },
      "source": [
        "## I. Parse Text Sources\n",
        "First we'll load our text sources and create our vocabulary lists and encoders. \n",
        "\n",
        "There are ways we could do this in pure python, but using the tensorflow data structures and libraries allow us to keep things super-optimized."
      ]
    },
    {
      "cell_type": "code",
      "execution_count": 2,
      "metadata": {
        "colab": {
          "base_uri": "https://localhost:8080/"
        },
        "id": "H8RbnIjwHGoR",
        "outputId": "68652ec2-e31a-42c9-b713-c42dc681eb49"
      },
      "outputs": [
        {
          "output_type": "stream",
          "name": "stdout",
          "text": [
            "Length of text: 198823 characters\n"
          ]
        }
      ],
      "source": [
        "# Load file data\n",
        "path_to_file = tf.keras.utils.get_file('new.txt', 'https://www.gutenberg.org/files/215/215-0.txt')\n",
        "text = open(path_to_file, 'rb').read().decode(encoding='utf-8')\n",
        "print('Length of text: {} characters'.format(len(text)))"
      ]
    },
    {
      "cell_type": "code",
      "execution_count": 3,
      "metadata": {
        "colab": {
          "base_uri": "https://localhost:8080/"
        },
        "id": "2XRnt0XUHUrq",
        "outputId": "0c40df80-b60b-4a71-9e2e-237f0cdb12ca"
      },
      "outputs": [
        {
          "output_type": "stream",
          "name": "stdout",
          "text": [
            "﻿\r\n",
            "The Project Gutenberg EBook of The Call of the Wild, by Jack London\r\n",
            "\r\n",
            "This eBook is for the use of anyone anywhere in the United States and most\r\n",
            "other parts of the world at no cost and with almos\n"
          ]
        }
      ],
      "source": [
        "# Verify the first part of our data\n",
        "print(text[:200])"
      ]
    },
    {
      "cell_type": "code",
      "execution_count": 4,
      "metadata": {
        "colab": {
          "base_uri": "https://localhost:8080/"
        },
        "id": "2SLd7l0HP1Po",
        "outputId": "9830b10d-5cdc-4f82-a230-d2a04e502d72"
      },
      "outputs": [
        {
          "output_type": "stream",
          "name": "stdout",
          "text": [
            "93 unique characters\n",
            "['\\n', '\\r', ' ', '!', '\"', '#', '$', '%', \"'\", '(', ')', '*', ',', '-', '.', '/', '0', '1', '2', '3', '4', '5', '6', '7', '8', '9', ':', ';', '?', '@', 'A', 'B', 'C', 'D', 'E', 'F', 'G', 'H', 'I', 'J', 'K', 'L', 'M', 'N', 'O', 'P', 'Q', 'R', 'S', 'T', 'U', 'V', 'W', 'X', 'Y', '[', ']', '_', 'a', 'b', 'c', 'd', 'e', 'f', 'g', 'h', 'i', 'j', 'k', 'l', 'm', 'n', 'o', 'p', 'q', 'r', 's', 't', 'u', 'v', 'w', 'x', 'y', 'z', 'ç', 'ñ', 'œ', '—', '‘', '’', '“', '”', '\\ufeff']\n"
          ]
        }
      ],
      "source": [
        "# Now we'll get a list of the unique characters in the file. This will form the\n",
        "# vocabulary of our network. There may be some characters we want to remove from this \n",
        "# set as we refine the network.\n",
        "vocab = sorted(set(text))\n",
        "print('{} unique characters'.format(len(vocab)))\n",
        "print(vocab)"
      ]
    },
    {
      "cell_type": "code",
      "execution_count": 5,
      "metadata": {
        "id": "NtjOxL7wQibb"
      },
      "outputs": [],
      "source": [
        "# Next, we'll encode encode these characters into numbers so we can use them\n",
        "# with our neural network, then we'll create some mappings between the characters\n",
        "# and their numeric representations\n",
        "ids_from_chars = preprocessing.StringLookup(vocabulary=list(vocab))\n",
        "chars_from_ids = tf.keras.layers.experimental.preprocessing.StringLookup(vocabulary=ids_from_chars.get_vocabulary(), invert=True)\n",
        "\n",
        "# Here's a little helper function that we can use to turn a sequence of ids\n",
        "# back into a string:\n",
        "# turn them into a string:\n",
        "def text_from_ids(ids):\n",
        "  joinedTensor = tf.strings.reduce_join(chars_from_ids(ids), axis=-1)\n",
        "  return joinedTensor.numpy().decode(\"utf-8\")"
      ]
    },
    {
      "cell_type": "code",
      "execution_count": 6,
      "metadata": {
        "colab": {
          "base_uri": "https://localhost:8080/"
        },
        "id": "52bkemreRw8q",
        "outputId": "94269b98-4dff-44cd-c030-7b033b58ed49"
      },
      "outputs": [
        {
          "output_type": "execute_result",
          "data": {
            "text/plain": [
              "<tf.Tensor: shape=(5,), dtype=int64, numpy=array([50, 76, 79, 78, 66])>"
            ]
          },
          "metadata": {},
          "execution_count": 6
        }
      ],
      "source": [
        "# Now we'll verify that they work, by getting the code for \"A\", and then looking\n",
        "# that up in reverse\n",
        "testids = ids_from_chars([\"T\", \"r\", \"u\", \"t\", \"h\"])\n",
        "testids"
      ]
    },
    {
      "cell_type": "code",
      "execution_count": 7,
      "metadata": {
        "colab": {
          "base_uri": "https://localhost:8080/"
        },
        "id": "vGUnSHjtD_IJ",
        "outputId": "f0a18fb9-7c75-4db4-b15a-f9020eb93cf2"
      },
      "outputs": [
        {
          "output_type": "execute_result",
          "data": {
            "text/plain": [
              "<tf.Tensor: shape=(5,), dtype=string, numpy=array([b'T', b'r', b'u', b't', b'h'], dtype=object)>"
            ]
          },
          "metadata": {},
          "execution_count": 7
        }
      ],
      "source": [
        "chars_from_ids(testids)"
      ]
    },
    {
      "cell_type": "code",
      "execution_count": 8,
      "metadata": {
        "colab": {
          "base_uri": "https://localhost:8080/",
          "height": 35
        },
        "id": "8rghkpLLLjL5",
        "outputId": "8d9d7d6a-1439-422d-9114-24762a3460b2"
      },
      "outputs": [
        {
          "output_type": "execute_result",
          "data": {
            "text/plain": [
              "'Truth'"
            ],
            "application/vnd.google.colaboratory.intrinsic+json": {
              "type": "string"
            }
          },
          "metadata": {},
          "execution_count": 8
        }
      ],
      "source": [
        "testString = text_from_ids( testids )\n",
        "testString"
      ]
    },
    {
      "cell_type": "markdown",
      "metadata": {
        "id": "MRXMVqTcSpA0"
      },
      "source": [
        "## II. Construct our training data\n",
        "Next we need to construct our training data by building sentence chunks. Each chunk will consist of a sequence of characters and a corresponding \"next sequence\" of the same length showing what would happen if we move forward in the text. This \"next sequence\" becomes our target variable.\n",
        "\n",
        "For example, if this were our text:\n",
        "\n",
        "> It is a truth universally acknowledged, that a single man in possession\n",
        "of a good fortune, must be in want of a wife.\n",
        "\n",
        "And our sequence length was 10 with a step size of 1, our first chunk would be:\n",
        "\n",
        "* Sequence: `It is a tr`\n",
        "* Next Sequence: `t is a tru`\n",
        "\n",
        "Our second chunk would be:\n",
        "\n",
        "* Sequence: `t is a tru`\n",
        "* Next Word: ` is a trut`\n",
        "\n"
      ]
    },
    {
      "cell_type": "code",
      "execution_count": 9,
      "metadata": {
        "colab": {
          "base_uri": "https://localhost:8080/"
        },
        "id": "5PLJWOg2P_fE",
        "outputId": "23f81f9a-6b58-458f-93b9-53f1fb03118f"
      },
      "outputs": [
        {
          "output_type": "execute_result",
          "data": {
            "text/plain": [
              "<tf.Tensor: shape=(198823,), dtype=int64, numpy=array([93,  2,  1, ...,  1,  2,  1])>"
            ]
          },
          "metadata": {},
          "execution_count": 9
        }
      ],
      "source": [
        "# First, create a stream of encoded integers from our text\n",
        "all_ids = ids_from_chars(tf.strings.unicode_split(text, 'UTF-8'))\n",
        "all_ids"
      ]
    },
    {
      "cell_type": "code",
      "execution_count": 10,
      "metadata": {
        "id": "-nBqVY6pFpZs"
      },
      "outputs": [],
      "source": [
        "# Now, convert that into a tensorflow dataset\n",
        "ids_dataset = tf.data.Dataset.from_tensor_slices(all_ids)"
      ]
    },
    {
      "cell_type": "code",
      "execution_count": 11,
      "metadata": {
        "id": "8Fr28CJxUBtG"
      },
      "outputs": [],
      "source": [
        "# Finally, let's batch these sequences up into chunks for our training\n",
        "seq_length = 1200\n",
        "sequences = ids_dataset.batch(seq_length+1, drop_remainder=True)\n",
        "\n",
        "# This function will generate our sequence pairs:\n",
        "def split_input_target(sequence):\n",
        "    input_text = sequence[:-1]\n",
        "    target_text = sequence[1:]\n",
        "    return input_text, target_text\n",
        "\n",
        "# Call the function for every sequence in our list to create a new dataset\n",
        "# of input->target pairs\n",
        "dataset = sequences.map(split_input_target)"
      ]
    },
    {
      "cell_type": "code",
      "execution_count": 12,
      "metadata": {
        "colab": {
          "base_uri": "https://localhost:8080/"
        },
        "id": "poNVukmsUFkq",
        "outputId": "9fd7dacf-c49a-4765-c2bc-6ad40725895c"
      },
      "outputs": [
        {
          "output_type": "stream",
          "name": "stdout",
          "text": [
            "Input:  ﻿\r\n",
            "The Project Gutenberg EBook of The Call of the Wild, by Jack London\r\n",
            "\r\n",
            "This eBook is for the use of anyone anywhere in the United States and most\r\n",
            "other parts of the world at no cost and with almost no restrictions\r\n",
            "whatsoever.  You may copy it, give it away or re-use it under the terms of\r\n",
            "the Project Gutenberg License included with this eBook or online at\r\n",
            "www.gutenberg.org.  If you are not located in the United States, you'll have\r\n",
            "to check the laws of the country where you are located before using this ebook.\r\n",
            "\r\n",
            "Title: The Call of the Wild\r\n",
            "\r\n",
            "Author: Jack London\r\n",
            "\r\n",
            "Release Date: July 1, 2008 [EBook #215]\r\n",
            "Last updated: August 30, 2019\r\n",
            "\r\n",
            "Language: English\r\n",
            "\r\n",
            "Character set encoding: UTF-8\r\n",
            "\r\n",
            "*** START OF THIS PROJECT GUTENBERG EBOOK THE CALL OF THE WILD ***\r\n",
            "\r\n",
            "\r\n",
            "\r\n",
            "\r\n",
            "Produced by Ryan, Kirstin, Linda and Rick Trapp, and David Widger\r\n",
            "\r\n",
            "\r\n",
            "\r\n",
            "\r\n",
            "cover \r\n",
            "\r\n",
            "\r\n",
            "\r\n",
            "The Call of the Wild\r\n",
            "\r\n",
            "\r\n",
            "\r\n",
            "by Jack London\r\n",
            "\r\n",
            "\r\n",
            "\r\n",
            "Contents\r\n",
            "\r\n",
            "\r\n",
            " Chapter I. Into the Primitive\r\n",
            " Chapter II. The Law of Club and Fang\r\n",
            " Chapter III. The Dominant Primordial Beast\r\n",
            " Chapter IV. Who Has Won to Mastership\r\n",
            " Chapter V. The Toil of Trace\r\n",
            " Chapter VI. For the Love of a Man\r\n",
            " Chapter VII. The Sounding of the Call\r\n",
            "\r\n",
            "--------\n",
            "Target:  \r\n",
            "The Project Gutenberg EBook of The Call of the Wild, by Jack London\r\n",
            "\r\n",
            "This eBook is for the use of anyone anywhere in the United States and most\r\n",
            "other parts of the world at no cost and with almost no restrictions\r\n",
            "whatsoever.  You may copy it, give it away or re-use it under the terms of\r\n",
            "the Project Gutenberg License included with this eBook or online at\r\n",
            "www.gutenberg.org.  If you are not located in the United States, you'll have\r\n",
            "to check the laws of the country where you are located before using this ebook.\r\n",
            "\r\n",
            "Title: The Call of the Wild\r\n",
            "\r\n",
            "Author: Jack London\r\n",
            "\r\n",
            "Release Date: July 1, 2008 [EBook #215]\r\n",
            "Last updated: August 30, 2019\r\n",
            "\r\n",
            "Language: English\r\n",
            "\r\n",
            "Character set encoding: UTF-8\r\n",
            "\r\n",
            "*** START OF THIS PROJECT GUTENBERG EBOOK THE CALL OF THE WILD ***\r\n",
            "\r\n",
            "\r\n",
            "\r\n",
            "\r\n",
            "Produced by Ryan, Kirstin, Linda and Rick Trapp, and David Widger\r\n",
            "\r\n",
            "\r\n",
            "\r\n",
            "\r\n",
            "cover \r\n",
            "\r\n",
            "\r\n",
            "\r\n",
            "The Call of the Wild\r\n",
            "\r\n",
            "\r\n",
            "\r\n",
            "by Jack London\r\n",
            "\r\n",
            "\r\n",
            "\r\n",
            "Contents\r\n",
            "\r\n",
            "\r\n",
            " Chapter I. Into the Primitive\r\n",
            " Chapter II. The Law of Club and Fang\r\n",
            " Chapter III. The Dominant Primordial Beast\r\n",
            " Chapter IV. Who Has Won to Mastership\r\n",
            " Chapter V. The Toil of Trace\r\n",
            " Chapter VI. For the Love of a Man\r\n",
            " Chapter VII. The Sounding of the Call\r\n",
            "\r\n",
            "\n"
          ]
        }
      ],
      "source": [
        "# Verify our sequences\n",
        "for input_example, target_example in  dataset.take(1):\n",
        "    print(\"Input: \", text_from_ids(input_example))\n",
        "    print(\"--------\")\n",
        "    print(\"Target: \", text_from_ids(target_example))"
      ]
    },
    {
      "cell_type": "code",
      "execution_count": 13,
      "metadata": {
        "colab": {
          "base_uri": "https://localhost:8080/"
        },
        "id": "QDdr6xfZYa0o",
        "outputId": "1da78651-512b-43e0-d8dd-5763265f753a"
      },
      "outputs": [
        {
          "output_type": "execute_result",
          "data": {
            "text/plain": [
              "<PrefetchDataset element_spec=(TensorSpec(shape=(64, 1200), dtype=tf.int64, name=None), TensorSpec(shape=(64, 1200), dtype=tf.int64, name=None))>"
            ]
          },
          "metadata": {},
          "execution_count": 13
        }
      ],
      "source": [
        "# Finally, we'll randomize the sequences so that we don't just memorize the books\n",
        "# in the order they were written, then build a new streaming dataset from that.\n",
        "# Using a streaming dataset allows us to pass the data to our network bit by bit,\n",
        "# rather than keeping it all in memory. We'll set it to figure out how much data\n",
        "# to prefetch in the background.\n",
        "\n",
        "BATCH_SIZE = 64\n",
        "BUFFER_SIZE = 10000\n",
        "\n",
        "dataset = (\n",
        "    dataset\n",
        "    .shuffle(BUFFER_SIZE)\n",
        "    .batch(BATCH_SIZE, drop_remainder=True)\n",
        "    .prefetch(tf.data.experimental.AUTOTUNE))\n",
        "\n",
        "dataset"
      ]
    },
    {
      "cell_type": "markdown",
      "metadata": {
        "id": "0VQ-KjEeZMzd"
      },
      "source": [
        "## III. Build the model\n",
        "\n",
        "Next, we'll build our model. Up until this point, you've been using the Keras symbolic, or imperative API for creating your models. Doing something like:\n",
        "\n",
        "    model = tf.keras.models.Sequentla()\n",
        "    model.add(tf.keras.layers.Dense(80, activation='relu))\n",
        "    etc...\n",
        "\n",
        "However, tensorflow has another way to build models called the Functional API, which gives us a lot more control over what happens inside the model. You can read more about [the differences and when to use each here](https://blog.tensorflow.org/2019/01/what-are-symbolic-and-imperative-apis.html).\n",
        "\n",
        "We'll use the functional API for our RNN in this example. This will involve defining our model as a custom subclass of `tf.keras.Model`.\n",
        "\n",
        "If you're not familiar with classes in python, you might want to review [this quick tutorial](https://www.w3schools.com/python/python_classes.asp), as well as [this one on class inheritance](https://www.w3schools.com/python/python_inheritance.asp).\n",
        "\n",
        "Using a functional model is important for our situation because we're not just training it to predict a single character for a single sequence, but as we make predictions with it, we need it to remember those predictions as use that memory as it makes new predictions.\n"
      ]
    },
    {
      "cell_type": "code",
      "execution_count": 14,
      "metadata": {
        "id": "Fj4uh9y-Y9mx"
      },
      "outputs": [],
      "source": [
        "# Create our custom model. Given a sequence of characters, this\n",
        "# model's job is to predict what character should come next.\n",
        "class AustenTextModel(tf.keras.Model):\n",
        "\n",
        "  # This is our class constructor method, it will be executed when\n",
        "  # we first create an instance of the class \n",
        "  def __init__(self, vocab_size, embedding_dim, rnn_units):\n",
        "    super().__init__(self)\n",
        "\n",
        "    # Our model will have three layers:\n",
        "    \n",
        "    # 1. An embedding layer that handles the encoding of our vocabulary into\n",
        "    #    a vector of values suitable for a neural network\n",
        "    self.embedding = tf.keras.layers.Embedding(vocab_size, embedding_dim)\n",
        "\n",
        "    # 2. A GRU layer that handles the \"memory\" aspects of our RNN. If you're\n",
        "    #    wondering why we use GRU instead of LSTM, and whether LSTM is better,\n",
        "    #    take a look at this article: https://datascience.stackexchange.com/questions/14581/when-to-use-gru-over-lstm\n",
        "    #    then consider trying out LSTM instead (or in addition to!)\n",
        "    self.gru = tf.keras.layers.GRU(rnn_units, return_sequences=True, return_state=True)\n",
        "    #self.gruSecond = tf.keras.layers.GRU(rnn_units, return_sequences=True, return_state=True)\n",
        "    # 3. Our output layer that will give us a set of probabilities for each\n",
        "    #    character in our vocabulary.\n",
        "    self.dense = tf.keras.layers.Dense(vocab_size)\n",
        "\n",
        "  # This function will be executed for each epoch of our training. Here\n",
        "  # we will manually feed information from one layer of our network to the \n",
        "  # next.\n",
        "  def call(self, inputs, states=None, return_state=False, training=False):\n",
        "    x = inputs\n",
        "\n",
        "    # 1. Feed the inputs into the embedding layer, and tell it if we are\n",
        "    #    training or predicting\n",
        "    x = self.embedding(x, training=training)\n",
        "\n",
        "    # 2. If we don't have any state in memory yet, get the initial random state\n",
        "    #    from our GRUI layer.\n",
        "    if states is None:\n",
        "      states = self.gru.get_initial_state(x)\n",
        "    \n",
        "    # 3. Now, feed the vectorized input along with the current state of memory\n",
        "    #    into the gru layer.\n",
        "    x, states = self.gru(x, initial_state=states, training=training)\n",
        "    #x, states = self.gruSecond(x, initial_state=states, training=training)\n",
        "    # 4. Finally, pass the results on to the dense layer\n",
        "    x = self.dense(x, training=training)\n",
        "\n",
        "    # 5. Return the results\n",
        "    if return_state:\n",
        "      return x, states\n",
        "    else: \n",
        "      return x"
      ]
    },
    {
      "cell_type": "code",
      "execution_count": 15,
      "metadata": {
        "id": "UA2C6pxZc4De"
      },
      "outputs": [],
      "source": [
        "# Create an instance of our model\n",
        "vocab_size=len(ids_from_chars.get_vocabulary())\n",
        "embedding_dim = 256\n",
        "rnn_units = 1024\n",
        "\n",
        "model = AustenTextModel(vocab_size, embedding_dim, rnn_units)"
      ]
    },
    {
      "cell_type": "code",
      "execution_count": 16,
      "metadata": {
        "colab": {
          "base_uri": "https://localhost:8080/"
        },
        "id": "C67kN7YAdfSf",
        "outputId": "70223354-0aa2-4efa-fe5e-5d15ff80c346"
      },
      "outputs": [
        {
          "output_type": "stream",
          "name": "stdout",
          "text": [
            "(64, 1200, 94) # (batch_size, sequence_length, vocab_size)\n"
          ]
        }
      ],
      "source": [
        "# Verify the output of our model is correct by running one sample through\n",
        "# This will also compile the model for us. This step will take a bit.\n",
        "for input_example_batch, target_example_batch in dataset.take(1):\n",
        "    example_batch_predictions = model(input_example_batch)\n",
        "    print(example_batch_predictions.shape, \"# (batch_size, sequence_length, vocab_size)\")\n"
      ]
    },
    {
      "cell_type": "code",
      "execution_count": 17,
      "metadata": {
        "colab": {
          "base_uri": "https://localhost:8080/"
        },
        "id": "qJGL8gCWdsiu",
        "outputId": "b9cf60ef-b8bf-4cdf-afa2-c634e2185518"
      },
      "outputs": [
        {
          "output_type": "stream",
          "name": "stdout",
          "text": [
            "Model: \"austen_text_model\"\n",
            "_________________________________________________________________\n",
            " Layer (type)                Output Shape              Param #   \n",
            "=================================================================\n",
            " embedding (Embedding)       multiple                  24064     \n",
            "                                                                 \n",
            " gru (GRU)                   multiple                  3938304   \n",
            "                                                                 \n",
            " dense (Dense)               multiple                  96350     \n",
            "                                                                 \n",
            "=================================================================\n",
            "Total params: 4,058,718\n",
            "Trainable params: 4,058,718\n",
            "Non-trainable params: 0\n",
            "_________________________________________________________________\n"
          ]
        }
      ],
      "source": [
        "# Now let's view the model summary\n",
        "model.summary()"
      ]
    },
    {
      "cell_type": "code",
      "source": [
        ""
      ],
      "metadata": {
        "id": "tuZLvEnVH6mE"
      },
      "execution_count": 17,
      "outputs": []
    },
    {
      "cell_type": "markdown",
      "source": [
        "# Add tensorboard to look at the process"
      ],
      "metadata": {
        "id": "Rc24z5bkmKZb"
      }
    },
    {
      "cell_type": "code",
      "execution_count": 18,
      "metadata": {
        "id": "6B95Hb6YVgPZ"
      },
      "outputs": [],
      "source": [
        "# Load the TensorBoard notebook extension\n",
        "%load_ext tensorboard\n",
        "import datetime"
      ]
    },
    {
      "cell_type": "code",
      "execution_count": 19,
      "metadata": {
        "id": "Ao7fJW1Pyiza"
      },
      "outputs": [],
      "source": [
        "# Clear any logs from previous runs\n",
        "!rm -rf ./logs/ \n"
      ]
    },
    {
      "cell_type": "code",
      "source": [
        "#create directory and callbacks\n",
        "log_dir = \"logs/fit/\" + datetime.datetime.now().strftime(\"%Y%m%d-%H%M%S\")\n",
        "tensorboard_callback = tf.keras.callbacks.TensorBoard(log_dir=log_dir, histogram_freq=1)\n"
      ],
      "metadata": {
        "id": "HPI1mP8u1Qrx"
      },
      "execution_count": 20,
      "outputs": []
    },
    {
      "cell_type": "markdown",
      "metadata": {
        "id": "wTDe5m4baEqo"
      },
      "source": [
        "## IV. Train the model\n",
        "\n",
        "For our purposes, we'll be using [categorical cross entropy](https://machinelearningmastery.com/cross-entropy-for-machine-learning/) as our loss function*. Also, our model will be outputting [\"logits\" rather than normalized probabilities](https://stackoverflow.com/questions/41455101/what-is-the-meaning-of-the-word-logits-in-tensorflow), because we'll be doing further transformations on the output later. \n",
        "\n",
        "\n",
        "\\* Note that since our model deals with integer encoding rather than one-hot encoding, we'll specifically be using [sparse categorical cross entropy](https://stats.stackexchange.com/questions/326065/cross-entropy-vs-sparse-cross-entropy-when-to-use-one-over-the-other)."
      ]
    },
    {
      "cell_type": "code",
      "execution_count": 21,
      "metadata": {
        "colab": {
          "base_uri": "https://localhost:8080/",
          "height": 1000
        },
        "id": "7vOxc7CkaGQB",
        "outputId": "e28cd906-7e21-4c9a-f67f-17a601a1ade2"
      },
      "outputs": [
        {
          "output_type": "stream",
          "name": "stdout",
          "text": [
            "Epoch 1/900\n",
            "2/2 [==============================] - 3s 526ms/step - loss: 4.5223 - accuracy: 0.0862\n",
            "Epoch 2/900\n",
            "2/2 [==============================] - 1s 549ms/step - loss: 4.3087 - accuracy: 0.1611\n",
            "Epoch 3/900\n",
            "2/2 [==============================] - 1s 552ms/step - loss: 6.2105 - accuracy: 0.1613\n",
            "Epoch 4/900\n",
            "2/2 [==============================] - 1s 549ms/step - loss: 3.5744 - accuracy: 0.0955\n",
            "Epoch 5/900\n",
            "2/2 [==============================] - 1s 552ms/step - loss: 3.7027 - accuracy: 0.0954\n",
            "Epoch 6/900\n",
            "2/2 [==============================] - 1s 549ms/step - loss: 3.5486 - accuracy: 0.1161\n",
            "Epoch 7/900\n",
            "2/2 [==============================] - 1s 556ms/step - loss: 3.5132 - accuracy: 0.0994\n",
            "Epoch 8/900\n",
            "2/2 [==============================] - 1s 552ms/step - loss: 3.4018 - accuracy: 0.0815\n",
            "Epoch 9/900\n",
            "2/2 [==============================] - 1s 553ms/step - loss: 3.2809 - accuracy: 0.0822\n",
            "Epoch 10/900\n",
            "2/2 [==============================] - 1s 556ms/step - loss: 3.1593 - accuracy: 0.1166\n",
            "Epoch 11/900\n",
            "2/2 [==============================] - 1s 561ms/step - loss: 3.0413 - accuracy: 0.2084\n",
            "Epoch 12/900\n",
            "2/2 [==============================] - 1s 556ms/step - loss: 3.0275 - accuracy: 0.1694\n",
            "Epoch 13/900\n",
            "2/2 [==============================] - 1s 562ms/step - loss: 3.0436 - accuracy: 0.1662\n",
            "Epoch 14/900\n",
            "2/2 [==============================] - 1s 563ms/step - loss: 2.9822 - accuracy: 0.1883\n",
            "Epoch 15/900\n",
            "2/2 [==============================] - 1s 567ms/step - loss: 2.9180 - accuracy: 0.2203\n",
            "Epoch 16/900\n",
            "2/2 [==============================] - 1s 570ms/step - loss: 2.9005 - accuracy: 0.2544\n",
            "Epoch 17/900\n",
            "2/2 [==============================] - 1s 562ms/step - loss: 2.8612 - accuracy: 0.2791\n",
            "Epoch 18/900\n",
            "2/2 [==============================] - 1s 566ms/step - loss: 2.8341 - accuracy: 0.2851\n",
            "Epoch 19/900\n",
            "2/2 [==============================] - 1s 570ms/step - loss: 2.7931 - accuracy: 0.2885\n",
            "Epoch 20/900\n",
            "2/2 [==============================] - 1s 566ms/step - loss: 2.7601 - accuracy: 0.2869\n",
            "Epoch 21/900\n",
            "2/2 [==============================] - 1s 564ms/step - loss: 2.7153 - accuracy: 0.2885\n",
            "Epoch 22/900\n",
            "2/2 [==============================] - 1s 570ms/step - loss: 2.6769 - accuracy: 0.2891\n",
            "Epoch 23/900\n",
            "2/2 [==============================] - 1s 568ms/step - loss: 2.6457 - accuracy: 0.2909\n",
            "Epoch 24/900\n",
            "2/2 [==============================] - 1s 576ms/step - loss: 2.6138 - accuracy: 0.2922\n",
            "Epoch 25/900\n",
            "2/2 [==============================] - 1s 574ms/step - loss: 2.5702 - accuracy: 0.2984\n",
            "Epoch 26/900\n",
            "2/2 [==============================] - 1s 570ms/step - loss: 2.5476 - accuracy: 0.2999\n",
            "Epoch 27/900\n",
            "2/2 [==============================] - 1s 574ms/step - loss: 2.5273 - accuracy: 0.3047\n",
            "Epoch 28/900\n",
            "2/2 [==============================] - 1s 573ms/step - loss: 2.5023 - accuracy: 0.3110\n",
            "Epoch 29/900\n",
            "2/2 [==============================] - 1s 574ms/step - loss: 2.4805 - accuracy: 0.3155\n",
            "Epoch 30/900\n",
            "2/2 [==============================] - 1s 573ms/step - loss: 2.4568 - accuracy: 0.3183\n",
            "Epoch 31/900\n",
            "2/2 [==============================] - 1s 578ms/step - loss: 2.4476 - accuracy: 0.3204\n",
            "Epoch 32/900\n",
            "2/2 [==============================] - 1s 580ms/step - loss: 2.4340 - accuracy: 0.3233\n",
            "Epoch 33/900\n",
            "2/2 [==============================] - 1s 577ms/step - loss: 2.4191 - accuracy: 0.3228\n",
            "Epoch 34/900\n",
            "2/2 [==============================] - 1s 580ms/step - loss: 2.3972 - accuracy: 0.3219\n",
            "Epoch 35/900\n",
            "2/2 [==============================] - 1s 582ms/step - loss: 2.3974 - accuracy: 0.3220\n",
            "Epoch 36/900\n",
            "2/2 [==============================] - 1s 581ms/step - loss: 2.3886 - accuracy: 0.3266\n",
            "Epoch 37/900\n",
            "2/2 [==============================] - 1s 576ms/step - loss: 2.3523 - accuracy: 0.3345\n",
            "Epoch 38/900\n",
            "2/2 [==============================] - 1s 582ms/step - loss: 2.3609 - accuracy: 0.3363\n",
            "Epoch 39/900\n",
            "2/2 [==============================] - 1s 577ms/step - loss: 2.3476 - accuracy: 0.3463\n",
            "Epoch 40/900\n",
            "2/2 [==============================] - 1s 581ms/step - loss: 2.3347 - accuracy: 0.3466\n",
            "Epoch 41/900\n",
            "2/2 [==============================] - 1s 582ms/step - loss: 2.3204 - accuracy: 0.3466\n",
            "Epoch 42/900\n",
            "2/2 [==============================] - 1s 581ms/step - loss: 2.3104 - accuracy: 0.3504\n",
            "Epoch 43/900\n",
            "2/2 [==============================] - 1s 586ms/step - loss: 2.3010 - accuracy: 0.3540\n",
            "Epoch 44/900\n",
            "2/2 [==============================] - 1s 583ms/step - loss: 2.2955 - accuracy: 0.3559\n",
            "Epoch 45/900\n",
            "2/2 [==============================] - 1s 586ms/step - loss: 2.2889 - accuracy: 0.3576\n",
            "Epoch 46/900\n",
            "2/2 [==============================] - 1s 580ms/step - loss: 2.2718 - accuracy: 0.3613\n",
            "Epoch 47/900\n",
            "2/2 [==============================] - 1s 579ms/step - loss: 2.2913 - accuracy: 0.3569\n",
            "Epoch 48/900\n",
            "2/2 [==============================] - 1s 581ms/step - loss: 2.2705 - accuracy: 0.3578\n",
            "Epoch 49/900\n",
            "2/2 [==============================] - 1s 583ms/step - loss: 2.2648 - accuracy: 0.3574\n",
            "Epoch 50/900\n",
            "2/2 [==============================] - 1s 585ms/step - loss: 2.2555 - accuracy: 0.3605\n",
            "Epoch 51/900\n",
            "2/2 [==============================] - 1s 581ms/step - loss: 2.2433 - accuracy: 0.3632\n",
            "Epoch 52/900\n",
            "2/2 [==============================] - 1s 584ms/step - loss: 2.2452 - accuracy: 0.3621\n",
            "Epoch 53/900\n",
            "2/2 [==============================] - 1s 592ms/step - loss: 2.2367 - accuracy: 0.3634\n",
            "Epoch 54/900\n",
            "2/2 [==============================] - 1s 589ms/step - loss: 2.2308 - accuracy: 0.3646\n",
            "Epoch 55/900\n",
            "2/2 [==============================] - 1s 591ms/step - loss: 2.2185 - accuracy: 0.3676\n",
            "Epoch 56/900\n",
            "2/2 [==============================] - 1s 583ms/step - loss: 2.2196 - accuracy: 0.3680\n",
            "Epoch 57/900\n",
            "2/2 [==============================] - 1s 592ms/step - loss: 2.2109 - accuracy: 0.3714\n",
            "Epoch 58/900\n",
            "2/2 [==============================] - 1s 586ms/step - loss: 2.2154 - accuracy: 0.3704\n",
            "Epoch 59/900\n",
            "2/2 [==============================] - 1s 600ms/step - loss: 2.1941 - accuracy: 0.3723\n",
            "Epoch 60/900\n",
            "2/2 [==============================] - 1s 587ms/step - loss: 2.1930 - accuracy: 0.3734\n",
            "Epoch 61/900\n",
            "2/2 [==============================] - 1s 594ms/step - loss: 2.1849 - accuracy: 0.3752\n",
            "Epoch 62/900\n",
            "2/2 [==============================] - 1s 600ms/step - loss: 2.1786 - accuracy: 0.3752\n",
            "Epoch 63/900\n",
            "2/2 [==============================] - 1s 591ms/step - loss: 2.1683 - accuracy: 0.3782\n",
            "Epoch 64/900\n",
            "2/2 [==============================] - 1s 595ms/step - loss: 2.1714 - accuracy: 0.3789\n",
            "Epoch 65/900\n",
            "2/2 [==============================] - 1s 599ms/step - loss: 2.1584 - accuracy: 0.3809\n",
            "Epoch 66/900\n",
            "2/2 [==============================] - 1s 597ms/step - loss: 2.1655 - accuracy: 0.3796\n",
            "Epoch 67/900\n",
            "2/2 [==============================] - 1s 595ms/step - loss: 2.1538 - accuracy: 0.3822\n",
            "Epoch 68/900\n",
            "2/2 [==============================] - 1s 600ms/step - loss: 2.1334 - accuracy: 0.3854\n",
            "Epoch 69/900\n",
            "2/2 [==============================] - 1s 599ms/step - loss: 2.1370 - accuracy: 0.3852\n",
            "Epoch 70/900\n",
            "2/2 [==============================] - 1s 601ms/step - loss: 2.1258 - accuracy: 0.3874\n",
            "Epoch 71/900\n",
            "2/2 [==============================] - 1s 595ms/step - loss: 2.1253 - accuracy: 0.3890\n",
            "Epoch 72/900\n",
            "2/2 [==============================] - 1s 603ms/step - loss: 2.1049 - accuracy: 0.3903\n",
            "Epoch 73/900\n",
            "2/2 [==============================] - 1s 600ms/step - loss: 2.1201 - accuracy: 0.3882\n",
            "Epoch 74/900\n",
            "2/2 [==============================] - 1s 604ms/step - loss: 2.1090 - accuracy: 0.3906\n",
            "Epoch 75/900\n",
            "2/2 [==============================] - 1s 604ms/step - loss: 2.1003 - accuracy: 0.3935\n",
            "Epoch 76/900\n",
            "2/2 [==============================] - 1s 605ms/step - loss: 2.0716 - accuracy: 0.3988\n",
            "Epoch 77/900\n",
            "2/2 [==============================] - 1s 605ms/step - loss: 2.0809 - accuracy: 0.3980\n",
            "Epoch 78/900\n",
            "2/2 [==============================] - 1s 602ms/step - loss: 2.0800 - accuracy: 0.3984\n",
            "Epoch 79/900\n",
            "2/2 [==============================] - 1s 600ms/step - loss: 2.0610 - accuracy: 0.4014\n",
            "Epoch 80/900\n",
            "2/2 [==============================] - 1s 600ms/step - loss: 2.0483 - accuracy: 0.4049\n",
            "Epoch 81/900\n",
            "2/2 [==============================] - 1s 604ms/step - loss: 2.0625 - accuracy: 0.4038\n",
            "Epoch 82/900\n",
            "2/2 [==============================] - 1s 602ms/step - loss: 2.0495 - accuracy: 0.4064\n",
            "Epoch 83/900\n",
            "2/2 [==============================] - 1s 605ms/step - loss: 2.0457 - accuracy: 0.4073\n",
            "Epoch 84/900\n",
            "2/2 [==============================] - 1s 604ms/step - loss: 2.0313 - accuracy: 0.4101\n",
            "Epoch 85/900\n",
            "2/2 [==============================] - 1s 608ms/step - loss: 2.0241 - accuracy: 0.4116\n",
            "Epoch 86/900\n",
            "2/2 [==============================] - 1s 606ms/step - loss: 2.0091 - accuracy: 0.4162\n",
            "Epoch 87/900\n",
            "2/2 [==============================] - 1s 597ms/step - loss: 2.0154 - accuracy: 0.4137\n",
            "Epoch 88/900\n",
            "2/2 [==============================] - 1s 602ms/step - loss: 2.0089 - accuracy: 0.4161\n",
            "Epoch 89/900\n",
            "2/2 [==============================] - 1s 600ms/step - loss: 1.9879 - accuracy: 0.4201\n",
            "Epoch 90/900\n",
            "2/2 [==============================] - 1s 600ms/step - loss: 1.9809 - accuracy: 0.4217\n",
            "Epoch 91/900\n",
            "2/2 [==============================] - 1s 600ms/step - loss: 1.9867 - accuracy: 0.4208\n",
            "Epoch 92/900\n",
            "2/2 [==============================] - 1s 602ms/step - loss: 1.9713 - accuracy: 0.4249\n",
            "Epoch 93/900\n",
            "2/2 [==============================] - 1s 597ms/step - loss: 1.9705 - accuracy: 0.4261\n",
            "Epoch 94/900\n",
            "2/2 [==============================] - 1s 599ms/step - loss: 1.9547 - accuracy: 0.4304\n",
            "Epoch 95/900\n",
            "2/2 [==============================] - 1s 594ms/step - loss: 1.9469 - accuracy: 0.4321\n",
            "Epoch 96/900\n",
            "2/2 [==============================] - 1s 599ms/step - loss: 1.9496 - accuracy: 0.4323\n",
            "Epoch 97/900\n",
            "2/2 [==============================] - 1s 595ms/step - loss: 1.9333 - accuracy: 0.4364\n",
            "Epoch 98/900\n",
            "2/2 [==============================] - 1s 603ms/step - loss: 1.9324 - accuracy: 0.4372\n",
            "Epoch 99/900\n",
            "2/2 [==============================] - 1s 606ms/step - loss: 1.9217 - accuracy: 0.4408\n",
            "Epoch 100/900\n",
            "2/2 [==============================] - 1s 600ms/step - loss: 1.9035 - accuracy: 0.4445\n",
            "Epoch 101/900\n",
            "2/2 [==============================] - 1s 595ms/step - loss: 1.9078 - accuracy: 0.4458\n",
            "Epoch 102/900\n",
            "2/2 [==============================] - 1s 602ms/step - loss: 1.8948 - accuracy: 0.4479\n",
            "Epoch 103/900\n",
            "2/2 [==============================] - 1s 599ms/step - loss: 1.8925 - accuracy: 0.4492\n",
            "Epoch 104/900\n",
            "2/2 [==============================] - 1s 601ms/step - loss: 1.8781 - accuracy: 0.4526\n",
            "Epoch 105/900\n",
            "2/2 [==============================] - 1s 600ms/step - loss: 1.8693 - accuracy: 0.4547\n",
            "Epoch 106/900\n",
            "2/2 [==============================] - 1s 596ms/step - loss: 1.8690 - accuracy: 0.4549\n",
            "Epoch 107/900\n",
            "2/2 [==============================] - 1s 599ms/step - loss: 1.8552 - accuracy: 0.4587\n",
            "Epoch 108/900\n",
            "2/2 [==============================] - 1s 602ms/step - loss: 1.8461 - accuracy: 0.4615\n",
            "Epoch 109/900\n",
            "2/2 [==============================] - 1s 603ms/step - loss: 1.8413 - accuracy: 0.4633\n",
            "Epoch 110/900\n",
            "2/2 [==============================] - 1s 602ms/step - loss: 1.8350 - accuracy: 0.4654\n",
            "Epoch 111/900\n",
            "2/2 [==============================] - 1s 605ms/step - loss: 1.8199 - accuracy: 0.4682\n",
            "Epoch 112/900\n",
            "2/2 [==============================] - 1s 611ms/step - loss: 1.8142 - accuracy: 0.4698\n",
            "Epoch 113/900\n",
            "2/2 [==============================] - 1s 600ms/step - loss: 1.8140 - accuracy: 0.4693\n",
            "Epoch 114/900\n",
            "2/2 [==============================] - 1s 604ms/step - loss: 1.7945 - accuracy: 0.4736\n",
            "Epoch 115/900\n",
            "2/2 [==============================] - 1s 603ms/step - loss: 1.7902 - accuracy: 0.4744\n",
            "Epoch 116/900\n",
            "2/2 [==============================] - 1s 610ms/step - loss: 1.7836 - accuracy: 0.4772\n",
            "Epoch 117/900\n",
            "2/2 [==============================] - 1s 611ms/step - loss: 1.7772 - accuracy: 0.4792\n",
            "Epoch 118/900\n",
            "2/2 [==============================] - 1s 605ms/step - loss: 1.7738 - accuracy: 0.4799\n",
            "Epoch 119/900\n",
            "2/2 [==============================] - 1s 615ms/step - loss: 1.7558 - accuracy: 0.4831\n",
            "Epoch 120/900\n",
            "2/2 [==============================] - 1s 610ms/step - loss: 1.7558 - accuracy: 0.4858\n",
            "Epoch 121/900\n",
            "2/2 [==============================] - 1s 605ms/step - loss: 1.7507 - accuracy: 0.4844\n",
            "Epoch 122/900\n",
            "2/2 [==============================] - 1s 610ms/step - loss: 1.7484 - accuracy: 0.4885\n",
            "Epoch 123/900\n",
            "2/2 [==============================] - 1s 610ms/step - loss: 1.7383 - accuracy: 0.4909\n",
            "Epoch 124/900\n",
            "2/2 [==============================] - 1s 610ms/step - loss: 1.7376 - accuracy: 0.4917\n",
            "Epoch 125/900\n",
            "2/2 [==============================] - 1s 607ms/step - loss: 1.7241 - accuracy: 0.4943\n",
            "Epoch 126/900\n",
            "2/2 [==============================] - 1s 615ms/step - loss: 1.7150 - accuracy: 0.4974\n",
            "Epoch 127/900\n",
            "2/2 [==============================] - 1s 609ms/step - loss: 1.7090 - accuracy: 0.4994\n",
            "Epoch 128/900\n",
            "2/2 [==============================] - 1s 611ms/step - loss: 1.6983 - accuracy: 0.5017\n",
            "Epoch 129/900\n",
            "2/2 [==============================] - 1s 606ms/step - loss: 1.6971 - accuracy: 0.5023\n",
            "Epoch 130/900\n",
            "2/2 [==============================] - 1s 606ms/step - loss: 1.6824 - accuracy: 0.5046\n",
            "Epoch 131/900\n",
            "2/2 [==============================] - 1s 613ms/step - loss: 1.6735 - accuracy: 0.5081\n",
            "Epoch 132/900\n",
            "2/2 [==============================] - 1s 613ms/step - loss: 1.6733 - accuracy: 0.5074\n",
            "Epoch 133/900\n",
            "2/2 [==============================] - 1s 611ms/step - loss: 1.6613 - accuracy: 0.5116\n",
            "Epoch 134/900\n",
            "2/2 [==============================] - 1s 613ms/step - loss: 1.6549 - accuracy: 0.5116\n",
            "Epoch 135/900\n",
            "2/2 [==============================] - 1s 605ms/step - loss: 1.6536 - accuracy: 0.5128\n",
            "Epoch 136/900\n",
            "2/2 [==============================] - 1s 613ms/step - loss: 1.6365 - accuracy: 0.5165\n",
            "Epoch 137/900\n",
            "2/2 [==============================] - 1s 618ms/step - loss: 1.6334 - accuracy: 0.5182\n",
            "Epoch 138/900\n",
            "2/2 [==============================] - 1s 608ms/step - loss: 1.6350 - accuracy: 0.5176\n",
            "Epoch 139/900\n",
            "2/2 [==============================] - 1s 619ms/step - loss: 1.6173 - accuracy: 0.5215\n",
            "Epoch 140/900\n",
            "2/2 [==============================] - 1s 609ms/step - loss: 1.6117 - accuracy: 0.5250\n",
            "Epoch 141/900\n",
            "2/2 [==============================] - 1s 609ms/step - loss: 1.6133 - accuracy: 0.5227\n",
            "Epoch 142/900\n",
            "2/2 [==============================] - 1s 609ms/step - loss: 1.5985 - accuracy: 0.5273\n",
            "Epoch 143/900\n",
            "2/2 [==============================] - 1s 614ms/step - loss: 1.5920 - accuracy: 0.5281\n",
            "Epoch 144/900\n",
            "2/2 [==============================] - 1s 616ms/step - loss: 1.5928 - accuracy: 0.5285\n",
            "Epoch 145/900\n",
            "2/2 [==============================] - 1s 612ms/step - loss: 1.5705 - accuracy: 0.5342\n",
            "Epoch 146/900\n",
            "2/2 [==============================] - 1s 611ms/step - loss: 1.5752 - accuracy: 0.5320\n",
            "Epoch 147/900\n",
            "2/2 [==============================] - 1s 611ms/step - loss: 1.5684 - accuracy: 0.5346\n",
            "Epoch 148/900\n",
            "2/2 [==============================] - 1s 613ms/step - loss: 1.5555 - accuracy: 0.5388\n",
            "Epoch 149/900\n",
            "2/2 [==============================] - 1s 615ms/step - loss: 1.5549 - accuracy: 0.5381\n",
            "Epoch 150/900\n",
            "2/2 [==============================] - 1s 618ms/step - loss: 1.5502 - accuracy: 0.5406\n",
            "Epoch 151/900\n",
            "2/2 [==============================] - 1s 617ms/step - loss: 1.5361 - accuracy: 0.5431\n",
            "Epoch 152/900\n",
            "2/2 [==============================] - 1s 615ms/step - loss: 1.5318 - accuracy: 0.5448\n",
            "Epoch 153/900\n",
            "2/2 [==============================] - 1s 615ms/step - loss: 1.5221 - accuracy: 0.5468\n",
            "Epoch 154/900\n",
            "2/2 [==============================] - 1s 614ms/step - loss: 1.5219 - accuracy: 0.5481\n",
            "Epoch 155/900\n",
            "2/2 [==============================] - 1s 614ms/step - loss: 1.5092 - accuracy: 0.5504\n",
            "Epoch 156/900\n",
            "2/2 [==============================] - 1s 613ms/step - loss: 1.5076 - accuracy: 0.5491\n",
            "Epoch 157/900\n",
            "2/2 [==============================] - 1s 611ms/step - loss: 1.5007 - accuracy: 0.5539\n",
            "Epoch 158/900\n",
            "2/2 [==============================] - 1s 616ms/step - loss: 1.4992 - accuracy: 0.5528\n",
            "Epoch 159/900\n",
            "2/2 [==============================] - 1s 610ms/step - loss: 1.4847 - accuracy: 0.5570\n",
            "Epoch 160/900\n",
            "2/2 [==============================] - 1s 614ms/step - loss: 1.4800 - accuracy: 0.5590\n",
            "Epoch 161/900\n",
            "2/2 [==============================] - 1s 616ms/step - loss: 1.4715 - accuracy: 0.5609\n",
            "Epoch 162/900\n",
            "2/2 [==============================] - 1s 612ms/step - loss: 1.4672 - accuracy: 0.5609\n",
            "Epoch 163/900\n",
            "2/2 [==============================] - 1s 615ms/step - loss: 1.4618 - accuracy: 0.5624\n",
            "Epoch 164/900\n",
            "2/2 [==============================] - 1s 611ms/step - loss: 1.4509 - accuracy: 0.5657\n",
            "Epoch 165/900\n",
            "2/2 [==============================] - 1s 614ms/step - loss: 1.4490 - accuracy: 0.5669\n",
            "Epoch 166/900\n",
            "2/2 [==============================] - 1s 612ms/step - loss: 1.4440 - accuracy: 0.5688\n",
            "Epoch 167/900\n",
            "2/2 [==============================] - 1s 612ms/step - loss: 1.4369 - accuracy: 0.5708\n",
            "Epoch 168/900\n",
            "2/2 [==============================] - 1s 614ms/step - loss: 1.4260 - accuracy: 0.5735\n",
            "Epoch 169/900\n",
            "2/2 [==============================] - 1s 613ms/step - loss: 1.4194 - accuracy: 0.5752\n",
            "Epoch 170/900\n",
            "2/2 [==============================] - 1s 614ms/step - loss: 1.4151 - accuracy: 0.5768\n",
            "Epoch 171/900\n",
            "2/2 [==============================] - 1s 615ms/step - loss: 1.4076 - accuracy: 0.5781\n",
            "Epoch 172/900\n",
            "2/2 [==============================] - 1s 617ms/step - loss: 1.4008 - accuracy: 0.5807\n",
            "Epoch 173/900\n",
            "2/2 [==============================] - 1s 618ms/step - loss: 1.3957 - accuracy: 0.5825\n",
            "Epoch 174/900\n",
            "2/2 [==============================] - 1s 611ms/step - loss: 1.3858 - accuracy: 0.5839\n",
            "Epoch 175/900\n",
            "2/2 [==============================] - 1s 612ms/step - loss: 1.3881 - accuracy: 0.5845\n",
            "Epoch 176/900\n",
            "2/2 [==============================] - 1s 617ms/step - loss: 1.3789 - accuracy: 0.5866\n",
            "Epoch 177/900\n",
            "2/2 [==============================] - 1s 612ms/step - loss: 1.3797 - accuracy: 0.5873\n",
            "Epoch 178/900\n",
            "2/2 [==============================] - 1s 616ms/step - loss: 1.3642 - accuracy: 0.5898\n",
            "Epoch 179/900\n",
            "2/2 [==============================] - 1s 615ms/step - loss: 1.3585 - accuracy: 0.5925\n",
            "Epoch 180/900\n",
            "2/2 [==============================] - 1s 614ms/step - loss: 1.3567 - accuracy: 0.5922\n",
            "Epoch 181/900\n",
            "2/2 [==============================] - 1s 609ms/step - loss: 1.3492 - accuracy: 0.5945\n",
            "Epoch 182/900\n",
            "2/2 [==============================] - 1s 614ms/step - loss: 1.3365 - accuracy: 0.5995\n",
            "Epoch 183/900\n",
            "2/2 [==============================] - 1s 623ms/step - loss: 1.3379 - accuracy: 0.5982\n",
            "Epoch 184/900\n",
            "2/2 [==============================] - 1s 615ms/step - loss: 1.3324 - accuracy: 0.5986\n",
            "Epoch 185/900\n",
            "2/2 [==============================] - 1s 618ms/step - loss: 1.3198 - accuracy: 0.6029\n",
            "Epoch 186/900\n",
            "2/2 [==============================] - 1s 616ms/step - loss: 1.3141 - accuracy: 0.6045\n",
            "Epoch 187/900\n",
            "2/2 [==============================] - 1s 615ms/step - loss: 1.3147 - accuracy: 0.6033\n",
            "Epoch 188/900\n",
            "2/2 [==============================] - 1s 618ms/step - loss: 1.3004 - accuracy: 0.6075\n",
            "Epoch 189/900\n",
            "2/2 [==============================] - 1s 615ms/step - loss: 1.2981 - accuracy: 0.6084\n",
            "Epoch 190/900\n",
            "2/2 [==============================] - 1s 616ms/step - loss: 1.2877 - accuracy: 0.6118\n",
            "Epoch 191/900\n",
            "2/2 [==============================] - 1s 617ms/step - loss: 1.2814 - accuracy: 0.6129\n",
            "Epoch 192/900\n",
            "2/2 [==============================] - 1s 616ms/step - loss: 1.2804 - accuracy: 0.6152\n",
            "Epoch 193/900\n",
            "2/2 [==============================] - 1s 618ms/step - loss: 1.2721 - accuracy: 0.6161\n",
            "Epoch 194/900\n",
            "2/2 [==============================] - 1s 616ms/step - loss: 1.2674 - accuracy: 0.6181\n",
            "Epoch 195/900\n",
            "2/2 [==============================] - 1s 621ms/step - loss: 1.2692 - accuracy: 0.6184\n",
            "Epoch 196/900\n",
            "2/2 [==============================] - 1s 617ms/step - loss: 1.2549 - accuracy: 0.6221\n",
            "Epoch 197/900\n",
            "2/2 [==============================] - 1s 615ms/step - loss: 1.2475 - accuracy: 0.6241\n",
            "Epoch 198/900\n",
            "2/2 [==============================] - 1s 623ms/step - loss: 1.2415 - accuracy: 0.6250\n",
            "Epoch 199/900\n",
            "2/2 [==============================] - 1s 614ms/step - loss: 1.2379 - accuracy: 0.6257\n",
            "Epoch 200/900\n",
            "2/2 [==============================] - 1s 624ms/step - loss: 1.2265 - accuracy: 0.6297\n",
            "Epoch 201/900\n",
            "2/2 [==============================] - 1s 612ms/step - loss: 1.2256 - accuracy: 0.6299\n",
            "Epoch 202/900\n",
            "2/2 [==============================] - 1s 610ms/step - loss: 1.2167 - accuracy: 0.6323\n",
            "Epoch 203/900\n",
            "2/2 [==============================] - 1s 615ms/step - loss: 1.2091 - accuracy: 0.6343\n",
            "Epoch 204/900\n",
            "2/2 [==============================] - 1s 617ms/step - loss: 1.2053 - accuracy: 0.6359\n",
            "Epoch 205/900\n",
            "2/2 [==============================] - 1s 617ms/step - loss: 1.1994 - accuracy: 0.6373\n",
            "Epoch 206/900\n",
            "2/2 [==============================] - 1s 614ms/step - loss: 1.1899 - accuracy: 0.6400\n",
            "Epoch 207/900\n",
            "2/2 [==============================] - 1s 616ms/step - loss: 1.1860 - accuracy: 0.6409\n",
            "Epoch 208/900\n",
            "2/2 [==============================] - 1s 615ms/step - loss: 1.1787 - accuracy: 0.6429\n",
            "Epoch 209/900\n",
            "2/2 [==============================] - 1s 613ms/step - loss: 1.1707 - accuracy: 0.6472\n",
            "Epoch 210/900\n",
            "2/2 [==============================] - 1s 622ms/step - loss: 1.1736 - accuracy: 0.6449\n",
            "Epoch 211/900\n",
            "2/2 [==============================] - 1s 616ms/step - loss: 1.1596 - accuracy: 0.6496\n",
            "Epoch 212/900\n",
            "2/2 [==============================] - 1s 614ms/step - loss: 1.1605 - accuracy: 0.6476\n",
            "Epoch 213/900\n",
            "2/2 [==============================] - 1s 613ms/step - loss: 1.1507 - accuracy: 0.6521\n",
            "Epoch 214/900\n",
            "2/2 [==============================] - 1s 610ms/step - loss: 1.1416 - accuracy: 0.6544\n",
            "Epoch 215/900\n",
            "2/2 [==============================] - 1s 616ms/step - loss: 1.1406 - accuracy: 0.6546\n",
            "Epoch 216/900\n",
            "2/2 [==============================] - 1s 611ms/step - loss: 1.1281 - accuracy: 0.6583\n",
            "Epoch 217/900\n",
            "2/2 [==============================] - 1s 614ms/step - loss: 1.1250 - accuracy: 0.6602\n",
            "Epoch 218/900\n",
            "2/2 [==============================] - 1s 622ms/step - loss: 1.1159 - accuracy: 0.6616\n",
            "Epoch 219/900\n",
            "2/2 [==============================] - 1s 615ms/step - loss: 1.1049 - accuracy: 0.6655\n",
            "Epoch 220/900\n",
            "2/2 [==============================] - 1s 616ms/step - loss: 1.1113 - accuracy: 0.6626\n",
            "Epoch 221/900\n",
            "2/2 [==============================] - 1s 612ms/step - loss: 1.1068 - accuracy: 0.6647\n",
            "Epoch 222/900\n",
            "2/2 [==============================] - 1s 618ms/step - loss: 1.1035 - accuracy: 0.6647\n",
            "Epoch 223/900\n",
            "2/2 [==============================] - 1s 615ms/step - loss: 1.0885 - accuracy: 0.6703\n",
            "Epoch 224/900\n",
            "2/2 [==============================] - 1s 620ms/step - loss: 1.0804 - accuracy: 0.6718\n",
            "Epoch 225/900\n",
            "2/2 [==============================] - 1s 617ms/step - loss: 1.0826 - accuracy: 0.6711\n",
            "Epoch 226/900\n",
            "2/2 [==============================] - 1s 620ms/step - loss: 1.0690 - accuracy: 0.6773\n",
            "Epoch 227/900\n",
            "2/2 [==============================] - 1s 614ms/step - loss: 1.0630 - accuracy: 0.6773\n",
            "Epoch 228/900\n",
            "2/2 [==============================] - 1s 620ms/step - loss: 1.0539 - accuracy: 0.6819\n",
            "Epoch 229/900\n",
            "2/2 [==============================] - 1s 613ms/step - loss: 1.0477 - accuracy: 0.6831\n",
            "Epoch 230/900\n",
            "2/2 [==============================] - 1s 622ms/step - loss: 1.0457 - accuracy: 0.6838\n",
            "Epoch 231/900\n",
            "2/2 [==============================] - 1s 620ms/step - loss: 1.0391 - accuracy: 0.6862\n",
            "Epoch 232/900\n",
            "2/2 [==============================] - 1s 616ms/step - loss: 1.0299 - accuracy: 0.6884\n",
            "Epoch 233/900\n",
            "2/2 [==============================] - 1s 622ms/step - loss: 1.0178 - accuracy: 0.6918\n",
            "Epoch 234/900\n",
            "2/2 [==============================] - 1s 612ms/step - loss: 1.0151 - accuracy: 0.6932\n",
            "Epoch 235/900\n",
            "2/2 [==============================] - 1s 614ms/step - loss: 1.0032 - accuracy: 0.6984\n",
            "Epoch 236/900\n",
            "2/2 [==============================] - 1s 616ms/step - loss: 1.0032 - accuracy: 0.6968\n",
            "Epoch 237/900\n",
            "2/2 [==============================] - 1s 617ms/step - loss: 1.0001 - accuracy: 0.6988\n",
            "Epoch 238/900\n",
            "2/2 [==============================] - 1s 618ms/step - loss: 1.0056 - accuracy: 0.6962\n",
            "Epoch 239/900\n",
            "2/2 [==============================] - 1s 617ms/step - loss: 1.0363 - accuracy: 0.6838\n",
            "Epoch 240/900\n",
            "2/2 [==============================] - 1s 617ms/step - loss: 0.9993 - accuracy: 0.6977\n",
            "Epoch 241/900\n",
            "2/2 [==============================] - 1s 615ms/step - loss: 0.9886 - accuracy: 0.7012\n",
            "Epoch 242/900\n",
            "2/2 [==============================] - 1s 620ms/step - loss: 0.9891 - accuracy: 0.7002\n",
            "Epoch 243/900\n",
            "2/2 [==============================] - 1s 616ms/step - loss: 0.9792 - accuracy: 0.7037\n",
            "Epoch 244/900\n",
            "2/2 [==============================] - 1s 620ms/step - loss: 0.9624 - accuracy: 0.7099\n",
            "Epoch 245/900\n",
            "2/2 [==============================] - 1s 617ms/step - loss: 0.9587 - accuracy: 0.7099\n",
            "Epoch 246/900\n",
            "2/2 [==============================] - 1s 613ms/step - loss: 0.9520 - accuracy: 0.7141\n",
            "Epoch 247/900\n",
            "2/2 [==============================] - 1s 622ms/step - loss: 0.9423 - accuracy: 0.7157\n",
            "Epoch 248/900\n",
            "2/2 [==============================] - 1s 618ms/step - loss: 0.9327 - accuracy: 0.7204\n",
            "Epoch 249/900\n",
            "2/2 [==============================] - 1s 618ms/step - loss: 0.9262 - accuracy: 0.7221\n",
            "Epoch 250/900\n",
            "2/2 [==============================] - 1s 616ms/step - loss: 0.9119 - accuracy: 0.7265\n",
            "Epoch 251/900\n",
            "2/2 [==============================] - 1s 609ms/step - loss: 0.9147 - accuracy: 0.7256\n",
            "Epoch 252/900\n",
            "2/2 [==============================] - 1s 615ms/step - loss: 0.9047 - accuracy: 0.7288\n",
            "Epoch 253/900\n",
            "2/2 [==============================] - 1s 620ms/step - loss: 0.8937 - accuracy: 0.7330\n",
            "Epoch 254/900\n",
            "2/2 [==============================] - 1s 621ms/step - loss: 0.8939 - accuracy: 0.7329\n",
            "Epoch 255/900\n",
            "2/2 [==============================] - 1s 620ms/step - loss: 0.8822 - accuracy: 0.7367\n",
            "Epoch 256/900\n",
            "2/2 [==============================] - 1s 621ms/step - loss: 0.8753 - accuracy: 0.7388\n",
            "Epoch 257/900\n",
            "2/2 [==============================] - 1s 617ms/step - loss: 0.8703 - accuracy: 0.7409\n",
            "Epoch 258/900\n",
            "2/2 [==============================] - 1s 621ms/step - loss: 0.8674 - accuracy: 0.7419\n",
            "Epoch 259/900\n",
            "2/2 [==============================] - 1s 611ms/step - loss: 0.8621 - accuracy: 0.7421\n",
            "Epoch 260/900\n",
            "2/2 [==============================] - 1s 617ms/step - loss: 0.8547 - accuracy: 0.7457\n",
            "Epoch 261/900\n",
            "2/2 [==============================] - 1s 611ms/step - loss: 0.8509 - accuracy: 0.7461\n",
            "Epoch 262/900\n",
            "2/2 [==============================] - 1s 619ms/step - loss: 0.8408 - accuracy: 0.7501\n",
            "Epoch 263/900\n",
            "2/2 [==============================] - 1s 616ms/step - loss: 0.8288 - accuracy: 0.7542\n",
            "Epoch 264/900\n",
            "2/2 [==============================] - 1s 615ms/step - loss: 0.8263 - accuracy: 0.7558\n",
            "Epoch 265/900\n",
            "2/2 [==============================] - 1s 615ms/step - loss: 0.8250 - accuracy: 0.7544\n",
            "Epoch 266/900\n",
            "2/2 [==============================] - 1s 616ms/step - loss: 0.8208 - accuracy: 0.7577\n",
            "Epoch 267/900\n",
            "2/2 [==============================] - 1s 614ms/step - loss: 0.8130 - accuracy: 0.7588\n",
            "Epoch 268/900\n",
            "2/2 [==============================] - 1s 620ms/step - loss: 0.8116 - accuracy: 0.7598\n",
            "Epoch 269/900\n",
            "2/2 [==============================] - 1s 617ms/step - loss: 0.8108 - accuracy: 0.7587\n",
            "Epoch 270/900\n",
            "2/2 [==============================] - 1s 612ms/step - loss: 0.7859 - accuracy: 0.7686\n",
            "Epoch 271/900\n",
            "2/2 [==============================] - 1s 617ms/step - loss: 0.7816 - accuracy: 0.7700\n",
            "Epoch 272/900\n",
            "2/2 [==============================] - 1s 620ms/step - loss: 0.7753 - accuracy: 0.7722\n",
            "Epoch 273/900\n",
            "2/2 [==============================] - 1s 615ms/step - loss: 0.7605 - accuracy: 0.7779\n",
            "Epoch 274/900\n",
            "2/2 [==============================] - 1s 619ms/step - loss: 0.7614 - accuracy: 0.7774\n",
            "Epoch 275/900\n",
            "2/2 [==============================] - 1s 612ms/step - loss: 0.7485 - accuracy: 0.7824\n",
            "Epoch 276/900\n",
            "2/2 [==============================] - 1s 620ms/step - loss: 0.7445 - accuracy: 0.7836\n",
            "Epoch 277/900\n",
            "2/2 [==============================] - 1s 619ms/step - loss: 0.7277 - accuracy: 0.7904\n",
            "Epoch 278/900\n",
            "2/2 [==============================] - 1s 611ms/step - loss: 0.7274 - accuracy: 0.7913\n",
            "Epoch 279/900\n",
            "2/2 [==============================] - 1s 623ms/step - loss: 0.7210 - accuracy: 0.7912\n",
            "Epoch 280/900\n",
            "2/2 [==============================] - 1s 627ms/step - loss: 0.7315 - accuracy: 0.7862\n",
            "Epoch 281/900\n",
            "2/2 [==============================] - 1s 619ms/step - loss: 0.7244 - accuracy: 0.7902\n",
            "Epoch 282/900\n",
            "2/2 [==============================] - 1s 620ms/step - loss: 0.7179 - accuracy: 0.7930\n",
            "Epoch 283/900\n",
            "2/2 [==============================] - 1s 622ms/step - loss: 0.7217 - accuracy: 0.7885\n",
            "Epoch 284/900\n",
            "2/2 [==============================] - 1s 620ms/step - loss: 0.7066 - accuracy: 0.7946\n",
            "Epoch 285/900\n",
            "2/2 [==============================] - 1s 615ms/step - loss: 0.6935 - accuracy: 0.8010\n",
            "Epoch 286/900\n",
            "2/2 [==============================] - 1s 617ms/step - loss: 0.6889 - accuracy: 0.8011\n",
            "Epoch 287/900\n",
            "2/2 [==============================] - 1s 618ms/step - loss: 0.6732 - accuracy: 0.8078\n",
            "Epoch 288/900\n",
            "2/2 [==============================] - 1s 615ms/step - loss: 0.6686 - accuracy: 0.8107\n",
            "Epoch 289/900\n",
            "2/2 [==============================] - 1s 619ms/step - loss: 0.6636 - accuracy: 0.8118\n",
            "Epoch 290/900\n",
            "2/2 [==============================] - 1s 619ms/step - loss: 0.6490 - accuracy: 0.8171\n",
            "Epoch 291/900\n",
            "2/2 [==============================] - 1s 622ms/step - loss: 0.6410 - accuracy: 0.8217\n",
            "Epoch 292/900\n",
            "2/2 [==============================] - 1s 618ms/step - loss: 0.6386 - accuracy: 0.8214\n",
            "Epoch 293/900\n",
            "2/2 [==============================] - 1s 619ms/step - loss: 0.6329 - accuracy: 0.8242\n",
            "Epoch 294/900\n",
            "2/2 [==============================] - 1s 621ms/step - loss: 0.6189 - accuracy: 0.8294\n",
            "Epoch 295/900\n",
            "2/2 [==============================] - 1s 619ms/step - loss: 0.6232 - accuracy: 0.8247\n",
            "Epoch 296/900\n",
            "2/2 [==============================] - 1s 617ms/step - loss: 0.6135 - accuracy: 0.8295\n",
            "Epoch 297/900\n",
            "2/2 [==============================] - 1s 617ms/step - loss: 0.6043 - accuracy: 0.8329\n",
            "Epoch 298/900\n",
            "2/2 [==============================] - 1s 618ms/step - loss: 0.6024 - accuracy: 0.8337\n",
            "Epoch 299/900\n",
            "2/2 [==============================] - 1s 625ms/step - loss: 0.5866 - accuracy: 0.8420\n",
            "Epoch 300/900\n",
            "2/2 [==============================] - 1s 616ms/step - loss: 0.5858 - accuracy: 0.8401\n",
            "Epoch 301/900\n",
            "2/2 [==============================] - 1s 618ms/step - loss: 0.5843 - accuracy: 0.8391\n",
            "Epoch 302/900\n",
            "2/2 [==============================] - 1s 619ms/step - loss: 0.5906 - accuracy: 0.8364\n",
            "Epoch 303/900\n",
            "2/2 [==============================] - 1s 618ms/step - loss: 0.5774 - accuracy: 0.8416\n",
            "Epoch 304/900\n",
            "2/2 [==============================] - 1s 622ms/step - loss: 0.5624 - accuracy: 0.8480\n",
            "Epoch 305/900\n",
            "2/2 [==============================] - 1s 621ms/step - loss: 0.5691 - accuracy: 0.8442\n",
            "Epoch 306/900\n",
            "2/2 [==============================] - 1s 620ms/step - loss: 0.5530 - accuracy: 0.8501\n",
            "Epoch 307/900\n",
            "2/2 [==============================] - 1s 620ms/step - loss: 0.5644 - accuracy: 0.8455\n",
            "Epoch 308/900\n",
            "2/2 [==============================] - 1s 626ms/step - loss: 0.5576 - accuracy: 0.8452\n",
            "Epoch 309/900\n",
            "2/2 [==============================] - 1s 620ms/step - loss: 0.5369 - accuracy: 0.8572\n",
            "Epoch 310/900\n",
            "2/2 [==============================] - 1s 621ms/step - loss: 0.5249 - accuracy: 0.8621\n",
            "Epoch 311/900\n",
            "2/2 [==============================] - 1s 620ms/step - loss: 0.5149 - accuracy: 0.8645\n",
            "Epoch 312/900\n",
            "2/2 [==============================] - 1s 618ms/step - loss: 0.5062 - accuracy: 0.8699\n",
            "Epoch 313/900\n",
            "2/2 [==============================] - 1s 624ms/step - loss: 0.5002 - accuracy: 0.8708\n",
            "Epoch 314/900\n",
            "2/2 [==============================] - 1s 615ms/step - loss: 0.4944 - accuracy: 0.8750\n",
            "Epoch 315/900\n",
            "2/2 [==============================] - 1s 625ms/step - loss: 0.4932 - accuracy: 0.8734\n",
            "Epoch 316/900\n",
            "2/2 [==============================] - 1s 625ms/step - loss: 0.4911 - accuracy: 0.8730\n",
            "Epoch 317/900\n",
            "2/2 [==============================] - 1s 619ms/step - loss: 0.4748 - accuracy: 0.8801\n",
            "Epoch 318/900\n",
            "2/2 [==============================] - 1s 620ms/step - loss: 0.4700 - accuracy: 0.8833\n",
            "Epoch 319/900\n",
            "2/2 [==============================] - 1s 619ms/step - loss: 0.4529 - accuracy: 0.8908\n",
            "Epoch 320/900\n",
            "2/2 [==============================] - 1s 616ms/step - loss: 0.4615 - accuracy: 0.8852\n",
            "Epoch 321/900\n",
            "2/2 [==============================] - 1s 613ms/step - loss: 0.4522 - accuracy: 0.8890\n",
            "Epoch 322/900\n",
            "2/2 [==============================] - 1s 621ms/step - loss: 0.4487 - accuracy: 0.8906\n",
            "Epoch 323/900\n",
            "2/2 [==============================] - 1s 617ms/step - loss: 0.4502 - accuracy: 0.8892\n",
            "Epoch 324/900\n",
            "2/2 [==============================] - 1s 623ms/step - loss: 0.4641 - accuracy: 0.8811\n",
            "Epoch 325/900\n",
            "2/2 [==============================] - 1s 616ms/step - loss: 0.4365 - accuracy: 0.8925\n",
            "Epoch 326/900\n",
            "2/2 [==============================] - 1s 617ms/step - loss: 0.4374 - accuracy: 0.8931\n",
            "Epoch 327/900\n",
            "2/2 [==============================] - 1s 618ms/step - loss: 0.4421 - accuracy: 0.8897\n",
            "Epoch 328/900\n",
            "2/2 [==============================] - 1s 620ms/step - loss: 0.4566 - accuracy: 0.8802\n",
            "Epoch 329/900\n",
            "2/2 [==============================] - 1s 628ms/step - loss: 0.4395 - accuracy: 0.8886\n",
            "Epoch 330/900\n",
            "2/2 [==============================] - 1s 618ms/step - loss: 0.4224 - accuracy: 0.8977\n",
            "Epoch 331/900\n",
            "2/2 [==============================] - 1s 618ms/step - loss: 0.4055 - accuracy: 0.9023\n",
            "Epoch 332/900\n",
            "2/2 [==============================] - 1s 617ms/step - loss: 0.3984 - accuracy: 0.9073\n",
            "Epoch 333/900\n",
            "2/2 [==============================] - 1s 621ms/step - loss: 0.3949 - accuracy: 0.9091\n",
            "Epoch 334/900\n",
            "2/2 [==============================] - 1s 621ms/step - loss: 0.3808 - accuracy: 0.9144\n",
            "Epoch 335/900\n",
            "2/2 [==============================] - 1s 622ms/step - loss: 0.3733 - accuracy: 0.9176\n",
            "Epoch 336/900\n",
            "2/2 [==============================] - 1s 625ms/step - loss: 0.3669 - accuracy: 0.9188\n",
            "Epoch 337/900\n",
            "2/2 [==============================] - 1s 622ms/step - loss: 0.3609 - accuracy: 0.9230\n",
            "Epoch 338/900\n",
            "2/2 [==============================] - 1s 617ms/step - loss: 0.3520 - accuracy: 0.9271\n",
            "Epoch 339/900\n",
            "2/2 [==============================] - 1s 621ms/step - loss: 0.3438 - accuracy: 0.9306\n",
            "Epoch 340/900\n",
            "2/2 [==============================] - 1s 621ms/step - loss: 0.3413 - accuracy: 0.9310\n",
            "Epoch 341/900\n",
            "2/2 [==============================] - 1s 623ms/step - loss: 0.3346 - accuracy: 0.9334\n",
            "Epoch 342/900\n",
            "2/2 [==============================] - 1s 617ms/step - loss: 0.3318 - accuracy: 0.9338\n",
            "Epoch 343/900\n",
            "2/2 [==============================] - 1s 622ms/step - loss: 0.3307 - accuracy: 0.9332\n",
            "Epoch 344/900\n",
            "2/2 [==============================] - 1s 622ms/step - loss: 0.3391 - accuracy: 0.9294\n",
            "Epoch 345/900\n",
            "2/2 [==============================] - 1s 617ms/step - loss: 0.3252 - accuracy: 0.9343\n",
            "Epoch 346/900\n",
            "2/2 [==============================] - 1s 622ms/step - loss: 0.3167 - accuracy: 0.9382\n",
            "Epoch 347/900\n",
            "2/2 [==============================] - 1s 616ms/step - loss: 0.3102 - accuracy: 0.9417\n",
            "Epoch 348/900\n",
            "2/2 [==============================] - 1s 618ms/step - loss: 0.3079 - accuracy: 0.9414\n",
            "Epoch 349/900\n",
            "2/2 [==============================] - 1s 614ms/step - loss: 0.3001 - accuracy: 0.9437\n",
            "Epoch 350/900\n",
            "2/2 [==============================] - 1s 613ms/step - loss: 0.2934 - accuracy: 0.9462\n",
            "Epoch 351/900\n",
            "2/2 [==============================] - 1s 616ms/step - loss: 0.2900 - accuracy: 0.9481\n",
            "Epoch 352/900\n",
            "2/2 [==============================] - 1s 615ms/step - loss: 0.2788 - accuracy: 0.9519\n",
            "Epoch 353/900\n",
            "2/2 [==============================] - 1s 618ms/step - loss: 0.2739 - accuracy: 0.9551\n",
            "Epoch 354/900\n",
            "2/2 [==============================] - 1s 617ms/step - loss: 0.2680 - accuracy: 0.9555\n",
            "Epoch 355/900\n",
            "2/2 [==============================] - 1s 619ms/step - loss: 0.2647 - accuracy: 0.9571\n",
            "Epoch 356/900\n",
            "2/2 [==============================] - 1s 620ms/step - loss: 0.2672 - accuracy: 0.9566\n",
            "Epoch 357/900\n",
            "2/2 [==============================] - 1s 614ms/step - loss: 0.2645 - accuracy: 0.9559\n",
            "Epoch 358/900\n",
            "2/2 [==============================] - 1s 616ms/step - loss: 0.2750 - accuracy: 0.9493\n",
            "Epoch 359/900\n",
            "2/2 [==============================] - 1s 616ms/step - loss: 0.3014 - accuracy: 0.9361\n",
            "Epoch 360/900\n",
            "2/2 [==============================] - 1s 619ms/step - loss: 0.2681 - accuracy: 0.9521\n",
            "Epoch 361/900\n",
            "2/2 [==============================] - 1s 615ms/step - loss: 0.2684 - accuracy: 0.9508\n",
            "Epoch 362/900\n",
            "2/2 [==============================] - 1s 619ms/step - loss: 0.2607 - accuracy: 0.9534\n",
            "Epoch 363/900\n",
            "2/2 [==============================] - 1s 617ms/step - loss: 0.2450 - accuracy: 0.9607\n",
            "Epoch 364/900\n",
            "2/2 [==============================] - 1s 617ms/step - loss: 0.2420 - accuracy: 0.9617\n",
            "Epoch 365/900\n",
            "2/2 [==============================] - 1s 621ms/step - loss: 0.2344 - accuracy: 0.9650\n",
            "Epoch 366/900\n",
            "2/2 [==============================] - 1s 613ms/step - loss: 0.2276 - accuracy: 0.9673\n",
            "Epoch 367/900\n",
            "2/2 [==============================] - 1s 615ms/step - loss: 0.2193 - accuracy: 0.9703\n",
            "Epoch 368/900\n",
            "2/2 [==============================] - 1s 619ms/step - loss: 0.2171 - accuracy: 0.9712\n",
            "Epoch 369/900\n",
            "2/2 [==============================] - 1s 610ms/step - loss: 0.2110 - accuracy: 0.9730\n",
            "Epoch 370/900\n",
            "2/2 [==============================] - 1s 621ms/step - loss: 0.2036 - accuracy: 0.9750\n",
            "Epoch 371/900\n",
            "2/2 [==============================] - 1s 616ms/step - loss: 0.1980 - accuracy: 0.9770\n",
            "Epoch 372/900\n",
            "2/2 [==============================] - 1s 614ms/step - loss: 0.1960 - accuracy: 0.9778\n",
            "Epoch 373/900\n",
            "2/2 [==============================] - 1s 617ms/step - loss: 0.1897 - accuracy: 0.9784\n",
            "Epoch 374/900\n",
            "2/2 [==============================] - 1s 615ms/step - loss: 0.1873 - accuracy: 0.9804\n",
            "Epoch 375/900\n",
            "2/2 [==============================] - 1s 616ms/step - loss: 0.1865 - accuracy: 0.9799\n",
            "Epoch 376/900\n",
            "2/2 [==============================] - 1s 615ms/step - loss: 0.1853 - accuracy: 0.9800\n",
            "Epoch 377/900\n",
            "2/2 [==============================] - 1s 612ms/step - loss: 0.1913 - accuracy: 0.9778\n",
            "Epoch 378/900\n",
            "2/2 [==============================] - 1s 621ms/step - loss: 0.2061 - accuracy: 0.9717\n",
            "Epoch 379/900\n",
            "2/2 [==============================] - 1s 616ms/step - loss: 0.1978 - accuracy: 0.9732\n",
            "Epoch 380/900\n",
            "2/2 [==============================] - 1s 619ms/step - loss: 0.1948 - accuracy: 0.9740\n",
            "Epoch 381/900\n",
            "2/2 [==============================] - 1s 618ms/step - loss: 0.1936 - accuracy: 0.9757\n",
            "Epoch 382/900\n",
            "2/2 [==============================] - 1s 620ms/step - loss: 0.1883 - accuracy: 0.9760\n",
            "Epoch 383/900\n",
            "2/2 [==============================] - 1s 615ms/step - loss: 0.1784 - accuracy: 0.9796\n",
            "Epoch 384/900\n",
            "2/2 [==============================] - 1s 616ms/step - loss: 0.1684 - accuracy: 0.9839\n",
            "Epoch 385/900\n",
            "2/2 [==============================] - 1s 618ms/step - loss: 0.1666 - accuracy: 0.9829\n",
            "Epoch 386/900\n",
            "2/2 [==============================] - 1s 615ms/step - loss: 0.1632 - accuracy: 0.9844\n",
            "Epoch 387/900\n",
            "2/2 [==============================] - 1s 616ms/step - loss: 0.1582 - accuracy: 0.9860\n",
            "Epoch 388/900\n",
            "2/2 [==============================] - 1s 616ms/step - loss: 0.1531 - accuracy: 0.9870\n",
            "Epoch 389/900\n",
            "2/2 [==============================] - 1s 619ms/step - loss: 0.1492 - accuracy: 0.9888\n",
            "Epoch 390/900\n",
            "2/2 [==============================] - 1s 615ms/step - loss: 0.1444 - accuracy: 0.9889\n",
            "Epoch 391/900\n",
            "2/2 [==============================] - 1s 616ms/step - loss: 0.1427 - accuracy: 0.9895\n",
            "Epoch 392/900\n",
            "2/2 [==============================] - 1s 622ms/step - loss: 0.1384 - accuracy: 0.9903\n",
            "Epoch 393/900\n",
            "2/2 [==============================] - 1s 618ms/step - loss: 0.1339 - accuracy: 0.9910\n",
            "Epoch 394/900\n",
            "2/2 [==============================] - 1s 619ms/step - loss: 0.1329 - accuracy: 0.9916\n",
            "Epoch 395/900\n",
            "2/2 [==============================] - 1s 616ms/step - loss: 0.1289 - accuracy: 0.9921\n",
            "Epoch 396/900\n",
            "2/2 [==============================] - 1s 620ms/step - loss: 0.1264 - accuracy: 0.9923\n",
            "Epoch 397/900\n",
            "2/2 [==============================] - 1s 617ms/step - loss: 0.1234 - accuracy: 0.9934\n",
            "Epoch 398/900\n",
            "2/2 [==============================] - 1s 623ms/step - loss: 0.1197 - accuracy: 0.9936\n",
            "Epoch 399/900\n",
            "2/2 [==============================] - 1s 620ms/step - loss: 0.1176 - accuracy: 0.9938\n",
            "Epoch 400/900\n",
            "2/2 [==============================] - 1s 620ms/step - loss: 0.1143 - accuracy: 0.9944\n",
            "Epoch 401/900\n",
            "2/2 [==============================] - 1s 617ms/step - loss: 0.1114 - accuracy: 0.9945\n",
            "Epoch 402/900\n",
            "2/2 [==============================] - 1s 617ms/step - loss: 0.1106 - accuracy: 0.9952\n",
            "Epoch 403/900\n",
            "2/2 [==============================] - 1s 620ms/step - loss: 0.1083 - accuracy: 0.9949\n",
            "Epoch 404/900\n",
            "2/2 [==============================] - 1s 616ms/step - loss: 0.1066 - accuracy: 0.9952\n",
            "Epoch 405/900\n",
            "2/2 [==============================] - 1s 622ms/step - loss: 0.1046 - accuracy: 0.9956\n",
            "Epoch 406/900\n",
            "2/2 [==============================] - 1s 618ms/step - loss: 0.1025 - accuracy: 0.9958\n",
            "Epoch 407/900\n",
            "2/2 [==============================] - 1s 617ms/step - loss: 0.1000 - accuracy: 0.9961\n",
            "Epoch 408/900\n",
            "2/2 [==============================] - 1s 619ms/step - loss: 0.0991 - accuracy: 0.9963\n",
            "Epoch 409/900\n",
            "2/2 [==============================] - 1s 619ms/step - loss: 0.0961 - accuracy: 0.9963\n",
            "Epoch 410/900\n",
            "2/2 [==============================] - 1s 614ms/step - loss: 0.0955 - accuracy: 0.9966\n",
            "Epoch 411/900\n",
            "2/2 [==============================] - 1s 614ms/step - loss: 0.0931 - accuracy: 0.9967\n",
            "Epoch 412/900\n",
            "2/2 [==============================] - 1s 616ms/step - loss: 0.0919 - accuracy: 0.9967\n",
            "Epoch 413/900\n",
            "2/2 [==============================] - 1s 622ms/step - loss: 0.0892 - accuracy: 0.9970\n",
            "Epoch 414/900\n",
            "2/2 [==============================] - 1s 622ms/step - loss: 0.0885 - accuracy: 0.9970\n",
            "Epoch 415/900\n",
            "2/2 [==============================] - 1s 616ms/step - loss: 0.0879 - accuracy: 0.9971\n",
            "Epoch 416/900\n",
            "2/2 [==============================] - 1s 624ms/step - loss: 0.0859 - accuracy: 0.9973\n",
            "Epoch 417/900\n",
            "2/2 [==============================] - 1s 618ms/step - loss: 0.0844 - accuracy: 0.9974\n",
            "Epoch 418/900\n",
            "2/2 [==============================] - 1s 615ms/step - loss: 0.0829 - accuracy: 0.9975\n",
            "Epoch 419/900\n",
            "2/2 [==============================] - 1s 615ms/step - loss: 0.0807 - accuracy: 0.9976\n",
            "Epoch 420/900\n",
            "2/2 [==============================] - 1s 624ms/step - loss: 0.0795 - accuracy: 0.9977\n",
            "Epoch 421/900\n",
            "2/2 [==============================] - 1s 617ms/step - loss: 0.0785 - accuracy: 0.9978\n",
            "Epoch 422/900\n",
            "2/2 [==============================] - 1s 617ms/step - loss: 0.0773 - accuracy: 0.9978\n",
            "Epoch 423/900\n",
            "2/2 [==============================] - 1s 621ms/step - loss: 0.0761 - accuracy: 0.9978\n",
            "Epoch 424/900\n",
            "2/2 [==============================] - 1s 620ms/step - loss: 0.0741 - accuracy: 0.9979\n",
            "Epoch 425/900\n",
            "2/2 [==============================] - 1s 621ms/step - loss: 0.0739 - accuracy: 0.9980\n",
            "Epoch 426/900\n",
            "2/2 [==============================] - 1s 615ms/step - loss: 0.0720 - accuracy: 0.9980\n",
            "Epoch 427/900\n",
            "2/2 [==============================] - 1s 623ms/step - loss: 0.0720 - accuracy: 0.9981\n",
            "Epoch 428/900\n",
            "2/2 [==============================] - 1s 622ms/step - loss: 0.0705 - accuracy: 0.9981\n",
            "Epoch 429/900\n",
            "2/2 [==============================] - 1s 618ms/step - loss: 0.0694 - accuracy: 0.9983\n",
            "Epoch 430/900\n",
            "2/2 [==============================] - 1s 618ms/step - loss: 0.0682 - accuracy: 0.9983\n",
            "Epoch 431/900\n",
            "1/2 [==============>...............] - ETA: 0s - loss: 0.0673 - accuracy: 0.9984"
          ]
        },
        {
          "output_type": "error",
          "ename": "KeyboardInterrupt",
          "evalue": "ignored",
          "traceback": [
            "\u001b[0;31m---------------------------------------------------------------------------\u001b[0m",
            "\u001b[0;31mKeyboardInterrupt\u001b[0m                         Traceback (most recent call last)",
            "\u001b[0;32m<ipython-input-21-9795268790d8>\u001b[0m in \u001b[0;36m<module>\u001b[0;34m()\u001b[0m\n\u001b[1;32m      2\u001b[0m \u001b[0mmodel\u001b[0m\u001b[0;34m.\u001b[0m\u001b[0mcompile\u001b[0m\u001b[0;34m(\u001b[0m\u001b[0moptimizer\u001b[0m\u001b[0;34m=\u001b[0m\u001b[0;34m'adam'\u001b[0m\u001b[0;34m,\u001b[0m \u001b[0mloss\u001b[0m\u001b[0;34m=\u001b[0m\u001b[0mloss\u001b[0m\u001b[0;34m,\u001b[0m\u001b[0mmetrics\u001b[0m\u001b[0;34m=\u001b[0m\u001b[0;34m'accuracy'\u001b[0m\u001b[0;34m)\u001b[0m\u001b[0;34m\u001b[0m\u001b[0;34m\u001b[0m\u001b[0m\n\u001b[1;32m      3\u001b[0m \u001b[0;34m\u001b[0m\u001b[0m\n\u001b[0;32m----> 4\u001b[0;31m \u001b[0mhistory\u001b[0m \u001b[0;34m=\u001b[0m \u001b[0mmodel\u001b[0m\u001b[0;34m.\u001b[0m\u001b[0mfit\u001b[0m\u001b[0;34m(\u001b[0m\u001b[0mdataset\u001b[0m\u001b[0;34m,\u001b[0m \u001b[0mepochs\u001b[0m\u001b[0;34m=\u001b[0m\u001b[0;36m900\u001b[0m\u001b[0;34m)\u001b[0m\u001b[0;34m\u001b[0m\u001b[0;34m\u001b[0m\u001b[0m\n\u001b[0m",
            "\u001b[0;32m/usr/local/lib/python3.7/dist-packages/keras/utils/traceback_utils.py\u001b[0m in \u001b[0;36merror_handler\u001b[0;34m(*args, **kwargs)\u001b[0m\n\u001b[1;32m     62\u001b[0m     \u001b[0mfiltered_tb\u001b[0m \u001b[0;34m=\u001b[0m \u001b[0;32mNone\u001b[0m\u001b[0;34m\u001b[0m\u001b[0;34m\u001b[0m\u001b[0m\n\u001b[1;32m     63\u001b[0m     \u001b[0;32mtry\u001b[0m\u001b[0;34m:\u001b[0m\u001b[0;34m\u001b[0m\u001b[0;34m\u001b[0m\u001b[0m\n\u001b[0;32m---> 64\u001b[0;31m       \u001b[0;32mreturn\u001b[0m \u001b[0mfn\u001b[0m\u001b[0;34m(\u001b[0m\u001b[0;34m*\u001b[0m\u001b[0margs\u001b[0m\u001b[0;34m,\u001b[0m \u001b[0;34m**\u001b[0m\u001b[0mkwargs\u001b[0m\u001b[0;34m)\u001b[0m\u001b[0;34m\u001b[0m\u001b[0;34m\u001b[0m\u001b[0m\n\u001b[0m\u001b[1;32m     65\u001b[0m     \u001b[0;32mexcept\u001b[0m \u001b[0mException\u001b[0m \u001b[0;32mas\u001b[0m \u001b[0me\u001b[0m\u001b[0;34m:\u001b[0m  \u001b[0;31m# pylint: disable=broad-except\u001b[0m\u001b[0;34m\u001b[0m\u001b[0;34m\u001b[0m\u001b[0m\n\u001b[1;32m     66\u001b[0m       \u001b[0mfiltered_tb\u001b[0m \u001b[0;34m=\u001b[0m \u001b[0m_process_traceback_frames\u001b[0m\u001b[0;34m(\u001b[0m\u001b[0me\u001b[0m\u001b[0;34m.\u001b[0m\u001b[0m__traceback__\u001b[0m\u001b[0;34m)\u001b[0m\u001b[0;34m\u001b[0m\u001b[0;34m\u001b[0m\u001b[0m\n",
            "\u001b[0;32m/usr/local/lib/python3.7/dist-packages/keras/engine/training.py\u001b[0m in \u001b[0;36mfit\u001b[0;34m(self, x, y, batch_size, epochs, verbose, callbacks, validation_split, validation_data, shuffle, class_weight, sample_weight, initial_epoch, steps_per_epoch, validation_steps, validation_batch_size, validation_freq, max_queue_size, workers, use_multiprocessing)\u001b[0m\n\u001b[1;32m   1382\u001b[0m                 _r=1):\n\u001b[1;32m   1383\u001b[0m               \u001b[0mcallbacks\u001b[0m\u001b[0;34m.\u001b[0m\u001b[0mon_train_batch_begin\u001b[0m\u001b[0;34m(\u001b[0m\u001b[0mstep\u001b[0m\u001b[0;34m)\u001b[0m\u001b[0;34m\u001b[0m\u001b[0;34m\u001b[0m\u001b[0m\n\u001b[0;32m-> 1384\u001b[0;31m               \u001b[0mtmp_logs\u001b[0m \u001b[0;34m=\u001b[0m \u001b[0mself\u001b[0m\u001b[0;34m.\u001b[0m\u001b[0mtrain_function\u001b[0m\u001b[0;34m(\u001b[0m\u001b[0miterator\u001b[0m\u001b[0;34m)\u001b[0m\u001b[0;34m\u001b[0m\u001b[0;34m\u001b[0m\u001b[0m\n\u001b[0m\u001b[1;32m   1385\u001b[0m               \u001b[0;32mif\u001b[0m \u001b[0mdata_handler\u001b[0m\u001b[0;34m.\u001b[0m\u001b[0mshould_sync\u001b[0m\u001b[0;34m:\u001b[0m\u001b[0;34m\u001b[0m\u001b[0;34m\u001b[0m\u001b[0m\n\u001b[1;32m   1386\u001b[0m                 \u001b[0mcontext\u001b[0m\u001b[0;34m.\u001b[0m\u001b[0masync_wait\u001b[0m\u001b[0;34m(\u001b[0m\u001b[0;34m)\u001b[0m\u001b[0;34m\u001b[0m\u001b[0;34m\u001b[0m\u001b[0m\n",
            "\u001b[0;32m/usr/local/lib/python3.7/dist-packages/tensorflow/python/util/traceback_utils.py\u001b[0m in \u001b[0;36merror_handler\u001b[0;34m(*args, **kwargs)\u001b[0m\n\u001b[1;32m    148\u001b[0m     \u001b[0mfiltered_tb\u001b[0m \u001b[0;34m=\u001b[0m \u001b[0;32mNone\u001b[0m\u001b[0;34m\u001b[0m\u001b[0;34m\u001b[0m\u001b[0m\n\u001b[1;32m    149\u001b[0m     \u001b[0;32mtry\u001b[0m\u001b[0;34m:\u001b[0m\u001b[0;34m\u001b[0m\u001b[0;34m\u001b[0m\u001b[0m\n\u001b[0;32m--> 150\u001b[0;31m       \u001b[0;32mreturn\u001b[0m \u001b[0mfn\u001b[0m\u001b[0;34m(\u001b[0m\u001b[0;34m*\u001b[0m\u001b[0margs\u001b[0m\u001b[0;34m,\u001b[0m \u001b[0;34m**\u001b[0m\u001b[0mkwargs\u001b[0m\u001b[0;34m)\u001b[0m\u001b[0;34m\u001b[0m\u001b[0;34m\u001b[0m\u001b[0m\n\u001b[0m\u001b[1;32m    151\u001b[0m     \u001b[0;32mexcept\u001b[0m \u001b[0mException\u001b[0m \u001b[0;32mas\u001b[0m \u001b[0me\u001b[0m\u001b[0;34m:\u001b[0m\u001b[0;34m\u001b[0m\u001b[0;34m\u001b[0m\u001b[0m\n\u001b[1;32m    152\u001b[0m       \u001b[0mfiltered_tb\u001b[0m \u001b[0;34m=\u001b[0m \u001b[0m_process_traceback_frames\u001b[0m\u001b[0;34m(\u001b[0m\u001b[0me\u001b[0m\u001b[0;34m.\u001b[0m\u001b[0m__traceback__\u001b[0m\u001b[0;34m)\u001b[0m\u001b[0;34m\u001b[0m\u001b[0;34m\u001b[0m\u001b[0m\n",
            "\u001b[0;32m/usr/local/lib/python3.7/dist-packages/tensorflow/python/eager/def_function.py\u001b[0m in \u001b[0;36m__call__\u001b[0;34m(self, *args, **kwds)\u001b[0m\n\u001b[1;32m    913\u001b[0m \u001b[0;34m\u001b[0m\u001b[0m\n\u001b[1;32m    914\u001b[0m       \u001b[0;32mwith\u001b[0m \u001b[0mOptionalXlaContext\u001b[0m\u001b[0;34m(\u001b[0m\u001b[0mself\u001b[0m\u001b[0;34m.\u001b[0m\u001b[0m_jit_compile\u001b[0m\u001b[0;34m)\u001b[0m\u001b[0;34m:\u001b[0m\u001b[0;34m\u001b[0m\u001b[0;34m\u001b[0m\u001b[0m\n\u001b[0;32m--> 915\u001b[0;31m         \u001b[0mresult\u001b[0m \u001b[0;34m=\u001b[0m \u001b[0mself\u001b[0m\u001b[0;34m.\u001b[0m\u001b[0m_call\u001b[0m\u001b[0;34m(\u001b[0m\u001b[0;34m*\u001b[0m\u001b[0margs\u001b[0m\u001b[0;34m,\u001b[0m \u001b[0;34m**\u001b[0m\u001b[0mkwds\u001b[0m\u001b[0;34m)\u001b[0m\u001b[0;34m\u001b[0m\u001b[0;34m\u001b[0m\u001b[0m\n\u001b[0m\u001b[1;32m    916\u001b[0m \u001b[0;34m\u001b[0m\u001b[0m\n\u001b[1;32m    917\u001b[0m       \u001b[0mnew_tracing_count\u001b[0m \u001b[0;34m=\u001b[0m \u001b[0mself\u001b[0m\u001b[0;34m.\u001b[0m\u001b[0mexperimental_get_tracing_count\u001b[0m\u001b[0;34m(\u001b[0m\u001b[0;34m)\u001b[0m\u001b[0;34m\u001b[0m\u001b[0;34m\u001b[0m\u001b[0m\n",
            "\u001b[0;32m/usr/local/lib/python3.7/dist-packages/tensorflow/python/eager/def_function.py\u001b[0m in \u001b[0;36m_call\u001b[0;34m(self, *args, **kwds)\u001b[0m\n\u001b[1;32m    945\u001b[0m       \u001b[0;31m# In this case we have created variables on the first call, so we run the\u001b[0m\u001b[0;34m\u001b[0m\u001b[0;34m\u001b[0m\u001b[0;34m\u001b[0m\u001b[0m\n\u001b[1;32m    946\u001b[0m       \u001b[0;31m# defunned version which is guaranteed to never create variables.\u001b[0m\u001b[0;34m\u001b[0m\u001b[0;34m\u001b[0m\u001b[0;34m\u001b[0m\u001b[0m\n\u001b[0;32m--> 947\u001b[0;31m       \u001b[0;32mreturn\u001b[0m \u001b[0mself\u001b[0m\u001b[0;34m.\u001b[0m\u001b[0m_stateless_fn\u001b[0m\u001b[0;34m(\u001b[0m\u001b[0;34m*\u001b[0m\u001b[0margs\u001b[0m\u001b[0;34m,\u001b[0m \u001b[0;34m**\u001b[0m\u001b[0mkwds\u001b[0m\u001b[0;34m)\u001b[0m  \u001b[0;31m# pylint: disable=not-callable\u001b[0m\u001b[0;34m\u001b[0m\u001b[0;34m\u001b[0m\u001b[0m\n\u001b[0m\u001b[1;32m    948\u001b[0m     \u001b[0;32melif\u001b[0m \u001b[0mself\u001b[0m\u001b[0;34m.\u001b[0m\u001b[0m_stateful_fn\u001b[0m \u001b[0;32mis\u001b[0m \u001b[0;32mnot\u001b[0m \u001b[0;32mNone\u001b[0m\u001b[0;34m:\u001b[0m\u001b[0;34m\u001b[0m\u001b[0;34m\u001b[0m\u001b[0m\n\u001b[1;32m    949\u001b[0m       \u001b[0;31m# Release the lock early so that multiple threads can perform the call\u001b[0m\u001b[0;34m\u001b[0m\u001b[0;34m\u001b[0m\u001b[0;34m\u001b[0m\u001b[0m\n",
            "\u001b[0;32m/usr/local/lib/python3.7/dist-packages/tensorflow/python/eager/function.py\u001b[0m in \u001b[0;36m__call__\u001b[0;34m(self, *args, **kwargs)\u001b[0m\n\u001b[1;32m   2955\u001b[0m        filtered_flat_args) = self._maybe_define_function(args, kwargs)\n\u001b[1;32m   2956\u001b[0m     return graph_function._call_flat(\n\u001b[0;32m-> 2957\u001b[0;31m         filtered_flat_args, captured_inputs=graph_function.captured_inputs)  # pylint: disable=protected-access\n\u001b[0m\u001b[1;32m   2958\u001b[0m \u001b[0;34m\u001b[0m\u001b[0m\n\u001b[1;32m   2959\u001b[0m   \u001b[0;34m@\u001b[0m\u001b[0mproperty\u001b[0m\u001b[0;34m\u001b[0m\u001b[0;34m\u001b[0m\u001b[0m\n",
            "\u001b[0;32m/usr/local/lib/python3.7/dist-packages/tensorflow/python/eager/function.py\u001b[0m in \u001b[0;36m_call_flat\u001b[0;34m(self, args, captured_inputs, cancellation_manager)\u001b[0m\n\u001b[1;32m   1852\u001b[0m       \u001b[0;31m# No tape is watching; skip to running the function.\u001b[0m\u001b[0;34m\u001b[0m\u001b[0;34m\u001b[0m\u001b[0;34m\u001b[0m\u001b[0m\n\u001b[1;32m   1853\u001b[0m       return self._build_call_outputs(self._inference_function.call(\n\u001b[0;32m-> 1854\u001b[0;31m           ctx, args, cancellation_manager=cancellation_manager))\n\u001b[0m\u001b[1;32m   1855\u001b[0m     forward_backward = self._select_forward_and_backward_functions(\n\u001b[1;32m   1856\u001b[0m         \u001b[0margs\u001b[0m\u001b[0;34m,\u001b[0m\u001b[0;34m\u001b[0m\u001b[0;34m\u001b[0m\u001b[0m\n",
            "\u001b[0;32m/usr/local/lib/python3.7/dist-packages/tensorflow/python/eager/function.py\u001b[0m in \u001b[0;36mcall\u001b[0;34m(self, ctx, args, cancellation_manager)\u001b[0m\n\u001b[1;32m    502\u001b[0m               \u001b[0minputs\u001b[0m\u001b[0;34m=\u001b[0m\u001b[0margs\u001b[0m\u001b[0;34m,\u001b[0m\u001b[0;34m\u001b[0m\u001b[0;34m\u001b[0m\u001b[0m\n\u001b[1;32m    503\u001b[0m               \u001b[0mattrs\u001b[0m\u001b[0;34m=\u001b[0m\u001b[0mattrs\u001b[0m\u001b[0;34m,\u001b[0m\u001b[0;34m\u001b[0m\u001b[0;34m\u001b[0m\u001b[0m\n\u001b[0;32m--> 504\u001b[0;31m               ctx=ctx)\n\u001b[0m\u001b[1;32m    505\u001b[0m         \u001b[0;32melse\u001b[0m\u001b[0;34m:\u001b[0m\u001b[0;34m\u001b[0m\u001b[0;34m\u001b[0m\u001b[0m\n\u001b[1;32m    506\u001b[0m           outputs = execute.execute_with_cancellation(\n",
            "\u001b[0;32m/usr/local/lib/python3.7/dist-packages/tensorflow/python/eager/execute.py\u001b[0m in \u001b[0;36mquick_execute\u001b[0;34m(op_name, num_outputs, inputs, attrs, ctx, name)\u001b[0m\n\u001b[1;32m     53\u001b[0m     \u001b[0mctx\u001b[0m\u001b[0;34m.\u001b[0m\u001b[0mensure_initialized\u001b[0m\u001b[0;34m(\u001b[0m\u001b[0;34m)\u001b[0m\u001b[0;34m\u001b[0m\u001b[0;34m\u001b[0m\u001b[0m\n\u001b[1;32m     54\u001b[0m     tensors = pywrap_tfe.TFE_Py_Execute(ctx._handle, device_name, op_name,\n\u001b[0;32m---> 55\u001b[0;31m                                         inputs, attrs, num_outputs)\n\u001b[0m\u001b[1;32m     56\u001b[0m   \u001b[0;32mexcept\u001b[0m \u001b[0mcore\u001b[0m\u001b[0;34m.\u001b[0m\u001b[0m_NotOkStatusException\u001b[0m \u001b[0;32mas\u001b[0m \u001b[0me\u001b[0m\u001b[0;34m:\u001b[0m\u001b[0;34m\u001b[0m\u001b[0;34m\u001b[0m\u001b[0m\n\u001b[1;32m     57\u001b[0m     \u001b[0;32mif\u001b[0m \u001b[0mname\u001b[0m \u001b[0;32mis\u001b[0m \u001b[0;32mnot\u001b[0m \u001b[0;32mNone\u001b[0m\u001b[0;34m:\u001b[0m\u001b[0;34m\u001b[0m\u001b[0;34m\u001b[0m\u001b[0m\n",
            "\u001b[0;31mKeyboardInterrupt\u001b[0m: "
          ]
        }
      ],
      "source": [
        "loss = tf.losses.SparseCategoricalCrossentropy(from_logits=True)\n",
        "model.compile(optimizer='adam', loss=loss,metrics='accuracy')\n",
        "\n",
        "history = model.fit(dataset, epochs=900)"
      ]
    },
    {
      "cell_type": "markdown",
      "metadata": {
        "id": "casEwxrXcv4Y"
      },
      "source": [
        "## V. Use the model\n",
        "\n",
        "Now that our model has been trained, we can use it to generate text. As mentioned earlier, to do so we have to keep track of its internal state, or memory, so that we can use previous text predictions to inform later ones.\n",
        "\n",
        "However, with RNN generated text, if we always just pick the character with the highest probability, our model tends to get stuck in a loop. So instead we will create a probability distribution of characters for each step, and then sample from that distribution. We can add some variation to this using a paramter known as [\"temperature\"](https://cs.stackexchange.com/questions/79241/what-is-temperature-in-lstm-and-neural-networks-generally)."
      ]
    },
    {
      "cell_type": "code",
      "execution_count": 22,
      "metadata": {
        "id": "V3lhlyfwcqIN"
      },
      "outputs": [],
      "source": [
        "# Here's the code we'll use to sample for us. It has some extra steps to apply\n",
        "# the temperature to the distribution, and to make sure we don't get empty\n",
        "# characters in our text. Most importantly, it will keep track of our model\n",
        "# state for us.\n",
        "\n",
        "class OneStep(tf.keras.Model):\n",
        "  def __init__(self, model, chars_from_ids, ids_from_chars, temperature=1):\n",
        "    super().__init__()\n",
        "    self.temperature=temperature\n",
        "    self.model = model\n",
        "    self.chars_from_ids = chars_from_ids\n",
        "    self.ids_from_chars = ids_from_chars\n",
        "\n",
        "    # Create a mask to prevent \"\" or \"[UNK]\" from being generated.\n",
        "    skip_ids = self.ids_from_chars(['','[UNK]'])[:, None]\n",
        "    sparse_mask = tf.SparseTensor(\n",
        "        # Put a -inf at each bad index.\n",
        "        values=[-float('inf')]*len(skip_ids),\n",
        "        indices = skip_ids,\n",
        "        # Match the shape to the vocabulary\n",
        "        dense_shape=[len(ids_from_chars.get_vocabulary())]) \n",
        "    self.prediction_mask = tf.sparse.to_dense(sparse_mask,validate_indices=False)\n",
        "\n",
        "  @tf.function\n",
        "  def generate_one_step(self, inputs, states=None):\n",
        "    # Convert strings to token IDs.\n",
        "    input_chars = tf.strings.unicode_split(inputs, 'UTF-8')\n",
        "    input_ids = self.ids_from_chars(input_chars).to_tensor()\n",
        "\n",
        "    # Run the model.\n",
        "    # predicted_logits.shape is [batch, char, next_char_logits] \n",
        "    predicted_logits, states =  self.model(inputs=input_ids, states=states, \n",
        "                                          return_state=True)\n",
        "    # Only use the last prediction.\n",
        "    predicted_logits = predicted_logits[:, -1, :]\n",
        "    predicted_logits = predicted_logits/self.temperature\n",
        "    \n",
        "    # Apply the prediction mask: prevent \"\" or \"[UNK]\" from being generated.\n",
        "    predicted_logits = predicted_logits + self.prediction_mask\n",
        "\n",
        "    # Sample the output logits to generate token IDs.\n",
        "    predicted_ids = tf.random.categorical(predicted_logits, num_samples=1)\n",
        "    predicted_ids = tf.squeeze(predicted_ids, axis=-1)\n",
        "\n",
        "    # Return the characters and model state.\n",
        "    return chars_from_ids(predicted_ids), states\n"
      ]
    },
    {
      "cell_type": "code",
      "execution_count": 23,
      "metadata": {
        "id": "fSUghgUFc6ba",
        "colab": {
          "base_uri": "https://localhost:8080/"
        },
        "outputId": "07dd965b-0349-4459-88d7-7a1455ca0305"
      },
      "outputs": [
        {
          "output_type": "stream",
          "name": "stdout",
          "text": [
            "The world seemed like such a peaceful place until the magic tree was discovered in London.\r\n",
            "They it one day on the heart to provide\r\n",
            "te fill down through it and\r\n",
            "Buck covered it over with a start to lift in a fury, his teeth into undran hair, pride in himself, would ba refess out of his\r\n",
            "speech, bit Curly whined not antend\r\n",
            "forth at his body\r\n",
            "struck against the bank and he was hauled out. Hes would not make it. He was shaking him back and forth. Thosething was too quick for him. His massed\r\n",
            "the yelp of the adjurt\rowed her senfored. Dave was runding and the air.\r\n",
            "Project Gutenberg-tm electronic works if you. Went, and at such moment’s pitch anglis arc ecomp:\r\n",
            "\r\n",
            "1.E.9. If an inditadion of elicerated a rughting from Splater copies of Project Gutenberg-tm\r\n",
            "eBooks. “more of the Countain’s not were required to preine breaths driftyly out of\r\n",
            "dim actions are lotalty every morning Buck’s project journey into the Evenicisp appealing\r\n",
            "other ments, on his bull down upon in his feet was muscles tatted mader, the\r\n",
            "spring of things. They were dead to rest. His man two or three propent tw\n"
          ]
        }
      ],
      "source": [
        "# Create an instance of the character generator\n",
        "one_step_model = OneStep(model, chars_from_ids, ids_from_chars)\n",
        "\n",
        "# Now, let's generate a 1000 character chapter by giving our model \"Chapter 1\"\n",
        "# as its starting text\n",
        "states = None\n",
        "next_char = tf.constant([\"The world seemed like such a peaceful place until the magic tree was discovered in London.\"])\n",
        "result = [next_char]\n",
        "\n",
        "for n in range(1000):\n",
        "  next_char, states = one_step_model.generate_one_step(next_char, states=states)\n",
        "  result.append(next_char)\n",
        "\n",
        "result = tf.strings.join(result)\n",
        "\n",
        "# Print the results formatted.\n",
        "print(result[0].numpy().decode('utf-8'))\n",
        "\n",
        "\n"
      ]
    },
    {
      "cell_type": "markdown",
      "metadata": {
        "id": "b2Cudf3YoaKr"
      },
      "source": [
        "## VI. Next Steps\n",
        "\n",
        "This is a very simple model with one GRU layer and then an output layer. However, considering how simple it is and the fact that we are predicting outputs character by character, the text it produces is pretty amazing. Though it still has a long way to go before publication.\n",
        "\n",
        "There are many other RNN architectures you could try, such as adding additional hidden dense layers, replacing GRU with one or more LSTM layers, combining GRU and LSTM, etc...\n",
        "\n",
        "You could also experiment with better text cleanup to make sure odd punctuation doesn't appear, or finding longer texts to use. If you combine texts from two authors, what happens? Can you generate a Jane Austen stageplay by combining austen and shakespeare texts?\n",
        "\n",
        "Finally, there are a number of hyperparameters to tweak, such as temperature, epochs, batch size, sequence length, etc..."
      ]
    },
    {
      "cell_type": "code",
      "source": [
        "# Save the entire model as a SavedModel. This save into colab.\n",
        "!mkdir -p saved_model\n",
        "model.save('saved_model/my_model')"
      ],
      "metadata": {
        "id": "oxg5my9jbpF6",
        "colab": {
          "base_uri": "https://localhost:8080/"
        },
        "outputId": "251a277e-263b-4cde-d078-45a36b4c8ad7"
      },
      "execution_count": 24,
      "outputs": [
        {
          "output_type": "stream",
          "name": "stderr",
          "text": [
            "WARNING:absl:Found untraced functions such as gru_cell_layer_call_fn, gru_cell_layer_call_and_return_conditional_losses while saving (showing 2 of 2). These functions will not be directly callable after loading.\n"
          ]
        },
        {
          "output_type": "stream",
          "name": "stdout",
          "text": [
            "INFO:tensorflow:Assets written to: saved_model/my_model/assets\n"
          ]
        },
        {
          "output_type": "stream",
          "name": "stderr",
          "text": [
            "INFO:tensorflow:Assets written to: saved_model/my_model/assets\n",
            "WARNING:absl:<keras.layers.recurrent.GRUCell object at 0x7f4790472310> has the same name 'GRUCell' as a built-in Keras object. Consider renaming <class 'keras.layers.recurrent.GRUCell'> to avoid naming conflicts when loading with `tf.keras.models.load_model`. If renaming is not possible, pass the object in the `custom_objects` parameter of the load function.\n"
          ]
        }
      ]
    },
    {
      "cell_type": "code",
      "source": [
        "from google.colab import files\n",
        "import shutil\n",
        "# This code compress the directory in a zip file and downloaded\n",
        "# Specify export directory and use tensorflow to save your_model\n",
        "export_dir = './saved_model'\n",
        "export_zip = './saved_zip'\n",
        "#tf.saved_model.save(your_model, export_dir=export_dir)\n",
        "# Download the model (Can take several minutes but work)\n",
        "\n",
        "shutil.make_archive(export_zip, 'zip', export_dir)\n",
        "\n",
        "files.download(export_zip+'.zip')\n"
      ],
      "metadata": {
        "id": "4NblXP02bt_S",
        "colab": {
          "base_uri": "https://localhost:8080/",
          "height": 34
        },
        "outputId": "03594845-2165-4303-a8c2-f7044249f32c"
      },
      "execution_count": 25,
      "outputs": [
        {
          "output_type": "display_data",
          "data": {
            "text/plain": [
              "<IPython.core.display.Javascript object>"
            ],
            "application/javascript": [
              "\n",
              "    async function download(id, filename, size) {\n",
              "      if (!google.colab.kernel.accessAllowed) {\n",
              "        return;\n",
              "      }\n",
              "      const div = document.createElement('div');\n",
              "      const label = document.createElement('label');\n",
              "      label.textContent = `Downloading \"${filename}\": `;\n",
              "      div.appendChild(label);\n",
              "      const progress = document.createElement('progress');\n",
              "      progress.max = size;\n",
              "      div.appendChild(progress);\n",
              "      document.body.appendChild(div);\n",
              "\n",
              "      const buffers = [];\n",
              "      let downloaded = 0;\n",
              "\n",
              "      const channel = await google.colab.kernel.comms.open(id);\n",
              "      // Send a message to notify the kernel that we're ready.\n",
              "      channel.send({})\n",
              "\n",
              "      for await (const message of channel.messages) {\n",
              "        // Send a message to notify the kernel that we're ready.\n",
              "        channel.send({})\n",
              "        if (message.buffers) {\n",
              "          for (const buffer of message.buffers) {\n",
              "            buffers.push(buffer);\n",
              "            downloaded += buffer.byteLength;\n",
              "            progress.value = downloaded;\n",
              "          }\n",
              "        }\n",
              "      }\n",
              "      const blob = new Blob(buffers, {type: 'application/binary'});\n",
              "      const a = document.createElement('a');\n",
              "      a.href = window.URL.createObjectURL(blob);\n",
              "      a.download = filename;\n",
              "      div.appendChild(a);\n",
              "      a.click();\n",
              "      div.remove();\n",
              "    }\n",
              "  "
            ]
          },
          "metadata": {}
        },
        {
          "output_type": "display_data",
          "data": {
            "text/plain": [
              "<IPython.core.display.Javascript object>"
            ],
            "application/javascript": [
              "download(\"download_dc081091-e5b5-40cc-994f-dd1325670af6\", \"saved_zip.zip\", 45520987)"
            ]
          },
          "metadata": {}
        }
      ]
    },
    {
      "cell_type": "code",
      "source": [
        "#This code unzip the previous saved zip. The one from colab, if you want to load\n",
        "# it from the downloaded use :\n",
        "#!echo \"Downloading files...\"\n",
        "#!wget -q https://github.com/your name in github were you loaded the zip/saved_zip.zip)\n",
        "\n",
        "!echo \"Unzipping files...\"\n",
        "!unzip -q saved_zip.zip"
      ],
      "metadata": {
        "id": "qKt_X8PwbwNS"
      },
      "execution_count": null,
      "outputs": []
    },
    {
      "cell_type": "code",
      "source": [
        "# This code take the unziped model and recreate it\n",
        "# The path is into colab\n",
        "new_model = tf.keras.models.load_model('saved_model/my_model')\n",
        "\n",
        "# Check its architecture\n",
        "new_model.summary()"
      ],
      "metadata": {
        "id": "PfPFvQ4-b0Sy"
      },
      "execution_count": null,
      "outputs": []
    },
    {
      "cell_type": "code",
      "source": [
        ""
      ],
      "metadata": {
        "id": "rkzHCDFeIM6M"
      },
      "execution_count": null,
      "outputs": []
    },
    {
      "cell_type": "code",
      "source": [
        "# launch tensorboard in TensorBoard.dev (public for sharing the link)\n",
        "\n",
        "!tensorboard dev upload \\\n",
        "  --logdir logs/fit \\\n",
        "  --name \"(optional) My first convolutional\" \\\n",
        "  --description \"(optional) Simple comparison of several hyperparameters\" \\\n",
        "  --one_shot\n",
        "  "
      ],
      "metadata": {
        "id": "SR-xMA_H2QaD",
        "colab": {
          "base_uri": "https://localhost:8080/"
        },
        "outputId": "2e3b140a-795d-4155-c19d-0337d3bad1de"
      },
      "execution_count": 26,
      "outputs": [
        {
          "output_type": "stream",
          "name": "stdout",
          "text": [
            "logs/fit: No such directory.\n",
            "User specified `one_shot` mode with an unavailable logdir. Exiting without creating an experiment.\n"
          ]
        }
      ]
    }
  ]
}
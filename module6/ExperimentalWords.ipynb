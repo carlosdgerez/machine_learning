{
  "nbformat": 4,
  "nbformat_minor": 0,
  "metadata": {
    "colab": {
      "name": "ExperimentalWords.ipynb",
      "provenance": [],
      "authorship_tag": "ABX9TyM+yCnqFwgr29DutbNoCjKn",
      "include_colab_link": true
    },
    "kernelspec": {
      "name": "python3",
      "display_name": "Python 3"
    },
    "language_info": {
      "name": "python"
    }
  },
  "cells": [
    {
      "cell_type": "markdown",
      "metadata": {
        "id": "view-in-github",
        "colab_type": "text"
      },
      "source": [
        "<a href=\"https://colab.research.google.com/github/carlosdgerez/machine_learning/blob/main/module6/ExperimentalWords.ipynb\" target=\"_parent\"><img src=\"https://colab.research.google.com/assets/colab-badge.svg\" alt=\"Open In Colab\"/></a>"
      ]
    },
    {
      "cell_type": "code",
      "execution_count": null,
      "metadata": {
        "id": "_LLpjNIiHA20"
      },
      "outputs": [],
      "source": [
        ""
      ]
    },
    {
      "cell_type": "code",
      "execution_count": null,
      "metadata": {
        "id": "KLBdUFxa9bW7"
      },
      "outputs": [],
      "source": [
        ""
      ]
    },
    {
      "cell_type": "code",
      "execution_count": null,
      "metadata": {
        "id": "xbLHRNi3hsGs"
      },
      "outputs": [],
      "source": [
        ""
      ]
    },
    {
      "cell_type": "code",
      "execution_count": null,
      "metadata": {
        "id": "XtiXE04uGB_U"
      },
      "outputs": [],
      "source": [
        "# Import libraries\n",
        "import tensorflow as tf\n",
        "from tensorflow.keras.layers.experimental import preprocessing\n",
        "\n",
        "import numpy as np\n",
        "import os\n",
        "import time\n"
      ]
    },
    {
      "cell_type": "markdown",
      "metadata": {
        "id": "qv4r-dKnSRKz"
      },
      "source": [
        "## I. Parse Text Sources\n",
        "First we'll load our text sources and create our vocabulary lists and encoders. \n",
        "\n",
        "There are ways we could do this in pure python, but using the tensorflow data structures and libraries allow us to keep things super-optimized."
      ]
    },
    {
      "cell_type": "code",
      "execution_count": null,
      "metadata": {
        "colab": {
          "base_uri": "https://localhost:8080/"
        },
        "id": "H8RbnIjwHGoR",
        "outputId": "ce8b2404-48c2-448b-cd38-0a32f30352ac"
      },
      "outputs": [
        {
          "output_type": "stream",
          "name": "stdout",
          "text": [
            "Downloading data from https://www.gutenberg.org/files/215/215-0.txt\n",
            "204800/200109 [==============================] - 0s 0us/step\n",
            "212992/200109 [===============================] - 0s 0us/step\n",
            "Length of text: 198823 characters\n"
          ]
        }
      ],
      "source": [
        "# Load file data\n",
        "path_to_file = tf.keras.utils.get_file('london.txt', 'https://www.gutenberg.org/files/215/215-0.txt')\n",
        "text = open(path_to_file, 'rb').read().decode(encoding='utf-8')\n",
        "print('Length of text: {} characters'.format(len(text)))"
      ]
    },
    {
      "cell_type": "code",
      "execution_count": null,
      "metadata": {
        "colab": {
          "base_uri": "https://localhost:8080/"
        },
        "id": "2XRnt0XUHUrq",
        "outputId": "d055757f-7814-4b81-c1fb-463cb57e2809"
      },
      "outputs": [
        {
          "output_type": "stream",
          "name": "stdout",
          "text": [
            "﻿\r\n",
            "The Project Gutenberg EBook of The Call of the Wild, by Jack London\r\n",
            "\r\n",
            "This eBook is for the use of anyone anywhere in the United States and most\r\n",
            "other parts of the world at no cost and with almost no restrictions\r\n",
            "whatsoever.  You may copy it, give it away or re-use it under the terms of\r\n",
            "the Project Gutenberg License included with this eBook or online at\r\n",
            "www.gutenberg.org.  If you are not located in the United States, you'll have\r\n",
            "to check the laws of the country where you are located before using this ebook.\r\n",
            "\r\n",
            "Title: The Call of the Wild\r\n",
            "\r\n",
            "Author: Jack London\r\n",
            "\r\n",
            "Release Date: July 1, 2008 [EBook #215]\r\n",
            "Last updated: August 30, 2019\r\n",
            "\r\n",
            "Language: English\r\n",
            "\r\n",
            "Character set encoding: UTF-8\r\n",
            "\r\n",
            "*** START OF THIS PROJECT GUTENBERG EBOOK THE CALL OF THE WILD ***\r\n",
            "\r\n",
            "\r\n",
            "\r\n",
            "\r\n",
            "Produced by Ryan, Kirstin, Linda and Rick Trapp, and David Widger\r\n",
            "\r\n",
            "\r\n",
            "\r\n",
            "\r\n",
            "cover \r\n",
            "\r\n",
            "\r\n",
            "\r\n",
            "The Call of the Wild\r\n",
            "\r\n",
            "\r\n",
            "\r\n",
            "by Jack London\r\n",
            "\r\n",
            "\r\n",
            "\r\n",
            "Contents\r\n",
            "\r\n",
            "\r\n",
            " Chapter I. Into the Primitive\r\n",
            " Chapter II. The Law of Club and Fang\r\n",
            " Chapter III. The Dominant Primordial Beast\r\n",
            " Chapter IV. Who Has Won to Mastership\r\n",
            " Chapter V. The Toil of Trace\r\n",
            " Chapter VI. For the Love of a Man\r\n",
            " Chapter VII. The Sounding of the Call\r\n",
            "\r\n",
            "\r\n",
            "\r\n",
            "\n",
            "Chapter I. Into the Primitive\r\n",
            "\r\n",
            "“Old longings nomadic leap,\r\n",
            "Chafing at custom’s chain;\r\n",
            "Again from its brumal sleep\r\n",
            "Wakens the ferine strain.”\r\n",
            "\r\n",
            "\r\n",
            "Buck did not read the newspapers, or he would hav\n"
          ]
        }
      ],
      "source": [
        "# Verify the first part of our data\n",
        "print(text[:1205])\n",
        "# strip header\n",
        "text = text[1205:]\n",
        "print (text[:200])"
      ]
    },
    {
      "cell_type": "code",
      "source": [
        "# strip footers\n",
        "print(len(text))\n",
        "#print(text[:300])\n",
        "#print(text[178272:])\n",
        "text= text[:178272]\n",
        "print(text[177000:])"
      ],
      "metadata": {
        "colab": {
          "base_uri": "https://localhost:8080/"
        },
        "id": "kYjqaGwH1sLP",
        "outputId": "469bb7e3-0610-4f22-ab76-a99e0aa3ce0a"
      },
      "execution_count": null,
      "outputs": [
        {
          "output_type": "stream",
          "name": "stdout",
          "text": [
            "197618\n",
            "slashed cruelly open and with wolf prints about them in the\r\n",
            "snow greater than the prints of any wolf. Each fall, when the Yeehats\r\n",
            "follow the movement of the moose, there is a certain valley which they\r\n",
            "never enter. And women there are who become sad when the word goes over\r\n",
            "the fire of how the Evil Spirit came to select that valley for an\r\n",
            "abiding-place.\r\n",
            "\r\n",
            "In the summers there is one visitor, however, to that valley, of which\r\n",
            "the Yeehats do not know. It is a great, gloriously coated wolf, like,\r\n",
            "and yet unlike, all other wolves. He crosses alone from the smiling\r\n",
            "timber land and comes down into an open space among the trees. Here a\r\n",
            "yellow stream flows from rotted moose-hide sacks and sinks into the\r\n",
            "ground, with long grasses growing through it and vegetable mould\r\n",
            "overrunning it and hiding its yellow from the sun; and here he muses\r\n",
            "for a time, howling once, long and mournfully, ere he departs.\r\n",
            "\r\n",
            "But he is not always alone. When the long winter nights come on and the\r\n",
            "wolves follow their meat into the lower valleys, he may be seen running\r\n",
            "at the head of the pack through the pale moonlight or glimmering\r\n",
            "borealis, leaping gigantic above his fellows, his great throat a-bellow\r\n",
            "as he sings a song of the younger world, which is the song of the pack.\n"
          ]
        }
      ]
    },
    {
      "cell_type": "code",
      "source": [
        "print(text[:250])"
      ],
      "metadata": {
        "colab": {
          "base_uri": "https://localhost:8080/"
        },
        "id": "kSiKdNQZ6uG8",
        "outputId": "00c8b237-a279-4a67-b77f-844217e97d01"
      },
      "execution_count": null,
      "outputs": [
        {
          "output_type": "stream",
          "name": "stdout",
          "text": [
            "Chapter I. Into the Primitive\r\n",
            "\r\n",
            "“Old longings nomadic leap,\r\n",
            "Chafing at custom’s chain;\r\n",
            "Again from its brumal sleep\r\n",
            "Wakens the ferine strain.”\r\n",
            "\r\n",
            "\r\n",
            "Buck did not read the newspapers, or he would have known that trouble\r\n",
            "was brewing, not alone for h\n"
          ]
        }
      ]
    },
    {
      "cell_type": "markdown",
      "source": [
        "# Here we combine 2 authors texts"
      ],
      "metadata": {
        "id": "5nM9GG_kx_mN"
      }
    },
    {
      "cell_type": "code",
      "source": [
        ""
      ],
      "metadata": {
        "id": "oZpNGSOYx8Gs"
      },
      "execution_count": null,
      "outputs": []
    },
    {
      "cell_type": "code",
      "execution_count": null,
      "metadata": {
        "colab": {
          "base_uri": "https://localhost:8080/"
        },
        "outputId": "cb251a0c-a14d-42e1-c9b4-3420d7abe713",
        "id": "gsEO0WOhyFs5"
      },
      "outputs": [
        {
          "output_type": "stream",
          "name": "stdout",
          "text": [
            "Downloading data from https://raw.githubusercontent.com/Kate-Strydom/cse450/main/peter_pan_james_m_barrie.txt\n",
            "270336/267999 [==============================] - 0s 0us/step\n",
            "278528/267999 [===============================] - 0s 0us/step\n",
            "Length of text: 260845 characters\n"
          ]
        }
      ],
      "source": [
        "# Load file data\n",
        "path_to_file2 = tf.keras.utils.get_file('peter_pan','https://raw.githubusercontent.com/Kate-Strydom/cse450/main/peter_pan_james_m_barrie.txt')\n",
        "text2 = open(path_to_file2, 'rb').read().decode(encoding='utf-8')\n",
        "print('Length of text: {} characters'.format(len(text2)))"
      ]
    },
    {
      "cell_type": "code",
      "source": [
        "text = text + text2"
      ],
      "metadata": {
        "id": "EPNfF4dXzSaG"
      },
      "execution_count": null,
      "outputs": []
    },
    {
      "cell_type": "code",
      "source": [
        "print(len(text))"
      ],
      "metadata": {
        "id": "8M7OGrVszb2m",
        "outputId": "cf387e46-42c1-4135-f1c7-dc530af1a5a7",
        "colab": {
          "base_uri": "https://localhost:8080/"
        }
      },
      "execution_count": null,
      "outputs": [
        {
          "output_type": "stream",
          "name": "stdout",
          "text": [
            "439117\n"
          ]
        }
      ]
    },
    {
      "cell_type": "code",
      "execution_count": null,
      "metadata": {
        "colab": {
          "base_uri": "https://localhost:8080/"
        },
        "id": "2SLd7l0HP1Po",
        "outputId": "133a948c-d6e3-4a2c-8d4d-b47eb6525e72"
      },
      "outputs": [
        {
          "output_type": "stream",
          "name": "stdout",
          "text": [
            "83 unique characters\n",
            "['\\n', '\\r', ' ', '!', '(', ')', ',', '-', '.', '0', '1', '2', '3', '4', '6', '7', '8', '9', ':', ';', '?', 'A', 'B', 'C', 'D', 'E', 'F', 'G', 'H', 'I', 'J', 'K', 'L', 'M', 'N', 'O', 'P', 'Q', 'R', 'S', 'T', 'U', 'V', 'W', 'X', 'Y', 'Z', '_', 'a', 'b', 'c', 'd', 'e', 'f', 'g', 'h', 'i', 'j', 'k', 'l', 'm', 'n', 'o', 'p', 'q', 'r', 's', 't', 'u', 'v', 'w', 'x', 'y', 'z', 'ç', 'é', 'ñ', 'œ', '—', '‘', '’', '“', '”']\n"
          ]
        }
      ],
      "source": [
        "# Now we'll get a list of the unique characters in the file. This will form the\n",
        "# vocabulary of our network. There may be some characters we want to remove from this \n",
        "# set as we refine the network.\n",
        "vocab = sorted(set(text))\n",
        "print('{} unique characters'.format(len(vocab)))\n",
        "print(vocab)"
      ]
    },
    {
      "cell_type": "code",
      "execution_count": null,
      "metadata": {
        "id": "NtjOxL7wQibb"
      },
      "outputs": [],
      "source": [
        "# Next, we'll encode encode these characters into numbers so we can use them\n",
        "# with our neural network, then we'll create some mappings between the characters\n",
        "# and their numeric representations\n",
        "ids_from_chars = preprocessing.StringLookup(vocabulary=list(vocab))\n",
        "chars_from_ids = tf.keras.layers.experimental.preprocessing.StringLookup(vocabulary=ids_from_chars.get_vocabulary(), invert=True)\n",
        "\n",
        "# Here's a little helper function that we can use to turn a sequence of ids\n",
        "# back into a string:\n",
        "# turn them into a string:\n",
        "def text_from_ids(ids):\n",
        "  joinedTensor = tf.strings.reduce_join(chars_from_ids(ids), axis=-1)\n",
        "  return joinedTensor.numpy().decode(\"utf-8\")"
      ]
    },
    {
      "cell_type": "code",
      "execution_count": null,
      "metadata": {
        "colab": {
          "base_uri": "https://localhost:8080/"
        },
        "id": "52bkemreRw8q",
        "outputId": "fa1dfc7f-ac38-4315-d766-1062cfeb16d0"
      },
      "outputs": [
        {
          "output_type": "execute_result",
          "data": {
            "text/plain": [
              "<tf.Tensor: shape=(5,), dtype=int64, numpy=array([41, 66, 69, 68, 56])>"
            ]
          },
          "metadata": {},
          "execution_count": 11
        }
      ],
      "source": [
        "# Now we'll verify that they work, by getting the code for \"A\", and then looking\n",
        "# that up in reverse\n",
        "testids = ids_from_chars([\"T\", \"r\", \"u\", \"t\", \"h\"])\n",
        "testids"
      ]
    },
    {
      "cell_type": "code",
      "execution_count": null,
      "metadata": {
        "colab": {
          "base_uri": "https://localhost:8080/"
        },
        "id": "vGUnSHjtD_IJ",
        "outputId": "3e3bdd9e-c9cc-4e91-e640-0c66abf08a68"
      },
      "outputs": [
        {
          "output_type": "execute_result",
          "data": {
            "text/plain": [
              "<tf.Tensor: shape=(5,), dtype=string, numpy=array([b'T', b'r', b'u', b't', b'h'], dtype=object)>"
            ]
          },
          "metadata": {},
          "execution_count": 12
        }
      ],
      "source": [
        "chars_from_ids(testids)"
      ]
    },
    {
      "cell_type": "code",
      "execution_count": null,
      "metadata": {
        "colab": {
          "base_uri": "https://localhost:8080/",
          "height": 35
        },
        "id": "8rghkpLLLjL5",
        "outputId": "a461fc77-ad9f-4e3e-e390-d22de75dee2f"
      },
      "outputs": [
        {
          "output_type": "execute_result",
          "data": {
            "text/plain": [
              "'Truth'"
            ],
            "application/vnd.google.colaboratory.intrinsic+json": {
              "type": "string"
            }
          },
          "metadata": {},
          "execution_count": 13
        }
      ],
      "source": [
        "testString = text_from_ids( testids )\n",
        "testString"
      ]
    },
    {
      "cell_type": "markdown",
      "metadata": {
        "id": "MRXMVqTcSpA0"
      },
      "source": [
        "## II. Construct our training data\n",
        "Next we need to construct our training data by building sentence chunks. Each chunk will consist of a sequence of characters and a corresponding \"next sequence\" of the same length showing what would happen if we move forward in the text. This \"next sequence\" becomes our target variable.\n",
        "\n",
        "For example, if this were our text:\n",
        "\n",
        "> It is a truth universally acknowledged, that a single man in possession\n",
        "of a good fortune, must be in want of a wife.\n",
        "\n",
        "And our sequence length was 10 with a step size of 1, our first chunk would be:\n",
        "\n",
        "* Sequence: `It is a tr`\n",
        "* Next Sequence: `t is a tru`\n",
        "\n",
        "Our second chunk would be:\n",
        "\n",
        "* Sequence: `t is a tru`\n",
        "* Next Word: ` is a trut`\n",
        "\n"
      ]
    },
    {
      "cell_type": "code",
      "execution_count": null,
      "metadata": {
        "colab": {
          "base_uri": "https://localhost:8080/"
        },
        "id": "5PLJWOg2P_fE",
        "outputId": "7da462d1-6bf7-4929-b809-09ec5f3d5515"
      },
      "outputs": [
        {
          "output_type": "execute_result",
          "data": {
            "text/plain": [
              "<tf.Tensor: shape=(439117,), dtype=int64, numpy=array([24, 56, 49, ..., 25,  2,  1])>"
            ]
          },
          "metadata": {},
          "execution_count": 14
        }
      ],
      "source": [
        "# First, create a stream of encoded integers from our text\n",
        "all_ids = ids_from_chars(tf.strings.unicode_split(text, 'UTF-8'))\n",
        "all_ids"
      ]
    },
    {
      "cell_type": "code",
      "execution_count": null,
      "metadata": {
        "id": "-nBqVY6pFpZs"
      },
      "outputs": [],
      "source": [
        "# Now, convert that into a tensorflow dataset\n",
        "ids_dataset = tf.data.Dataset.from_tensor_slices(all_ids)"
      ]
    },
    {
      "cell_type": "code",
      "execution_count": null,
      "metadata": {
        "id": "8Fr28CJxUBtG"
      },
      "outputs": [],
      "source": [
        "# Finally, let's batch these sequences up into chunks for our training\n",
        "seq_length = 100\n",
        "sequences = ids_dataset.batch(seq_length+1, drop_remainder=True)\n",
        "\n",
        "# This function will generate our sequence pairs:\n",
        "def split_input_target(sequence):\n",
        "    input_text = sequence[:-1]\n",
        "    target_text = sequence[1:]\n",
        "    return input_text, target_text\n",
        "\n",
        "# Call the function for every sequence in our list to create a new dataset\n",
        "# of input->target pairs\n",
        "dataset = sequences.map(split_input_target)"
      ]
    },
    {
      "cell_type": "code",
      "execution_count": null,
      "metadata": {
        "colab": {
          "base_uri": "https://localhost:8080/"
        },
        "id": "poNVukmsUFkq",
        "outputId": "71689108-68ea-4ecf-811f-49de5d26983b"
      },
      "outputs": [
        {
          "output_type": "stream",
          "name": "stdout",
          "text": [
            "Input:  Chapter I. Into the Primitive\r\n",
            "\r\n",
            "“Old longings nomadic leap,\r\n",
            "Chafing at custom’s chain;\r\n",
            "Again from\n",
            "--------\n",
            "Target:  hapter I. Into the Primitive\r\n",
            "\r\n",
            "“Old longings nomadic leap,\r\n",
            "Chafing at custom’s chain;\r\n",
            "Again from \n",
            "Input:  its brumal sleep\r\n",
            "Wakens the ferine strain.”\r\n",
            "\r\n",
            "\r\n",
            "Buck did not read the newspapers, or he would have\n",
            "--------\n",
            "Target:  ts brumal sleep\r\n",
            "Wakens the ferine strain.”\r\n",
            "\r\n",
            "\r\n",
            "Buck did not read the newspapers, or he would have \n"
          ]
        }
      ],
      "source": [
        "# Verify our sequences\n",
        "for input_example, target_example in  dataset.take(2):\n",
        "    print(\"Input: \", text_from_ids(input_example))\n",
        "    print(\"--------\")\n",
        "    print(\"Target: \", text_from_ids(target_example))"
      ]
    },
    {
      "cell_type": "code",
      "execution_count": null,
      "metadata": {
        "colab": {
          "base_uri": "https://localhost:8080/"
        },
        "id": "QDdr6xfZYa0o",
        "outputId": "80e99934-e38c-4cf5-c0ca-3bb444a54a0c"
      },
      "outputs": [
        {
          "output_type": "execute_result",
          "data": {
            "text/plain": [
              "<PrefetchDataset element_spec=(TensorSpec(shape=(64, 100), dtype=tf.int64, name=None), TensorSpec(shape=(64, 100), dtype=tf.int64, name=None))>"
            ]
          },
          "metadata": {},
          "execution_count": 60
        }
      ],
      "source": [
        "# Finally, we'll randomize the sequences so that we don't just memorize the books\n",
        "# in the order they were written, then build a new streaming dataset from that.\n",
        "# Using a streaming dataset allows us to pass the data to our network bit by bit,\n",
        "# rather than keeping it all in memory. We'll set it to figure out how much data\n",
        "# to prefetch in the background.\n",
        "\n",
        "BATCH_SIZE = 64\n",
        "BUFFER_SIZE = 10000\n",
        "\n",
        "dataset = (\n",
        "    dataset\n",
        "    .shuffle(BUFFER_SIZE)\n",
        "    .batch(BATCH_SIZE, drop_remainder=True)\n",
        "    .prefetch(tf.data.experimental.AUTOTUNE))\n",
        "\n",
        "dataset"
      ]
    },
    {
      "cell_type": "markdown",
      "metadata": {
        "id": "0VQ-KjEeZMzd"
      },
      "source": [
        "## III. Build the model\n",
        "\n",
        "Next, we'll build our model. Up until this point, you've been using the Keras symbolic, or imperative API for creating your models. Doing something like:\n",
        "\n",
        "    model = tf.keras.models.Sequentla()\n",
        "    model.add(tf.keras.layers.Dense(80, activation='relu))\n",
        "    etc...\n",
        "\n",
        "However, tensorflow has another way to build models called the Functional API, which gives us a lot more control over what happens inside the model. You can read more about [the differences and when to use each here](https://blog.tensorflow.org/2019/01/what-are-symbolic-and-imperative-apis.html).\n",
        "\n",
        "We'll use the functional API for our RNN in this example. This will involve defining our model as a custom subclass of `tf.keras.Model`.\n",
        "\n",
        "If you're not familiar with classes in python, you might want to review [this quick tutorial](https://www.w3schools.com/python/python_classes.asp), as well as [this one on class inheritance](https://www.w3schools.com/python/python_inheritance.asp).\n",
        "\n",
        "Using a functional model is important for our situation because we're not just training it to predict a single character for a single sequence, but as we make predictions with it, we need it to remember those predictions as use that memory as it makes new predictions.\n"
      ]
    },
    {
      "cell_type": "code",
      "execution_count": null,
      "metadata": {
        "id": "Fj4uh9y-Y9mx"
      },
      "outputs": [],
      "source": [
        "# Create our custom model. Given a sequence of characters, this\n",
        "# model's job is to predict what character should come next.\n",
        "class CombinedTextModel(tf.keras.Model):\n",
        "\n",
        "  # This is our class constructor method, it will be executed when\n",
        "  # we first create an instance of the class \n",
        "  def __init__(self, vocab_size, embedding_dim, rnn_units):\n",
        "    super().__init__(self)\n",
        "\n",
        "    # Our model will have three layers:\n",
        "    \n",
        "    # 1. An embedding layer that handles the encoding of our vocabulary into\n",
        "    #    a vector of values suitable for a neural network\n",
        "    self.embedding = tf.keras.layers.Embedding(vocab_size, embedding_dim)\n",
        "\n",
        "    # 2. A GRU layer that handles the \"memory\" aspects of our RNN. If you're\n",
        "    #    wondering why we use GRU instead of LSTM, and whether LSTM is better,\n",
        "    #    take a look at this article: https://datascience.stackexchange.com/questions/14581/when-to-use-gru-over-lstm\n",
        "    #    then consider trying out LSTM instead (or in addition to!)\n",
        "    self.gru = tf.keras.layers.GRU(rnn_units, return_sequences=True, return_state=True)\n",
        "    #self.gruSecond = tf.keras.layers.GRU(rnn_units, return_sequences=True, return_state=True)\n",
        "    # 3. Our output layer that will give us a set of probabilities for each\n",
        "    #    character in our vocabulary.\n",
        "    self.dense = tf.keras.layers.Dense(vocab_size)\n",
        "\n",
        "  # This function will be executed for each epoch of our training. Here\n",
        "  # we will manually feed information from one layer of our network to the \n",
        "  # next.\n",
        "  def call(self, inputs, states=None, return_state=False, training=False):\n",
        "    x = inputs\n",
        "\n",
        "    # 1. Feed the inputs into the embedding layer, and tell it if we are\n",
        "    #    training or predicting\n",
        "    x = self.embedding(x, training=training)\n",
        "\n",
        "    # 2. If we don't have any state in memory yet, get the initial random state\n",
        "    #    from our GRUI layer.\n",
        "    if states is None:\n",
        "      states = self.gru.get_initial_state(x)\n",
        "    \n",
        "    # 3. Now, feed the vectorized input along with the current state of memory\n",
        "    #    into the gru layer.\n",
        "    x, states = self.gru(x, initial_state=states, training=training)\n",
        "    #x, states = self.gruSecond(x, initial_state=states, training=training)\n",
        "    # 4. Finally, pass the results on to the dense layer\n",
        "    x = self.dense(x, training=training)\n",
        "\n",
        "    # 5. Return the results\n",
        "    if return_state:\n",
        "      return x, states\n",
        "    else: \n",
        "      return x"
      ]
    },
    {
      "cell_type": "code",
      "execution_count": null,
      "metadata": {
        "id": "UA2C6pxZc4De"
      },
      "outputs": [],
      "source": [
        "# Create an instance of our model\n",
        "vocab_size=len(ids_from_chars.get_vocabulary())\n",
        "embedding_dim = 256\n",
        "rnn_units = 2048\n",
        "\n",
        "model = CombinedTextModel(vocab_size, embedding_dim, rnn_units)"
      ]
    },
    {
      "cell_type": "code",
      "execution_count": null,
      "metadata": {
        "colab": {
          "base_uri": "https://localhost:8080/"
        },
        "id": "C67kN7YAdfSf",
        "outputId": "6d9e32ad-16df-46a7-f323-017a177bf0cf"
      },
      "outputs": [
        {
          "output_type": "stream",
          "name": "stdout",
          "text": [
            "(64, 100, 84) # (batch_size, sequence_length, vocab_size)\n"
          ]
        }
      ],
      "source": [
        "# Verify the output of our model is correct by running one sample through\n",
        "# This will also compile the model for us. This step will take a bit.\n",
        "for input_example_batch, target_example_batch in dataset.take(1):\n",
        "    example_batch_predictions = model(input_example_batch)\n",
        "    print(example_batch_predictions.shape, \"# (batch_size, sequence_length, vocab_size)\")\n"
      ]
    },
    {
      "cell_type": "code",
      "execution_count": null,
      "metadata": {
        "colab": {
          "base_uri": "https://localhost:8080/"
        },
        "id": "qJGL8gCWdsiu",
        "outputId": "18b66c75-a2c2-4534-8592-4ac470c007ec"
      },
      "outputs": [
        {
          "output_type": "stream",
          "name": "stdout",
          "text": [
            "Model: \"combined_text_model_3\"\n",
            "_________________________________________________________________\n",
            " Layer (type)                Output Shape              Param #   \n",
            "=================================================================\n",
            " embedding_3 (Embedding)     multiple                  21504     \n",
            "                                                                 \n",
            " gru_3 (GRU)                 multiple                  14168064  \n",
            "                                                                 \n",
            " dense_3 (Dense)             multiple                  172116    \n",
            "                                                                 \n",
            "=================================================================\n",
            "Total params: 14,361,684\n",
            "Trainable params: 14,361,684\n",
            "Non-trainable params: 0\n",
            "_________________________________________________________________\n"
          ]
        }
      ],
      "source": [
        "# Now let's view the model summary\n",
        "model.summary()"
      ]
    },
    {
      "cell_type": "code",
      "source": [
        ""
      ],
      "metadata": {
        "id": "tuZLvEnVH6mE"
      },
      "execution_count": null,
      "outputs": []
    },
    {
      "cell_type": "markdown",
      "source": [
        "# Add tensorboard to look at the process"
      ],
      "metadata": {
        "id": "Rc24z5bkmKZb"
      }
    },
    {
      "cell_type": "code",
      "execution_count": null,
      "metadata": {
        "id": "6B95Hb6YVgPZ"
      },
      "outputs": [],
      "source": [
        "# Load the TensorBoard notebook extension\n",
        "%load_ext tensorboard\n",
        "import datetime"
      ]
    },
    {
      "cell_type": "code",
      "execution_count": null,
      "metadata": {
        "id": "Ao7fJW1Pyiza"
      },
      "outputs": [],
      "source": [
        "# Clear any logs from previous runs\n",
        "!rm -rf ./logs/ \n"
      ]
    },
    {
      "cell_type": "code",
      "source": [
        "#create directory and callbacks\n",
        "log_dir = \"logs/fit/\" + datetime.datetime.now().strftime(\"%Y%m%d-%H%M%S\")\n",
        "tensorboard_callback = tf.keras.callbacks.TensorBoard(log_dir=log_dir, histogram_freq=1)\n"
      ],
      "metadata": {
        "id": "HPI1mP8u1Qrx"
      },
      "execution_count": null,
      "outputs": []
    },
    {
      "cell_type": "markdown",
      "metadata": {
        "id": "wTDe5m4baEqo"
      },
      "source": [
        "## IV. Train the model\n",
        "\n",
        "For our purposes, we'll be using [categorical cross entropy](https://machinelearningmastery.com/cross-entropy-for-machine-learning/) as our loss function*. Also, our model will be outputting [\"logits\" rather than normalized probabilities](https://stackoverflow.com/questions/41455101/what-is-the-meaning-of-the-word-logits-in-tensorflow), because we'll be doing further transformations on the output later. \n",
        "\n",
        "\n",
        "\\* Note that since our model deals with integer encoding rather than one-hot encoding, we'll specifically be using [sparse categorical cross entropy](https://stats.stackexchange.com/questions/326065/cross-entropy-vs-sparse-cross-entropy-when-to-use-one-over-the-other)."
      ]
    },
    {
      "cell_type": "code",
      "execution_count": null,
      "metadata": {
        "colab": {
          "base_uri": "https://localhost:8080/"
        },
        "outputId": "aa036fae-cf02-440d-9d05-c73d432b956b",
        "id": "S3OOzyG4UDp6"
      },
      "outputs": [
        {
          "output_type": "stream",
          "name": "stdout",
          "text": [
            "Epoch 1/30\n",
            "67/67 [==============================] - 15s 194ms/step - loss: 3.5111 - accuracy: 0.2449\n",
            "Epoch 2/30\n",
            "67/67 [==============================] - 14s 195ms/step - loss: 2.2596 - accuracy: 0.3594\n",
            "Epoch 3/30\n",
            "67/67 [==============================] - 14s 197ms/step - loss: 2.0510 - accuracy: 0.4110\n",
            "Epoch 4/30\n",
            "67/67 [==============================] - 14s 198ms/step - loss: 1.8820 - accuracy: 0.4495\n",
            "Epoch 5/30\n",
            "67/67 [==============================] - 14s 202ms/step - loss: 1.7421 - accuracy: 0.4831\n",
            "Epoch 6/30\n",
            "67/67 [==============================] - 14s 204ms/step - loss: 1.6239 - accuracy: 0.5130\n",
            "Epoch 7/30\n",
            "67/67 [==============================] - 14s 205ms/step - loss: 1.5225 - accuracy: 0.5401\n",
            "Epoch 8/30\n",
            "67/67 [==============================] - 14s 201ms/step - loss: 1.4356 - accuracy: 0.5628\n",
            "Epoch 9/30\n",
            "67/67 [==============================] - 14s 203ms/step - loss: 1.3549 - accuracy: 0.5838\n",
            "Epoch 10/30\n",
            "67/67 [==============================] - 14s 205ms/step - loss: 1.2804 - accuracy: 0.6042\n",
            "Epoch 11/30\n",
            "67/67 [==============================] - 14s 205ms/step - loss: 1.2054 - accuracy: 0.6252\n",
            "Epoch 12/30\n",
            "67/67 [==============================] - 14s 208ms/step - loss: 1.1269 - accuracy: 0.6469\n",
            "Epoch 13/30\n",
            "67/67 [==============================] - 14s 207ms/step - loss: 1.0436 - accuracy: 0.6721\n",
            "Epoch 14/30\n",
            "67/67 [==============================] - 15s 209ms/step - loss: 0.9485 - accuracy: 0.7014\n",
            "Epoch 15/30\n",
            "67/67 [==============================] - 14s 208ms/step - loss: 0.8439 - accuracy: 0.7349\n",
            "Epoch 16/30\n",
            "67/67 [==============================] - 15s 210ms/step - loss: 0.7306 - accuracy: 0.7731\n",
            "Epoch 17/30\n",
            "67/67 [==============================] - 15s 212ms/step - loss: 0.6125 - accuracy: 0.8145\n",
            "Epoch 18/30\n",
            "67/67 [==============================] - 15s 211ms/step - loss: 0.4986 - accuracy: 0.8537\n",
            "Epoch 19/30\n",
            "67/67 [==============================] - 15s 209ms/step - loss: 0.3954 - accuracy: 0.8890\n",
            "Epoch 20/30\n",
            "67/67 [==============================] - 14s 208ms/step - loss: 0.3081 - accuracy: 0.9174\n",
            "Epoch 21/30\n",
            "67/67 [==============================] - 14s 205ms/step - loss: 0.2363 - accuracy: 0.9404\n",
            "Epoch 22/30\n",
            "67/67 [==============================] - 14s 208ms/step - loss: 0.1847 - accuracy: 0.9558\n",
            "Epoch 23/30\n",
            "67/67 [==============================] - 15s 209ms/step - loss: 0.1493 - accuracy: 0.9650\n",
            "Epoch 24/30\n",
            "67/67 [==============================] - 15s 211ms/step - loss: 0.1246 - accuracy: 0.9709\n",
            "Epoch 25/30\n",
            "67/67 [==============================] - 15s 212ms/step - loss: 0.1087 - accuracy: 0.9739\n",
            "Epoch 26/30\n",
            "67/67 [==============================] - 15s 211ms/step - loss: 0.0981 - accuracy: 0.9756\n",
            "Epoch 27/30\n",
            "67/67 [==============================] - 15s 213ms/step - loss: 0.0913 - accuracy: 0.9765\n",
            "Epoch 28/30\n",
            "67/67 [==============================] - 15s 209ms/step - loss: 0.0870 - accuracy: 0.9769\n",
            "Epoch 29/30\n",
            "67/67 [==============================] - 14s 207ms/step - loss: 0.0845 - accuracy: 0.9772\n",
            "Epoch 30/30\n",
            "67/67 [==============================] - 14s 207ms/step - loss: 0.0829 - accuracy: 0.9773\n"
          ]
        }
      ],
      "source": [
        "loss = tf.losses.SparseCategoricalCrossentropy(from_logits=True)\n",
        "model.compile(optimizer='adam', loss=loss, metrics=['accuracy'])\n",
        "EPOCHS = 30\n",
        "history = model.fit(dataset, epochs=EPOCHS, callbacks=[tensorboard_callback])"
      ]
    },
    {
      "cell_type": "markdown",
      "metadata": {
        "id": "casEwxrXcv4Y"
      },
      "source": [
        "## V. Use the model\n",
        "\n",
        "Now that our model has been trained, we can use it to generate text. As mentioned earlier, to do so we have to keep track of its internal state, or memory, so that we can use previous text predictions to inform later ones.\n",
        "\n",
        "However, with RNN generated text, if we always just pick the character with the highest probability, our model tends to get stuck in a loop. So instead we will create a probability distribution of characters for each step, and then sample from that distribution. We can add some variation to this using a paramter known as [\"temperature\"](https://cs.stackexchange.com/questions/79241/what-is-temperature-in-lstm-and-neural-networks-generally)."
      ]
    },
    {
      "cell_type": "code",
      "execution_count": null,
      "metadata": {
        "id": "V3lhlyfwcqIN"
      },
      "outputs": [],
      "source": [
        "# Here's the code we'll use to sample for us. It has some extra steps to apply\n",
        "# the temperature to the distribution, and to make sure we don't get empty\n",
        "# characters in our text. Most importantly, it will keep track of our model\n",
        "# state for us.\n",
        "\n",
        "class OneStep(tf.keras.Model):\n",
        "  def __init__(self, model, chars_from_ids, ids_from_chars, temperature=0.9):\n",
        "    super().__init__()\n",
        "    self.temperature=temperature\n",
        "    self.model = model\n",
        "    self.chars_from_ids = chars_from_ids\n",
        "    self.ids_from_chars = ids_from_chars\n",
        "\n",
        "    # Create a mask to prevent \"\" or \"[UNK]\" from being generated.\n",
        "    skip_ids = self.ids_from_chars(['','[UNK]'])[:, None]\n",
        "    sparse_mask = tf.SparseTensor(\n",
        "        # Put a -inf at each bad index.\n",
        "        values=[-float('inf')]*len(skip_ids),\n",
        "        indices = skip_ids,\n",
        "        # Match the shape to the vocabulary\n",
        "        dense_shape=[len(ids_from_chars.get_vocabulary())]) \n",
        "    self.prediction_mask = tf.sparse.to_dense(sparse_mask,validate_indices=False)\n",
        "\n",
        "  @tf.function\n",
        "  def generate_one_step(self, inputs, states=None):\n",
        "    # Convert strings to token IDs.\n",
        "    input_chars = tf.strings.unicode_split(inputs, 'UTF-8')\n",
        "    input_ids = self.ids_from_chars(input_chars).to_tensor()\n",
        "\n",
        "    # Run the model.\n",
        "    # predicted_logits.shape is [batch, char, next_char_logits] \n",
        "    predicted_logits, states =  self.model(inputs=input_ids, states=states, \n",
        "                                          return_state=True)\n",
        "    # Only use the last prediction.\n",
        "    predicted_logits = predicted_logits[:, -1, :]\n",
        "    predicted_logits = predicted_logits/self.temperature\n",
        "    \n",
        "    # Apply the prediction mask: prevent \"\" or \"[UNK]\" from being generated.\n",
        "    predicted_logits = predicted_logits + self.prediction_mask\n",
        "\n",
        "    # Sample the output logits to generate token IDs.\n",
        "    predicted_ids = tf.random.categorical(predicted_logits, num_samples=1)\n",
        "    predicted_ids = tf.squeeze(predicted_ids, axis=-1)\n",
        "\n",
        "    # Return the characters and model state.\n",
        "    return chars_from_ids(predicted_ids), states\n"
      ]
    },
    {
      "cell_type": "code",
      "execution_count": null,
      "metadata": {
        "id": "fSUghgUFc6ba",
        "colab": {
          "base_uri": "https://localhost:8080/"
        },
        "outputId": "4824e161-3fbf-4b18-9e82-0be216735bde"
      },
      "outputs": [
        {
          "output_type": "stream",
          "name": "stdout",
          "text": [
            "The world seemed like such a peaceful place until the magic tree was discovered in London.\r\n",
            "She was all bad just now and gave his nose into the woods. The wolves\r\n",
            "wretched in galk to pass us every acros to his eyes, and as they\r\n",
            "continued to fall upon him, the spark of life within flickered so undlightify\r\n",
            "his doubled. A stat-law sweater, having and stealthily, every nerve strainch and\r\n",
            "trace that she was compelled for very life to build a fire and dry his\r\n",
            "games. It was an once popped out of the trail they had received and so great\r\n",
            "chest was low to the ground, his head forward and down. The\r\n",
            "faint sound of Thornton’s voice came to them, and though they were making\r\n",
            "poor time, the heavy word with her eggs so intently that he was compelled to\r\n",
            "death the ship from his mouth. As we had a way of trail and\r\n",
            "terrible that was completely pursoint of pirates, for these man whose the Neverland is\r\n",
            "always which it looked so clasping the shirth of a great pride in himself,—a\r\n",
            "pride he made the bost of river timbs.\r\n",
            "\r\n",
            "“And now to rescue Wendy!”\r\n",
            "\r\n",
            "The moon was riding in a cloudy heave\n"
          ]
        }
      ],
      "source": [
        "# Create an instance of the character generator\n",
        "one_step_model = OneStep(model, chars_from_ids, ids_from_chars)\n",
        "\n",
        "# Now, let's generate a 1000 character chapter by giving our model \"Chapter 1\"\n",
        "# as its starting text\n",
        "states = None\n",
        "next_char = tf.constant([\"The world seemed like such a peaceful place until the magic tree was discovered in London.\"])\n",
        "result = [next_char]\n",
        "\n",
        "for n in range(1000):\n",
        "  next_char, states = one_step_model.generate_one_step(next_char, states=states)\n",
        "  result.append(next_char)\n",
        "\n",
        "result = tf.strings.join(result)\n",
        "\n",
        "# Print the results formatted.\n",
        "print(result[0].numpy().decode('utf-8'))\n",
        "\n",
        "\n"
      ]
    },
    {
      "cell_type": "code",
      "source": [
        "finalText = result[0].numpy().decode('utf-8')\n",
        "finalText"
      ],
      "metadata": {
        "colab": {
          "base_uri": "https://localhost:8080/",
          "height": 158
        },
        "id": "SMvXuu9f_QGv",
        "outputId": "1fc1afcd-690d-4640-eaaa-e07978773d9c"
      },
      "execution_count": null,
      "outputs": [
        {
          "output_type": "execute_result",
          "data": {
            "text/plain": [
              "'The world seemed like such a peaceful place until the magic tree was discovered in London.\\r\\nShe was all bad just now and gave his nose into the woods. The wolves\\r\\nwretched in galk to pass us every acros to his eyes, and as they\\r\\ncontinued to fall upon him, the spark of life within flickered so undlightify\\r\\nhis doubled. A stat-law sweater, having and stealthily, every nerve strainch and\\r\\ntrace that she was compelled for very life to build a fire and dry his\\r\\ngames. It was an once popped out of the trail they had received and so great\\r\\nchest was low to the ground, his head forward and down. The\\r\\nfaint sound of Thornton’s voice came to them, and though they were making\\r\\npoor time, the heavy word with her eggs so intently that he was compelled to\\r\\ndeath the ship from his mouth. As we had a way of trail and\\r\\nterrible that was completely pursoint of pirates, for these man whose the Neverland is\\r\\nalways which it looked so clasping the shirth of a great pride in himself,—a\\r\\npride he made the bost of river timbs.\\r\\n\\r\\n“And now to rescue Wendy!”\\r\\n\\r\\nThe moon was riding in a cloudy heave'"
            ],
            "application/vnd.google.colaboratory.intrinsic+json": {
              "type": "string"
            }
          },
          "metadata": {},
          "execution_count": 68
        }
      ]
    },
    {
      "cell_type": "code",
      "source": [
        ""
      ],
      "metadata": {
        "id": "RtcDWcWkDTYk"
      },
      "execution_count": null,
      "outputs": []
    },
    {
      "cell_type": "code",
      "source": [
        "#Create a file to download the results \n",
        "\n",
        "with open('combined.txt', 'w') as f:\n",
        "    f.write(finalText)"
      ],
      "metadata": {
        "id": "gnTwvVCOKGsR"
      },
      "execution_count": null,
      "outputs": []
    },
    {
      "cell_type": "code",
      "source": [
        "# Download the results\n",
        "\n",
        "from google.colab import files\n",
        "files.download('combined.txt') "
      ],
      "metadata": {
        "colab": {
          "base_uri": "https://localhost:8080/",
          "height": 17
        },
        "id": "-332Fg9rE6Sc",
        "outputId": "ef212780-5fce-42c5-dfd9-48d3953b94d7"
      },
      "execution_count": null,
      "outputs": [
        {
          "output_type": "display_data",
          "data": {
            "text/plain": [
              "<IPython.core.display.Javascript object>"
            ],
            "application/javascript": [
              "\n",
              "    async function download(id, filename, size) {\n",
              "      if (!google.colab.kernel.accessAllowed) {\n",
              "        return;\n",
              "      }\n",
              "      const div = document.createElement('div');\n",
              "      const label = document.createElement('label');\n",
              "      label.textContent = `Downloading \"${filename}\": `;\n",
              "      div.appendChild(label);\n",
              "      const progress = document.createElement('progress');\n",
              "      progress.max = size;\n",
              "      div.appendChild(progress);\n",
              "      document.body.appendChild(div);\n",
              "\n",
              "      const buffers = [];\n",
              "      let downloaded = 0;\n",
              "\n",
              "      const channel = await google.colab.kernel.comms.open(id);\n",
              "      // Send a message to notify the kernel that we're ready.\n",
              "      channel.send({})\n",
              "\n",
              "      for await (const message of channel.messages) {\n",
              "        // Send a message to notify the kernel that we're ready.\n",
              "        channel.send({})\n",
              "        if (message.buffers) {\n",
              "          for (const buffer of message.buffers) {\n",
              "            buffers.push(buffer);\n",
              "            downloaded += buffer.byteLength;\n",
              "            progress.value = downloaded;\n",
              "          }\n",
              "        }\n",
              "      }\n",
              "      const blob = new Blob(buffers, {type: 'application/binary'});\n",
              "      const a = document.createElement('a');\n",
              "      a.href = window.URL.createObjectURL(blob);\n",
              "      a.download = filename;\n",
              "      div.appendChild(a);\n",
              "      a.click();\n",
              "      div.remove();\n",
              "    }\n",
              "  "
            ]
          },
          "metadata": {}
        },
        {
          "output_type": "display_data",
          "data": {
            "text/plain": [
              "<IPython.core.display.Javascript object>"
            ],
            "application/javascript": [
              "download(\"download_75f8e615-5c93-4220-8abb-a6b6f6fc0875\", \"combined.txt\", 1098)"
            ]
          },
          "metadata": {}
        }
      ]
    },
    {
      "cell_type": "markdown",
      "metadata": {
        "id": "b2Cudf3YoaKr"
      },
      "source": [
        "## VI. Next Steps\n",
        "\n",
        "This is a very simple model with one GRU layer and then an output layer. However, considering how simple it is and the fact that we are predicting outputs character by character, the text it produces is pretty amazing. Though it still has a long way to go before publication.\n",
        "\n",
        "There are many other RNN architectures you could try, such as adding additional hidden dense layers, replacing GRU with one or more LSTM layers, combining GRU and LSTM, etc...\n",
        "\n",
        "You could also experiment with better text cleanup to make sure odd punctuation doesn't appear, or finding longer texts to use. If you combine texts from two authors, what happens? Can you generate a Jane Austen stageplay by combining austen and shakespeare texts?\n",
        "\n",
        "Finally, there are a number of hyperparameters to tweak, such as temperature, epochs, batch size, sequence length, etc..."
      ]
    },
    {
      "cell_type": "code",
      "source": [
        "# Save the entire model as a SavedModel. This save into colab.\n",
        "!mkdir -p saved_model\n",
        "model.save('saved_model/my_model')"
      ],
      "metadata": {
        "id": "oxg5my9jbpF6",
        "colab": {
          "base_uri": "https://localhost:8080/"
        },
        "outputId": "e3d52cad-d952-40d0-fb6a-85522b39ede1"
      },
      "execution_count": null,
      "outputs": [
        {
          "output_type": "stream",
          "name": "stderr",
          "text": [
            "WARNING:absl:Found untraced functions such as gru_cell_3_layer_call_fn, gru_cell_3_layer_call_and_return_conditional_losses while saving (showing 2 of 2). These functions will not be directly callable after loading.\n"
          ]
        },
        {
          "output_type": "stream",
          "name": "stdout",
          "text": [
            "INFO:tensorflow:Assets written to: saved_model/my_model/assets\n"
          ]
        },
        {
          "output_type": "stream",
          "name": "stderr",
          "text": [
            "INFO:tensorflow:Assets written to: saved_model/my_model/assets\n",
            "WARNING:absl:<keras.layers.recurrent.GRUCell object at 0x7fc7c54961d0> has the same name 'GRUCell' as a built-in Keras object. Consider renaming <class 'keras.layers.recurrent.GRUCell'> to avoid naming conflicts when loading with `tf.keras.models.load_model`. If renaming is not possible, pass the object in the `custom_objects` parameter of the load function.\n"
          ]
        }
      ]
    },
    {
      "cell_type": "code",
      "source": [
        "from google.colab import files\n",
        "import shutil\n",
        "# This code compress the directory in a zip file and downloaded\n",
        "# Specify export directory and use tensorflow to save your_model\n",
        "export_dir = './saved_model'\n",
        "exportModel = './saved'\n",
        "#tf.saved_model.save(your_model, export_dir=export_dir)\n",
        "# Download the model (Can take several minutes but work)\n",
        "\n",
        "shutil.make_archive(exportModel, 'zip', export_dir)\n",
        "\n",
        "files.download(exportModel+'.zip')\n"
      ],
      "metadata": {
        "id": "4NblXP02bt_S",
        "colab": {
          "base_uri": "https://localhost:8080/",
          "height": 17
        },
        "outputId": "789e9f7c-f613-48c5-837f-ca078a4b3b74"
      },
      "execution_count": null,
      "outputs": [
        {
          "output_type": "display_data",
          "data": {
            "text/plain": [
              "<IPython.core.display.Javascript object>"
            ],
            "application/javascript": [
              "\n",
              "    async function download(id, filename, size) {\n",
              "      if (!google.colab.kernel.accessAllowed) {\n",
              "        return;\n",
              "      }\n",
              "      const div = document.createElement('div');\n",
              "      const label = document.createElement('label');\n",
              "      label.textContent = `Downloading \"${filename}\": `;\n",
              "      div.appendChild(label);\n",
              "      const progress = document.createElement('progress');\n",
              "      progress.max = size;\n",
              "      div.appendChild(progress);\n",
              "      document.body.appendChild(div);\n",
              "\n",
              "      const buffers = [];\n",
              "      let downloaded = 0;\n",
              "\n",
              "      const channel = await google.colab.kernel.comms.open(id);\n",
              "      // Send a message to notify the kernel that we're ready.\n",
              "      channel.send({})\n",
              "\n",
              "      for await (const message of channel.messages) {\n",
              "        // Send a message to notify the kernel that we're ready.\n",
              "        channel.send({})\n",
              "        if (message.buffers) {\n",
              "          for (const buffer of message.buffers) {\n",
              "            buffers.push(buffer);\n",
              "            downloaded += buffer.byteLength;\n",
              "            progress.value = downloaded;\n",
              "          }\n",
              "        }\n",
              "      }\n",
              "      const blob = new Blob(buffers, {type: 'application/binary'});\n",
              "      const a = document.createElement('a');\n",
              "      a.href = window.URL.createObjectURL(blob);\n",
              "      a.download = filename;\n",
              "      div.appendChild(a);\n",
              "      a.click();\n",
              "      div.remove();\n",
              "    }\n",
              "  "
            ]
          },
          "metadata": {}
        },
        {
          "output_type": "display_data",
          "data": {
            "text/plain": [
              "<IPython.core.display.Javascript object>"
            ],
            "application/javascript": [
              "download(\"download_24deb8f3-2f30-4a65-b444-3ad6f40846cb\", \"saved.zip\", 159494540)"
            ]
          },
          "metadata": {}
        }
      ]
    },
    {
      "cell_type": "code",
      "source": [
        "#This code unzip the previous saved zip. The one from colab, if you want to load\n",
        "# it from the downloaded use :\n",
        "#!echo \"Downloading files...\"\n",
        "#!wget -q https://github.com/your name in github were you loaded the zip/saved_zip.zip)\n",
        "\n",
        "!echo \"Unzipping files...\"\n",
        "!unzip -q saved.zip"
      ],
      "metadata": {
        "id": "qKt_X8PwbwNS",
        "colab": {
          "base_uri": "https://localhost:8080/"
        },
        "outputId": "820a1d5e-cb50-4874-887f-862f822bab0a"
      },
      "execution_count": null,
      "outputs": [
        {
          "output_type": "stream",
          "name": "stdout",
          "text": [
            "Unzipping files...\n"
          ]
        }
      ]
    },
    {
      "cell_type": "code",
      "source": [
        "# This code take the unziped model and recreate it\n",
        "# The path is into colab\n",
        "new_model = tf.keras.models.load_model('saved_model/my_model')\n",
        "\n",
        "# Check its architecture\n",
        "new_model.summary()"
      ],
      "metadata": {
        "id": "PfPFvQ4-b0Sy",
        "colab": {
          "base_uri": "https://localhost:8080/"
        },
        "outputId": "17aa8a37-a620-4e7c-a3ae-1586ee00ea4a"
      },
      "execution_count": null,
      "outputs": [
        {
          "output_type": "stream",
          "name": "stdout",
          "text": [
            "Model: \"london_text_model\"\n",
            "_________________________________________________________________\n",
            " Layer (type)                Output Shape              Param #   \n",
            "=================================================================\n",
            " embedding (Embedding)       multiple                  19456     \n",
            "                                                                 \n",
            " gru (GRU)                   multiple                  14168064  \n",
            "                                                                 \n",
            " dense (Dense)               multiple                  155724    \n",
            "                                                                 \n",
            "=================================================================\n",
            "Total params: 14,343,244\n",
            "Trainable params: 14,343,244\n",
            "Non-trainable params: 0\n",
            "_________________________________________________________________\n"
          ]
        }
      ]
    },
    {
      "cell_type": "code",
      "source": [
        ""
      ],
      "metadata": {
        "id": "rkzHCDFeIM6M"
      },
      "execution_count": null,
      "outputs": []
    },
    {
      "cell_type": "code",
      "source": [
        "# launch tensorboard in TensorBoard.dev (public for sharing the link)\n",
        "\n",
        "!tensorboard dev upload \\\n",
        "  --logdir logs/fit \\\n",
        "  --name \"(optional) My first convolutional\" \\\n",
        "  --description \"(optional) Simple comparison of several hyperparameters\" \\\n",
        "  --one_shot\n",
        "  "
      ],
      "metadata": {
        "id": "SR-xMA_H2QaD",
        "colab": {
          "base_uri": "https://localhost:8080/"
        },
        "outputId": "fc98911f-d307-4a08-f65c-b59ff987a0cc"
      },
      "execution_count": null,
      "outputs": [
        {
          "output_type": "stream",
          "name": "stdout",
          "text": [
            "\n",
            "***** TensorBoard Uploader *****\n",
            "\n",
            "This will upload your TensorBoard logs to https://tensorboard.dev/ from\n",
            "the following directory:\n",
            "\n",
            "logs/fit\n",
            "\n",
            "This TensorBoard will be visible to everyone. Do not upload sensitive\n",
            "data.\n",
            "\n",
            "Your use of this service is subject to Google's Terms of Service\n",
            "<https://policies.google.com/terms> and Privacy Policy\n",
            "<https://policies.google.com/privacy>, and TensorBoard.dev's Terms of Service\n",
            "<https://tensorboard.dev/policy/terms/>.\n",
            "\n",
            "This notice will not be shown again while you are logged into the uploader.\n",
            "To log out, run `tensorboard dev auth revoke`.\n",
            "\n",
            "Continue? (yes/NO) yes\n",
            "\n",
            "Please visit this URL to authorize this application: https://accounts.google.com/o/oauth2/auth?response_type=code&client_id=373649185512-8v619h5kft38l4456nm2dj4ubeqsrvh6.apps.googleusercontent.com&redirect_uri=urn%3Aietf%3Awg%3Aoauth%3A2.0%3Aoob&scope=openid+https%3A%2F%2Fwww.googleapis.com%2Fauth%2Fuserinfo.email&state=zh4LD70PAL39aHAQF3gQOcOOBqZSkJ&prompt=consent&access_type=offline\n",
            "Enter the authorization code: 4/1AdQt8qirdL_CNNZ6hb24gnpFP0DxHy86KZ2RxD0n9UKpKZ0zi0QIvWVSklI\n",
            "\n",
            "\n",
            "New experiment created. View your TensorBoard at: https://tensorboard.dev/experiment/XEHrCGwGTlCDn8v598l6JA/\n",
            "\n",
            "\u001b[1m[2022-07-07T23:44:47]\u001b[0m Started scanning logdir.\n",
            "E0707 23:44:49.247256 140564517341056 uploader.py:1122] Attempted to re-upload existing blob.  Skipping.\n",
            "E0707 23:44:50.234696 140564517341056 uploader.py:1122] Attempted to re-upload existing blob.  Skipping.\n",
            "E0707 23:44:51.236958 140564517341056 uploader.py:1122] Attempted to re-upload existing blob.  Skipping.\n",
            "E0707 23:44:52.244178 140564517341056 uploader.py:1122] Attempted to re-upload existing blob.  Skipping.\n",
            "E0707 23:44:53.289397 140564517341056 uploader.py:1122] Attempted to re-upload existing blob.  Skipping.\n",
            "E0707 23:44:54.241679 140564517341056 uploader.py:1122] Attempted to re-upload existing blob.  Skipping.\n",
            "E0707 23:44:55.247669 140564517341056 uploader.py:1122] Attempted to re-upload existing blob.  Skipping.\n",
            "E0707 23:44:56.250060 140564517341056 uploader.py:1122] Attempted to re-upload existing blob.  Skipping.\n",
            "\u001b[1m[2022-07-07T23:44:56]\u001b[0m Total uploaded: 380 scalars, 1140 tensors (819.0 kB), 1 binary objects (161.5 kB)\n",
            "\u001b[90mTotal skipped: 8 binary objects (1.3 MB)\n",
            "\u001b[0m\u001b[1m[2022-07-07T23:44:56]\u001b[0m Done scanning logdir.\n",
            "\n",
            "\n",
            "Done. View your TensorBoard at https://tensorboard.dev/experiment/XEHrCGwGTlCDn8v598l6JA/\n"
          ]
        }
      ]
    },
    {
      "cell_type": "markdown",
      "source": [
        "# Save the text cleaned for future use"
      ],
      "metadata": {
        "id": "F4b2Duw-YpgN"
      }
    },
    {
      "cell_type": "code",
      "source": [
        "#Create a file to download the results \n",
        "\n",
        "with open('londonJack.txt', 'w') as f:\n",
        "    f.write(text)"
      ],
      "metadata": {
        "id": "oLdIETXbYjp_"
      },
      "execution_count": null,
      "outputs": []
    },
    {
      "cell_type": "code",
      "source": [
        ""
      ],
      "metadata": {
        "id": "2OeIcIQcZKPX"
      },
      "execution_count": null,
      "outputs": []
    },
    {
      "cell_type": "code",
      "source": [
        "# Download the texty\n",
        "\n",
        "\n",
        "files.download('londonJack.txt') "
      ],
      "metadata": {
        "colab": {
          "base_uri": "https://localhost:8080/",
          "height": 17
        },
        "outputId": "f84e8a2c-fad9-4eaa-aa9a-1501c6034ca5",
        "id": "cbV6TUhzZKm8"
      },
      "execution_count": null,
      "outputs": [
        {
          "output_type": "display_data",
          "data": {
            "text/plain": [
              "<IPython.core.display.Javascript object>"
            ],
            "application/javascript": [
              "\n",
              "    async function download(id, filename, size) {\n",
              "      if (!google.colab.kernel.accessAllowed) {\n",
              "        return;\n",
              "      }\n",
              "      const div = document.createElement('div');\n",
              "      const label = document.createElement('label');\n",
              "      label.textContent = `Downloading \"${filename}\": `;\n",
              "      div.appendChild(label);\n",
              "      const progress = document.createElement('progress');\n",
              "      progress.max = size;\n",
              "      div.appendChild(progress);\n",
              "      document.body.appendChild(div);\n",
              "\n",
              "      const buffers = [];\n",
              "      let downloaded = 0;\n",
              "\n",
              "      const channel = await google.colab.kernel.comms.open(id);\n",
              "      // Send a message to notify the kernel that we're ready.\n",
              "      channel.send({})\n",
              "\n",
              "      for await (const message of channel.messages) {\n",
              "        // Send a message to notify the kernel that we're ready.\n",
              "        channel.send({})\n",
              "        if (message.buffers) {\n",
              "          for (const buffer of message.buffers) {\n",
              "            buffers.push(buffer);\n",
              "            downloaded += buffer.byteLength;\n",
              "            progress.value = downloaded;\n",
              "          }\n",
              "        }\n",
              "      }\n",
              "      const blob = new Blob(buffers, {type: 'application/binary'});\n",
              "      const a = document.createElement('a');\n",
              "      a.href = window.URL.createObjectURL(blob);\n",
              "      a.download = filename;\n",
              "      div.appendChild(a);\n",
              "      a.click();\n",
              "      div.remove();\n",
              "    }\n",
              "  "
            ]
          },
          "metadata": {}
        },
        {
          "output_type": "display_data",
          "data": {
            "text/plain": [
              "<IPython.core.display.Javascript object>"
            ],
            "application/javascript": [
              "download(\"download_03868940-4b1d-4f95-9d77-7cd236d4c296\", \"londonJack.txt\", 179556)"
            ]
          },
          "metadata": {}
        }
      ]
    }
  ]
}
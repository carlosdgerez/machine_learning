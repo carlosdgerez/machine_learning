{
  "nbformat": 4,
  "nbformat_minor": 0,
  "metadata": {
    "colab": {
      "name": "2gru.ipynb",
      "provenance": [],
      "include_colab_link": true
    },
    "kernelspec": {
      "name": "python3",
      "display_name": "Python 3"
    },
    "language_info": {
      "name": "python"
    },
    "accelerator": "GPU",
    "gpuClass": "standard"
  },
  "cells": [
    {
      "cell_type": "markdown",
      "metadata": {
        "id": "view-in-github",
        "colab_type": "text"
      },
      "source": [
        "<a href=\"https://colab.research.google.com/github/carlosdgerez/machine_learning/blob/main/module6/2gru.ipynb\" target=\"_parent\"><img src=\"https://colab.research.google.com/assets/colab-badge.svg\" alt=\"Open In Colab\"/></a>"
      ]
    },
    {
      "cell_type": "code",
      "execution_count": null,
      "metadata": {
        "id": "gLgPgijUAhEA"
      },
      "outputs": [],
      "source": [
        ""
      ]
    },
    {
      "cell_type": "code",
      "execution_count": 1,
      "metadata": {
        "id": "XtiXE04uGB_U"
      },
      "outputs": [],
      "source": [
        "# Import libraries\n",
        "import tensorflow as tf\n",
        "from tensorflow.keras.layers.experimental import preprocessing\n",
        "\n",
        "import numpy as np\n",
        "import os\n",
        "import time"
      ]
    },
    {
      "cell_type": "markdown",
      "metadata": {
        "id": "qv4r-dKnSRKz"
      },
      "source": [
        "## I. Parse Text Sources\n",
        "First we'll load our text sources and create our vocabulary lists and encoders. \n",
        "\n",
        "There are ways we could do this in pure python, but using the tensorflow data structures and libraries allow us to keep things super-optimized."
      ]
    },
    {
      "cell_type": "code",
      "execution_count": 2,
      "metadata": {
        "colab": {
          "base_uri": "https://localhost:8080/"
        },
        "id": "H8RbnIjwHGoR",
        "outputId": "f141a097-81ab-484d-8c10-e3bbf0a6f6e4"
      },
      "outputs": [
        {
          "output_type": "stream",
          "name": "stdout",
          "text": [
            "Downloading data from https://www.gutenberg.org/files/215/215-0.txt\n",
            "204800/200109 [==============================] - 0s 0us/step\n",
            "212992/200109 [===============================] - 0s 0us/step\n",
            "Length of text: 198823 characters\n"
          ]
        }
      ],
      "source": [
        "# Load file data\n",
        "path_to_file = tf.keras.utils.get_file('london.txt', 'https://www.gutenberg.org/files/215/215-0.txt')\n",
        "text = open(path_to_file, 'rb').read().decode(encoding='utf-8')\n",
        "print('Length of text: {} characters'.format(len(text)))"
      ]
    },
    {
      "cell_type": "code",
      "execution_count": 3,
      "metadata": {
        "colab": {
          "base_uri": "https://localhost:8080/"
        },
        "id": "2XRnt0XUHUrq",
        "outputId": "55edf449-ba5f-4f41-bd0b-2a4f60a1ea15"
      },
      "outputs": [
        {
          "output_type": "stream",
          "name": "stdout",
          "text": [
            "﻿\r\n",
            "The Project Gutenberg EBook of The Call of the Wild, by Jack London\r\n",
            "\r\n",
            "This eBook is for the use of anyone anywhere in the United States and most\r\n",
            "other parts of the world at no cost and with almost no restrictions\r\n",
            "whatsoever.  You may copy it, give it away or re-use it under the terms of\r\n",
            "the Project Gutenberg License included with this eBook or online at\r\n",
            "www.gutenberg.org.  If you are not located in the United States, you'll have\r\n",
            "to check the laws of the country where you are located before using this ebook.\r\n",
            "\r\n",
            "Title: The Call of the Wild\r\n",
            "\r\n",
            "Author: Jack London\r\n",
            "\r\n",
            "Release Date: July 1, 2008 [EBook #215]\r\n",
            "Last updated: August 30, 2019\r\n",
            "\r\n",
            "Language: English\r\n",
            "\r\n",
            "Character set encoding: UTF-8\r\n",
            "\r\n",
            "*** START OF THIS PROJECT GUTENBERG EBOOK THE CALL OF THE WILD ***\r\n",
            "\r\n",
            "\r\n",
            "\r\n",
            "\r\n",
            "Produced by Ryan, Kirstin, Linda and Rick Trapp, and David Widger\r\n",
            "\r\n",
            "\r\n",
            "\r\n",
            "\r\n",
            "cover \r\n",
            "\r\n",
            "\r\n",
            "\r\n",
            "The Call of the Wild\r\n",
            "\r\n",
            "\r\n",
            "\r\n",
            "by Jack London\r\n",
            "\r\n",
            "\r\n",
            "\r\n",
            "Contents\r\n",
            "\r\n",
            "\r\n",
            " Chapter I. Into the Primitive\r\n",
            " Chapter II. The Law of Club and Fang\r\n",
            " Chapter III. The Dominant Primordial Beast\r\n",
            " Chapter IV. Who Has Won to Mastership\r\n",
            " Chapter V. The Toil of Trace\r\n",
            " Chapter VI. For the Love of a Man\r\n",
            " Chapter VII. The Sounding of the Call\r\n",
            "\r\n"
          ]
        }
      ],
      "source": [
        "# Verify the first part of our data\n",
        "print(text[:1200])"
      ]
    },
    {
      "cell_type": "code",
      "execution_count": 4,
      "metadata": {
        "colab": {
          "base_uri": "https://localhost:8080/"
        },
        "id": "2SLd7l0HP1Po",
        "outputId": "4f655de1-d1b9-4187-8a41-f2fabaf69f61"
      },
      "outputs": [
        {
          "output_type": "stream",
          "name": "stdout",
          "text": [
            "93 unique characters\n",
            "['\\n', '\\r', ' ', '!', '\"', '#', '$', '%', \"'\", '(', ')', '*', ',', '-', '.', '/', '0', '1', '2', '3', '4', '5', '6', '7', '8', '9', ':', ';', '?', '@', 'A', 'B', 'C', 'D', 'E', 'F', 'G', 'H', 'I', 'J', 'K', 'L', 'M', 'N', 'O', 'P', 'Q', 'R', 'S', 'T', 'U', 'V', 'W', 'X', 'Y', '[', ']', '_', 'a', 'b', 'c', 'd', 'e', 'f', 'g', 'h', 'i', 'j', 'k', 'l', 'm', 'n', 'o', 'p', 'q', 'r', 's', 't', 'u', 'v', 'w', 'x', 'y', 'z', 'ç', 'ñ', 'œ', '—', '‘', '’', '“', '”', '\\ufeff']\n"
          ]
        }
      ],
      "source": [
        "# Now we'll get a list of the unique characters in the file. This will form the\n",
        "# vocabulary of our network. There may be some characters we want to remove from this \n",
        "# set as we refine the network.\n",
        "vocab = sorted(set(text))\n",
        "print('{} unique characters'.format(len(vocab)))\n",
        "print(vocab)"
      ]
    },
    {
      "cell_type": "code",
      "execution_count": 5,
      "metadata": {
        "id": "NtjOxL7wQibb"
      },
      "outputs": [],
      "source": [
        "# Next, we'll encode encode these characters into numbers so we can use them\n",
        "# with our neural network, then we'll create some mappings between the characters\n",
        "# and their numeric representations\n",
        "ids_from_chars = preprocessing.StringLookup(vocabulary=list(vocab))\n",
        "chars_from_ids = tf.keras.layers.experimental.preprocessing.StringLookup(vocabulary=ids_from_chars.get_vocabulary(), invert=True)\n",
        "\n",
        "# Here's a little helper function that we can use to turn a sequence of ids\n",
        "# back into a string:\n",
        "# turn them into a string:\n",
        "def text_from_ids(ids):\n",
        "  joinedTensor = tf.strings.reduce_join(chars_from_ids(ids), axis=-1)\n",
        "  return joinedTensor.numpy().decode(\"utf-8\")"
      ]
    },
    {
      "cell_type": "code",
      "execution_count": 6,
      "metadata": {
        "colab": {
          "base_uri": "https://localhost:8080/"
        },
        "id": "52bkemreRw8q",
        "outputId": "51b9b9fa-7a11-450f-be83-c28ecc7217b5"
      },
      "outputs": [
        {
          "output_type": "execute_result",
          "data": {
            "text/plain": [
              "<tf.Tensor: shape=(5,), dtype=int64, numpy=array([50, 76, 79, 78, 66])>"
            ]
          },
          "metadata": {},
          "execution_count": 6
        }
      ],
      "source": [
        "# Now we'll verify that they work, by getting the code for \"A\", and then looking\n",
        "# that up in reverse\n",
        "testids = ids_from_chars([\"T\", \"r\", \"u\", \"t\", \"h\"])\n",
        "testids"
      ]
    },
    {
      "cell_type": "code",
      "execution_count": 7,
      "metadata": {
        "colab": {
          "base_uri": "https://localhost:8080/"
        },
        "id": "vGUnSHjtD_IJ",
        "outputId": "7dacd4b1-f845-448a-c5b1-276264f8bad6"
      },
      "outputs": [
        {
          "output_type": "execute_result",
          "data": {
            "text/plain": [
              "<tf.Tensor: shape=(5,), dtype=string, numpy=array([b'T', b'r', b'u', b't', b'h'], dtype=object)>"
            ]
          },
          "metadata": {},
          "execution_count": 7
        }
      ],
      "source": [
        "chars_from_ids(testids)"
      ]
    },
    {
      "cell_type": "code",
      "execution_count": 8,
      "metadata": {
        "colab": {
          "base_uri": "https://localhost:8080/",
          "height": 35
        },
        "id": "8rghkpLLLjL5",
        "outputId": "4bb9e730-b34a-4a3a-db3f-8916d6b7edff"
      },
      "outputs": [
        {
          "output_type": "execute_result",
          "data": {
            "text/plain": [
              "'Truth'"
            ],
            "application/vnd.google.colaboratory.intrinsic+json": {
              "type": "string"
            }
          },
          "metadata": {},
          "execution_count": 8
        }
      ],
      "source": [
        "testString = text_from_ids( testids )\n",
        "testString"
      ]
    },
    {
      "cell_type": "markdown",
      "metadata": {
        "id": "MRXMVqTcSpA0"
      },
      "source": [
        "## II. Construct our training data\n",
        "Next we need to construct our training data by building sentence chunks. Each chunk will consist of a sequence of characters and a corresponding \"next sequence\" of the same length showing what would happen if we move forward in the text. This \"next sequence\" becomes our target variable.\n",
        "\n",
        "For example, if this were our text:\n",
        "\n",
        "> It is a truth universally acknowledged, that a single man in possession\n",
        "of a good fortune, must be in want of a wife.\n",
        "\n",
        "And our sequence length was 10 with a step size of 1, our first chunk would be:\n",
        "\n",
        "* Sequence: `It is a tr`\n",
        "* Next Sequence: `t is a tru`\n",
        "\n",
        "Our second chunk would be:\n",
        "\n",
        "* Sequence: `t is a tru`\n",
        "* Next Word: ` is a trut`\n",
        "\n"
      ]
    },
    {
      "cell_type": "code",
      "execution_count": 9,
      "metadata": {
        "colab": {
          "base_uri": "https://localhost:8080/"
        },
        "id": "5PLJWOg2P_fE",
        "outputId": "29d89e18-38d3-4a98-fddb-8227781b9a33"
      },
      "outputs": [
        {
          "output_type": "execute_result",
          "data": {
            "text/plain": [
              "<tf.Tensor: shape=(198823,), dtype=int64, numpy=array([93,  2,  1, ...,  1,  2,  1])>"
            ]
          },
          "metadata": {},
          "execution_count": 9
        }
      ],
      "source": [
        "# First, create a stream of encoded integers from our text\n",
        "all_ids = ids_from_chars(tf.strings.unicode_split(text, 'UTF-8'))\n",
        "all_ids"
      ]
    },
    {
      "cell_type": "code",
      "execution_count": 10,
      "metadata": {
        "id": "-nBqVY6pFpZs"
      },
      "outputs": [],
      "source": [
        "# Now, convert that into a tensorflow dataset\n",
        "ids_dataset = tf.data.Dataset.from_tensor_slices(all_ids)"
      ]
    },
    {
      "cell_type": "code",
      "execution_count": 11,
      "metadata": {
        "id": "8Fr28CJxUBtG"
      },
      "outputs": [],
      "source": [
        "# Finally, let's batch these sequences up into chunks for our training\n",
        "seq_length = 1000\n",
        "sequences = ids_dataset.batch(seq_length+1, drop_remainder=True)\n",
        "\n",
        "# This function will generate our sequence pairs:\n",
        "def split_input_target(sequence):\n",
        "    input_text = sequence[:-1]\n",
        "    target_text = sequence[1:]\n",
        "    return input_text, target_text\n",
        "\n",
        "# Call the function for every sequence in our list to create a new dataset\n",
        "# of input->target pairs\n",
        "dataset = sequences.map(split_input_target)"
      ]
    },
    {
      "cell_type": "code",
      "execution_count": 12,
      "metadata": {
        "colab": {
          "base_uri": "https://localhost:8080/"
        },
        "id": "poNVukmsUFkq",
        "outputId": "5eba943d-590b-4b86-9f43-bee2299d0be6"
      },
      "outputs": [
        {
          "output_type": "stream",
          "name": "stdout",
          "text": [
            "Input:  ﻿\r\n",
            "The Project Gutenberg EBook of The Call of the Wild, by Jack London\r\n",
            "\r\n",
            "This eBook is for the use of anyone anywhere in the United States and most\r\n",
            "other parts of the world at no cost and with almost no restrictions\r\n",
            "whatsoever.  You may copy it, give it away or re-use it under the terms of\r\n",
            "the Project Gutenberg License included with this eBook or online at\r\n",
            "www.gutenberg.org.  If you are not located in the United States, you'll have\r\n",
            "to check the laws of the country where you are located before using this ebook.\r\n",
            "\r\n",
            "Title: The Call of the Wild\r\n",
            "\r\n",
            "Author: Jack London\r\n",
            "\r\n",
            "Release Date: July 1, 2008 [EBook #215]\r\n",
            "Last updated: August 30, 2019\r\n",
            "\r\n",
            "Language: English\r\n",
            "\r\n",
            "Character set encoding: UTF-8\r\n",
            "\r\n",
            "*** START OF THIS PROJECT GUTENBERG EBOOK THE CALL OF THE WILD ***\r\n",
            "\r\n",
            "\r\n",
            "\r\n",
            "\r\n",
            "Produced by Ryan, Kirstin, Linda and Rick Trapp, and David Widger\r\n",
            "\r\n",
            "\r\n",
            "\r\n",
            "\r\n",
            "cover \r\n",
            "\r\n",
            "\r\n",
            "\r\n",
            "The Call of the Wild\r\n",
            "\r\n",
            "\r\n",
            "\r\n",
            "by Jack London\r\n",
            "\r\n",
            "\r\n",
            "\r\n",
            "Contents\r\n",
            "\r\n",
            "\r\n",
            " Chapter I. Into the Primitive\r\n",
            " Chapter II. The Law of Club and\n",
            "--------\n",
            "Target:  \r\n",
            "The Project Gutenberg EBook of The Call of the Wild, by Jack London\r\n",
            "\r\n",
            "This eBook is for the use of anyone anywhere in the United States and most\r\n",
            "other parts of the world at no cost and with almost no restrictions\r\n",
            "whatsoever.  You may copy it, give it away or re-use it under the terms of\r\n",
            "the Project Gutenberg License included with this eBook or online at\r\n",
            "www.gutenberg.org.  If you are not located in the United States, you'll have\r\n",
            "to check the laws of the country where you are located before using this ebook.\r\n",
            "\r\n",
            "Title: The Call of the Wild\r\n",
            "\r\n",
            "Author: Jack London\r\n",
            "\r\n",
            "Release Date: July 1, 2008 [EBook #215]\r\n",
            "Last updated: August 30, 2019\r\n",
            "\r\n",
            "Language: English\r\n",
            "\r\n",
            "Character set encoding: UTF-8\r\n",
            "\r\n",
            "*** START OF THIS PROJECT GUTENBERG EBOOK THE CALL OF THE WILD ***\r\n",
            "\r\n",
            "\r\n",
            "\r\n",
            "\r\n",
            "Produced by Ryan, Kirstin, Linda and Rick Trapp, and David Widger\r\n",
            "\r\n",
            "\r\n",
            "\r\n",
            "\r\n",
            "cover \r\n",
            "\r\n",
            "\r\n",
            "\r\n",
            "The Call of the Wild\r\n",
            "\r\n",
            "\r\n",
            "\r\n",
            "by Jack London\r\n",
            "\r\n",
            "\r\n",
            "\r\n",
            "Contents\r\n",
            "\r\n",
            "\r\n",
            " Chapter I. Into the Primitive\r\n",
            " Chapter II. The Law of Club and \n"
          ]
        }
      ],
      "source": [
        "# Verify our sequences\n",
        "for input_example, target_example in  dataset.take(1):\n",
        "    print(\"Input: \", text_from_ids(input_example))\n",
        "    print(\"--------\")\n",
        "    print(\"Target: \", text_from_ids(target_example))"
      ]
    },
    {
      "cell_type": "code",
      "execution_count": 13,
      "metadata": {
        "colab": {
          "base_uri": "https://localhost:8080/"
        },
        "id": "QDdr6xfZYa0o",
        "outputId": "5c8ca40d-6c21-4e9a-a7d5-b54a5ef66afb"
      },
      "outputs": [
        {
          "output_type": "execute_result",
          "data": {
            "text/plain": [
              "<PrefetchDataset element_spec=(TensorSpec(shape=(64, 1000), dtype=tf.int64, name=None), TensorSpec(shape=(64, 1000), dtype=tf.int64, name=None))>"
            ]
          },
          "metadata": {},
          "execution_count": 13
        }
      ],
      "source": [
        "# Finally, we'll randomize the sequences so that we don't just memorize the books\n",
        "# in the order they were written, then build a new streaming dataset from that.\n",
        "# Using a streaming dataset allows us to pass the data to our network bit by bit,\n",
        "# rather than keeping it all in memory. We'll set it to figure out how much data\n",
        "# to prefetch in the background.\n",
        "\n",
        "BATCH_SIZE = 64\n",
        "BUFFER_SIZE = 10000\n",
        "\n",
        "dataset = (\n",
        "    dataset\n",
        "    .shuffle(BUFFER_SIZE)\n",
        "    .batch(BATCH_SIZE, drop_remainder=True)\n",
        "    .prefetch(tf.data.experimental.AUTOTUNE))\n",
        "\n",
        "dataset"
      ]
    },
    {
      "cell_type": "markdown",
      "metadata": {
        "id": "0VQ-KjEeZMzd"
      },
      "source": [
        "## III. Build the model\n",
        "\n",
        "Next, we'll build our model. Up until this point, you've been using the Keras symbolic, or imperative API for creating your models. Doing something like:\n",
        "\n",
        "    model = tf.keras.models.Sequentla()\n",
        "    model.add(tf.keras.layers.Dense(80, activation='relu))\n",
        "    etc...\n",
        "\n",
        "However, tensorflow has another way to build models called the Functional API, which gives us a lot more control over what happens inside the model. You can read more about [the differences and when to use each here](https://blog.tensorflow.org/2019/01/what-are-symbolic-and-imperative-apis.html).\n",
        "\n",
        "We'll use the functional API for our RNN in this example. This will involve defining our model as a custom subclass of `tf.keras.Model`.\n",
        "\n",
        "If you're not familiar with classes in python, you might want to review [this quick tutorial](https://www.w3schools.com/python/python_classes.asp), as well as [this one on class inheritance](https://www.w3schools.com/python/python_inheritance.asp).\n",
        "\n",
        "Using a functional model is important for our situation because we're not just training it to predict a single character for a single sequence, but as we make predictions with it, we need it to remember those predictions as use that memory as it makes new predictions.\n"
      ]
    },
    {
      "cell_type": "code",
      "execution_count": 41,
      "metadata": {
        "id": "Fj4uh9y-Y9mx"
      },
      "outputs": [],
      "source": [
        "# Create our custom model. Given a sequence of characters, this\n",
        "# model's job is to predict what character should come next.\n",
        "class AustenTextModel(tf.keras.Model):\n",
        "\n",
        "  # This is our class constructor method, it will be executed when\n",
        "  # we first create an instance of the class \n",
        "  def __init__(self, vocab_size, embedding_dim, rnn_units):\n",
        "    super().__init__(self)\n",
        "\n",
        "    # Our model will have three layers:\n",
        "    \n",
        "    # 1. An embedding layer that handles the encoding of our vocabulary into\n",
        "    #    a vector of values suitable for a neural network\n",
        "    self.embedding = tf.keras.layers.Embedding(vocab_size, embedding_dim)\n",
        "\n",
        "    # 2. A GRU layer that handles the \"memory\" aspects of our RNN. If you're\n",
        "    #    wondering why we use GRU instead of LSTM, and whether LSTM is better,\n",
        "    #    take a look at this article: https://datascience.stackexchange.com/questions/14581/when-to-use-gru-over-lstm\n",
        "    #    then consider trying out LSTM instead (or in addition to!)\n",
        "    self.gru = tf.keras.layers.GRU(rnn_units, return_sequences=True, return_state=True, dropout=0.25)\n",
        "    self.grusecond= tf.keras.layers.GRU(rnn_units, return_sequences=True,return_state=True, dropout=0.25)\n",
        "    # 3. Our output layer that will give us a set of probabilities for each\n",
        "    #    character in our vocabulary.\n",
        "    self.dense = tf.keras.layers.Dense(vocab_size)\n",
        "\n",
        "  # This function will be executed for each epoch of our training. Here\n",
        "  # we will manually feed information from one layer of our network to the \n",
        "  # next.\n",
        "  def call(self, inputs, states=None, return_state=False, training=False):\n",
        "    x = inputs\n",
        "\n",
        "    # 1. Feed the inputs into the embedding layer, and tell it if we are\n",
        "    #    training or predicting\n",
        "    x = self.embedding(x, training=training)\n",
        "\n",
        "    # 2. If we don't have any state in memory yet, get the initial random state\n",
        "    #    from our GRUI layer.\n",
        "    if states is None:\n",
        "      states = self.gru.get_initial_state(x)\n",
        "    \n",
        "    # 3. Now, feed the vectorized input along with the current state of memory\n",
        "    #    into the gru layer.\n",
        "    x, states = self.gru(x, initial_state=states, training=training)\n",
        " \n",
        "    x, states = self.grusecond(x, initial_state=states, training=training)\n",
        "    # 4. Finally, pass the results on to the dense layer\n",
        "    x = self.dense(x, training=training)\n",
        "\n",
        "    # 5. Return the results\n",
        "    if return_state:\n",
        "      return x, states\n",
        "    else: \n",
        "      return x"
      ]
    },
    {
      "cell_type": "code",
      "execution_count": 42,
      "metadata": {
        "id": "UA2C6pxZc4De"
      },
      "outputs": [],
      "source": [
        "# Create an instance of our model\n",
        "vocab_size=len(ids_from_chars.get_vocabulary())\n",
        "embedding_dim = 256\n",
        "rnn_units = 1024\n",
        "\n",
        "model = AustenTextModel(vocab_size, embedding_dim, rnn_units)"
      ]
    },
    {
      "cell_type": "code",
      "execution_count": 43,
      "metadata": {
        "colab": {
          "base_uri": "https://localhost:8080/"
        },
        "id": "C67kN7YAdfSf",
        "outputId": "9511ba64-9345-4ce3-e498-d296884cfd10"
      },
      "outputs": [
        {
          "output_type": "stream",
          "name": "stdout",
          "text": [
            "(64, 1000, 94) # (batch_size, sequence_length, vocab_size)\n"
          ]
        }
      ],
      "source": [
        "# Verify the output of our model is correct by running one sample through\n",
        "# This will also compile the model for us. This step will take a bit.\n",
        "for input_example_batch, target_example_batch in dataset.take(1):\n",
        "    example_batch_predictions = model(input_example_batch)\n",
        "    print(example_batch_predictions.shape, \"# (batch_size, sequence_length, vocab_size)\")\n"
      ]
    },
    {
      "cell_type": "code",
      "execution_count": 44,
      "metadata": {
        "colab": {
          "base_uri": "https://localhost:8080/"
        },
        "id": "qJGL8gCWdsiu",
        "outputId": "587b6c6f-97d5-4582-8548-d5a650ae15ae"
      },
      "outputs": [
        {
          "output_type": "stream",
          "name": "stdout",
          "text": [
            "Model: \"austen_text_model_1\"\n",
            "_________________________________________________________________\n",
            " Layer (type)                Output Shape              Param #   \n",
            "=================================================================\n",
            " embedding_1 (Embedding)     multiple                  24064     \n",
            "                                                                 \n",
            " gru_2 (GRU)                 multiple                  3938304   \n",
            "                                                                 \n",
            " gru_3 (GRU)                 multiple                  6297600   \n",
            "                                                                 \n",
            " dense_1 (Dense)             multiple                  96350     \n",
            "                                                                 \n",
            "=================================================================\n",
            "Total params: 10,356,318\n",
            "Trainable params: 10,356,318\n",
            "Non-trainable params: 0\n",
            "_________________________________________________________________\n"
          ]
        }
      ],
      "source": [
        "# Now let's view the model summary\n",
        "model.summary()"
      ]
    },
    {
      "cell_type": "markdown",
      "source": [
        "# Add tensorboard to look at the process"
      ],
      "metadata": {
        "id": "Rc24z5bkmKZb"
      }
    },
    {
      "cell_type": "code",
      "execution_count": 45,
      "metadata": {
        "id": "6B95Hb6YVgPZ",
        "outputId": "dc669b8a-f793-4a99-fa9e-ec30900c7e85",
        "colab": {
          "base_uri": "https://localhost:8080/"
        }
      },
      "outputs": [
        {
          "output_type": "stream",
          "name": "stdout",
          "text": [
            "The tensorboard extension is already loaded. To reload it, use:\n",
            "  %reload_ext tensorboard\n"
          ]
        }
      ],
      "source": [
        "# Load the TensorBoard notebook extension\n",
        "%load_ext tensorboard\n",
        "import datetime"
      ]
    },
    {
      "cell_type": "code",
      "execution_count": 46,
      "metadata": {
        "id": "Ao7fJW1Pyiza"
      },
      "outputs": [],
      "source": [
        "# Clear any logs from previous runs\n",
        "!rm -rf ./logs/ \n"
      ]
    },
    {
      "cell_type": "code",
      "source": [
        "#create directory and callbacks\n",
        "log_dir = \"logs/fit/\" + datetime.datetime.now().strftime(\"%Y%m%d-%H%M%S\")\n",
        "tensorboard_callback = tf.keras.callbacks.TensorBoard(log_dir=log_dir, histogram_freq=1)\n"
      ],
      "metadata": {
        "id": "HPI1mP8u1Qrx"
      },
      "execution_count": 47,
      "outputs": []
    },
    {
      "cell_type": "markdown",
      "metadata": {
        "id": "wTDe5m4baEqo"
      },
      "source": [
        "## IV. Train the model\n",
        "\n",
        "For our purposes, we'll be using [categorical cross entropy](https://machinelearningmastery.com/cross-entropy-for-machine-learning/) as our loss function*. Also, our model will be outputting [\"logits\" rather than normalized probabilities](https://stackoverflow.com/questions/41455101/what-is-the-meaning-of-the-word-logits-in-tensorflow), because we'll be doing further transformations on the output later. \n",
        "\n",
        "\n",
        "\\* Note that since our model deals with integer encoding rather than one-hot encoding, we'll specifically be using [sparse categorical cross entropy](https://stats.stackexchange.com/questions/326065/cross-entropy-vs-sparse-cross-entropy-when-to-use-one-over-the-other)."
      ]
    },
    {
      "cell_type": "code",
      "execution_count": null,
      "metadata": {
        "colab": {
          "base_uri": "https://localhost:8080/"
        },
        "id": "7vOxc7CkaGQB",
        "outputId": "0e81806d-996d-48b8-abb8-e61df417d05b"
      },
      "outputs": [
        {
          "output_type": "stream",
          "name": "stdout",
          "text": [
            "Epoch 1/900\n",
            "3/3 [==============================] - 10s 2s/step - loss: 4.4055 - accuracy: 0.1106\n",
            "Epoch 2/900\n",
            "3/3 [==============================] - 6s 2s/step - loss: 4.6040 - accuracy: 0.1392\n",
            "Epoch 3/900\n",
            "3/3 [==============================] - 6s 2s/step - loss: 4.2281 - accuracy: 0.0954\n",
            "Epoch 4/900\n",
            "3/3 [==============================] - 6s 2s/step - loss: 3.9762 - accuracy: 0.0953\n",
            "Epoch 5/900\n",
            "3/3 [==============================] - 6s 2s/step - loss: 3.7890 - accuracy: 0.0953\n",
            "Epoch 6/900\n",
            "3/3 [==============================] - 6s 2s/step - loss: 3.5417 - accuracy: 0.0989\n",
            "Epoch 7/900\n",
            "3/3 [==============================] - 6s 2s/step - loss: 3.2531 - accuracy: 0.1165\n",
            "Epoch 8/900\n",
            "3/3 [==============================] - 6s 2s/step - loss: 3.1788 - accuracy: 0.1614\n",
            "Epoch 9/900\n",
            "3/3 [==============================] - 6s 2s/step - loss: 3.0775 - accuracy: 0.1734\n",
            "Epoch 10/900\n",
            "3/3 [==============================] - 6s 2s/step - loss: 3.0749 - accuracy: 0.2076\n",
            "Epoch 11/900\n",
            "3/3 [==============================] - 6s 2s/step - loss: 3.0333 - accuracy: 0.2121\n",
            "Epoch 12/900\n",
            "3/3 [==============================] - 6s 2s/step - loss: 2.9757 - accuracy: 0.2067\n",
            "Epoch 13/900\n",
            "3/3 [==============================] - 6s 2s/step - loss: 2.9399 - accuracy: 0.2080\n",
            "Epoch 14/900\n",
            "3/3 [==============================] - 6s 2s/step - loss: 2.8932 - accuracy: 0.2273\n",
            "Epoch 15/900\n",
            "3/3 [==============================] - 6s 2s/step - loss: 2.8412 - accuracy: 0.2504\n",
            "Epoch 16/900\n",
            "3/3 [==============================] - 6s 2s/step - loss: 2.7929 - accuracy: 0.2685\n",
            "Epoch 17/900\n",
            "3/3 [==============================] - 7s 3s/step - loss: 2.7378 - accuracy: 0.2817\n",
            "Epoch 18/900\n",
            "3/3 [==============================] - 6s 2s/step - loss: 2.6841 - accuracy: 0.2898\n",
            "Epoch 19/900\n",
            "3/3 [==============================] - 6s 2s/step - loss: 2.6351 - accuracy: 0.2932\n",
            "Epoch 20/900\n",
            "3/3 [==============================] - 6s 2s/step - loss: 2.5814 - accuracy: 0.2985\n",
            "Epoch 21/900\n",
            "3/3 [==============================] - 6s 2s/step - loss: 2.5333 - accuracy: 0.3075\n",
            "Epoch 22/900\n",
            "3/3 [==============================] - 6s 2s/step - loss: 2.4895 - accuracy: 0.3149\n",
            "Epoch 23/900\n",
            "3/3 [==============================] - 6s 2s/step - loss: 2.4547 - accuracy: 0.3220\n",
            "Epoch 24/900\n",
            "3/3 [==============================] - 6s 2s/step - loss: 2.4307 - accuracy: 0.3269\n",
            "Epoch 25/900\n",
            "3/3 [==============================] - 6s 2s/step - loss: 2.4081 - accuracy: 0.3320\n",
            "Epoch 26/900\n",
            "3/3 [==============================] - 6s 2s/step - loss: 2.3840 - accuracy: 0.3362\n",
            "Epoch 27/900\n",
            "3/3 [==============================] - 6s 2s/step - loss: 2.3666 - accuracy: 0.3397\n",
            "Epoch 28/900\n",
            "3/3 [==============================] - 6s 2s/step - loss: 2.3500 - accuracy: 0.3429\n",
            "Epoch 29/900\n",
            "3/3 [==============================] - 6s 2s/step - loss: 2.3309 - accuracy: 0.3474\n",
            "Epoch 30/900\n",
            "3/3 [==============================] - 6s 2s/step - loss: 2.3105 - accuracy: 0.3523\n",
            "Epoch 31/900\n",
            "3/3 [==============================] - 6s 2s/step - loss: 2.2994 - accuracy: 0.3545\n",
            "Epoch 32/900\n",
            "3/3 [==============================] - 6s 2s/step - loss: 2.2850 - accuracy: 0.3568\n",
            "Epoch 33/900\n",
            "3/3 [==============================] - 6s 2s/step - loss: 2.2723 - accuracy: 0.3594\n",
            "Epoch 34/900\n",
            "3/3 [==============================] - 6s 2s/step - loss: 2.2606 - accuracy: 0.3623\n",
            "Epoch 35/900\n",
            "3/3 [==============================] - 6s 2s/step - loss: 2.2443 - accuracy: 0.3649\n",
            "Epoch 36/900\n",
            "3/3 [==============================] - 6s 2s/step - loss: 2.2297 - accuracy: 0.3665\n",
            "Epoch 37/900\n",
            "3/3 [==============================] - 6s 2s/step - loss: 2.2214 - accuracy: 0.3684\n",
            "Epoch 38/900\n",
            "3/3 [==============================] - 6s 2s/step - loss: 2.2055 - accuracy: 0.3710\n",
            "Epoch 39/900\n",
            "3/3 [==============================] - 6s 2s/step - loss: 2.1928 - accuracy: 0.3738\n",
            "Epoch 40/900\n",
            "3/3 [==============================] - 6s 2s/step - loss: 2.1774 - accuracy: 0.3767\n",
            "Epoch 41/900\n",
            "3/3 [==============================] - 6s 2s/step - loss: 2.1639 - accuracy: 0.3788\n",
            "Epoch 42/900\n",
            "3/3 [==============================] - 6s 2s/step - loss: 2.1455 - accuracy: 0.3824\n",
            "Epoch 43/900\n",
            "3/3 [==============================] - 6s 2s/step - loss: 2.1307 - accuracy: 0.3854\n",
            "Epoch 44/900\n",
            "3/3 [==============================] - 6s 2s/step - loss: 2.1190 - accuracy: 0.3879\n",
            "Epoch 45/900\n",
            "3/3 [==============================] - 6s 2s/step - loss: 2.1011 - accuracy: 0.3929\n",
            "Epoch 46/900\n",
            "3/3 [==============================] - 6s 2s/step - loss: 2.0887 - accuracy: 0.3953\n",
            "Epoch 47/900\n",
            "3/3 [==============================] - 6s 2s/step - loss: 2.0725 - accuracy: 0.3969\n",
            "Epoch 48/900\n",
            "3/3 [==============================] - 6s 2s/step - loss: 2.0587 - accuracy: 0.4017\n",
            "Epoch 49/900\n",
            "3/3 [==============================] - 6s 2s/step - loss: 2.0403 - accuracy: 0.4059\n",
            "Epoch 50/900\n",
            "3/3 [==============================] - 6s 2s/step - loss: 2.0255 - accuracy: 0.4091\n",
            "Epoch 51/900\n",
            "3/3 [==============================] - 6s 2s/step - loss: 2.0117 - accuracy: 0.4130\n",
            "Epoch 52/900\n",
            "3/3 [==============================] - 6s 2s/step - loss: 1.9966 - accuracy: 0.4165\n",
            "Epoch 53/900\n",
            "3/3 [==============================] - 6s 2s/step - loss: 1.9817 - accuracy: 0.4209\n",
            "Epoch 54/900\n",
            "3/3 [==============================] - 6s 2s/step - loss: 1.9686 - accuracy: 0.4234\n",
            "Epoch 55/900\n",
            "3/3 [==============================] - 6s 2s/step - loss: 1.9534 - accuracy: 0.4282\n",
            "Epoch 56/900\n",
            "3/3 [==============================] - 6s 2s/step - loss: 1.9397 - accuracy: 0.4308\n",
            "Epoch 57/900\n",
            "3/3 [==============================] - 6s 2s/step - loss: 1.9238 - accuracy: 0.4356\n",
            "Epoch 58/900\n",
            "3/3 [==============================] - 6s 2s/step - loss: 1.9063 - accuracy: 0.4402\n",
            "Epoch 59/900\n",
            "3/3 [==============================] - 6s 2s/step - loss: 1.8910 - accuracy: 0.4430\n",
            "Epoch 60/900\n",
            "3/3 [==============================] - 6s 2s/step - loss: 1.8758 - accuracy: 0.4477\n",
            "Epoch 61/900\n",
            "3/3 [==============================] - 6s 2s/step - loss: 1.8623 - accuracy: 0.4512\n",
            "Epoch 62/900\n",
            "3/3 [==============================] - 6s 2s/step - loss: 1.8480 - accuracy: 0.4553\n",
            "Epoch 63/900\n",
            "3/3 [==============================] - 6s 2s/step - loss: 1.8345 - accuracy: 0.4581\n",
            "Epoch 64/900\n",
            "3/3 [==============================] - 6s 2s/step - loss: 1.8202 - accuracy: 0.4620\n",
            "Epoch 65/900\n",
            "3/3 [==============================] - 6s 2s/step - loss: 1.8064 - accuracy: 0.4652\n",
            "Epoch 66/900\n",
            "3/3 [==============================] - 6s 2s/step - loss: 1.7931 - accuracy: 0.4697\n",
            "Epoch 67/900\n",
            "3/3 [==============================] - 6s 2s/step - loss: 1.7742 - accuracy: 0.4732\n",
            "Epoch 68/900\n",
            "3/3 [==============================] - 6s 2s/step - loss: 1.7628 - accuracy: 0.4767\n",
            "Epoch 69/900\n",
            "3/3 [==============================] - 6s 2s/step - loss: 1.7513 - accuracy: 0.4797\n",
            "Epoch 70/900\n",
            "3/3 [==============================] - 6s 2s/step - loss: 1.7361 - accuracy: 0.4838\n",
            "Epoch 71/900\n",
            "3/3 [==============================] - 6s 2s/step - loss: 1.7216 - accuracy: 0.4872\n",
            "Epoch 72/900\n",
            "3/3 [==============================] - 6s 2s/step - loss: 1.7068 - accuracy: 0.4917\n",
            "Epoch 73/900\n",
            "3/3 [==============================] - 6s 2s/step - loss: 1.6921 - accuracy: 0.4954\n",
            "Epoch 74/900\n",
            "3/3 [==============================] - 6s 2s/step - loss: 1.6838 - accuracy: 0.4986\n",
            "Epoch 75/900\n",
            "3/3 [==============================] - 6s 2s/step - loss: 1.6707 - accuracy: 0.5008\n",
            "Epoch 76/900\n",
            "3/3 [==============================] - 6s 2s/step - loss: 1.6575 - accuracy: 0.5044\n",
            "Epoch 77/900\n",
            "3/3 [==============================] - 6s 2s/step - loss: 1.6392 - accuracy: 0.5098\n",
            "Epoch 78/900\n",
            "3/3 [==============================] - 6s 2s/step - loss: 1.6266 - accuracy: 0.5131\n",
            "Epoch 79/900\n",
            "3/3 [==============================] - 6s 2s/step - loss: 1.6188 - accuracy: 0.5154\n",
            "Epoch 80/900\n",
            "3/3 [==============================] - 6s 2s/step - loss: 1.6050 - accuracy: 0.5191\n",
            "Epoch 81/900\n",
            "3/3 [==============================] - 6s 2s/step - loss: 1.5916 - accuracy: 0.5220\n",
            "Epoch 82/900\n",
            "3/3 [==============================] - 6s 2s/step - loss: 1.5807 - accuracy: 0.5256\n",
            "Epoch 83/900\n",
            "3/3 [==============================] - 6s 2s/step - loss: 1.5649 - accuracy: 0.5285\n",
            "Epoch 84/900\n",
            "3/3 [==============================] - 6s 2s/step - loss: 1.5512 - accuracy: 0.5335\n",
            "Epoch 85/900\n",
            "3/3 [==============================] - 6s 2s/step - loss: 1.5393 - accuracy: 0.5358\n",
            "Epoch 86/900\n",
            "3/3 [==============================] - 6s 2s/step - loss: 1.5314 - accuracy: 0.5376\n",
            "Epoch 87/900\n",
            "3/3 [==============================] - 6s 2s/step - loss: 1.5215 - accuracy: 0.5413\n",
            "Epoch 88/900\n",
            "3/3 [==============================] - 6s 2s/step - loss: 1.5082 - accuracy: 0.5437\n",
            "Epoch 89/900\n",
            "3/3 [==============================] - 6s 2s/step - loss: 1.4930 - accuracy: 0.5477\n",
            "Epoch 90/900\n",
            "3/3 [==============================] - 6s 2s/step - loss: 1.4856 - accuracy: 0.5489\n",
            "Epoch 91/900\n",
            "3/3 [==============================] - 6s 2s/step - loss: 1.4714 - accuracy: 0.5539\n",
            "Epoch 92/900\n",
            "3/3 [==============================] - 6s 2s/step - loss: 1.4611 - accuracy: 0.5566\n",
            "Epoch 93/900\n",
            "3/3 [==============================] - 6s 2s/step - loss: 1.4504 - accuracy: 0.5600\n",
            "Epoch 94/900\n",
            "3/3 [==============================] - 6s 2s/step - loss: 1.4395 - accuracy: 0.5618\n",
            "Epoch 95/900\n",
            "3/3 [==============================] - 6s 2s/step - loss: 1.4268 - accuracy: 0.5663\n",
            "Epoch 96/900\n",
            "3/3 [==============================] - 6s 2s/step - loss: 1.4127 - accuracy: 0.5692\n",
            "Epoch 97/900\n",
            "3/3 [==============================] - 6s 2s/step - loss: 1.4060 - accuracy: 0.5723\n",
            "Epoch 98/900\n",
            "3/3 [==============================] - 6s 2s/step - loss: 1.3938 - accuracy: 0.5754\n",
            "Epoch 99/900\n",
            "3/3 [==============================] - 6s 2s/step - loss: 1.3834 - accuracy: 0.5778\n",
            "Epoch 100/900\n",
            "3/3 [==============================] - 6s 2s/step - loss: 1.3736 - accuracy: 0.5799\n",
            "Epoch 101/900\n",
            "3/3 [==============================] - 6s 2s/step - loss: 1.3649 - accuracy: 0.5823\n",
            "Epoch 102/900\n",
            "3/3 [==============================] - 6s 2s/step - loss: 1.3523 - accuracy: 0.5863\n",
            "Epoch 103/900\n",
            "3/3 [==============================] - 6s 2s/step - loss: 1.3446 - accuracy: 0.5878\n",
            "Epoch 104/900\n",
            "3/3 [==============================] - 6s 2s/step - loss: 1.3333 - accuracy: 0.5906\n",
            "Epoch 105/900\n",
            "3/3 [==============================] - 6s 2s/step - loss: 1.3227 - accuracy: 0.5937\n",
            "Epoch 106/900\n",
            "3/3 [==============================] - 6s 2s/step - loss: 1.3141 - accuracy: 0.5962\n",
            "Epoch 107/900\n",
            "3/3 [==============================] - 6s 2s/step - loss: 1.3006 - accuracy: 0.6002\n",
            "Epoch 108/900\n",
            "3/3 [==============================] - 6s 2s/step - loss: 1.2929 - accuracy: 0.6015\n",
            "Epoch 109/900\n",
            "3/3 [==============================] - 6s 2s/step - loss: 1.2811 - accuracy: 0.6065\n",
            "Epoch 110/900\n",
            "3/3 [==============================] - 6s 2s/step - loss: 1.2744 - accuracy: 0.6072\n",
            "Epoch 111/900\n",
            "3/3 [==============================] - 6s 2s/step - loss: 1.2659 - accuracy: 0.6095\n",
            "Epoch 112/900\n",
            "3/3 [==============================] - 6s 2s/step - loss: 1.2565 - accuracy: 0.6122\n",
            "Epoch 113/900\n",
            "3/3 [==============================] - 6s 2s/step - loss: 1.2470 - accuracy: 0.6148\n",
            "Epoch 114/900\n",
            "3/3 [==============================] - 6s 2s/step - loss: 1.2387 - accuracy: 0.6170\n",
            "Epoch 115/900\n",
            "3/3 [==============================] - 6s 2s/step - loss: 1.2262 - accuracy: 0.6218\n",
            "Epoch 116/900\n",
            "3/3 [==============================] - 6s 2s/step - loss: 1.2193 - accuracy: 0.6234\n",
            "Epoch 117/900\n",
            "3/3 [==============================] - 6s 2s/step - loss: 1.2054 - accuracy: 0.6274\n",
            "Epoch 118/900\n",
            "3/3 [==============================] - 6s 2s/step - loss: 1.1972 - accuracy: 0.6289\n",
            "Epoch 119/900\n",
            "3/3 [==============================] - 6s 2s/step - loss: 1.1885 - accuracy: 0.6320\n",
            "Epoch 120/900\n",
            "3/3 [==============================] - 6s 2s/step - loss: 1.1785 - accuracy: 0.6348\n",
            "Epoch 121/900\n",
            "3/3 [==============================] - 6s 2s/step - loss: 1.1714 - accuracy: 0.6373\n",
            "Epoch 122/900\n",
            "3/3 [==============================] - 6s 2s/step - loss: 1.1585 - accuracy: 0.6405\n",
            "Epoch 123/900\n",
            "3/3 [==============================] - 6s 2s/step - loss: 1.1492 - accuracy: 0.6426\n",
            "Epoch 124/900\n",
            "3/3 [==============================] - 6s 2s/step - loss: 1.1378 - accuracy: 0.6478\n",
            "Epoch 125/900\n",
            "3/3 [==============================] - 6s 2s/step - loss: 1.1296 - accuracy: 0.6500\n",
            "Epoch 126/900\n",
            "3/3 [==============================] - 6s 2s/step - loss: 1.1228 - accuracy: 0.6513\n",
            "Epoch 127/900\n",
            "3/3 [==============================] - 6s 2s/step - loss: 1.1148 - accuracy: 0.6537\n",
            "Epoch 128/900\n",
            "3/3 [==============================] - 6s 2s/step - loss: 1.1073 - accuracy: 0.6575\n",
            "Epoch 129/900\n",
            "3/3 [==============================] - 6s 2s/step - loss: 1.0952 - accuracy: 0.6589\n",
            "Epoch 130/900\n",
            "3/3 [==============================] - 6s 2s/step - loss: 1.0870 - accuracy: 0.6624\n",
            "Epoch 131/900\n",
            "3/3 [==============================] - 6s 2s/step - loss: 1.0797 - accuracy: 0.6645\n",
            "Epoch 132/900\n",
            "3/3 [==============================] - 6s 2s/step - loss: 1.0698 - accuracy: 0.6674\n",
            "Epoch 133/900\n",
            "3/3 [==============================] - 6s 2s/step - loss: 1.0583 - accuracy: 0.6712\n",
            "Epoch 134/900\n",
            "3/3 [==============================] - 6s 2s/step - loss: 1.0500 - accuracy: 0.6734\n",
            "Epoch 135/900\n",
            "3/3 [==============================] - 6s 2s/step - loss: 1.0446 - accuracy: 0.6749\n",
            "Epoch 136/900\n",
            "3/3 [==============================] - 6s 2s/step - loss: 1.0309 - accuracy: 0.6789\n",
            "Epoch 137/900\n",
            "3/3 [==============================] - 6s 2s/step - loss: 1.0227 - accuracy: 0.6812\n",
            "Epoch 138/900\n",
            "3/3 [==============================] - 6s 2s/step - loss: 1.0130 - accuracy: 0.6844\n",
            "Epoch 139/900\n",
            "3/3 [==============================] - 6s 2s/step - loss: 1.0059 - accuracy: 0.6866\n",
            "Epoch 140/900\n",
            "3/3 [==============================] - 6s 2s/step - loss: 0.9969 - accuracy: 0.6891\n",
            "Epoch 141/900\n",
            "3/3 [==============================] - 6s 2s/step - loss: 0.9877 - accuracy: 0.6930\n",
            "Epoch 142/900\n",
            "3/3 [==============================] - 6s 2s/step - loss: 0.9762 - accuracy: 0.6958\n",
            "Epoch 143/900\n",
            "3/3 [==============================] - 6s 2s/step - loss: 0.9689 - accuracy: 0.6985\n",
            "Epoch 144/900\n",
            "3/3 [==============================] - 6s 2s/step - loss: 0.9587 - accuracy: 0.7004\n",
            "Epoch 145/900\n",
            "3/3 [==============================] - 6s 2s/step - loss: 0.9500 - accuracy: 0.7049\n",
            "Epoch 146/900\n",
            "3/3 [==============================] - 6s 2s/step - loss: 0.9495 - accuracy: 0.7035\n",
            "Epoch 147/900\n",
            "3/3 [==============================] - 6s 2s/step - loss: 0.9420 - accuracy: 0.7059\n",
            "Epoch 148/900\n",
            "3/3 [==============================] - 6s 2s/step - loss: 0.9273 - accuracy: 0.7102\n",
            "Epoch 149/900\n",
            "3/3 [==============================] - 6s 2s/step - loss: 0.9127 - accuracy: 0.7164\n",
            "Epoch 150/900\n",
            "3/3 [==============================] - 6s 2s/step - loss: 0.9058 - accuracy: 0.7187\n",
            "Epoch 151/900\n",
            "3/3 [==============================] - 6s 2s/step - loss: 0.8926 - accuracy: 0.7231\n",
            "Epoch 152/900\n",
            "3/3 [==============================] - 6s 2s/step - loss: 0.8831 - accuracy: 0.7261\n",
            "Epoch 153/900\n",
            "3/3 [==============================] - 6s 2s/step - loss: 0.8749 - accuracy: 0.7289\n",
            "Epoch 154/900\n",
            "3/3 [==============================] - 6s 2s/step - loss: 0.8700 - accuracy: 0.7294\n",
            "Epoch 155/900\n",
            "3/3 [==============================] - 6s 2s/step - loss: 0.8553 - accuracy: 0.7349\n",
            "Epoch 156/900\n",
            "3/3 [==============================] - 6s 2s/step - loss: 0.8473 - accuracy: 0.7379\n",
            "Epoch 157/900\n",
            "3/3 [==============================] - 6s 2s/step - loss: 0.8372 - accuracy: 0.7397\n",
            "Epoch 158/900\n",
            "3/3 [==============================] - 6s 2s/step - loss: 0.8305 - accuracy: 0.7428\n",
            "Epoch 159/900\n",
            "3/3 [==============================] - 6s 2s/step - loss: 0.8176 - accuracy: 0.7470\n",
            "Epoch 160/900\n",
            "3/3 [==============================] - 6s 2s/step - loss: 0.8083 - accuracy: 0.7498\n",
            "Epoch 161/900\n",
            "3/3 [==============================] - 6s 2s/step - loss: 0.8001 - accuracy: 0.7521\n",
            "Epoch 162/900\n",
            "3/3 [==============================] - 6s 2s/step - loss: 0.7880 - accuracy: 0.7569\n",
            "Epoch 163/900\n",
            "3/3 [==============================] - 6s 2s/step - loss: 0.7794 - accuracy: 0.7594\n",
            "Epoch 164/900\n",
            "3/3 [==============================] - 6s 2s/step - loss: 0.7677 - accuracy: 0.7639\n",
            "Epoch 165/900\n",
            "3/3 [==============================] - 6s 2s/step - loss: 0.7621 - accuracy: 0.7654\n",
            "Epoch 166/900\n",
            "3/3 [==============================] - 6s 2s/step - loss: 0.7509 - accuracy: 0.7697\n",
            "Epoch 167/900\n",
            "3/3 [==============================] - 6s 2s/step - loss: 0.7429 - accuracy: 0.7714\n",
            "Epoch 168/900\n",
            "3/3 [==============================] - 6s 2s/step - loss: 0.7291 - accuracy: 0.7778\n",
            "Epoch 169/900\n",
            "3/3 [==============================] - 6s 2s/step - loss: 0.7209 - accuracy: 0.7792\n",
            "Epoch 170/900\n",
            "3/3 [==============================] - 6s 2s/step - loss: 0.7123 - accuracy: 0.7827\n",
            "Epoch 171/900\n",
            "3/3 [==============================] - 6s 2s/step - loss: 0.7107 - accuracy: 0.7820\n",
            "Epoch 172/900\n",
            "3/3 [==============================] - 6s 2s/step - loss: 0.6986 - accuracy: 0.7867\n",
            "Epoch 173/900\n",
            "3/3 [==============================] - 6s 2s/step - loss: 0.6888 - accuracy: 0.7887\n",
            "Epoch 174/900\n",
            "3/3 [==============================] - 6s 2s/step - loss: 0.6738 - accuracy: 0.7948\n",
            "Epoch 175/900\n",
            "3/3 [==============================] - 6s 2s/step - loss: 0.6637 - accuracy: 0.7988\n",
            "Epoch 176/900\n",
            "3/3 [==============================] - 6s 2s/step - loss: 0.6520 - accuracy: 0.8035\n",
            "Epoch 177/900\n",
            "3/3 [==============================] - 6s 2s/step - loss: 0.6418 - accuracy: 0.8065\n"
          ]
        }
      ],
      "source": [
        "loss = tf.losses.SparseCategoricalCrossentropy(from_logits=True)\n",
        "model.compile(optimizer='adam', loss=loss, metrics=['accuracy'])\n",
        "\n",
        "history = model.fit(dataset, epochs=900, callbacks=[tensorboard_callback])"
      ]
    },
    {
      "cell_type": "markdown",
      "metadata": {
        "id": "casEwxrXcv4Y"
      },
      "source": [
        "## V. Use the model\n",
        "\n",
        "Now that our model has been trained, we can use it to generate text. As mentioned earlier, to do so we have to keep track of its internal state, or memory, so that we can use previous text predictions to inform later ones.\n",
        "\n",
        "However, with RNN generated text, if we always just pick the character with the highest probability, our model tends to get stuck in a loop. So instead we will create a probability distribution of characters for each step, and then sample from that distribution. We can add some variation to this using a paramter known as [\"temperature\"](https://cs.stackexchange.com/questions/79241/what-is-temperature-in-lstm-and-neural-networks-generally)."
      ]
    },
    {
      "cell_type": "code",
      "execution_count": 36,
      "metadata": {
        "id": "V3lhlyfwcqIN"
      },
      "outputs": [],
      "source": [
        "# Here's the code we'll use to sample for us. It has some extra steps to apply\n",
        "# the temperature to the distribution, and to make sure we don't get empty\n",
        "# characters in our text. Most importantly, it will keep track of our model\n",
        "# state for us.\n",
        "\n",
        "class OneStep(tf.keras.Model):\n",
        "  def __init__(self, model, chars_from_ids, ids_from_chars, temperature=1.0):\n",
        "    super().__init__()\n",
        "    self.temperature=temperature\n",
        "    self.model = model\n",
        "    self.chars_from_ids = chars_from_ids\n",
        "    self.ids_from_chars = ids_from_chars\n",
        "\n",
        "    # Create a mask to prevent \"\" or \"[UNK]\" from being generated.\n",
        "    skip_ids = self.ids_from_chars(['','[UNK]'])[:, None]\n",
        "    sparse_mask = tf.SparseTensor(\n",
        "        # Put a -inf at each bad index.\n",
        "        values=[-float('inf')]*len(skip_ids),\n",
        "        indices = skip_ids,\n",
        "        # Match the shape to the vocabulary\n",
        "        dense_shape=[len(ids_from_chars.get_vocabulary())]) \n",
        "    self.prediction_mask = tf.sparse.to_dense(sparse_mask,validate_indices=False)\n",
        "\n",
        "  @tf.function\n",
        "  def generate_one_step(self, inputs, states=None):\n",
        "    # Convert strings to token IDs.\n",
        "    input_chars = tf.strings.unicode_split(inputs, 'UTF-8')\n",
        "    input_ids = self.ids_from_chars(input_chars).to_tensor()\n",
        "\n",
        "    # Run the model.\n",
        "    # predicted_logits.shape is [batch, char, next_char_logits] \n",
        "    predicted_logits, states =  self.model(inputs=input_ids, states=states, \n",
        "                                          return_state=True)\n",
        "    # Only use the last prediction.\n",
        "    predicted_logits = predicted_logits[:, -1, :]\n",
        "    predicted_logits = predicted_logits/self.temperature\n",
        "    \n",
        "    # Apply the prediction mask: prevent \"\" or \"[UNK]\" from being generated.\n",
        "    predicted_logits = predicted_logits + self.prediction_mask\n",
        "\n",
        "    # Sample the output logits to generate token IDs.\n",
        "    predicted_ids = tf.random.categorical(predicted_logits, num_samples=1)\n",
        "    predicted_ids = tf.squeeze(predicted_ids, axis=-1)\n",
        "\n",
        "    # Return the characters and model state.\n",
        "    return chars_from_ids(predicted_ids), states\n"
      ]
    },
    {
      "cell_type": "code",
      "execution_count": 37,
      "metadata": {
        "colab": {
          "base_uri": "https://localhost:8080/"
        },
        "id": "fSUghgUFc6ba",
        "outputId": "263f6e2b-6a25-4c8d-c937-cb0962a58b96"
      },
      "outputs": [
        {
          "output_type": "stream",
          "name": "stdout",
          "text": [
            "The world seemed like such a peaceful place until the magic tree was discovered in London.\r\n",
            "\n",
            "The ary (har dinilongefthe shoury ariningend Jugong’h?\r\n",
            "NThe\r\n",
            "Preamangong she\r\n",
            "5G1T/98 When thin Eragefthend\r\n",
            "whe mingend” the\r\n",
            "Preamangaging\n",
            "Jougherk Orgughingend Gully whe mong U\n",
            "The yhurnan\r\n",
            "Lighinganged eagone the man ourong\"\n",
            "thin aning_ whingen\r\n",
            "OrrgagingagingneaNd—the\r\n",
            "Preamangexstonged whin Jugungangong\n",
            "Or\r\n",
            "Lingnear dingullivonevourat Oully hin (har dingedveXks agD Is’s JO”\r\n",
            "whingend orearonivongefthed Bun Our anongoken oremangevat inizingefthe mingend” the mingong—or agrearthe Mithingeft!\n",
            "D\n",
            "U\n",
            "che mingend Jugong’hingeft (The monge0!\n",
            "The\r\n",
            "$TU\n",
            "Kingioned” whingeng\r\n",
            "Lighingagingne\r\n",
            "The Buling\n",
            "orestre\r\n",
            "Molan Jung Whin aningend\r\n",
            "OR He aroned” whe moughe\r\n",
            "Whe” Then Or\r\n",
            "\n",
            "chef agreard—hend\r\n",
            "Or\r\n",
            "gheardy whin Oully mingagingagingend\r\n",
            "whingong Wher\r\n",
            "The Bund\r\n",
            "RE\r\n",
            "Kingangoght Joughe mungerst Our aguningon Dury Joughed Joughen\r\n",
            "whingend” whe might Onear chex ached Shoure aronabon—endeged agred Bun oun Whin (har dingong\r\n",
            "ONdrgegH—BuS Up\r\n",
            "OR\r\n",
            "On\r\n",
            "Preaman one’mong\r\n",
            "Whed acheff the mingend Oru\n"
          ]
        }
      ],
      "source": [
        "# Create an instance of the character generator\n",
        "one_step_model = OneStep(model, chars_from_ids, ids_from_chars)\n",
        "\n",
        "# Now, let's generate a 1000 character chapter by giving our model \"Chapter 1\"\n",
        "# as its starting text\n",
        "states = None\n",
        "next_char = tf.constant(['The world seemed like such a peaceful place until the magic tree was discovered in London.'])\n",
        "result = [next_char]\n",
        "\n",
        "for n in range(1000):\n",
        "  next_char, states = one_step_model.generate_one_step(next_char, states=states)\n",
        "  result.append(next_char)\n",
        "\n",
        "result = tf.strings.join(result)\n",
        "\n",
        "# Print the results formatted.\n",
        "print(result[0].numpy().decode('utf-8'))\n",
        "\n",
        "\n"
      ]
    },
    {
      "cell_type": "markdown",
      "metadata": {
        "id": "b2Cudf3YoaKr"
      },
      "source": [
        "## VI. Next Steps\n",
        "\n",
        "This is a very simple model with one GRU layer and then an output layer. However, considering how simple it is and the fact that we are predicting outputs character by character, the text it produces is pretty amazing. Though it still has a long way to go before publication.\n",
        "\n",
        "There are many other RNN architectures you could try, such as adding additional hidden dense layers, replacing GRU with one or more LSTM layers, combining GRU and LSTM, etc...\n",
        "\n",
        "You could also experiment with better text cleanup to make sure odd punctuation doesn't appear, or finding longer texts to use. If you combine texts from two authors, what happens? Can you generate a Jane Austen stageplay by combining austen and shakespeare texts?\n",
        "\n",
        "Finally, there are a number of hyperparameters to tweak, such as temperature, epochs, batch size, sequence length, etc..."
      ]
    },
    {
      "cell_type": "code",
      "source": [
        "# Save the entire model as a SavedModel. This save into colab.\n",
        "!mkdir -p saved_model\n",
        "model.save('saved_model/my_model')"
      ],
      "metadata": {
        "id": "3DcKpqVfA2q9",
        "outputId": "991fb19e-a3a1-467a-ac30-4c4d8b1794f8",
        "colab": {
          "base_uri": "https://localhost:8080/"
        }
      },
      "execution_count": 38,
      "outputs": [
        {
          "output_type": "stream",
          "name": "stderr",
          "text": [
            "WARNING:absl:Found untraced functions such as gru_cell_layer_call_fn, gru_cell_layer_call_and_return_conditional_losses, gru_cell_1_layer_call_fn, gru_cell_1_layer_call_and_return_conditional_losses while saving (showing 4 of 4). These functions will not be directly callable after loading.\n"
          ]
        },
        {
          "output_type": "stream",
          "name": "stdout",
          "text": [
            "INFO:tensorflow:Assets written to: saved_model/my_model/assets\n"
          ]
        },
        {
          "output_type": "stream",
          "name": "stderr",
          "text": [
            "INFO:tensorflow:Assets written to: saved_model/my_model/assets\n",
            "WARNING:absl:<keras.layers.recurrent.GRUCell object at 0x7fbd9057f890> has the same name 'GRUCell' as a built-in Keras object. Consider renaming <class 'keras.layers.recurrent.GRUCell'> to avoid naming conflicts when loading with `tf.keras.models.load_model`. If renaming is not possible, pass the object in the `custom_objects` parameter of the load function.\n",
            "WARNING:absl:<keras.layers.recurrent.GRUCell object at 0x7fbd90499d10> has the same name 'GRUCell' as a built-in Keras object. Consider renaming <class 'keras.layers.recurrent.GRUCell'> to avoid naming conflicts when loading with `tf.keras.models.load_model`. If renaming is not possible, pass the object in the `custom_objects` parameter of the load function.\n"
          ]
        }
      ]
    },
    {
      "cell_type": "code",
      "source": [
        "from google.colab import files\n",
        "\n",
        "# This code compress the directory in a zip file and downloaded\n",
        "# Specify export directory and use tensorflow to save your_model\n",
        "export_dir = './saved_model'\n",
        "export_zip = './saved_zip'\n",
        "#tf.saved_model.save(your_model, export_dir=export_dir)\n",
        "# Download the model (Can take several minutes but work)\n",
        "import shutil\n",
        "shutil.make_archive(export_zip, 'zip', export_dir)\n",
        "\n",
        "files.download(export_zip+'.zip')\n",
        "#files.download(export_dir + '/my_model')"
      ],
      "metadata": {
        "id": "QBdTWuUeKt7t",
        "outputId": "bfc8d53a-f32d-4671-ca49-188c906d772f",
        "colab": {
          "base_uri": "https://localhost:8080/",
          "height": 17
        }
      },
      "execution_count": 39,
      "outputs": [
        {
          "output_type": "display_data",
          "data": {
            "text/plain": [
              "<IPython.core.display.Javascript object>"
            ],
            "application/javascript": [
              "\n",
              "    async function download(id, filename, size) {\n",
              "      if (!google.colab.kernel.accessAllowed) {\n",
              "        return;\n",
              "      }\n",
              "      const div = document.createElement('div');\n",
              "      const label = document.createElement('label');\n",
              "      label.textContent = `Downloading \"${filename}\": `;\n",
              "      div.appendChild(label);\n",
              "      const progress = document.createElement('progress');\n",
              "      progress.max = size;\n",
              "      div.appendChild(progress);\n",
              "      document.body.appendChild(div);\n",
              "\n",
              "      const buffers = [];\n",
              "      let downloaded = 0;\n",
              "\n",
              "      const channel = await google.colab.kernel.comms.open(id);\n",
              "      // Send a message to notify the kernel that we're ready.\n",
              "      channel.send({})\n",
              "\n",
              "      for await (const message of channel.messages) {\n",
              "        // Send a message to notify the kernel that we're ready.\n",
              "        channel.send({})\n",
              "        if (message.buffers) {\n",
              "          for (const buffer of message.buffers) {\n",
              "            buffers.push(buffer);\n",
              "            downloaded += buffer.byteLength;\n",
              "            progress.value = downloaded;\n",
              "          }\n",
              "        }\n",
              "      }\n",
              "      const blob = new Blob(buffers, {type: 'application/binary'});\n",
              "      const a = document.createElement('a');\n",
              "      a.href = window.URL.createObjectURL(blob);\n",
              "      a.download = filename;\n",
              "      div.appendChild(a);\n",
              "      a.click();\n",
              "      div.remove();\n",
              "    }\n",
              "  "
            ]
          },
          "metadata": {}
        },
        {
          "output_type": "display_data",
          "data": {
            "text/plain": [
              "<IPython.core.display.Javascript object>"
            ],
            "application/javascript": [
              "download(\"download_da7df17c-43dc-426b-a9cc-72d31b535246\", \"saved_zip.zip\", 115757862)"
            ]
          },
          "metadata": {}
        }
      ]
    },
    {
      "cell_type": "code",
      "source": [
        "#This code unzip the previous saved zip. The one from colab, if you want to load\n",
        "# it from the downloaded use \n",
        "#!echo \"Downloading files...\"\n",
        "#!wget -q https://github.com/your named file in github or any other open source/saved_zip.zip)\n",
        "\n",
        "!echo \"Unzipping files...\"\n",
        "!unzip -q saved_zip.zip"
      ],
      "metadata": {
        "id": "jGW_Je8GQcqd",
        "outputId": "e2802833-8b53-46d7-c2dd-1af40346463d",
        "colab": {
          "base_uri": "https://localhost:8080/"
        }
      },
      "execution_count": 26,
      "outputs": [
        {
          "output_type": "stream",
          "name": "stdout",
          "text": [
            "Unzipping files...\n"
          ]
        }
      ]
    },
    {
      "cell_type": "code",
      "source": [
        "# This code take the unziped model and recreate it\n",
        "\n",
        "new_model = tf.keras.models.load_model('saved_model/my_model')\n",
        "\n",
        "# Check its architecture\n",
        "new_model.summary()"
      ],
      "metadata": {
        "id": "qbBIazf9K2Js",
        "outputId": "a88637af-3620-4b81-d941-07550dcf8b8a",
        "colab": {
          "base_uri": "https://localhost:8080/"
        }
      },
      "execution_count": 27,
      "outputs": [
        {
          "output_type": "stream",
          "name": "stdout",
          "text": [
            "Model: \"austen_text_model\"\n",
            "_________________________________________________________________\n",
            " Layer (type)                Output Shape              Param #   \n",
            "=================================================================\n",
            " embedding (Embedding)       multiple                  24064     \n",
            "                                                                 \n",
            " gru (GRU)                   multiple                  3938304   \n",
            "                                                                 \n",
            " gru_1 (GRU)                 multiple                  6297600   \n",
            "                                                                 \n",
            " dense (Dense)               multiple                  96350     \n",
            "                                                                 \n",
            "=================================================================\n",
            "Total params: 10,356,318\n",
            "Trainable params: 10,356,318\n",
            "Non-trainable params: 0\n",
            "_________________________________________________________________\n"
          ]
        }
      ]
    },
    {
      "cell_type": "markdown",
      "source": [
        "# See Results in the web tensorboard"
      ],
      "metadata": {
        "id": "7INt2_UMnRcV"
      }
    },
    {
      "cell_type": "code",
      "source": [
        "# launch tensorboard in TensorBoard.dev (public for sharing the link)\n",
        "\n",
        "!tensorboard dev upload \\\n",
        "  --logdir logs/fit \\\n",
        "  --name \"(optional) My first convolutional\" \\\n",
        "  --description \"(optional) Simple comparison of several hyperparameters\" \\\n",
        "  --one_shot\n",
        "  "
      ],
      "metadata": {
        "id": "SR-xMA_H2QaD",
        "outputId": "db047fd0-63e5-4b15-b093-f42d1a0a5319",
        "colab": {
          "base_uri": "https://localhost:8080/"
        }
      },
      "execution_count": 40,
      "outputs": [
        {
          "output_type": "stream",
          "name": "stdout",
          "text": [
            "\n",
            "New experiment created. View your TensorBoard at: https://tensorboard.dev/experiment/gL9J2mnRSEmN4EY3Dueoyg/\n",
            "\n",
            "\u001b[1m[2022-07-03T13:18:35]\u001b[0m Started scanning logdir.\n",
            "E0703 13:18:36.854359 140516971628416 uploader.py:1122] Attempted to re-upload existing blob.  Skipping.\n",
            "\u001b[1m[2022-07-03T13:18:39]\u001b[0m Total uploaded: 386 scalars, 1737 tensors (1.2 MB), 1 binary objects (282.1 kB)\n",
            "\u001b[90mTotal skipped: 1 binary objects (282.3 kB)\n",
            "\u001b[0m\u001b[1m[2022-07-03T13:18:39]\u001b[0m Done scanning logdir.\n",
            "\n",
            "\n",
            "Done. View your TensorBoard at https://tensorboard.dev/experiment/gL9J2mnRSEmN4EY3Dueoyg/\n"
          ]
        }
      ]
    }
  ]
}
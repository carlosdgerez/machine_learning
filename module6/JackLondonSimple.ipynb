{
  "nbformat": 4,
  "nbformat_minor": 0,
  "metadata": {
    "colab": {
      "name": "JackLondonSimple.ipynb",
      "provenance": [],
      "authorship_tag": "ABX9TyNpkKZVYTke+4WWnFukqcFK",
      "include_colab_link": true
    },
    "kernelspec": {
      "name": "python3",
      "display_name": "Python 3"
    },
    "language_info": {
      "name": "python"
    },
    "accelerator": "GPU",
    "gpuClass": "standard"
  },
  "cells": [
    {
      "cell_type": "markdown",
      "metadata": {
        "id": "view-in-github",
        "colab_type": "text"
      },
      "source": [
        "<a href=\"https://colab.research.google.com/github/carlosdgerez/machine_learning/blob/main/module6/JackLondonSimple.ipynb\" target=\"_parent\"><img src=\"https://colab.research.google.com/assets/colab-badge.svg\" alt=\"Open In Colab\"/></a>"
      ]
    },
    {
      "cell_type": "code",
      "execution_count": null,
      "metadata": {
        "id": "KLBdUFxa9bW7"
      },
      "outputs": [],
      "source": [
        ""
      ]
    },
    {
      "cell_type": "code",
      "execution_count": null,
      "metadata": {
        "id": "xbLHRNi3hsGs"
      },
      "outputs": [],
      "source": [
        ""
      ]
    },
    {
      "cell_type": "code",
      "execution_count": 1,
      "metadata": {
        "id": "XtiXE04uGB_U"
      },
      "outputs": [],
      "source": [
        "# Import libraries\n",
        "import tensorflow as tf\n",
        "from tensorflow.keras.layers.experimental import preprocessing\n",
        "\n",
        "import numpy as np\n",
        "import os\n",
        "import time\n"
      ]
    },
    {
      "cell_type": "markdown",
      "metadata": {
        "id": "qv4r-dKnSRKz"
      },
      "source": [
        "## I. Parse Text Sources\n",
        "First we'll load our text sources and create our vocabulary lists and encoders. \n",
        "\n",
        "There are ways we could do this in pure python, but using the tensorflow data structures and libraries allow us to keep things super-optimized."
      ]
    },
    {
      "cell_type": "code",
      "execution_count": 2,
      "metadata": {
        "colab": {
          "base_uri": "https://localhost:8080/"
        },
        "id": "H8RbnIjwHGoR",
        "outputId": "4a081986-4c0e-4784-d394-5c5e82d9f31f"
      },
      "outputs": [
        {
          "output_type": "stream",
          "name": "stdout",
          "text": [
            "Downloading data from https://www.gutenberg.org/files/215/215-0.txt\n",
            "204800/200109 [==============================] - 0s 0us/step\n",
            "212992/200109 [===============================] - 0s 0us/step\n",
            "Length of text: 198823 characters\n"
          ]
        }
      ],
      "source": [
        "# Load file data\n",
        "path_to_file = tf.keras.utils.get_file('london.txt', 'https://www.gutenberg.org/files/215/215-0.txt')\n",
        "text = open(path_to_file, 'rb').read().decode(encoding='utf-8')\n",
        "print('Length of text: {} characters'.format(len(text)))"
      ]
    },
    {
      "cell_type": "code",
      "execution_count": 3,
      "metadata": {
        "colab": {
          "base_uri": "https://localhost:8080/"
        },
        "id": "2XRnt0XUHUrq",
        "outputId": "786c345c-ab17-49f9-d48a-dd8eae1c9d8a"
      },
      "outputs": [
        {
          "output_type": "stream",
          "name": "stdout",
          "text": [
            "﻿\r\n",
            "The Project Gutenberg EBook of The Call of the Wild, by Jack London\r\n",
            "\r\n",
            "This eBook is for the use of anyone anywhere in the United States and most\r\n",
            "other parts of the world at no cost and with almost no restrictions\r\n",
            "whatsoever.  You may copy it, give it away or re-use it under the terms of\r\n",
            "the Project Gutenberg License included with this eBook or online at\r\n",
            "www.gutenberg.org.  If you are not located in the United States, you'll have\r\n",
            "to check the laws of the country where you are located before using this ebook.\r\n",
            "\r\n",
            "Title: The Call of the Wild\r\n",
            "\r\n",
            "Author: Jack London\r\n",
            "\r\n",
            "Release Date: July 1, 2008 [EBook #215]\r\n",
            "Last updated: August 30, 2019\r\n",
            "\r\n",
            "Language: English\r\n",
            "\r\n",
            "Character set encoding: UTF-8\r\n",
            "\r\n",
            "*** START OF THIS PROJECT GUTENBERG EBOOK THE CALL OF THE WILD ***\r\n",
            "\r\n",
            "\r\n",
            "\r\n",
            "\r\n",
            "Produced by Ryan, Kirstin, Linda and Rick Trapp, and David Widger\r\n",
            "\r\n",
            "\r\n",
            "\r\n",
            "\r\n",
            "cover \r\n",
            "\r\n",
            "\r\n",
            "\r\n",
            "The Call of the Wild\r\n",
            "\r\n",
            "\r\n",
            "\r\n",
            "by Jack London\r\n",
            "\r\n",
            "\r\n",
            "\r\n",
            "Contents\r\n",
            "\r\n",
            "\r\n",
            " Chapter I. Into the Primitive\r\n",
            " Chapter II. The Law of Club and Fang\r\n",
            " Chapter III. The Dominant Primordial Beast\r\n",
            " Chapter IV. Who Has Won to Mastership\r\n",
            " Chapter V. The Toil of Trace\r\n",
            " Chapter VI. For the Love of a Man\r\n",
            " Chapter VII. The Sounding of the Call\r\n",
            "\r\n",
            "\r\n",
            "\r\n",
            "\n",
            "Chapter I. Into the Primitive\r\n",
            "\r\n",
            "“Old longings nomadic leap,\r\n",
            "Chafing at custom’s chain;\r\n",
            "Again from its brumal sleep\r\n",
            "Wakens the ferine strain.”\r\n",
            "\r\n",
            "\r\n",
            "Buck did not read the newspapers, or he would hav\n"
          ]
        }
      ],
      "source": [
        "# Verify the first part of our data\n",
        "print(text[:1205])\n",
        "# strip header\n",
        "text = text[1205:]\n",
        "print (text[:200])"
      ]
    },
    {
      "cell_type": "code",
      "source": [
        "# strip footers\n",
        "print(len(text))\n",
        "#print(text[:300])\n",
        "#print(text[178272:])\n",
        "text= text[:178272]\n",
        "print(text[177000:])"
      ],
      "metadata": {
        "colab": {
          "base_uri": "https://localhost:8080/"
        },
        "id": "kYjqaGwH1sLP",
        "outputId": "204ec989-a2fd-4991-c099-36c6873c0435"
      },
      "execution_count": 4,
      "outputs": [
        {
          "output_type": "stream",
          "name": "stdout",
          "text": [
            "197618\n",
            "slashed cruelly open and with wolf prints about them in the\r\n",
            "snow greater than the prints of any wolf. Each fall, when the Yeehats\r\n",
            "follow the movement of the moose, there is a certain valley which they\r\n",
            "never enter. And women there are who become sad when the word goes over\r\n",
            "the fire of how the Evil Spirit came to select that valley for an\r\n",
            "abiding-place.\r\n",
            "\r\n",
            "In the summers there is one visitor, however, to that valley, of which\r\n",
            "the Yeehats do not know. It is a great, gloriously coated wolf, like,\r\n",
            "and yet unlike, all other wolves. He crosses alone from the smiling\r\n",
            "timber land and comes down into an open space among the trees. Here a\r\n",
            "yellow stream flows from rotted moose-hide sacks and sinks into the\r\n",
            "ground, with long grasses growing through it and vegetable mould\r\n",
            "overrunning it and hiding its yellow from the sun; and here he muses\r\n",
            "for a time, howling once, long and mournfully, ere he departs.\r\n",
            "\r\n",
            "But he is not always alone. When the long winter nights come on and the\r\n",
            "wolves follow their meat into the lower valleys, he may be seen running\r\n",
            "at the head of the pack through the pale moonlight or glimmering\r\n",
            "borealis, leaping gigantic above his fellows, his great throat a-bellow\r\n",
            "as he sings a song of the younger world, which is the song of the pack.\n"
          ]
        }
      ]
    },
    {
      "cell_type": "code",
      "source": [
        "print(text[:250])"
      ],
      "metadata": {
        "colab": {
          "base_uri": "https://localhost:8080/"
        },
        "id": "kSiKdNQZ6uG8",
        "outputId": "a4ab3f45-c3ff-40f5-9d86-6f28949d6977"
      },
      "execution_count": 39,
      "outputs": [
        {
          "output_type": "stream",
          "name": "stdout",
          "text": [
            "Chapter I. Into the Primitive\r\n",
            "\r\n",
            "“Old longings nomadic leap,\r\n",
            "Chafing at custom’s chain;\r\n",
            "Again from its brumal sleep\r\n",
            "Wakens the ferine strain.”\r\n",
            "\r\n",
            "\r\n",
            "Buck did not read the newspapers, or he would have known that trouble\r\n",
            "was brewing, not alone for h\n"
          ]
        }
      ]
    },
    {
      "cell_type": "code",
      "execution_count": 6,
      "metadata": {
        "colab": {
          "base_uri": "https://localhost:8080/"
        },
        "id": "2SLd7l0HP1Po",
        "outputId": "06be54c4-1cfe-477c-a512-f531d9d218df"
      },
      "outputs": [
        {
          "output_type": "stream",
          "name": "stdout",
          "text": [
            "75 unique characters\n",
            "['\\n', '\\r', ' ', '!', '(', ')', ',', '-', '.', '1', '7', '8', '9', ':', ';', '?', 'A', 'B', 'C', 'D', 'E', 'F', 'G', 'H', 'I', 'J', 'K', 'L', 'M', 'N', 'O', 'P', 'Q', 'R', 'S', 'T', 'U', 'V', 'W', 'Y', '_', 'a', 'b', 'c', 'd', 'e', 'f', 'g', 'h', 'i', 'j', 'k', 'l', 'm', 'n', 'o', 'p', 'q', 'r', 's', 't', 'u', 'v', 'w', 'x', 'y', 'z', 'ç', 'ñ', 'œ', '—', '‘', '’', '“', '”']\n"
          ]
        }
      ],
      "source": [
        "# Now we'll get a list of the unique characters in the file. This will form the\n",
        "# vocabulary of our network. There may be some characters we want to remove from this \n",
        "# set as we refine the network.\n",
        "vocab = sorted(set(text))\n",
        "print('{} unique characters'.format(len(vocab)))\n",
        "print(vocab)"
      ]
    },
    {
      "cell_type": "code",
      "execution_count": 7,
      "metadata": {
        "id": "NtjOxL7wQibb"
      },
      "outputs": [],
      "source": [
        "# Next, we'll encode encode these characters into numbers so we can use them\n",
        "# with our neural network, then we'll create some mappings between the characters\n",
        "# and their numeric representations\n",
        "ids_from_chars = preprocessing.StringLookup(vocabulary=list(vocab))\n",
        "chars_from_ids = tf.keras.layers.experimental.preprocessing.StringLookup(vocabulary=ids_from_chars.get_vocabulary(), invert=True)\n",
        "\n",
        "# Here's a little helper function that we can use to turn a sequence of ids\n",
        "# back into a string:\n",
        "# turn them into a string:\n",
        "def text_from_ids(ids):\n",
        "  joinedTensor = tf.strings.reduce_join(chars_from_ids(ids), axis=-1)\n",
        "  return joinedTensor.numpy().decode(\"utf-8\")"
      ]
    },
    {
      "cell_type": "code",
      "execution_count": 8,
      "metadata": {
        "colab": {
          "base_uri": "https://localhost:8080/"
        },
        "id": "52bkemreRw8q",
        "outputId": "4a7f33a0-b41d-4eef-ed94-71b2f23ad374"
      },
      "outputs": [
        {
          "output_type": "execute_result",
          "data": {
            "text/plain": [
              "<tf.Tensor: shape=(5,), dtype=int64, numpy=array([36, 59, 62, 61, 49])>"
            ]
          },
          "metadata": {},
          "execution_count": 8
        }
      ],
      "source": [
        "# Now we'll verify that they work, by getting the code for \"A\", and then looking\n",
        "# that up in reverse\n",
        "testids = ids_from_chars([\"T\", \"r\", \"u\", \"t\", \"h\"])\n",
        "testids"
      ]
    },
    {
      "cell_type": "code",
      "execution_count": 9,
      "metadata": {
        "colab": {
          "base_uri": "https://localhost:8080/"
        },
        "id": "vGUnSHjtD_IJ",
        "outputId": "8cdbdd9a-6b84-4ab6-adfb-8b1ec1ef547c"
      },
      "outputs": [
        {
          "output_type": "execute_result",
          "data": {
            "text/plain": [
              "<tf.Tensor: shape=(5,), dtype=string, numpy=array([b'T', b'r', b'u', b't', b'h'], dtype=object)>"
            ]
          },
          "metadata": {},
          "execution_count": 9
        }
      ],
      "source": [
        "chars_from_ids(testids)"
      ]
    },
    {
      "cell_type": "code",
      "execution_count": 10,
      "metadata": {
        "colab": {
          "base_uri": "https://localhost:8080/",
          "height": 35
        },
        "id": "8rghkpLLLjL5",
        "outputId": "554c2c37-f638-4b15-b9ac-d4c726a3f189"
      },
      "outputs": [
        {
          "output_type": "execute_result",
          "data": {
            "text/plain": [
              "'Truth'"
            ],
            "application/vnd.google.colaboratory.intrinsic+json": {
              "type": "string"
            }
          },
          "metadata": {},
          "execution_count": 10
        }
      ],
      "source": [
        "testString = text_from_ids( testids )\n",
        "testString"
      ]
    },
    {
      "cell_type": "markdown",
      "metadata": {
        "id": "MRXMVqTcSpA0"
      },
      "source": [
        "## II. Construct our training data\n",
        "Next we need to construct our training data by building sentence chunks. Each chunk will consist of a sequence of characters and a corresponding \"next sequence\" of the same length showing what would happen if we move forward in the text. This \"next sequence\" becomes our target variable.\n",
        "\n",
        "For example, if this were our text:\n",
        "\n",
        "> It is a truth universally acknowledged, that a single man in possession\n",
        "of a good fortune, must be in want of a wife.\n",
        "\n",
        "And our sequence length was 10 with a step size of 1, our first chunk would be:\n",
        "\n",
        "* Sequence: `It is a tr`\n",
        "* Next Sequence: `t is a tru`\n",
        "\n",
        "Our second chunk would be:\n",
        "\n",
        "* Sequence: `t is a tru`\n",
        "* Next Word: ` is a trut`\n",
        "\n"
      ]
    },
    {
      "cell_type": "code",
      "execution_count": 11,
      "metadata": {
        "colab": {
          "base_uri": "https://localhost:8080/"
        },
        "id": "5PLJWOg2P_fE",
        "outputId": "b8dadb7e-c053-48eb-c27d-ff661ae3efd1"
      },
      "outputs": [
        {
          "output_type": "execute_result",
          "data": {
            "text/plain": [
              "<tf.Tensor: shape=(178272,), dtype=int64, numpy=array([19, 49, 42, ..., 44, 52,  9])>"
            ]
          },
          "metadata": {},
          "execution_count": 11
        }
      ],
      "source": [
        "# First, create a stream of encoded integers from our text\n",
        "all_ids = ids_from_chars(tf.strings.unicode_split(text, 'UTF-8'))\n",
        "all_ids"
      ]
    },
    {
      "cell_type": "code",
      "execution_count": 12,
      "metadata": {
        "id": "-nBqVY6pFpZs"
      },
      "outputs": [],
      "source": [
        "# Now, convert that into a tensorflow dataset\n",
        "ids_dataset = tf.data.Dataset.from_tensor_slices(all_ids)"
      ]
    },
    {
      "cell_type": "code",
      "execution_count": 13,
      "metadata": {
        "id": "8Fr28CJxUBtG"
      },
      "outputs": [],
      "source": [
        "# Finally, let's batch these sequences up into chunks for our training\n",
        "seq_length = 50\n",
        "sequences = ids_dataset.batch(seq_length+1, drop_remainder=True)\n",
        "\n",
        "# This function will generate our sequence pairs:\n",
        "def split_input_target(sequence):\n",
        "    input_text = sequence[:-1]\n",
        "    target_text = sequence[1:]\n",
        "    return input_text, target_text\n",
        "\n",
        "# Call the function for every sequence in our list to create a new dataset\n",
        "# of input->target pairs\n",
        "dataset = sequences.map(split_input_target)"
      ]
    },
    {
      "cell_type": "code",
      "execution_count": 15,
      "metadata": {
        "colab": {
          "base_uri": "https://localhost:8080/"
        },
        "id": "poNVukmsUFkq",
        "outputId": "fef4ebef-4b5e-4721-ffef-91f6370a37f8"
      },
      "outputs": [
        {
          "output_type": "stream",
          "name": "stdout",
          "text": [
            "Input:  Chapter I. Into the Primitive\r\n",
            "\r\n",
            "“Old longings nomadic leap,\r\n",
            "Chafing at custom’s chain;\r\n",
            "Again from its brumal sleep\r\n",
            "Wakens\n",
            "--------\n",
            "Target:  hapter I. Into the Primitive\r\n",
            "\r\n",
            "“Old longings nomadic leap,\r\n",
            "Chafing at custom’s chain;\r\n",
            "Again from its brumal sleep\r\n",
            "Wakens \n",
            "Input:  the ferine strain.”\r\n",
            "\r\n",
            "\r\n",
            "Buck did not read the newspapers, or he would have known that trouble\r\n",
            "was brewing, not alone for hi\n",
            "--------\n",
            "Target:  he ferine strain.”\r\n",
            "\r\n",
            "\r\n",
            "Buck did not read the newspapers, or he would have known that trouble\r\n",
            "was brewing, not alone for him\n"
          ]
        }
      ],
      "source": [
        "# Verify our sequences\n",
        "for input_example, target_example in  dataset.take(2):\n",
        "    print(\"Input: \", text_from_ids(input_example))\n",
        "    print(\"--------\")\n",
        "    print(\"Target: \", text_from_ids(target_example))"
      ]
    },
    {
      "cell_type": "code",
      "execution_count": 16,
      "metadata": {
        "colab": {
          "base_uri": "https://localhost:8080/"
        },
        "id": "QDdr6xfZYa0o",
        "outputId": "31edfcb8-1eaa-4cb8-f593-75685dbbee64"
      },
      "outputs": [
        {
          "output_type": "execute_result",
          "data": {
            "text/plain": [
              "<PrefetchDataset element_spec=(TensorSpec(shape=(64, 125), dtype=tf.int64, name=None), TensorSpec(shape=(64, 125), dtype=tf.int64, name=None))>"
            ]
          },
          "metadata": {},
          "execution_count": 16
        }
      ],
      "source": [
        "# Finally, we'll randomize the sequences so that we don't just memorize the books\n",
        "# in the order they were written, then build a new streaming dataset from that.\n",
        "# Using a streaming dataset allows us to pass the data to our network bit by bit,\n",
        "# rather than keeping it all in memory. We'll set it to figure out how much data\n",
        "# to prefetch in the background.\n",
        "\n",
        "BATCH_SIZE = 64\n",
        "BUFFER_SIZE = 10000\n",
        "\n",
        "dataset = (\n",
        "    dataset\n",
        "    .shuffle(BUFFER_SIZE)\n",
        "    .batch(BATCH_SIZE, drop_remainder=True)\n",
        "    .prefetch(tf.data.experimental.AUTOTUNE))\n",
        "\n",
        "dataset"
      ]
    },
    {
      "cell_type": "markdown",
      "metadata": {
        "id": "0VQ-KjEeZMzd"
      },
      "source": [
        "## III. Build the model\n",
        "\n",
        "Next, we'll build our model. Up until this point, you've been using the Keras symbolic, or imperative API for creating your models. Doing something like:\n",
        "\n",
        "    model = tf.keras.models.Sequentla()\n",
        "    model.add(tf.keras.layers.Dense(80, activation='relu))\n",
        "    etc...\n",
        "\n",
        "However, tensorflow has another way to build models called the Functional API, which gives us a lot more control over what happens inside the model. You can read more about [the differences and when to use each here](https://blog.tensorflow.org/2019/01/what-are-symbolic-and-imperative-apis.html).\n",
        "\n",
        "We'll use the functional API for our RNN in this example. This will involve defining our model as a custom subclass of `tf.keras.Model`.\n",
        "\n",
        "If you're not familiar with classes in python, you might want to review [this quick tutorial](https://www.w3schools.com/python/python_classes.asp), as well as [this one on class inheritance](https://www.w3schools.com/python/python_inheritance.asp).\n",
        "\n",
        "Using a functional model is important for our situation because we're not just training it to predict a single character for a single sequence, but as we make predictions with it, we need it to remember those predictions as use that memory as it makes new predictions.\n"
      ]
    },
    {
      "cell_type": "code",
      "execution_count": 17,
      "metadata": {
        "id": "Fj4uh9y-Y9mx"
      },
      "outputs": [],
      "source": [
        "# Create our custom model. Given a sequence of characters, this\n",
        "# model's job is to predict what character should come next.\n",
        "class LondonTextModel(tf.keras.Model):\n",
        "\n",
        "  # This is our class constructor method, it will be executed when\n",
        "  # we first create an instance of the class \n",
        "  def __init__(self, vocab_size, embedding_dim, rnn_units):\n",
        "    super().__init__(self)\n",
        "\n",
        "    # Our model will have three layers:\n",
        "    \n",
        "    # 1. An embedding layer that handles the encoding of our vocabulary into\n",
        "    #    a vector of values suitable for a neural network\n",
        "    self.embedding = tf.keras.layers.Embedding(vocab_size, embedding_dim)\n",
        "\n",
        "    # 2. A GRU layer that handles the \"memory\" aspects of our RNN. If you're\n",
        "    #    wondering why we use GRU instead of LSTM, and whether LSTM is better,\n",
        "    #    take a look at this article: https://datascience.stackexchange.com/questions/14581/when-to-use-gru-over-lstm\n",
        "    #    then consider trying out LSTM instead (or in addition to!)\n",
        "    self.gru = tf.keras.layers.GRU(rnn_units, return_sequences=True, return_state=True)\n",
        "    #self.gruSecond = tf.keras.layers.GRU(rnn_units, return_sequences=True, return_state=True)\n",
        "    # 3. Our output layer that will give us a set of probabilities for each\n",
        "    #    character in our vocabulary.\n",
        "    self.dense = tf.keras.layers.Dense(vocab_size)\n",
        "\n",
        "  # This function will be executed for each epoch of our training. Here\n",
        "  # we will manually feed information from one layer of our network to the \n",
        "  # next.\n",
        "  def call(self, inputs, states=None, return_state=False, training=False):\n",
        "    x = inputs\n",
        "\n",
        "    # 1. Feed the inputs into the embedding layer, and tell it if we are\n",
        "    #    training or predicting\n",
        "    x = self.embedding(x, training=training)\n",
        "\n",
        "    # 2. If we don't have any state in memory yet, get the initial random state\n",
        "    #    from our GRUI layer.\n",
        "    if states is None:\n",
        "      states = self.gru.get_initial_state(x)\n",
        "    \n",
        "    # 3. Now, feed the vectorized input along with the current state of memory\n",
        "    #    into the gru layer.\n",
        "    x, states = self.gru(x, initial_state=states, training=training)\n",
        "    #x, states = self.gruSecond(x, initial_state=states, training=training)\n",
        "    # 4. Finally, pass the results on to the dense layer\n",
        "    x = self.dense(x, training=training)\n",
        "\n",
        "    # 5. Return the results\n",
        "    if return_state:\n",
        "      return x, states\n",
        "    else: \n",
        "      return x"
      ]
    },
    {
      "cell_type": "code",
      "execution_count": 18,
      "metadata": {
        "id": "UA2C6pxZc4De"
      },
      "outputs": [],
      "source": [
        "# Create an instance of our model\n",
        "vocab_size=len(ids_from_chars.get_vocabulary())\n",
        "embedding_dim = 256\n",
        "rnn_units = 2048\n",
        "\n",
        "model = LondonTextModel(vocab_size, embedding_dim, rnn_units)"
      ]
    },
    {
      "cell_type": "code",
      "execution_count": 19,
      "metadata": {
        "colab": {
          "base_uri": "https://localhost:8080/"
        },
        "id": "C67kN7YAdfSf",
        "outputId": "76881258-9955-4948-9a4b-5c7c4faafebf"
      },
      "outputs": [
        {
          "output_type": "stream",
          "name": "stdout",
          "text": [
            "(64, 125, 76) # (batch_size, sequence_length, vocab_size)\n"
          ]
        }
      ],
      "source": [
        "# Verify the output of our model is correct by running one sample through\n",
        "# This will also compile the model for us. This step will take a bit.\n",
        "for input_example_batch, target_example_batch in dataset.take(1):\n",
        "    example_batch_predictions = model(input_example_batch)\n",
        "    print(example_batch_predictions.shape, \"# (batch_size, sequence_length, vocab_size)\")\n"
      ]
    },
    {
      "cell_type": "code",
      "execution_count": 20,
      "metadata": {
        "colab": {
          "base_uri": "https://localhost:8080/"
        },
        "id": "qJGL8gCWdsiu",
        "outputId": "1dd669b1-f81f-4f51-ebd8-30ea57fe9f0a"
      },
      "outputs": [
        {
          "output_type": "stream",
          "name": "stdout",
          "text": [
            "Model: \"london_text_model\"\n",
            "_________________________________________________________________\n",
            " Layer (type)                Output Shape              Param #   \n",
            "=================================================================\n",
            " embedding (Embedding)       multiple                  19456     \n",
            "                                                                 \n",
            " gru (GRU)                   multiple                  14168064  \n",
            "                                                                 \n",
            " dense (Dense)               multiple                  155724    \n",
            "                                                                 \n",
            "=================================================================\n",
            "Total params: 14,343,244\n",
            "Trainable params: 14,343,244\n",
            "Non-trainable params: 0\n",
            "_________________________________________________________________\n"
          ]
        }
      ],
      "source": [
        "# Now let's view the model summary\n",
        "model.summary()"
      ]
    },
    {
      "cell_type": "code",
      "source": [
        ""
      ],
      "metadata": {
        "id": "tuZLvEnVH6mE"
      },
      "execution_count": null,
      "outputs": []
    },
    {
      "cell_type": "markdown",
      "source": [
        "# Add tensorboard to look at the process"
      ],
      "metadata": {
        "id": "Rc24z5bkmKZb"
      }
    },
    {
      "cell_type": "code",
      "execution_count": 21,
      "metadata": {
        "id": "6B95Hb6YVgPZ"
      },
      "outputs": [],
      "source": [
        "# Load the TensorBoard notebook extension\n",
        "%load_ext tensorboard\n",
        "import datetime"
      ]
    },
    {
      "cell_type": "code",
      "execution_count": 22,
      "metadata": {
        "id": "Ao7fJW1Pyiza"
      },
      "outputs": [],
      "source": [
        "# Clear any logs from previous runs\n",
        "!rm -rf ./logs/ \n"
      ]
    },
    {
      "cell_type": "code",
      "source": [
        "#create directory and callbacks\n",
        "log_dir = \"logs/fit/\" + datetime.datetime.now().strftime(\"%Y%m%d-%H%M%S\")\n",
        "tensorboard_callback = tf.keras.callbacks.TensorBoard(log_dir=log_dir, histogram_freq=1)\n"
      ],
      "metadata": {
        "id": "HPI1mP8u1Qrx"
      },
      "execution_count": 23,
      "outputs": []
    },
    {
      "cell_type": "markdown",
      "metadata": {
        "id": "wTDe5m4baEqo"
      },
      "source": [
        "## IV. Train the model\n",
        "\n",
        "For our purposes, we'll be using [categorical cross entropy](https://machinelearningmastery.com/cross-entropy-for-machine-learning/) as our loss function*. Also, our model will be outputting [\"logits\" rather than normalized probabilities](https://stackoverflow.com/questions/41455101/what-is-the-meaning-of-the-word-logits-in-tensorflow), because we'll be doing further transformations on the output later. \n",
        "\n",
        "\n",
        "\\* Note that since our model deals with integer encoding rather than one-hot encoding, we'll specifically be using [sparse categorical cross entropy](https://stats.stackexchange.com/questions/326065/cross-entropy-vs-sparse-cross-entropy-when-to-use-one-over-the-other)."
      ]
    },
    {
      "cell_type": "code",
      "execution_count": 24,
      "metadata": {
        "colab": {
          "base_uri": "https://localhost:8080/"
        },
        "outputId": "d5eec807-d518-487f-dd8e-4f16dec7b1f3",
        "id": "S3OOzyG4UDp6"
      },
      "outputs": [
        {
          "output_type": "stream",
          "name": "stdout",
          "text": [
            "Epoch 1/100\n",
            "22/22 [==============================] - 10s 349ms/step - loss: 4.5819 - accuracy: 0.1682\n",
            "Epoch 2/100\n",
            "22/22 [==============================] - 7s 317ms/step - loss: 2.9889 - accuracy: 0.2546\n",
            "Epoch 3/100\n",
            "22/22 [==============================] - 7s 320ms/step - loss: 2.5020 - accuracy: 0.3125\n",
            "Epoch 4/100\n",
            "22/22 [==============================] - 7s 321ms/step - loss: 2.3009 - accuracy: 0.3444\n",
            "Epoch 5/100\n",
            "22/22 [==============================] - 7s 324ms/step - loss: 2.1933 - accuracy: 0.3732\n",
            "Epoch 6/100\n",
            "22/22 [==============================] - 7s 327ms/step - loss: 2.1163 - accuracy: 0.3902\n",
            "Epoch 7/100\n",
            "22/22 [==============================] - 7s 326ms/step - loss: 2.0459 - accuracy: 0.4062\n",
            "Epoch 8/100\n",
            "22/22 [==============================] - 7s 331ms/step - loss: 1.9782 - accuracy: 0.4197\n",
            "Epoch 9/100\n",
            "22/22 [==============================] - 7s 331ms/step - loss: 1.9097 - accuracy: 0.4387\n",
            "Epoch 10/100\n",
            "22/22 [==============================] - 7s 332ms/step - loss: 1.8449 - accuracy: 0.4546\n",
            "Epoch 11/100\n",
            "22/22 [==============================] - 8s 337ms/step - loss: 1.7795 - accuracy: 0.4722\n",
            "Epoch 12/100\n",
            "22/22 [==============================] - 8s 341ms/step - loss: 1.7221 - accuracy: 0.4861\n",
            "Epoch 13/100\n",
            "22/22 [==============================] - 8s 345ms/step - loss: 1.6666 - accuracy: 0.5012\n",
            "Epoch 14/100\n",
            "22/22 [==============================] - 8s 346ms/step - loss: 1.6102 - accuracy: 0.5154\n",
            "Epoch 15/100\n",
            "22/22 [==============================] - 8s 351ms/step - loss: 1.5577 - accuracy: 0.5293\n",
            "Epoch 16/100\n",
            "22/22 [==============================] - 8s 350ms/step - loss: 1.5038 - accuracy: 0.5429\n",
            "Epoch 17/100\n",
            "22/22 [==============================] - 8s 343ms/step - loss: 1.4473 - accuracy: 0.5583\n",
            "Epoch 18/100\n",
            "22/22 [==============================] - 8s 341ms/step - loss: 1.3884 - accuracy: 0.5745\n",
            "Epoch 19/100\n",
            "22/22 [==============================] - 8s 339ms/step - loss: 1.3317 - accuracy: 0.5898\n",
            "Epoch 20/100\n",
            "22/22 [==============================] - 8s 340ms/step - loss: 1.2692 - accuracy: 0.6079\n",
            "Epoch 21/100\n",
            "22/22 [==============================] - 8s 339ms/step - loss: 1.2045 - accuracy: 0.6268\n",
            "Epoch 22/100\n",
            "22/22 [==============================] - 8s 342ms/step - loss: 1.1368 - accuracy: 0.6467\n",
            "Epoch 23/100\n",
            "22/22 [==============================] - 8s 345ms/step - loss: 1.0604 - accuracy: 0.6713\n",
            "Epoch 24/100\n",
            "22/22 [==============================] - 8s 346ms/step - loss: 0.9789 - accuracy: 0.6977\n",
            "Epoch 25/100\n",
            "22/22 [==============================] - 8s 347ms/step - loss: 0.8918 - accuracy: 0.7263\n",
            "Epoch 26/100\n",
            "22/22 [==============================] - 8s 346ms/step - loss: 0.8066 - accuracy: 0.7535\n",
            "Epoch 27/100\n",
            "22/22 [==============================] - 8s 344ms/step - loss: 0.7070 - accuracy: 0.7909\n",
            "Epoch 28/100\n",
            "22/22 [==============================] - 8s 342ms/step - loss: 0.6099 - accuracy: 0.8259\n",
            "Epoch 29/100\n",
            "22/22 [==============================] - 8s 335ms/step - loss: 0.5157 - accuracy: 0.8596\n",
            "Epoch 30/100\n",
            "22/22 [==============================] - 8s 340ms/step - loss: 0.4241 - accuracy: 0.8924\n",
            "Epoch 31/100\n",
            "22/22 [==============================] - 8s 342ms/step - loss: 0.3437 - accuracy: 0.9189\n",
            "Epoch 32/100\n",
            "22/22 [==============================] - 8s 347ms/step - loss: 0.2740 - accuracy: 0.9412\n",
            "Epoch 33/100\n",
            "22/22 [==============================] - 8s 350ms/step - loss: 0.2173 - accuracy: 0.9575\n",
            "Epoch 34/100\n",
            "22/22 [==============================] - 8s 347ms/step - loss: 0.1733 - accuracy: 0.9687\n",
            "Epoch 35/100\n",
            "22/22 [==============================] - 8s 345ms/step - loss: 0.1386 - accuracy: 0.9761\n",
            "Epoch 36/100\n",
            "22/22 [==============================] - 8s 342ms/step - loss: 0.1138 - accuracy: 0.9800\n",
            "Epoch 37/100\n",
            "22/22 [==============================] - 8s 342ms/step - loss: 0.0962 - accuracy: 0.9823\n",
            "Epoch 38/100\n",
            "22/22 [==============================] - 8s 345ms/step - loss: 0.0834 - accuracy: 0.9836\n",
            "Epoch 39/100\n",
            "22/22 [==============================] - 8s 347ms/step - loss: 0.0750 - accuracy: 0.9842\n",
            "Epoch 40/100\n",
            "22/22 [==============================] - 8s 343ms/step - loss: 0.0691 - accuracy: 0.9846\n",
            "Epoch 41/100\n",
            "22/22 [==============================] - 8s 341ms/step - loss: 0.0647 - accuracy: 0.9848\n",
            "Epoch 42/100\n",
            "22/22 [==============================] - 8s 344ms/step - loss: 0.0618 - accuracy: 0.9850\n",
            "Epoch 43/100\n",
            "22/22 [==============================] - 8s 345ms/step - loss: 0.0596 - accuracy: 0.9852\n",
            "Epoch 44/100\n",
            "22/22 [==============================] - 8s 344ms/step - loss: 0.0575 - accuracy: 0.9853\n",
            "Epoch 45/100\n",
            "22/22 [==============================] - 8s 344ms/step - loss: 0.0563 - accuracy: 0.9853\n",
            "Epoch 46/100\n",
            "22/22 [==============================] - 8s 346ms/step - loss: 0.0553 - accuracy: 0.9854\n",
            "Epoch 47/100\n",
            "22/22 [==============================] - 8s 346ms/step - loss: 0.0544 - accuracy: 0.9853\n",
            "Epoch 48/100\n",
            "22/22 [==============================] - 8s 345ms/step - loss: 0.0535 - accuracy: 0.9854\n",
            "Epoch 49/100\n",
            "22/22 [==============================] - 8s 345ms/step - loss: 0.0527 - accuracy: 0.9854\n",
            "Epoch 50/100\n",
            "22/22 [==============================] - 8s 345ms/step - loss: 0.0516 - accuracy: 0.9853\n",
            "Epoch 51/100\n",
            "22/22 [==============================] - 8s 341ms/step - loss: 0.0509 - accuracy: 0.9856\n",
            "Epoch 52/100\n",
            "22/22 [==============================] - 8s 339ms/step - loss: 0.0501 - accuracy: 0.9855\n",
            "Epoch 53/100\n",
            "22/22 [==============================] - 8s 342ms/step - loss: 0.0497 - accuracy: 0.9854\n",
            "Epoch 54/100\n",
            "22/22 [==============================] - 8s 339ms/step - loss: 0.0490 - accuracy: 0.9856\n",
            "Epoch 55/100\n",
            "22/22 [==============================] - 8s 340ms/step - loss: 0.0490 - accuracy: 0.9855\n",
            "Epoch 56/100\n",
            "22/22 [==============================] - 8s 343ms/step - loss: 0.0487 - accuracy: 0.9856\n",
            "Epoch 57/100\n",
            "22/22 [==============================] - 8s 349ms/step - loss: 0.0485 - accuracy: 0.9857\n",
            "Epoch 58/100\n",
            "22/22 [==============================] - 8s 347ms/step - loss: 0.0483 - accuracy: 0.9854\n",
            "Epoch 59/100\n",
            "22/22 [==============================] - 8s 345ms/step - loss: 0.0479 - accuracy: 0.9856\n",
            "Epoch 60/100\n",
            "22/22 [==============================] - 8s 348ms/step - loss: 0.0471 - accuracy: 0.9856\n",
            "Epoch 61/100\n",
            "22/22 [==============================] - 8s 344ms/step - loss: 0.0474 - accuracy: 0.9856\n",
            "Epoch 62/100\n",
            "22/22 [==============================] - 8s 342ms/step - loss: 0.0475 - accuracy: 0.9854\n",
            "Epoch 63/100\n",
            "22/22 [==============================] - 8s 340ms/step - loss: 0.0474 - accuracy: 0.9855\n",
            "Epoch 64/100\n",
            "22/22 [==============================] - 8s 342ms/step - loss: 0.0477 - accuracy: 0.9854\n",
            "Epoch 65/100\n",
            "22/22 [==============================] - 8s 346ms/step - loss: 0.0488 - accuracy: 0.9853\n",
            "Epoch 66/100\n",
            "22/22 [==============================] - 8s 346ms/step - loss: 0.0503 - accuracy: 0.9850\n",
            "Epoch 67/100\n",
            "22/22 [==============================] - 8s 344ms/step - loss: 0.0541 - accuracy: 0.9845\n",
            "Epoch 68/100\n",
            "22/22 [==============================] - 8s 347ms/step - loss: 0.0660 - accuracy: 0.9819\n",
            "Epoch 69/100\n",
            "22/22 [==============================] - 8s 347ms/step - loss: 0.1036 - accuracy: 0.9708\n",
            "Epoch 70/100\n",
            "22/22 [==============================] - 8s 347ms/step - loss: 0.1579 - accuracy: 0.9523\n",
            "Epoch 71/100\n",
            "22/22 [==============================] - 8s 344ms/step - loss: 0.1733 - accuracy: 0.9468\n",
            "Epoch 72/100\n",
            "22/22 [==============================] - 8s 343ms/step - loss: 0.1364 - accuracy: 0.9600\n",
            "Epoch 73/100\n",
            "22/22 [==============================] - 8s 343ms/step - loss: 0.0947 - accuracy: 0.9744\n",
            "Epoch 74/100\n",
            "22/22 [==============================] - 8s 341ms/step - loss: 0.0689 - accuracy: 0.9818\n",
            "Epoch 75/100\n",
            "22/22 [==============================] - 8s 343ms/step - loss: 0.0557 - accuracy: 0.9844\n",
            "Epoch 76/100\n",
            "22/22 [==============================] - 8s 345ms/step - loss: 0.0495 - accuracy: 0.9853\n",
            "Epoch 77/100\n",
            "22/22 [==============================] - 8s 346ms/step - loss: 0.0463 - accuracy: 0.9854\n",
            "Epoch 78/100\n",
            "22/22 [==============================] - 8s 348ms/step - loss: 0.0448 - accuracy: 0.9854\n",
            "Epoch 79/100\n",
            "22/22 [==============================] - 8s 344ms/step - loss: 0.0441 - accuracy: 0.9854\n",
            "Epoch 80/100\n",
            "22/22 [==============================] - 8s 348ms/step - loss: 0.0437 - accuracy: 0.9857\n",
            "Epoch 81/100\n",
            "22/22 [==============================] - 8s 345ms/step - loss: 0.0435 - accuracy: 0.9855\n",
            "Epoch 82/100\n",
            "22/22 [==============================] - 8s 345ms/step - loss: 0.0430 - accuracy: 0.9856\n",
            "Epoch 83/100\n",
            "22/22 [==============================] - 8s 343ms/step - loss: 0.0428 - accuracy: 0.9855\n",
            "Epoch 84/100\n",
            "22/22 [==============================] - 8s 344ms/step - loss: 0.0428 - accuracy: 0.9855\n",
            "Epoch 85/100\n",
            "22/22 [==============================] - 8s 346ms/step - loss: 0.0424 - accuracy: 0.9856\n",
            "Epoch 86/100\n",
            "22/22 [==============================] - 8s 345ms/step - loss: 0.0426 - accuracy: 0.9853\n",
            "Epoch 87/100\n",
            "22/22 [==============================] - 8s 346ms/step - loss: 0.0424 - accuracy: 0.9855\n",
            "Epoch 88/100\n",
            "22/22 [==============================] - 8s 347ms/step - loss: 0.0423 - accuracy: 0.9854\n",
            "Epoch 89/100\n",
            "22/22 [==============================] - 8s 349ms/step - loss: 0.0426 - accuracy: 0.9856\n",
            "Epoch 90/100\n",
            "22/22 [==============================] - 8s 342ms/step - loss: 0.0419 - accuracy: 0.9856\n",
            "Epoch 91/100\n",
            "22/22 [==============================] - 8s 337ms/step - loss: 0.0418 - accuracy: 0.9856\n",
            "Epoch 92/100\n",
            "22/22 [==============================] - 8s 339ms/step - loss: 0.0424 - accuracy: 0.9855\n",
            "Epoch 93/100\n",
            "22/22 [==============================] - 8s 345ms/step - loss: 0.0415 - accuracy: 0.9856\n",
            "Epoch 94/100\n",
            "22/22 [==============================] - 8s 350ms/step - loss: 0.0418 - accuracy: 0.9854\n",
            "Epoch 95/100\n",
            "22/22 [==============================] - 8s 344ms/step - loss: 0.0416 - accuracy: 0.9855\n",
            "Epoch 96/100\n",
            "22/22 [==============================] - 8s 343ms/step - loss: 0.0415 - accuracy: 0.9856\n",
            "Epoch 97/100\n",
            "22/22 [==============================] - 8s 342ms/step - loss: 0.0418 - accuracy: 0.9855\n",
            "Epoch 98/100\n",
            "22/22 [==============================] - 8s 343ms/step - loss: 0.0415 - accuracy: 0.9856\n",
            "Epoch 99/100\n",
            "22/22 [==============================] - 8s 346ms/step - loss: 0.0421 - accuracy: 0.9855\n",
            "Epoch 100/100\n",
            "22/22 [==============================] - 8s 343ms/step - loss: 0.0415 - accuracy: 0.9855\n"
          ]
        }
      ],
      "source": [
        "loss = tf.losses.SparseCategoricalCrossentropy(from_logits=True)\n",
        "model.compile(optimizer='adam', loss=loss, metrics=['accuracy'])\n",
        "EPOCHS = 100\n",
        "history = model.fit(dataset, epochs=EPOCHS, callbacks=[tensorboard_callback])"
      ]
    },
    {
      "cell_type": "markdown",
      "metadata": {
        "id": "casEwxrXcv4Y"
      },
      "source": [
        "## V. Use the model\n",
        "\n",
        "Now that our model has been trained, we can use it to generate text. As mentioned earlier, to do so we have to keep track of its internal state, or memory, so that we can use previous text predictions to inform later ones.\n",
        "\n",
        "However, with RNN generated text, if we always just pick the character with the highest probability, our model tends to get stuck in a loop. So instead we will create a probability distribution of characters for each step, and then sample from that distribution. We can add some variation to this using a paramter known as [\"temperature\"](https://cs.stackexchange.com/questions/79241/what-is-temperature-in-lstm-and-neural-networks-generally)."
      ]
    },
    {
      "cell_type": "code",
      "execution_count": 27,
      "metadata": {
        "id": "V3lhlyfwcqIN"
      },
      "outputs": [],
      "source": [
        "# Here's the code we'll use to sample for us. It has some extra steps to apply\n",
        "# the temperature to the distribution, and to make sure we don't get empty\n",
        "# characters in our text. Most importantly, it will keep track of our model\n",
        "# state for us.\n",
        "\n",
        "class OneStep(tf.keras.Model):\n",
        "  def __init__(self, model, chars_from_ids, ids_from_chars, temperature=0.9):\n",
        "    super().__init__()\n",
        "    self.temperature=temperature\n",
        "    self.model = model\n",
        "    self.chars_from_ids = chars_from_ids\n",
        "    self.ids_from_chars = ids_from_chars\n",
        "\n",
        "    # Create a mask to prevent \"\" or \"[UNK]\" from being generated.\n",
        "    skip_ids = self.ids_from_chars(['','[UNK]'])[:, None]\n",
        "    sparse_mask = tf.SparseTensor(\n",
        "        # Put a -inf at each bad index.\n",
        "        values=[-float('inf')]*len(skip_ids),\n",
        "        indices = skip_ids,\n",
        "        # Match the shape to the vocabulary\n",
        "        dense_shape=[len(ids_from_chars.get_vocabulary())]) \n",
        "    self.prediction_mask = tf.sparse.to_dense(sparse_mask,validate_indices=False)\n",
        "\n",
        "  @tf.function\n",
        "  def generate_one_step(self, inputs, states=None):\n",
        "    # Convert strings to token IDs.\n",
        "    input_chars = tf.strings.unicode_split(inputs, 'UTF-8')\n",
        "    input_ids = self.ids_from_chars(input_chars).to_tensor()\n",
        "\n",
        "    # Run the model.\n",
        "    # predicted_logits.shape is [batch, char, next_char_logits] \n",
        "    predicted_logits, states =  self.model(inputs=input_ids, states=states, \n",
        "                                          return_state=True)\n",
        "    # Only use the last prediction.\n",
        "    predicted_logits = predicted_logits[:, -1, :]\n",
        "    predicted_logits = predicted_logits/self.temperature\n",
        "    \n",
        "    # Apply the prediction mask: prevent \"\" or \"[UNK]\" from being generated.\n",
        "    predicted_logits = predicted_logits + self.prediction_mask\n",
        "\n",
        "    # Sample the output logits to generate token IDs.\n",
        "    predicted_ids = tf.random.categorical(predicted_logits, num_samples=1)\n",
        "    predicted_ids = tf.squeeze(predicted_ids, axis=-1)\n",
        "\n",
        "    # Return the characters and model state.\n",
        "    return chars_from_ids(predicted_ids), states\n"
      ]
    },
    {
      "cell_type": "code",
      "execution_count": 29,
      "metadata": {
        "id": "fSUghgUFc6ba",
        "colab": {
          "base_uri": "https://localhost:8080/"
        },
        "outputId": "8b6d62f8-f269-42c1-a0b2-3314612ebbd1"
      },
      "outputs": [
        {
          "output_type": "stream",
          "name": "stdout",
          "text": [
            "The world seemed like such a peaceful place until the magic tree was discovered in London. Buck was too clever\r\n",
            "ever again to be caught red-handed. He worked faithfully in the narrow, had been called. He\r\n",
            "could feel a punde his fore legs and hitch ahead again for a which,\r\n",
            "which they had been as death. Ks the stard back harding the traces with a jarring lunge. His whole body was\r\n",
            "gathered compactly together in the tremendous effort, the muscles\r\n",
            "wide op things. He cauld upen the dogs, and they were under way an hour or so before\r\n",
            "the darkness fell which gave warning of dawn. At night, came forward. Buck writhed\r\n",
            "his lips into the preliminary of a snarl, but sniffed noses with him. Then they\r\n",
            "became friendly, and played about in the nervous, half-coy way with\r\n",
            "which fighters dropping to lash out at the man in the red sweater.\r\n",
            "\r\n",
            "“‘Answers to the name of Buck,’” the man soliloquized, quoting from the\r\n",
            "saloon-keeper that peered in at him by the sickly light of a\r\n",
            "follow the sounds monistly about in their very midst, tearing,\r\n",
            "rending, destroying the old shoulder trail, they ha\n"
          ]
        }
      ],
      "source": [
        "# Create an instance of the character generator\n",
        "one_step_model = OneStep(model, chars_from_ids, ids_from_chars)\n",
        "\n",
        "# Now, let's generate a 1000 character chapter by giving our model \"Chapter 1\"\n",
        "# as its starting text\n",
        "states = None\n",
        "next_char = tf.constant([\"The world seemed like such a peaceful place until the magic tree was discovered in London.\"])\n",
        "result = [next_char]\n",
        "\n",
        "for n in range(1000):\n",
        "  next_char, states = one_step_model.generate_one_step(next_char, states=states)\n",
        "  result.append(next_char)\n",
        "\n",
        "result = tf.strings.join(result)\n",
        "\n",
        "# Print the results formatted.\n",
        "print(result[0].numpy().decode('utf-8'))\n",
        "\n",
        "\n"
      ]
    },
    {
      "cell_type": "code",
      "source": [
        "finalText = result[0].numpy().decode('utf-8')\n",
        "finalText"
      ],
      "metadata": {
        "colab": {
          "base_uri": "https://localhost:8080/",
          "height": 107
        },
        "id": "SMvXuu9f_QGv",
        "outputId": "0b4bd6ef-4cab-4b28-99bc-198f856568be"
      },
      "execution_count": 30,
      "outputs": [
        {
          "output_type": "execute_result",
          "data": {
            "text/plain": [
              "'The world seemed like such a peaceful place until the magic tree was discovered in London. Buck was too clever\\r\\never again to be caught red-handed. He worked faithfully in the narrow, had been called. He\\r\\ncould feel a punde his fore legs and hitch ahead again for a which,\\r\\nwhich they had been as death. Ks the stard back harding the traces with a jarring lunge. His whole body was\\r\\ngathered compactly together in the tremendous effort, the muscles\\r\\nwide op things. He cauld upen the dogs, and they were under way an hour or so before\\r\\nthe darkness fell which gave warning of dawn. At night, came forward. Buck writhed\\r\\nhis lips into the preliminary of a snarl, but sniffed noses with him. Then they\\r\\nbecame friendly, and played about in the nervous, half-coy way with\\r\\nwhich fighters dropping to lash out at the man in the red sweater.\\r\\n\\r\\n“‘Answers to the name of Buck,’” the man soliloquized, quoting from the\\r\\nsaloon-keeper that peered in at him by the sickly light of a\\r\\nfollow the sounds monistly about in their very midst, tearing,\\r\\nrending, destroying the old shoulder trail, they ha'"
            ],
            "application/vnd.google.colaboratory.intrinsic+json": {
              "type": "string"
            }
          },
          "metadata": {},
          "execution_count": 30
        }
      ]
    },
    {
      "cell_type": "code",
      "source": [
        ""
      ],
      "metadata": {
        "id": "RtcDWcWkDTYk"
      },
      "execution_count": null,
      "outputs": []
    },
    {
      "cell_type": "code",
      "source": [
        "#Create a file to download the results \n",
        "\n",
        "with open('jackLondon2.txt', 'w') as f:\n",
        "    f.write(finalText)"
      ],
      "metadata": {
        "id": "gnTwvVCOKGsR"
      },
      "execution_count": 31,
      "outputs": []
    },
    {
      "cell_type": "code",
      "source": [
        "# Download the results\n",
        "\n",
        "from google.colab import files\n",
        "files.download('jackLondon2.txt') "
      ],
      "metadata": {
        "colab": {
          "base_uri": "https://localhost:8080/",
          "height": 17
        },
        "id": "-332Fg9rE6Sc",
        "outputId": "bf2bfa12-9b4e-432c-a8b2-e54258f0fc8e"
      },
      "execution_count": 32,
      "outputs": [
        {
          "output_type": "display_data",
          "data": {
            "text/plain": [
              "<IPython.core.display.Javascript object>"
            ],
            "application/javascript": [
              "\n",
              "    async function download(id, filename, size) {\n",
              "      if (!google.colab.kernel.accessAllowed) {\n",
              "        return;\n",
              "      }\n",
              "      const div = document.createElement('div');\n",
              "      const label = document.createElement('label');\n",
              "      label.textContent = `Downloading \"${filename}\": `;\n",
              "      div.appendChild(label);\n",
              "      const progress = document.createElement('progress');\n",
              "      progress.max = size;\n",
              "      div.appendChild(progress);\n",
              "      document.body.appendChild(div);\n",
              "\n",
              "      const buffers = [];\n",
              "      let downloaded = 0;\n",
              "\n",
              "      const channel = await google.colab.kernel.comms.open(id);\n",
              "      // Send a message to notify the kernel that we're ready.\n",
              "      channel.send({})\n",
              "\n",
              "      for await (const message of channel.messages) {\n",
              "        // Send a message to notify the kernel that we're ready.\n",
              "        channel.send({})\n",
              "        if (message.buffers) {\n",
              "          for (const buffer of message.buffers) {\n",
              "            buffers.push(buffer);\n",
              "            downloaded += buffer.byteLength;\n",
              "            progress.value = downloaded;\n",
              "          }\n",
              "        }\n",
              "      }\n",
              "      const blob = new Blob(buffers, {type: 'application/binary'});\n",
              "      const a = document.createElement('a');\n",
              "      a.href = window.URL.createObjectURL(blob);\n",
              "      a.download = filename;\n",
              "      div.appendChild(a);\n",
              "      a.click();\n",
              "      div.remove();\n",
              "    }\n",
              "  "
            ]
          },
          "metadata": {}
        },
        {
          "output_type": "display_data",
          "data": {
            "text/plain": [
              "<IPython.core.display.Javascript object>"
            ],
            "application/javascript": [
              "download(\"download_f30112f9-6f72-455e-9eda-711ccf5b6327\", \"jackLondon2.txt\", 1098)"
            ]
          },
          "metadata": {}
        }
      ]
    },
    {
      "cell_type": "markdown",
      "metadata": {
        "id": "b2Cudf3YoaKr"
      },
      "source": [
        "## VI. Next Steps\n",
        "\n",
        "This is a very simple model with one GRU layer and then an output layer. However, considering how simple it is and the fact that we are predicting outputs character by character, the text it produces is pretty amazing. Though it still has a long way to go before publication.\n",
        "\n",
        "There are many other RNN architectures you could try, such as adding additional hidden dense layers, replacing GRU with one or more LSTM layers, combining GRU and LSTM, etc...\n",
        "\n",
        "You could also experiment with better text cleanup to make sure odd punctuation doesn't appear, or finding longer texts to use. If you combine texts from two authors, what happens? Can you generate a Jane Austen stageplay by combining austen and shakespeare texts?\n",
        "\n",
        "Finally, there are a number of hyperparameters to tweak, such as temperature, epochs, batch size, sequence length, etc..."
      ]
    },
    {
      "cell_type": "code",
      "source": [
        "# Save the entire model as a SavedModel. This save into colab.\n",
        "!mkdir -p saved_model\n",
        "model.save('saved_model/my_model')"
      ],
      "metadata": {
        "id": "oxg5my9jbpF6",
        "colab": {
          "base_uri": "https://localhost:8080/"
        },
        "outputId": "5e45dec2-f5b4-4ffc-bbb2-d7b0afb6ce50"
      },
      "execution_count": 33,
      "outputs": [
        {
          "output_type": "stream",
          "name": "stderr",
          "text": [
            "WARNING:absl:Found untraced functions such as gru_cell_layer_call_fn, gru_cell_layer_call_and_return_conditional_losses while saving (showing 2 of 2). These functions will not be directly callable after loading.\n"
          ]
        },
        {
          "output_type": "stream",
          "name": "stdout",
          "text": [
            "INFO:tensorflow:Assets written to: saved_model/my_model/assets\n"
          ]
        },
        {
          "output_type": "stream",
          "name": "stderr",
          "text": [
            "INFO:tensorflow:Assets written to: saved_model/my_model/assets\n",
            "WARNING:absl:<keras.layers.recurrent.GRUCell object at 0x7fa18096c790> has the same name 'GRUCell' as a built-in Keras object. Consider renaming <class 'keras.layers.recurrent.GRUCell'> to avoid naming conflicts when loading with `tf.keras.models.load_model`. If renaming is not possible, pass the object in the `custom_objects` parameter of the load function.\n"
          ]
        }
      ]
    },
    {
      "cell_type": "code",
      "source": [
        "from google.colab import files\n",
        "import shutil\n",
        "# This code compress the directory in a zip file and downloaded\n",
        "# Specify export directory and use tensorflow to save your_model\n",
        "export_dir = './saved_model'\n",
        "exportModel = './saved'\n",
        "#tf.saved_model.save(your_model, export_dir=export_dir)\n",
        "# Download the model (Can take several minutes but work)\n",
        "\n",
        "shutil.make_archive(exportModel, 'zip', export_dir)\n",
        "\n",
        "files.download(exportModel+'.zip')\n"
      ],
      "metadata": {
        "id": "4NblXP02bt_S",
        "colab": {
          "base_uri": "https://localhost:8080/",
          "height": 17
        },
        "outputId": "3f8423c7-557d-41c7-ee31-2dac7d1a18a6"
      },
      "execution_count": 34,
      "outputs": [
        {
          "output_type": "display_data",
          "data": {
            "text/plain": [
              "<IPython.core.display.Javascript object>"
            ],
            "application/javascript": [
              "\n",
              "    async function download(id, filename, size) {\n",
              "      if (!google.colab.kernel.accessAllowed) {\n",
              "        return;\n",
              "      }\n",
              "      const div = document.createElement('div');\n",
              "      const label = document.createElement('label');\n",
              "      label.textContent = `Downloading \"${filename}\": `;\n",
              "      div.appendChild(label);\n",
              "      const progress = document.createElement('progress');\n",
              "      progress.max = size;\n",
              "      div.appendChild(progress);\n",
              "      document.body.appendChild(div);\n",
              "\n",
              "      const buffers = [];\n",
              "      let downloaded = 0;\n",
              "\n",
              "      const channel = await google.colab.kernel.comms.open(id);\n",
              "      // Send a message to notify the kernel that we're ready.\n",
              "      channel.send({})\n",
              "\n",
              "      for await (const message of channel.messages) {\n",
              "        // Send a message to notify the kernel that we're ready.\n",
              "        channel.send({})\n",
              "        if (message.buffers) {\n",
              "          for (const buffer of message.buffers) {\n",
              "            buffers.push(buffer);\n",
              "            downloaded += buffer.byteLength;\n",
              "            progress.value = downloaded;\n",
              "          }\n",
              "        }\n",
              "      }\n",
              "      const blob = new Blob(buffers, {type: 'application/binary'});\n",
              "      const a = document.createElement('a');\n",
              "      a.href = window.URL.createObjectURL(blob);\n",
              "      a.download = filename;\n",
              "      div.appendChild(a);\n",
              "      a.click();\n",
              "      div.remove();\n",
              "    }\n",
              "  "
            ]
          },
          "metadata": {}
        },
        {
          "output_type": "display_data",
          "data": {
            "text/plain": [
              "<IPython.core.display.Javascript object>"
            ],
            "application/javascript": [
              "download(\"download_3940c780-ba6a-46e1-9a01-fdb3d4071b61\", \"saved.zip\", 159609944)"
            ]
          },
          "metadata": {}
        }
      ]
    },
    {
      "cell_type": "code",
      "source": [
        "#This code unzip the previous saved zip. The one from colab, if you want to load\n",
        "# it from the downloaded use :\n",
        "#!echo \"Downloading files...\"\n",
        "#!wget -q https://github.com/your name in github were you loaded the zip/saved_zip.zip)\n",
        "\n",
        "!echo \"Unzipping files...\"\n",
        "!unzip -q saved.zip"
      ],
      "metadata": {
        "id": "qKt_X8PwbwNS",
        "colab": {
          "base_uri": "https://localhost:8080/"
        },
        "outputId": "edba8998-481b-441e-f2af-9f6863981f23"
      },
      "execution_count": 36,
      "outputs": [
        {
          "output_type": "stream",
          "name": "stdout",
          "text": [
            "Unzipping files...\n"
          ]
        }
      ]
    },
    {
      "cell_type": "code",
      "source": [
        "# This code take the unziped model and recreate it\n",
        "# The path is into colab\n",
        "new_model = tf.keras.models.load_model('saved_model/my_model')\n",
        "\n",
        "# Check its architecture\n",
        "new_model.summary()"
      ],
      "metadata": {
        "id": "PfPFvQ4-b0Sy",
        "colab": {
          "base_uri": "https://localhost:8080/"
        },
        "outputId": "f3445f6c-d7b5-40a7-b4d9-c3346c7dbbbb"
      },
      "execution_count": 37,
      "outputs": [
        {
          "output_type": "stream",
          "name": "stdout",
          "text": [
            "Model: \"london_text_model\"\n",
            "_________________________________________________________________\n",
            " Layer (type)                Output Shape              Param #   \n",
            "=================================================================\n",
            " embedding (Embedding)       multiple                  19456     \n",
            "                                                                 \n",
            " gru (GRU)                   multiple                  14168064  \n",
            "                                                                 \n",
            " dense (Dense)               multiple                  155724    \n",
            "                                                                 \n",
            "=================================================================\n",
            "Total params: 14,343,244\n",
            "Trainable params: 14,343,244\n",
            "Non-trainable params: 0\n",
            "_________________________________________________________________\n"
          ]
        }
      ]
    },
    {
      "cell_type": "code",
      "source": [
        ""
      ],
      "metadata": {
        "id": "rkzHCDFeIM6M"
      },
      "execution_count": null,
      "outputs": []
    },
    {
      "cell_type": "code",
      "source": [
        "# launch tensorboard in TensorBoard.dev (public for sharing the link)\n",
        "\n",
        "!tensorboard dev upload \\\n",
        "  --logdir logs/fit \\\n",
        "  --name \"(optional) My first convolutional\" \\\n",
        "  --description \"(optional) Simple comparison of several hyperparameters\" \\\n",
        "  --one_shot\n",
        "  "
      ],
      "metadata": {
        "id": "SR-xMA_H2QaD",
        "colab": {
          "base_uri": "https://localhost:8080/"
        },
        "outputId": "bdd20b40-dafa-4430-c5f6-20f6eae19f6e"
      },
      "execution_count": 38,
      "outputs": [
        {
          "output_type": "stream",
          "name": "stdout",
          "text": [
            "\n",
            "***** TensorBoard Uploader *****\n",
            "\n",
            "This will upload your TensorBoard logs to https://tensorboard.dev/ from\n",
            "the following directory:\n",
            "\n",
            "logs/fit\n",
            "\n",
            "This TensorBoard will be visible to everyone. Do not upload sensitive\n",
            "data.\n",
            "\n",
            "Your use of this service is subject to Google's Terms of Service\n",
            "<https://policies.google.com/terms> and Privacy Policy\n",
            "<https://policies.google.com/privacy>, and TensorBoard.dev's Terms of Service\n",
            "<https://tensorboard.dev/policy/terms/>.\n",
            "\n",
            "This notice will not be shown again while you are logged into the uploader.\n",
            "To log out, run `tensorboard dev auth revoke`.\n",
            "\n",
            "Continue? (yes/NO) yes\n",
            "\n",
            "Please visit this URL to authorize this application: https://accounts.google.com/o/oauth2/auth?response_type=code&client_id=373649185512-8v619h5kft38l4456nm2dj4ubeqsrvh6.apps.googleusercontent.com&redirect_uri=urn%3Aietf%3Awg%3Aoauth%3A2.0%3Aoob&scope=openid+https%3A%2F%2Fwww.googleapis.com%2Fauth%2Fuserinfo.email&state=CCoAuQXFx1pwbTLvAa9qmsEe7H7BWV&prompt=consent&access_type=offline\n",
            "Enter the authorization code: 4/1AX4XfWgCyH0PViukaRJifwGecb_w1TQWpMyZvZd3hhVTOGNe_68EV5fCtcQ\n",
            "\n",
            "\n",
            "New experiment created. View your TensorBoard at: https://tensorboard.dev/experiment/nhWlxsPGRNaZ6zeVyN736w/\n",
            "\n",
            "\u001b[1m[2022-07-06T21:16:16]\u001b[0m Started scanning logdir.\n",
            "\u001b[1m[2022-07-06T21:16:17]\u001b[0m Total uploaded: 200 scalars, 600 tensors (430.7 kB), 1 binary objects (161.1 kB)\n",
            "\u001b[1m[2022-07-06T21:16:17]\u001b[0m Done scanning logdir.\n",
            "\n",
            "\n",
            "Done. View your TensorBoard at https://tensorboard.dev/experiment/nhWlxsPGRNaZ6zeVyN736w/\n"
          ]
        }
      ]
    },
    {
      "cell_type": "markdown",
      "source": [
        "# Save the text cleaned for future use"
      ],
      "metadata": {
        "id": "F4b2Duw-YpgN"
      }
    },
    {
      "cell_type": "code",
      "source": [
        "#Create a file to download the results \n",
        "\n",
        "with open('londonJack.txt', 'w') as f:\n",
        "    f.write(text)"
      ],
      "metadata": {
        "id": "oLdIETXbYjp_"
      },
      "execution_count": 40,
      "outputs": []
    },
    {
      "cell_type": "code",
      "source": [
        ""
      ],
      "metadata": {
        "id": "2OeIcIQcZKPX"
      },
      "execution_count": null,
      "outputs": []
    },
    {
      "cell_type": "code",
      "source": [
        "# Download the texty\n",
        "\n",
        "\n",
        "files.download('londonJack.txt') "
      ],
      "metadata": {
        "colab": {
          "base_uri": "https://localhost:8080/",
          "height": 17
        },
        "outputId": "f84e8a2c-fad9-4eaa-aa9a-1501c6034ca5",
        "id": "cbV6TUhzZKm8"
      },
      "execution_count": 42,
      "outputs": [
        {
          "output_type": "display_data",
          "data": {
            "text/plain": [
              "<IPython.core.display.Javascript object>"
            ],
            "application/javascript": [
              "\n",
              "    async function download(id, filename, size) {\n",
              "      if (!google.colab.kernel.accessAllowed) {\n",
              "        return;\n",
              "      }\n",
              "      const div = document.createElement('div');\n",
              "      const label = document.createElement('label');\n",
              "      label.textContent = `Downloading \"${filename}\": `;\n",
              "      div.appendChild(label);\n",
              "      const progress = document.createElement('progress');\n",
              "      progress.max = size;\n",
              "      div.appendChild(progress);\n",
              "      document.body.appendChild(div);\n",
              "\n",
              "      const buffers = [];\n",
              "      let downloaded = 0;\n",
              "\n",
              "      const channel = await google.colab.kernel.comms.open(id);\n",
              "      // Send a message to notify the kernel that we're ready.\n",
              "      channel.send({})\n",
              "\n",
              "      for await (const message of channel.messages) {\n",
              "        // Send a message to notify the kernel that we're ready.\n",
              "        channel.send({})\n",
              "        if (message.buffers) {\n",
              "          for (const buffer of message.buffers) {\n",
              "            buffers.push(buffer);\n",
              "            downloaded += buffer.byteLength;\n",
              "            progress.value = downloaded;\n",
              "          }\n",
              "        }\n",
              "      }\n",
              "      const blob = new Blob(buffers, {type: 'application/binary'});\n",
              "      const a = document.createElement('a');\n",
              "      a.href = window.URL.createObjectURL(blob);\n",
              "      a.download = filename;\n",
              "      div.appendChild(a);\n",
              "      a.click();\n",
              "      div.remove();\n",
              "    }\n",
              "  "
            ]
          },
          "metadata": {}
        },
        {
          "output_type": "display_data",
          "data": {
            "text/plain": [
              "<IPython.core.display.Javascript object>"
            ],
            "application/javascript": [
              "download(\"download_03868940-4b1d-4f95-9d77-7cd236d4c296\", \"londonJack.txt\", 179556)"
            ]
          },
          "metadata": {}
        }
      ]
    }
  ]
}